{
 "cells": [
  {
   "cell_type": "markdown",
   "metadata": {},
   "source": [
    "# <div style=\"color: green\">[Scripts] Détecter les bad buzz - comparaison des modèles</div>"
   ]
  },
  {
   "cell_type": "markdown",
   "metadata": {},
   "source": [
    "<img src=\"img/flight_logo.png\">"
   ]
  },
  {
   "cell_type": "markdown",
   "metadata": {},
   "source": [
    "<div class='alert alert-block alert-warning'>\n",
    "    \n",
    "Pour des raisons pratiques (notamment l'utilisation d'une accélération matérielle), le présent notebook a été exécuté sur Google Collab.<br>\n",
    "Il se peut que des messages d'alerte apparaissent lors de la consultation de ce notebook sur d'autres systèmes (comme par exemple Jupyter).\n",
    "    \n",
    "</div>"
   ]
  },
  {
   "cell_type": "markdown",
   "metadata": {},
   "source": [
    "# <div id=\"ch0\" style=\"color: blue\">0. Plan du notebook</div>"
   ]
  },
  {
   "cell_type": "markdown",
   "metadata": {},
   "source": [
    "1. [Installation et imports](#ch1)<br>\n",
    "2. [Mise en forme des jeux de données](#ch2)<br>\n",
    "3. [Réseaux de neurones Keras](#ch3)<br>\n",
    ">3.1 [Keras : Modèle complètement connecté](#ch3_1)<br>\n",
    ">3.2 [Keras : Modèle convolutionnel](#ch3_2)<br>\n",
    ">3.3 [Keras : LSTM](#ch3_3)<br>\n",
    ">3.4 [Keras : LSTM bidirectionnel](#ch3_4)<br>\n",
    ">3.5 [Keras : GRU bidirectionnel](#ch3_5)<br>\n",
    ">3.6 [Keras : LSTM bidirectionnel & word embedding pré-entraîné (GloVe)](#ch3_6)<br>\n",
    ">3.7 [Keras : LSTM bidirectionnel & word embedding pré-entraîné (FastText)](#ch3_7)<br>\n",
    ">3.8 [Keras : LSTM bidirectionnel & word embedding pré-entraîné (GloVe) - sans normalisation](#ch3_8)<br>\n",
    "4. [Transformers BERT](#ch4)<br>\n",
    ">4.1 [BERT : DistilBERT](#ch4_1)<br>\n",
    ">4.2 [BERT : BERTweet](#ch4_2)<br>"
   ]
  },
  {
   "cell_type": "markdown",
   "metadata": {
    "id": "mju_IBX2Q3Vm"
   },
   "source": [
    "# <div id=\"ch1\" style=\"color:blue\">1. Installation et Imports</div>"
   ]
  },
  {
   "cell_type": "code",
   "execution_count": 1,
   "metadata": {
    "id": "EMWGkNx87Uzs"
   },
   "outputs": [],
   "source": [
    "from google.colab.output import eval_js\n",
    "eval_js('google.colab.output.setIframeHeight(\"500\")')"
   ]
  },
  {
   "cell_type": "code",
   "execution_count": 2,
   "metadata": {
    "colab": {
     "base_uri": "https://localhost:8080/"
    },
    "id": "z4uRaNoc4WR7",
    "outputId": "7dcc2ac2-622d-4ae4-a715-cb0b36a3e60e"
   },
   "outputs": [
    {
     "name": "stdout",
     "output_type": "stream",
     "text": [
      "Looking in indexes: https://pypi.org/simple, https://us-python.pkg.dev/colab-wheels/public/simple/\n",
      "Requirement already satisfied: pandas in /usr/local/lib/python3.7/dist-packages (1.3.5)\n",
      "Requirement already satisfied: python-dateutil>=2.7.3 in /usr/local/lib/python3.7/dist-packages (from pandas) (2.8.2)\n",
      "Requirement already satisfied: pytz>=2017.3 in /usr/local/lib/python3.7/dist-packages (from pandas) (2022.1)\n",
      "Requirement already satisfied: numpy>=1.17.3 in /usr/local/lib/python3.7/dist-packages (from pandas) (1.21.6)\n",
      "Requirement already satisfied: six>=1.5 in /usr/local/lib/python3.7/dist-packages (from python-dateutil>=2.7.3->pandas) (1.15.0)\n",
      "Looking in indexes: https://pypi.org/simple, https://us-python.pkg.dev/colab-wheels/public/simple/\n",
      "Requirement already satisfied: numpy in /usr/local/lib/python3.7/dist-packages (1.21.6)\n",
      "Looking in indexes: https://pypi.org/simple, https://us-python.pkg.dev/colab-wheels/public/simple/\n",
      "Requirement already satisfied: matplotlib in /usr/local/lib/python3.7/dist-packages (3.2.2)\n",
      "Requirement already satisfied: pyparsing!=2.0.4,!=2.1.2,!=2.1.6,>=2.0.1 in /usr/local/lib/python3.7/dist-packages (from matplotlib) (3.0.9)\n",
      "Requirement already satisfied: python-dateutil>=2.1 in /usr/local/lib/python3.7/dist-packages (from matplotlib) (2.8.2)\n",
      "Requirement already satisfied: kiwisolver>=1.0.1 in /usr/local/lib/python3.7/dist-packages (from matplotlib) (1.4.3)\n",
      "Requirement already satisfied: numpy>=1.11 in /usr/local/lib/python3.7/dist-packages (from matplotlib) (1.21.6)\n",
      "Requirement already satisfied: cycler>=0.10 in /usr/local/lib/python3.7/dist-packages (from matplotlib) (0.11.0)\n",
      "Requirement already satisfied: typing-extensions in /usr/local/lib/python3.7/dist-packages (from kiwisolver>=1.0.1->matplotlib) (4.1.1)\n",
      "Requirement already satisfied: six>=1.5 in /usr/local/lib/python3.7/dist-packages (from python-dateutil>=2.1->matplotlib) (1.15.0)\n",
      "Looking in indexes: https://pypi.org/simple, https://us-python.pkg.dev/colab-wheels/public/simple/\n",
      "Requirement already satisfied: seaborn in /usr/local/lib/python3.7/dist-packages (0.11.2)\n",
      "Requirement already satisfied: matplotlib>=2.2 in /usr/local/lib/python3.7/dist-packages (from seaborn) (3.2.2)\n",
      "Requirement already satisfied: pandas>=0.23 in /usr/local/lib/python3.7/dist-packages (from seaborn) (1.3.5)\n",
      "Requirement already satisfied: scipy>=1.0 in /usr/local/lib/python3.7/dist-packages (from seaborn) (1.7.3)\n",
      "Requirement already satisfied: numpy>=1.15 in /usr/local/lib/python3.7/dist-packages (from seaborn) (1.21.6)\n",
      "Requirement already satisfied: cycler>=0.10 in /usr/local/lib/python3.7/dist-packages (from matplotlib>=2.2->seaborn) (0.11.0)\n",
      "Requirement already satisfied: pyparsing!=2.0.4,!=2.1.2,!=2.1.6,>=2.0.1 in /usr/local/lib/python3.7/dist-packages (from matplotlib>=2.2->seaborn) (3.0.9)\n",
      "Requirement already satisfied: python-dateutil>=2.1 in /usr/local/lib/python3.7/dist-packages (from matplotlib>=2.2->seaborn) (2.8.2)\n",
      "Requirement already satisfied: kiwisolver>=1.0.1 in /usr/local/lib/python3.7/dist-packages (from matplotlib>=2.2->seaborn) (1.4.3)\n",
      "Requirement already satisfied: typing-extensions in /usr/local/lib/python3.7/dist-packages (from kiwisolver>=1.0.1->matplotlib>=2.2->seaborn) (4.1.1)\n",
      "Requirement already satisfied: pytz>=2017.3 in /usr/local/lib/python3.7/dist-packages (from pandas>=0.23->seaborn) (2022.1)\n",
      "Requirement already satisfied: six>=1.5 in /usr/local/lib/python3.7/dist-packages (from python-dateutil>=2.1->matplotlib>=2.2->seaborn) (1.15.0)\n",
      "Looking in indexes: https://pypi.org/simple, https://us-python.pkg.dev/colab-wheels/public/simple/\n",
      "Requirement already satisfied: nltk in /usr/local/lib/python3.7/dist-packages (3.7)\n",
      "Requirement already satisfied: click in /usr/local/lib/python3.7/dist-packages (from nltk) (7.1.2)\n",
      "Requirement already satisfied: tqdm in /usr/local/lib/python3.7/dist-packages (from nltk) (4.64.0)\n",
      "Requirement already satisfied: joblib in /usr/local/lib/python3.7/dist-packages (from nltk) (1.1.0)\n",
      "Requirement already satisfied: regex>=2021.8.3 in /usr/local/lib/python3.7/dist-packages (from nltk) (2022.6.2)\n",
      "Looking in indexes: https://pypi.org/simple, https://us-python.pkg.dev/colab-wheels/public/simple/\n",
      "Collecting contractions\n",
      "  Downloading contractions-0.1.72-py2.py3-none-any.whl (8.3 kB)\n",
      "Collecting textsearch>=0.0.21\n",
      "  Downloading textsearch-0.0.21-py2.py3-none-any.whl (7.5 kB)\n",
      "Collecting anyascii\n",
      "  Downloading anyascii-0.3.1-py3-none-any.whl (287 kB)\n",
      "\u001b[K     |████████████████████████████████| 287 kB 6.6 MB/s \n",
      "\u001b[?25hCollecting pyahocorasick\n",
      "  Downloading pyahocorasick-1.4.4-cp37-cp37m-manylinux_2_17_x86_64.manylinux2014_x86_64.whl (106 kB)\n",
      "\u001b[K     |████████████████████████████████| 106 kB 97.2 MB/s \n",
      "\u001b[?25hInstalling collected packages: pyahocorasick, anyascii, textsearch, contractions\n",
      "Successfully installed anyascii-0.3.1 contractions-0.1.72 pyahocorasick-1.4.4 textsearch-0.0.21\n",
      "Looking in indexes: https://pypi.org/simple, https://us-python.pkg.dev/colab-wheels/public/simple/\n",
      "Requirement already satisfied: scikit-learn in /usr/local/lib/python3.7/dist-packages (1.0.2)\n",
      "Requirement already satisfied: scipy>=1.1.0 in /usr/local/lib/python3.7/dist-packages (from scikit-learn) (1.7.3)\n",
      "Requirement already satisfied: joblib>=0.11 in /usr/local/lib/python3.7/dist-packages (from scikit-learn) (1.1.0)\n",
      "Requirement already satisfied: numpy>=1.14.6 in /usr/local/lib/python3.7/dist-packages (from scikit-learn) (1.21.6)\n",
      "Requirement already satisfied: threadpoolctl>=2.0.0 in /usr/local/lib/python3.7/dist-packages (from scikit-learn) (3.1.0)\n",
      "Looking in indexes: https://pypi.org/simple, https://us-python.pkg.dev/colab-wheels/public/simple/\n",
      "Requirement already satisfied: gensim in /usr/local/lib/python3.7/dist-packages (3.6.0)\n",
      "Requirement already satisfied: numpy>=1.11.3 in /usr/local/lib/python3.7/dist-packages (from gensim) (1.21.6)\n",
      "Requirement already satisfied: smart-open>=1.2.1 in /usr/local/lib/python3.7/dist-packages (from gensim) (5.2.1)\n",
      "Requirement already satisfied: six>=1.5.0 in /usr/local/lib/python3.7/dist-packages (from gensim) (1.15.0)\n",
      "Requirement already satisfied: scipy>=0.18.1 in /usr/local/lib/python3.7/dist-packages (from gensim) (1.7.3)\n",
      "Looking in indexes: https://pypi.org/simple, https://us-python.pkg.dev/colab-wheels/public/simple/\n",
      "Requirement already satisfied: keras in /usr/local/lib/python3.7/dist-packages (2.8.0)\n",
      "Looking in indexes: https://pypi.org/simple, https://us-python.pkg.dev/colab-wheels/public/simple/\n",
      "Requirement already satisfied: tensorflow in /usr/local/lib/python3.7/dist-packages (2.8.2+zzzcolab20220527125636)\n",
      "Requirement already satisfied: tensorflow-estimator<2.9,>=2.8 in /usr/local/lib/python3.7/dist-packages (from tensorflow) (2.8.0)\n",
      "Requirement already satisfied: libclang>=9.0.1 in /usr/local/lib/python3.7/dist-packages (from tensorflow) (14.0.1)\n",
      "Requirement already satisfied: six>=1.12.0 in /usr/local/lib/python3.7/dist-packages (from tensorflow) (1.15.0)\n",
      "Requirement already satisfied: opt-einsum>=2.3.2 in /usr/local/lib/python3.7/dist-packages (from tensorflow) (3.3.0)\n",
      "Requirement already satisfied: setuptools in /usr/local/lib/python3.7/dist-packages (from tensorflow) (57.4.0)\n",
      "Requirement already satisfied: keras<2.9,>=2.8.0rc0 in /usr/local/lib/python3.7/dist-packages (from tensorflow) (2.8.0)\n",
      "Requirement already satisfied: astunparse>=1.6.0 in /usr/local/lib/python3.7/dist-packages (from tensorflow) (1.6.3)\n",
      "Requirement already satisfied: keras-preprocessing>=1.1.1 in /usr/local/lib/python3.7/dist-packages (from tensorflow) (1.1.2)\n",
      "Requirement already satisfied: numpy>=1.20 in /usr/local/lib/python3.7/dist-packages (from tensorflow) (1.21.6)\n",
      "Requirement already satisfied: h5py>=2.9.0 in /usr/local/lib/python3.7/dist-packages (from tensorflow) (3.1.0)\n",
      "Requirement already satisfied: protobuf<3.20,>=3.9.2 in /usr/local/lib/python3.7/dist-packages (from tensorflow) (3.17.3)\n",
      "Requirement already satisfied: tensorboard<2.9,>=2.8 in /usr/local/lib/python3.7/dist-packages (from tensorflow) (2.8.0)\n",
      "Requirement already satisfied: google-pasta>=0.1.1 in /usr/local/lib/python3.7/dist-packages (from tensorflow) (0.2.0)\n",
      "Requirement already satisfied: absl-py>=0.4.0 in /usr/local/lib/python3.7/dist-packages (from tensorflow) (1.1.0)\n",
      "Requirement already satisfied: typing-extensions>=3.6.6 in /usr/local/lib/python3.7/dist-packages (from tensorflow) (4.1.1)\n",
      "Requirement already satisfied: gast>=0.2.1 in /usr/local/lib/python3.7/dist-packages (from tensorflow) (0.5.3)\n",
      "Requirement already satisfied: termcolor>=1.1.0 in /usr/local/lib/python3.7/dist-packages (from tensorflow) (1.1.0)\n",
      "Requirement already satisfied: tensorflow-io-gcs-filesystem>=0.23.1 in /usr/local/lib/python3.7/dist-packages (from tensorflow) (0.26.0)\n",
      "Requirement already satisfied: wrapt>=1.11.0 in /usr/local/lib/python3.7/dist-packages (from tensorflow) (1.14.1)\n",
      "Requirement already satisfied: flatbuffers>=1.12 in /usr/local/lib/python3.7/dist-packages (from tensorflow) (2.0)\n",
      "Requirement already satisfied: grpcio<2.0,>=1.24.3 in /usr/local/lib/python3.7/dist-packages (from tensorflow) (1.47.0)\n",
      "Requirement already satisfied: wheel<1.0,>=0.23.0 in /usr/local/lib/python3.7/dist-packages (from astunparse>=1.6.0->tensorflow) (0.37.1)\n",
      "Requirement already satisfied: cached-property in /usr/local/lib/python3.7/dist-packages (from h5py>=2.9.0->tensorflow) (1.5.2)\n",
      "Requirement already satisfied: google-auth<3,>=1.6.3 in /usr/local/lib/python3.7/dist-packages (from tensorboard<2.9,>=2.8->tensorflow) (1.35.0)\n",
      "Requirement already satisfied: markdown>=2.6.8 in /usr/local/lib/python3.7/dist-packages (from tensorboard<2.9,>=2.8->tensorflow) (3.3.7)\n",
      "Requirement already satisfied: requests<3,>=2.21.0 in /usr/local/lib/python3.7/dist-packages (from tensorboard<2.9,>=2.8->tensorflow) (2.23.0)\n",
      "Requirement already satisfied: werkzeug>=0.11.15 in /usr/local/lib/python3.7/dist-packages (from tensorboard<2.9,>=2.8->tensorflow) (1.0.1)\n",
      "Requirement already satisfied: tensorboard-plugin-wit>=1.6.0 in /usr/local/lib/python3.7/dist-packages (from tensorboard<2.9,>=2.8->tensorflow) (1.8.1)\n",
      "Requirement already satisfied: tensorboard-data-server<0.7.0,>=0.6.0 in /usr/local/lib/python3.7/dist-packages (from tensorboard<2.9,>=2.8->tensorflow) (0.6.1)\n",
      "Requirement already satisfied: google-auth-oauthlib<0.5,>=0.4.1 in /usr/local/lib/python3.7/dist-packages (from tensorboard<2.9,>=2.8->tensorflow) (0.4.6)\n",
      "Requirement already satisfied: pyasn1-modules>=0.2.1 in /usr/local/lib/python3.7/dist-packages (from google-auth<3,>=1.6.3->tensorboard<2.9,>=2.8->tensorflow) (0.2.8)\n",
      "Requirement already satisfied: cachetools<5.0,>=2.0.0 in /usr/local/lib/python3.7/dist-packages (from google-auth<3,>=1.6.3->tensorboard<2.9,>=2.8->tensorflow) (4.2.4)\n",
      "Requirement already satisfied: rsa<5,>=3.1.4 in /usr/local/lib/python3.7/dist-packages (from google-auth<3,>=1.6.3->tensorboard<2.9,>=2.8->tensorflow) (4.8)\n",
      "Requirement already satisfied: requests-oauthlib>=0.7.0 in /usr/local/lib/python3.7/dist-packages (from google-auth-oauthlib<0.5,>=0.4.1->tensorboard<2.9,>=2.8->tensorflow) (1.3.1)\n",
      "Requirement already satisfied: importlib-metadata>=4.4 in /usr/local/lib/python3.7/dist-packages (from markdown>=2.6.8->tensorboard<2.9,>=2.8->tensorflow) (4.12.0)\n",
      "Requirement already satisfied: zipp>=0.5 in /usr/local/lib/python3.7/dist-packages (from importlib-metadata>=4.4->markdown>=2.6.8->tensorboard<2.9,>=2.8->tensorflow) (3.8.0)\n",
      "Requirement already satisfied: pyasn1<0.5.0,>=0.4.6 in /usr/local/lib/python3.7/dist-packages (from pyasn1-modules>=0.2.1->google-auth<3,>=1.6.3->tensorboard<2.9,>=2.8->tensorflow) (0.4.8)\n",
      "Requirement already satisfied: chardet<4,>=3.0.2 in /usr/local/lib/python3.7/dist-packages (from requests<3,>=2.21.0->tensorboard<2.9,>=2.8->tensorflow) (3.0.4)\n",
      "Requirement already satisfied: idna<3,>=2.5 in /usr/local/lib/python3.7/dist-packages (from requests<3,>=2.21.0->tensorboard<2.9,>=2.8->tensorflow) (2.10)\n",
      "Requirement already satisfied: certifi>=2017.4.17 in /usr/local/lib/python3.7/dist-packages (from requests<3,>=2.21.0->tensorboard<2.9,>=2.8->tensorflow) (2022.6.15)\n",
      "Requirement already satisfied: urllib3!=1.25.0,!=1.25.1,<1.26,>=1.21.1 in /usr/local/lib/python3.7/dist-packages (from requests<3,>=2.21.0->tensorboard<2.9,>=2.8->tensorflow) (1.24.3)\n",
      "Requirement already satisfied: oauthlib>=3.0.0 in /usr/local/lib/python3.7/dist-packages (from requests-oauthlib>=0.7.0->google-auth-oauthlib<0.5,>=0.4.1->tensorboard<2.9,>=2.8->tensorflow) (3.2.0)\n",
      "Looking in indexes: https://pypi.org/simple, https://us-python.pkg.dev/colab-wheels/public/simple/\n",
      "Collecting transformers\n",
      "  Downloading transformers-4.20.1-py3-none-any.whl (4.4 MB)\n",
      "\u001b[K     |████████████████████████████████| 4.4 MB 6.6 MB/s \n",
      "\u001b[?25hRequirement already satisfied: packaging>=20.0 in /usr/local/lib/python3.7/dist-packages (from transformers) (21.3)\n",
      "Requirement already satisfied: tqdm>=4.27 in /usr/local/lib/python3.7/dist-packages (from transformers) (4.64.0)\n",
      "Collecting pyyaml>=5.1\n",
      "  Downloading PyYAML-6.0-cp37-cp37m-manylinux_2_5_x86_64.manylinux1_x86_64.manylinux_2_12_x86_64.manylinux2010_x86_64.whl (596 kB)\n",
      "\u001b[K     |████████████████████████████████| 596 kB 78.1 MB/s \n",
      "\u001b[?25hRequirement already satisfied: requests in /usr/local/lib/python3.7/dist-packages (from transformers) (2.23.0)\n",
      "Requirement already satisfied: numpy>=1.17 in /usr/local/lib/python3.7/dist-packages (from transformers) (1.21.6)\n",
      "Requirement already satisfied: regex!=2019.12.17 in /usr/local/lib/python3.7/dist-packages (from transformers) (2022.6.2)\n",
      "Requirement already satisfied: importlib-metadata in /usr/local/lib/python3.7/dist-packages (from transformers) (4.12.0)\n",
      "Collecting huggingface-hub<1.0,>=0.1.0\n",
      "  Downloading huggingface_hub-0.8.1-py3-none-any.whl (101 kB)\n",
      "\u001b[K     |████████████████████████████████| 101 kB 15.0 MB/s \n",
      "\u001b[?25hRequirement already satisfied: filelock in /usr/local/lib/python3.7/dist-packages (from transformers) (3.7.1)\n",
      "Collecting tokenizers!=0.11.3,<0.13,>=0.11.1\n",
      "  Downloading tokenizers-0.12.1-cp37-cp37m-manylinux_2_12_x86_64.manylinux2010_x86_64.whl (6.6 MB)\n",
      "\u001b[K     |████████████████████████████████| 6.6 MB 61.7 MB/s \n",
      "\u001b[?25hRequirement already satisfied: typing-extensions>=3.7.4.3 in /usr/local/lib/python3.7/dist-packages (from huggingface-hub<1.0,>=0.1.0->transformers) (4.1.1)\n",
      "Requirement already satisfied: pyparsing!=3.0.5,>=2.0.2 in /usr/local/lib/python3.7/dist-packages (from packaging>=20.0->transformers) (3.0.9)\n",
      "Requirement already satisfied: zipp>=0.5 in /usr/local/lib/python3.7/dist-packages (from importlib-metadata->transformers) (3.8.0)\n",
      "Requirement already satisfied: certifi>=2017.4.17 in /usr/local/lib/python3.7/dist-packages (from requests->transformers) (2022.6.15)\n",
      "Requirement already satisfied: idna<3,>=2.5 in /usr/local/lib/python3.7/dist-packages (from requests->transformers) (2.10)\n",
      "Requirement already satisfied: chardet<4,>=3.0.2 in /usr/local/lib/python3.7/dist-packages (from requests->transformers) (3.0.4)\n",
      "Requirement already satisfied: urllib3!=1.25.0,!=1.25.1,<1.26,>=1.21.1 in /usr/local/lib/python3.7/dist-packages (from requests->transformers) (1.24.3)\n",
      "Installing collected packages: pyyaml, tokenizers, huggingface-hub, transformers\n",
      "  Attempting uninstall: pyyaml\n",
      "    Found existing installation: PyYAML 3.13\n",
      "    Uninstalling PyYAML-3.13:\n",
      "      Successfully uninstalled PyYAML-3.13\n",
      "Successfully installed huggingface-hub-0.8.1 pyyaml-6.0 tokenizers-0.12.1 transformers-4.20.1\n"
     ]
    }
   ],
   "source": [
    "%pip install pandas\n",
    "%pip install numpy\n",
    "%pip install matplotlib\n",
    "%pip install seaborn\n",
    "%pip install nltk\n",
    "%pip install contractions\n",
    "%pip install scikit-learn\n",
    "%pip install gensim\n",
    "%pip install keras\n",
    "%pip install tensorflow\n",
    "%pip install transformers"
   ]
  },
  {
   "cell_type": "code",
   "execution_count": 3,
   "metadata": {
    "colab": {
     "base_uri": "https://localhost:8080/"
    },
    "id": "wTDdReW77o77",
    "outputId": "1e56bf41-3cae-4b2d-e397-0301406520c9"
   },
   "outputs": [
    {
     "name": "stdout",
     "output_type": "stream",
     "text": [
      "Found GPU at: /device:GPU:0\n"
     ]
    }
   ],
   "source": [
    "%tensorflow_version 2.x\n",
    "import tensorflow as tf\n",
    "device_name = tf.test.gpu_device_name()\n",
    "if device_name != '/device:GPU:0':\n",
    "  raise SystemError('GPU device not found')\n",
    "print('Found GPU at: {}'.format(device_name))"
   ]
  },
  {
   "cell_type": "code",
   "execution_count": 4,
   "metadata": {
    "colab": {
     "base_uri": "https://localhost:8080/",
     "height": 35
    },
    "id": "zesmK_L-_9Gr",
    "outputId": "68d3c638-e20d-42f5-efe3-6e0c8f3859b1"
   },
   "outputs": [
    {
     "data": {
      "application/vnd.google.colaboratory.intrinsic+json": {
       "type": "string"
      },
      "text/plain": [
       "'2.8.2'"
      ]
     },
     "execution_count": 4,
     "metadata": {},
     "output_type": "execute_result"
    }
   ],
   "source": [
    "import tensorflow as tf\n",
    "tf.__version__"
   ]
  },
  {
   "cell_type": "code",
   "execution_count": 18,
   "metadata": {
    "id": "i3v26yaD8VNM"
   },
   "outputs": [],
   "source": [
    "import gc\n",
    "import os\n",
    "import re\n",
    "import sys\n",
    "import time\n",
    "import gensim\n",
    "import string\n",
    "import chardet\n",
    "import requests\n",
    "import pandas as pd\n",
    "import numpy as np\n",
    "import matplotlib.pyplot as plt\n",
    "import seaborn as sns\n",
    "import urllib\n",
    "import joblib\n",
    "import contractions\n",
    "from urllib.error import HTTPError\n",
    "from urllib.parse import quote\n",
    "from urllib.parse import urlencode\n",
    "from gensim.models import Word2Vec\n",
    "from sklearn.preprocessing import StandardScaler\n",
    "from sklearn.model_selection import GridSearchCV\n",
    "from sklearn.model_selection import StratifiedKFold\n",
    "from sklearn.linear_model import LogisticRegression\n",
    "from sklearn.feature_extraction.text import CountVectorizer\n",
    "from sklearn.feature_extraction.text import TfidfVectorizer\n",
    "from sklearn.metrics import confusion_matrix\n",
    "from sklearn.metrics import classification_report\n",
    "from keras_preprocessing.sequence import pad_sequences\n",
    "from keras_preprocessing.text import one_hot\n",
    "from keras_preprocessing import sequence\n",
    "from keras_preprocessing.text import Tokenizer\n",
    "from keras.models import Sequential\n",
    "from keras.models import save_model\n",
    "from keras.models import load_model\n",
    "from keras.layers import Dense\n",
    "from keras.layers import Embedding\n",
    "from keras.layers import Bidirectional\n",
    "from keras.layers import Flatten\n",
    "from keras.layers import Dropout\n",
    "from keras.layers import Conv1D\n",
    "from keras.layers import MaxPooling1D\n",
    "from keras.layers import LSTM\n",
    "from keras.layers import GRU"
   ]
  },
  {
   "cell_type": "code",
   "execution_count": 6,
   "metadata": {
    "id": "TB8fTWYrc9x-"
   },
   "outputs": [],
   "source": [
    "from keras import metrics"
   ]
  },
  {
   "cell_type": "code",
   "execution_count": 7,
   "metadata": {
    "id": "kBfxvd8IAsfs"
   },
   "outputs": [],
   "source": [
    "from sklearn.metrics import recall_score\n",
    "from sklearn.metrics import accuracy_score\n",
    "from sklearn.metrics import roc_auc_score"
   ]
  },
  {
   "cell_type": "code",
   "execution_count": 8,
   "metadata": {
    "id": "-gYtE-6Q7vUl"
   },
   "outputs": [],
   "source": [
    "from numpy.random import seed"
   ]
  },
  {
   "cell_type": "code",
   "execution_count": 9,
   "metadata": {
    "colab": {
     "base_uri": "https://localhost:8080/"
    },
    "id": "OUkOX_DCDEc0",
    "outputId": "0b315ddb-7785-478c-8317-65f4641f6f8d"
   },
   "outputs": [
    {
     "name": "stdout",
     "output_type": "stream",
     "text": [
      "Mounted at /content/gdrive\n"
     ]
    }
   ],
   "source": [
    "from gensim.models import CoherenceModel\n",
    "from gensim.models.phrases import Phrases\n",
    "from gensim.models.phrases import Phraser\n",
    "import nltk\n",
    "from nltk.stem import WordNetLemmatizer\n",
    "from google.colab import drive\n",
    "drive.mount('/content/gdrive')"
   ]
  },
  {
   "cell_type": "code",
   "execution_count": 14,
   "metadata": {
    "colab": {
     "base_uri": "https://localhost:8080/"
    },
    "id": "2OP3ADJXE-3v",
    "outputId": "46cb2733-9213-47fe-d0fa-ccd68af14a20"
   },
   "outputs": [
    {
     "name": "stderr",
     "output_type": "stream",
     "text": [
      "[nltk_data] Downloading package stopwords to /root/nltk_data...\n",
      "[nltk_data]   Unzipping corpora/stopwords.zip.\n",
      "[nltk_data] Downloading package wordnet to /root/nltk_data...\n",
      "[nltk_data] Downloading package omw-1.4 to /root/nltk_data...\n"
     ]
    },
    {
     "data": {
      "text/plain": [
       "True"
      ]
     },
     "execution_count": 14,
     "metadata": {},
     "output_type": "execute_result"
    }
   ],
   "source": [
    "nltk.download('stopwords')\n",
    "nltk.download('wordnet')\n",
    "nltk.download('omw-1.4')"
   ]
  },
  {
   "cell_type": "markdown",
   "metadata": {},
   "source": [
    "*[(Retour sommaire)](#ch0)*"
   ]
  },
  {
   "cell_type": "markdown",
   "metadata": {
    "id": "mju_IBX2Q3Vm"
   },
   "source": [
    "# <div id=\"ch2\" style=\"color:blue\">2. Mise en forme des jeux de données</div>"
   ]
  },
  {
   "cell_type": "code",
   "execution_count": 20,
   "metadata": {
    "id": "uTe5CAYUDEJF"
   },
   "outputs": [],
   "source": [
    "tw_en = pd.read_csv('/content/gdrive/MyDrive/Colab Notebooks/data/tw_normalized.csv')"
   ]
  },
  {
   "cell_type": "code",
   "execution_count": 21,
   "metadata": {
    "id": "HLH4524iQVMv"
   },
   "outputs": [],
   "source": [
    "tw_en['tw_y'].replace(to_replace=4, value=1, inplace=True)"
   ]
  },
  {
   "cell_type": "code",
   "execution_count": 22,
   "metadata": {
    "id": "8oOLH6r5FhNT"
   },
   "outputs": [],
   "source": [
    "tw_en = tw_en[tw_en['normalized'].str.len() > 1]"
   ]
  },
  {
   "cell_type": "code",
   "execution_count": 23,
   "metadata": {
    "colab": {
     "base_uri": "https://localhost:8080/"
    },
    "id": "MdqnjPanF1OY",
    "outputId": "bc62cd4c-4a1e-4d56-af0e-9ec6b3aac890"
   },
   "outputs": [
    {
     "name": "stdout",
     "output_type": "stream",
     "text": [
      "Taille du jeu de données des séquences normalisées > 1 : 1514604\n"
     ]
    }
   ],
   "source": [
    "print(f\"Taille du jeu de données des séquences normalisées > 1 : {tw_en.shape[0]}\")"
   ]
  },
  {
   "cell_type": "code",
   "execution_count": 24,
   "metadata": {
    "colab": {
     "base_uri": "https://localhost:8080/"
    },
    "id": "hRvLhI_kGZM1",
    "outputId": "52d93efc-b71b-4339-87f3-4a47a6fa3b7f"
   },
   "outputs": [
    {
     "name": "stdout",
     "output_type": "stream",
     "text": [
      "Nombre de lignes par classe : POS = 753885 lignes :: NEG = 760719 lignes\n",
      "Différence : 6834 lignes en plus pour la classe NEG\n"
     ]
    }
   ],
   "source": [
    "nb_pos = tw_en[tw_en['tw_y'] == 1].shape[0]\n",
    "nb_neg = tw_en[tw_en['tw_y'] == 0].shape[0]\n",
    "print(f\"Nombre de lignes par classe : POS = {nb_pos} lignes :: NEG = {nb_neg} lignes\")\n",
    "print(f\"Différence : {np.abs(nb_pos - nb_neg)} lignes en plus pour la classe {'POS' if nb_pos > nb_neg else 'NEG'}\")"
   ]
  },
  {
   "cell_type": "code",
   "execution_count": 25,
   "metadata": {
    "id": "w937sN4yQWO6"
   },
   "outputs": [],
   "source": [
    "tw_pos = tw_en.loc[tw_en['tw_y'] == 1, ['normalized', 'tw_y']]\n",
    "tw_neg = tw_en.loc[tw_en['tw_y'] == 0, ['normalized', 'tw_y']]\n",
    "tw_pos_train = tw_pos.head(680000)\n",
    "tw_pos_test = tw_pos.tail(tw_pos.shape[0] - 680000)\n",
    "tw_neg_train = tw_neg.head(680000)\n",
    "tw_neg_test = tw_neg.tail(tw_neg.shape[0] - (680000))\n",
    "X_train = np.concatenate((tw_pos_train['normalized'], tw_neg_train['normalized']))\n",
    "X_test = np.concatenate((tw_pos_test['normalized'], tw_neg_test['normalized']))\n",
    "y_train = np.concatenate((tw_pos_train['tw_y'], tw_neg_train['tw_y']))\n",
    "y_test = np.concatenate((tw_pos_test['tw_y'], tw_neg_test['tw_y']))"
   ]
  },
  {
   "cell_type": "code",
   "execution_count": 26,
   "metadata": {
    "colab": {
     "base_uri": "https://localhost:8080/"
    },
    "id": "3PBp_iSeQaSq",
    "outputId": "a1cef201-11ec-423d-f855-05b7a14e6f92"
   },
   "outputs": [
    {
     "name": "stdout",
     "output_type": "stream",
     "text": [
      "Taille du jeu d'entraînement : X=(1360000,) y=(1360000,)\n",
      "Taille du jeu de test : X=(154604,) y=(154604,)\n"
     ]
    }
   ],
   "source": [
    "print(f\"Taille du jeu d'entraînement : X={np.shape(X_train)} y={np.shape(y_train)}\")\n",
    "print(f\"Taille du jeu de test : X={np.shape(X_test)} y={np.shape(y_test)}\")"
   ]
  },
  {
   "cell_type": "code",
   "execution_count": 27,
   "metadata": {
    "id": "PS2De_P8Qe4x"
   },
   "outputs": [],
   "source": [
    "MAX_LEN = tw_en['lng'].max()  #Taille maximale des tweets du dataset\n",
    "TOP_WORDS = 40000  #Taille du vocabulaire trouvée au chapitre précédent"
   ]
  },
  {
   "cell_type": "code",
   "execution_count": 28,
   "metadata": {
    "colab": {
     "base_uri": "https://localhost:8080/"
    },
    "id": "buyOxVznFnnW",
    "outputId": "504237b5-b1f7-4564-9d7f-40d98f5a136c"
   },
   "outputs": [
    {
     "data": {
      "text/plain": [
       "50"
      ]
     },
     "execution_count": 28,
     "metadata": {},
     "output_type": "execute_result"
    }
   ],
   "source": [
    "MAX_LEN"
   ]
  },
  {
   "cell_type": "code",
   "execution_count": 29,
   "metadata": {
    "id": "Lr5Iut6lQhpX"
   },
   "outputs": [],
   "source": [
    "tokenizer = Tokenizer(num_words=TOP_WORDS)\n",
    "tokenizer.fit_on_texts(X_train)"
   ]
  },
  {
   "cell_type": "code",
   "execution_count": 89,
   "metadata": {
    "id": "MmLEQ3oanQb6"
   },
   "outputs": [],
   "source": [
    "import pickle\n",
    "with open('/content/gdrive/MyDrive/Colab Notebooks/data/tokenizer.pickle', 'wb') as handle:\n",
    "    pickle.dump(tokenizer, handle, protocol=pickle.HIGHEST_PROTOCOL)"
   ]
  },
  {
   "cell_type": "code",
   "execution_count": 30,
   "metadata": {
    "id": "poebByYZQmaK"
   },
   "outputs": [],
   "source": [
    "def get_sequences(tokenizer, tweets):\n",
    "    sequences = tokenizer.texts_to_sequences(tweets)\n",
    "    padded = pad_sequences(sequences, truncating='post', padding='post', maxlen=MAX_LEN)\n",
    "    return padded"
   ]
  },
  {
   "cell_type": "code",
   "execution_count": 31,
   "metadata": {
    "id": "B5XEOqODQrTK"
   },
   "outputs": [],
   "source": [
    "X_train_padded = get_sequences(tokenizer, X_train)\n",
    "X_test_padded = get_sequences(tokenizer, X_test)"
   ]
  },
  {
   "cell_type": "code",
   "execution_count": 32,
   "metadata": {
    "id": "keuyA1iFQsO0"
   },
   "outputs": [],
   "source": [
    "EMBEDDING_VECTOR_LENGTH = 256"
   ]
  },
  {
   "cell_type": "markdown",
   "metadata": {},
   "source": [
    "*[(Retour sommaire)](#ch0)*"
   ]
  },
  {
   "cell_type": "markdown",
   "metadata": {
    "id": "mju_IBX2Q3Vm"
   },
   "source": [
    "# <div id=\"ch3\" style=\"color:blue\">3. Réseaux de neurones Keras</div>"
   ]
  },
  {
   "cell_type": "code",
   "execution_count": 33,
   "metadata": {
    "id": "dgI0COOLWICM"
   },
   "outputs": [],
   "source": [
    "def plot_keras_results(h, model, X_test, y_test):\n",
    "    print('Métriques')\n",
    "    print('---------')\n",
    "    epochs = range(1, len(h['accuracy']) + 1)\n",
    "    plt.figure(figsize=(15, 8))\n",
    "    #Recall\n",
    "    plt.subplot(2, 2, 1)\n",
    "    plt.plot(epochs, h['recall'], '-', label='Training Recall')\n",
    "    plt.plot(epochs, h['val_recall'], ':', label='Validation Recall')\n",
    "    plt.title('Training and Validation Recall')\n",
    "    plt.xlabel('Epoch')\n",
    "    plt.ylabel('Recall')\n",
    "    plt.legend(loc='upper left')\n",
    "    #Accuracy\n",
    "    plt.subplot(2, 2, 2)\n",
    "    plt.plot(epochs, h['accuracy'], '-', label='Training Accuracy')\n",
    "    plt.plot(epochs, h['val_accuracy'], ':', label='Validation Accuracy')\n",
    "    plt.title('Training and Validation Accuracy')\n",
    "    plt.xlabel('Epoch')\n",
    "    plt.ylabel('Accuracy')\n",
    "    plt.legend(loc='upper left')\n",
    "    #TN\n",
    "    plt.subplot(2, 2, 3)\n",
    "    plt.plot(epochs, h['true_negatives'], '-', label='Training TN')\n",
    "    plt.plot(epochs, h['val_true_negatives'], ':', label='Validation TN')\n",
    "    plt.title('Training and Validation True Negative')\n",
    "    plt.xlabel('Epoch')\n",
    "    plt.ylabel('True Negative')\n",
    "    plt.legend(loc='upper left')\n",
    "    #Loss\n",
    "    plt.subplot(2, 2, 4)\n",
    "    plt.plot(epochs, h['loss'], '-', label='Training Loss')\n",
    "    plt.plot(epochs, h['val_loss'], ':', label='Validation Loss')\n",
    "    plt.title('Training and Validation Loss')\n",
    "    plt.xlabel('Epoch')\n",
    "    plt.ylabel('Loss')\n",
    "    plt.legend(loc='upper left')\n",
    "    plt.show()\n",
    "    print()\n",
    "    y_pred = np.rint(model.predict(X_test))\n",
    "    print('Matrice de confusion')\n",
    "    print('--------------------')\n",
    "    print(confusion_matrix(y_test, y_pred))\n",
    "    print()\n",
    "    print('Scores')\n",
    "    print('--------------------')\n",
    "    print(f\"Accuracy : {accuracy_score(y_test, y_pred)}\")\n",
    "    print(f\"Recall : {recall_score(y_test, y_pred)}\")\n",
    "    print(f\"AUC : {roc_auc_score(y_test, y_pred)}\")"
   ]
  },
  {
   "cell_type": "markdown",
   "metadata": {
    "id": "mju_IBX2Q3Vm"
   },
   "source": [
    "## <div id=\"ch3_1\" style=\"color:orange\">3.1 Keras : Modèle complètement connecté</div>"
   ]
  },
  {
   "cell_type": "code",
   "execution_count": 34,
   "metadata": {
    "id": "oKnVNHitfMOQ"
   },
   "outputs": [],
   "source": [
    "rec = metrics.Recall()\n",
    "tn = metrics.TrueNegatives()"
   ]
  },
  {
   "cell_type": "code",
   "execution_count": 35,
   "metadata": {
    "id": "CL4r-Y5gQvxB"
   },
   "outputs": [],
   "source": [
    "k_spl = Sequential()\n",
    "k_spl.add(Embedding(TOP_WORDS, EMBEDDING_VECTOR_LENGTH, input_length=MAX_LEN))\n",
    "k_spl.add(Flatten())\n",
    "k_spl.add(Dense(16, activation='relu'))\n",
    "k_spl.add(Dense(1, activation='sigmoid'))\n",
    "k_spl.compile(loss='binary_crossentropy', optimizer='adam', metrics=['accuracy', rec, tn])"
   ]
  },
  {
   "cell_type": "code",
   "execution_count": 36,
   "metadata": {
    "colab": {
     "base_uri": "https://localhost:8080/"
    },
    "id": "D1toEIa-VgmE",
    "outputId": "b5dcf7cf-1cea-4b2b-bed6-6d920ce1a2e6"
   },
   "outputs": [
    {
     "name": "stdout",
     "output_type": "stream",
     "text": [
      "Model: \"sequential\"\n",
      "_________________________________________________________________\n",
      " Layer (type)                Output Shape              Param #   \n",
      "=================================================================\n",
      " embedding (Embedding)       (None, 50, 256)           10240000  \n",
      "                                                                 \n",
      " flatten (Flatten)           (None, 12800)             0         \n",
      "                                                                 \n",
      " dense (Dense)               (None, 16)                204816    \n",
      "                                                                 \n",
      " dense_1 (Dense)             (None, 1)                 17        \n",
      "                                                                 \n",
      "=================================================================\n",
      "Total params: 10,444,833\n",
      "Trainable params: 10,444,833\n",
      "Non-trainable params: 0\n",
      "_________________________________________________________________\n"
     ]
    }
   ],
   "source": [
    "k_spl.summary()"
   ]
  },
  {
   "cell_type": "code",
   "execution_count": 37,
   "metadata": {
    "colab": {
     "base_uri": "https://localhost:8080/"
    },
    "id": "NLuwEu5jVmYR",
    "outputId": "cfe30d59-620d-4c77-9571-1e574309fe64"
   },
   "outputs": [
    {
     "name": "stdout",
     "output_type": "stream",
     "text": [
      "Epoch 1/5\n",
      "10625/10625 [==============================] - 65s 6ms/step - loss: 0.4747 - accuracy: 0.7714 - recall: 0.7731 - true_negatives: 523334.0000 - val_loss: 0.4753 - val_accuracy: 0.7722 - val_recall: 0.7722 - val_true_negatives: 62337.0000\n",
      "Epoch 2/5\n",
      "10625/10625 [==============================] - 61s 6ms/step - loss: 0.4349 - accuracy: 0.7948 - recall: 0.7932 - true_negatives: 541606.0000 - val_loss: 0.4799 - val_accuracy: 0.7718 - val_recall: 0.7377 - val_true_negatives: 64821.0000\n",
      "Epoch 3/5\n",
      "10625/10625 [==============================] - 61s 6ms/step - loss: 0.3956 - accuracy: 0.8163 - recall: 0.8122 - true_negatives: 557920.0000 - val_loss: 0.5101 - val_accuracy: 0.7661 - val_recall: 0.7654 - val_true_negatives: 61895.0000\n"
     ]
    }
   ],
   "source": [
    "tps1 = time.time()\n",
    "hist_spl = k_spl.fit(\n",
    "    X_train_padded, y_train, validation_data=(X_test_padded, y_test), epochs=5, batch_size=128,\n",
    "    callbacks=[tf.keras.callbacks.EarlyStopping(monitor='val_accuracy', patience=2),\n",
    "               tf.keras.callbacks.ModelCheckpoint(\n",
    "                   filepath='/content/gdrive/MyDrive/Colab Notebooks/data_colab/k_spl.h5',\n",
    "                   monitor='val_recall', mode='max', save_best_only=True)])\n",
    "tps2 = time.time()"
   ]
  },
  {
   "cell_type": "code",
   "execution_count": 38,
   "metadata": {
    "colab": {
     "base_uri": "https://localhost:8080/",
     "height": 730
    },
    "id": "T9ZLs0m6xpmI",
    "outputId": "203ef901-606c-44fe-c83d-478985e9f054"
   },
   "outputs": [
    {
     "name": "stdout",
     "output_type": "stream",
     "text": [
      "Métriques\n",
      "---------\n"
     ]
    },
    {
     "data": {
      "image/png": "[encoded data removed]",
      "text/plain": [
       "<Figure size 1080x576 with 4 Axes>"
      ]
     },
     "metadata": {
      "needs_background": "light"
     },
     "output_type": "display_data"
    },
    {
     "name": "stdout",
     "output_type": "stream",
     "text": [
      "\n",
      "Matrice de confusion\n",
      "--------------------\n",
      "[[61895 18824]\n",
      " [17335 56550]]\n",
      "\n",
      "Scores\n",
      "--------------------\n",
      "Accuracy : 0.7661185997774961\n",
      "Recall : 0.7653786289503959\n",
      "AUC : 0.7660872753022647\n"
     ]
    }
   ],
   "source": [
    "plot_keras_results(hist_spl.history, k_spl, X_test_padded, y_test)"
   ]
  },
  {
   "cell_type": "code",
   "execution_count": 39,
   "metadata": {
    "colab": {
     "base_uri": "https://localhost:8080/"
    },
    "id": "_YmvufbdVpGP",
    "outputId": "ce2d4f62-3a2d-41f4-fdc1-550e4c365011"
   },
   "outputs": [
    {
     "name": "stdout",
     "output_type": "stream",
     "text": [
      "Temps total d'exécution : 187.71 secondes\n"
     ]
    }
   ],
   "source": [
    "print(f\"Temps total d'exécution : {np.round(tps2 - tps1, 2)} secondes\")"
   ]
  },
  {
   "cell_type": "markdown",
   "metadata": {},
   "source": [
    "*[(Retour sommaire)](#ch0)*"
   ]
  },
  {
   "cell_type": "markdown",
   "metadata": {
    "id": "mju_IBX2Q3Vm"
   },
   "source": [
    "## <div id=\"ch3_2\" style=\"color:orange\">3.2 Keras : Modèle convolutionnel</div>"
   ]
  },
  {
   "cell_type": "code",
   "execution_count": 40,
   "metadata": {
    "id": "JA8WZmWuYC4Z"
   },
   "outputs": [],
   "source": [
    "seed(11)"
   ]
  },
  {
   "cell_type": "code",
   "execution_count": 41,
   "metadata": {
    "id": "jecWZBk1CDm0"
   },
   "outputs": [],
   "source": [
    "k_cnn = Sequential()\n",
    "k_cnn.add(Embedding(TOP_WORDS, EMBEDDING_VECTOR_LENGTH, input_length=MAX_LEN))\n",
    "k_cnn.add(Conv1D(EMBEDDING_VECTOR_LENGTH, 5, activation='relu'))  #Ligne spécifique CNN\n",
    "k_cnn.add(MaxPooling1D(5))  #Ligne spécifique CNN\n",
    "k_cnn.add(Flatten())\n",
    "k_cnn.add(Dense(16, activation='relu'))\n",
    "k_cnn.add(Dense(1, activation='sigmoid'))\n",
    "k_cnn.compile(loss='binary_crossentropy', optimizer='adam', metrics=['accuracy', rec, tn])"
   ]
  },
  {
   "cell_type": "code",
   "execution_count": 42,
   "metadata": {
    "colab": {
     "base_uri": "https://localhost:8080/"
    },
    "id": "i_YHi5ZGCDm1",
    "outputId": "ca502185-2850-4d0b-e02b-dca0b709f62c"
   },
   "outputs": [
    {
     "name": "stdout",
     "output_type": "stream",
     "text": [
      "Model: \"sequential_1\"\n",
      "_________________________________________________________________\n",
      " Layer (type)                Output Shape              Param #   \n",
      "=================================================================\n",
      " embedding_1 (Embedding)     (None, 50, 256)           10240000  \n",
      "                                                                 \n",
      " conv1d (Conv1D)             (None, 46, 256)           327936    \n",
      "                                                                 \n",
      " max_pooling1d (MaxPooling1D  (None, 9, 256)           0         \n",
      " )                                                               \n",
      "                                                                 \n",
      " flatten_1 (Flatten)         (None, 2304)              0         \n",
      "                                                                 \n",
      " dense_2 (Dense)             (None, 16)                36880     \n",
      "                                                                 \n",
      " dense_3 (Dense)             (None, 1)                 17        \n",
      "                                                                 \n",
      "=================================================================\n",
      "Total params: 10,604,833\n",
      "Trainable params: 10,604,833\n",
      "Non-trainable params: 0\n",
      "_________________________________________________________________\n"
     ]
    }
   ],
   "source": [
    "k_cnn.summary()"
   ]
  },
  {
   "cell_type": "code",
   "execution_count": 43,
   "metadata": {
    "colab": {
     "base_uri": "https://localhost:8080/"
    },
    "id": "-S-DrdQ1CDm1",
    "outputId": "2696fdcf-63c7-4e3d-d424-0a95bc2067a4"
   },
   "outputs": [
    {
     "name": "stdout",
     "output_type": "stream",
     "text": [
      "Epoch 1/5\n",
      "10625/10625 [==============================] - 103s 9ms/step - loss: 0.4708 - accuracy: 0.7749 - recall: 0.7836 - true_negatives: 581597.0000 - val_loss: 0.4705 - val_accuracy: 0.7765 - val_recall: 0.7807 - val_true_negatives: 62372.0000\n",
      "Epoch 2/5\n",
      "10625/10625 [==============================] - 95s 9ms/step - loss: 0.4214 - accuracy: 0.8055 - recall: 0.8147 - true_negatives: 541434.0000 - val_loss: 0.4764 - val_accuracy: 0.7730 - val_recall: 0.8090 - val_true_negatives: 59740.0000\n",
      "Epoch 3/5\n",
      "10625/10625 [==============================] - 99s 9ms/step - loss: 0.3684 - accuracy: 0.8361 - recall: 0.8415 - true_negatives: 564887.0000 - val_loss: 0.5094 - val_accuracy: 0.7700 - val_recall: 0.7474 - val_true_negatives: 63826.0000\n"
     ]
    }
   ],
   "source": [
    "tps1 = time.time()\n",
    "hist_cnn = k_cnn.fit(\n",
    "    X_train_padded, y_train, validation_data=(X_test_padded, y_test), epochs=5, batch_size=128,\n",
    "    callbacks=[tf.keras.callbacks.EarlyStopping(monitor='val_accuracy', patience=2),\n",
    "               tf.keras.callbacks.ModelCheckpoint(\n",
    "                   filepath='/content/gdrive/MyDrive/Colab Notebooks/data_colab/k_cnn.h5',\n",
    "                   monitor='val_recall', mode='max', save_best_only=True)])\n",
    "tps2 = time.time()"
   ]
  },
  {
   "cell_type": "code",
   "execution_count": 44,
   "metadata": {
    "colab": {
     "base_uri": "https://localhost:8080/",
     "height": 730
    },
    "id": "_0VJlf-uCDm1",
    "outputId": "24591c97-a3c7-413e-ad42-ae7287450648"
   },
   "outputs": [
    {
     "name": "stdout",
     "output_type": "stream",
     "text": [
      "Métriques\n",
      "---------\n"
     ]
    },
    {
     "data": {
      "image/png": "[encoded data removed]",
      "text/plain": [
       "<Figure size 1080x576 with 4 Axes>"
      ]
     },
     "metadata": {
      "needs_background": "light"
     },
     "output_type": "display_data"
    },
    {
     "name": "stdout",
     "output_type": "stream",
     "text": [
      "\n",
      "Matrice de confusion\n",
      "--------------------\n",
      "[[63826 16893]\n",
      " [18667 55218]]\n",
      "\n",
      "Scores\n",
      "--------------------\n",
      "Accuracy : 0.7699930144110113\n",
      "Recall : 0.7473506124382486\n",
      "AUC : 0.7690345153272649\n"
     ]
    }
   ],
   "source": [
    "plot_keras_results(hist_cnn.history, k_cnn, X_test_padded, y_test)"
   ]
  },
  {
   "cell_type": "code",
   "execution_count": 45,
   "metadata": {
    "colab": {
     "base_uri": "https://localhost:8080/"
    },
    "id": "TsGE5czxCDm2",
    "outputId": "81e24bdf-534b-44ce-f0dc-dc5d0a6edca2"
   },
   "outputs": [
    {
     "name": "stdout",
     "output_type": "stream",
     "text": [
      "Temps total d'exécution : 296.6 secondes\n"
     ]
    }
   ],
   "source": [
    "print(f\"Temps total d'exécution : {np.round(tps2 - tps1, 2)} secondes\")"
   ]
  },
  {
   "cell_type": "markdown",
   "metadata": {},
   "source": [
    "*[(Retour sommaire)](#ch0)*"
   ]
  },
  {
   "cell_type": "markdown",
   "metadata": {
    "id": "mju_IBX2Q3Vm"
   },
   "source": [
    "## <div id=\"ch3_3\" style=\"color:orange\">3.3 Keras : LSTM</div>"
   ]
  },
  {
   "cell_type": "code",
   "execution_count": 46,
   "metadata": {
    "id": "Md3R_e2sYPcs"
   },
   "outputs": [],
   "source": [
    "seed(11)"
   ]
  },
  {
   "cell_type": "code",
   "execution_count": 47,
   "metadata": {
    "id": "zGTqWqPaVNqS"
   },
   "outputs": [],
   "source": [
    "k_lstm = Sequential()\n",
    "k_lstm.add(Embedding(TOP_WORDS, EMBEDDING_VECTOR_LENGTH, input_length=MAX_LEN))\n",
    "k_lstm.add(LSTM(EMBEDDING_VECTOR_LENGTH))  #La couche LTSM remplace les couches Flatten() et Dense() du modèle simple\n",
    "k_lstm.add(Dense(1, activation='sigmoid'))\n",
    "k_lstm.compile(loss='binary_crossentropy', optimizer='adam', metrics=['accuracy', rec, tn])"
   ]
  },
  {
   "cell_type": "code",
   "execution_count": 48,
   "metadata": {
    "colab": {
     "base_uri": "https://localhost:8080/"
    },
    "id": "T2QWjsJlVNqS",
    "outputId": "53b19389-6d97-4517-9741-b22bef080bd9"
   },
   "outputs": [
    {
     "name": "stdout",
     "output_type": "stream",
     "text": [
      "Model: \"sequential_2\"\n",
      "_________________________________________________________________\n",
      " Layer (type)                Output Shape              Param #   \n",
      "=================================================================\n",
      " embedding_2 (Embedding)     (None, 50, 256)           10240000  \n",
      "                                                                 \n",
      " lstm (LSTM)                 (None, 256)               525312    \n",
      "                                                                 \n",
      " dense_4 (Dense)             (None, 1)                 257       \n",
      "                                                                 \n",
      "=================================================================\n",
      "Total params: 10,765,569\n",
      "Trainable params: 10,765,569\n",
      "Non-trainable params: 0\n",
      "_________________________________________________________________\n"
     ]
    }
   ],
   "source": [
    "k_lstm.summary()"
   ]
  },
  {
   "cell_type": "code",
   "execution_count": 49,
   "metadata": {
    "colab": {
     "base_uri": "https://localhost:8080/"
    },
    "id": "jmOuImNVVNqT",
    "outputId": "d897aa91-4a1f-4476-eea5-95781cba5571"
   },
   "outputs": [
    {
     "name": "stdout",
     "output_type": "stream",
     "text": [
      "Epoch 1/5\n",
      "10625/10625 [==============================] - 142s 13ms/step - loss: 0.6189 - accuracy: 0.6138 - recall: 0.6831 - true_negatives: 438777.0000 - val_loss: 0.4822 - val_accuracy: 0.7673 - val_recall: 0.7657 - val_true_negatives: 62050.0000\n",
      "Epoch 2/5\n",
      "10625/10625 [==============================] - 140s 13ms/step - loss: 0.4510 - accuracy: 0.7868 - recall: 0.7913 - true_negatives: 531989.0000 - val_loss: 0.4694 - val_accuracy: 0.7764 - val_recall: 0.8089 - val_true_negatives: 60264.0000\n",
      "Epoch 3/5\n",
      "10625/10625 [==============================] - 139s 13ms/step - loss: 0.4224 - accuracy: 0.8034 - recall: 0.8053 - true_negatives: 544975.0000 - val_loss: 0.4649 - val_accuracy: 0.7812 - val_recall: 0.7444 - val_true_negatives: 65779.0000\n",
      "Epoch 4/5\n",
      "10625/10625 [==============================] - 139s 13ms/step - loss: 0.3950 - accuracy: 0.8189 - recall: 0.8187 - true_negatives: 557005.0000 - val_loss: 0.4713 - val_accuracy: 0.7793 - val_recall: 0.7707 - val_true_negatives: 63536.0000\n",
      "Epoch 5/5\n",
      "10625/10625 [==============================] - 139s 13ms/step - loss: 0.3640 - accuracy: 0.8356 - recall: 0.8341 - true_negatives: 569210.0000 - val_loss: 0.4933 - val_accuracy: 0.7753 - val_recall: 0.7735 - val_true_negatives: 62723.0000\n"
     ]
    }
   ],
   "source": [
    "tps1 = time.time()\n",
    "hist_lstm = k_lstm.fit(\n",
    "    X_train_padded, y_train, validation_data=(X_test_padded, y_test), epochs=5, batch_size=128,\n",
    "    callbacks=[tf.keras.callbacks.EarlyStopping(monitor='val_accuracy', patience=2),\n",
    "               tf.keras.callbacks.ModelCheckpoint(\n",
    "                   filepath='/content/gdrive/MyDrive/Colab Notebooks/data_colab/k_lstm.h5',\n",
    "                   monitor='val_recall', mode='max', save_best_only=True)])\n",
    "tps2 = time.time()"
   ]
  },
  {
   "cell_type": "code",
   "execution_count": 50,
   "metadata": {
    "colab": {
     "base_uri": "https://localhost:8080/",
     "height": 730
    },
    "id": "uTPqYbqFVNqT",
    "outputId": "40cb7a7b-e641-4674-f26d-c771c032e201"
   },
   "outputs": [
    {
     "name": "stdout",
     "output_type": "stream",
     "text": [
      "Métriques\n",
      "---------\n"
     ]
    },
    {
     "data": {
      "image/png": "[encoded data removed]",
      "text/plain": [
       "<Figure size 1080x576 with 4 Axes>"
      ]
     },
     "metadata": {
      "needs_background": "light"
     },
     "output_type": "display_data"
    },
    {
     "name": "stdout",
     "output_type": "stream",
     "text": [
      "\n",
      "Matrice de confusion\n",
      "--------------------\n",
      "[[62723 17996]\n",
      " [16737 57148]]\n",
      "\n",
      "Scores\n",
      "--------------------\n",
      "Accuracy : 0.7753421644976844\n",
      "Recall : 0.7734722880151587\n",
      "AUC : 0.7752630088101662\n"
     ]
    }
   ],
   "source": [
    "plot_keras_results(hist_lstm.history, k_lstm, X_test_padded, y_test)"
   ]
  },
  {
   "cell_type": "code",
   "execution_count": 51,
   "metadata": {
    "colab": {
     "base_uri": "https://localhost:8080/"
    },
    "id": "epLmRCSjVNqT",
    "outputId": "8e0e7101-ac5a-41c1-febd-5a65d47695ee"
   },
   "outputs": [
    {
     "name": "stdout",
     "output_type": "stream",
     "text": [
      "Temps total d'exécution : 699.92 secondes\n"
     ]
    }
   ],
   "source": [
    "print(f\"Temps total d'exécution : {np.round(tps2 - tps1, 2)} secondes\")"
   ]
  },
  {
   "cell_type": "markdown",
   "metadata": {},
   "source": [
    "*[(Retour sommaire)](#ch0)*"
   ]
  },
  {
   "cell_type": "markdown",
   "metadata": {
    "id": "mju_IBX2Q3Vm"
   },
   "source": [
    "## <div id=\"ch3_4\" style=\"color:orange\">3.4 Keras : LSTM bidirectionnel</div>"
   ]
  },
  {
   "cell_type": "code",
   "execution_count": 52,
   "metadata": {
    "id": "94_EvK-ye-po"
   },
   "outputs": [],
   "source": [
    "seed(11)"
   ]
  },
  {
   "cell_type": "code",
   "execution_count": 53,
   "metadata": {
    "id": "7NVmtd3Se-po"
   },
   "outputs": [],
   "source": [
    "k_bi = Sequential()\n",
    "k_bi.add(Embedding(TOP_WORDS, EMBEDDING_VECTOR_LENGTH, input_length=MAX_LEN))\n",
    "k_bi.add(Bidirectional(LSTM(EMBEDDING_VECTOR_LENGTH)))  #LTSM imbriqué dans une couche bidirectionnelle\n",
    "k_bi.add(Dense(1, activation='sigmoid'))\n",
    "k_bi.compile(loss='binary_crossentropy', optimizer='adam', metrics=['accuracy', rec, tn])"
   ]
  },
  {
   "cell_type": "code",
   "execution_count": 54,
   "metadata": {
    "colab": {
     "base_uri": "https://localhost:8080/"
    },
    "id": "PGJ2zGKKe-pp",
    "outputId": "ca3d2153-68dd-4326-bbb5-a4b41b4ab481"
   },
   "outputs": [
    {
     "name": "stdout",
     "output_type": "stream",
     "text": [
      "Model: \"sequential_3\"\n",
      "_________________________________________________________________\n",
      " Layer (type)                Output Shape              Param #   \n",
      "=================================================================\n",
      " embedding_3 (Embedding)     (None, 50, 256)           10240000  \n",
      "                                                                 \n",
      " bidirectional (Bidirectiona  (None, 512)              1050624   \n",
      " l)                                                              \n",
      "                                                                 \n",
      " dense_5 (Dense)             (None, 1)                 513       \n",
      "                                                                 \n",
      "=================================================================\n",
      "Total params: 11,291,137\n",
      "Trainable params: 11,291,137\n",
      "Non-trainable params: 0\n",
      "_________________________________________________________________\n"
     ]
    }
   ],
   "source": [
    "k_bi.summary()"
   ]
  },
  {
   "cell_type": "code",
   "execution_count": 55,
   "metadata": {
    "colab": {
     "base_uri": "https://localhost:8080/"
    },
    "id": "JGw9gUPfe-pq",
    "outputId": "22bad1a6-72e9-4f97-f96d-e28e60c346ed"
   },
   "outputs": [
    {
     "name": "stdout",
     "output_type": "stream",
     "text": [
      "Epoch 1/5\n",
      "10625/10625 [==============================] - 230s 21ms/step - loss: 0.4647 - accuracy: 0.7778 - recall: 0.7823 - true_negatives: 587935.0000 - val_loss: 0.4653 - val_accuracy: 0.7794 - val_recall: 0.7468 - val_true_negatives: 65326.0000\n",
      "Epoch 2/5\n",
      "10625/10625 [==============================] - 226s 21ms/step - loss: 0.4253 - accuracy: 0.8012 - recall: 0.8047 - true_negatives: 542517.0000 - val_loss: 0.4618 - val_accuracy: 0.7829 - val_recall: 0.7717 - val_true_negatives: 64025.0000\n",
      "Epoch 3/5\n",
      "10625/10625 [==============================] - 224s 21ms/step - loss: 0.3943 - accuracy: 0.8191 - recall: 0.8208 - true_negatives: 555819.0000 - val_loss: 0.4728 - val_accuracy: 0.7807 - val_recall: 0.7426 - val_true_negatives: 65828.0000\n",
      "Epoch 4/5\n",
      "10625/10625 [==============================] - 225s 21ms/step - loss: 0.3582 - accuracy: 0.8387 - recall: 0.8388 - true_negatives: 570246.0000 - val_loss: 0.5015 - val_accuracy: 0.7748 - val_recall: 0.7578 - val_true_negatives: 63800.0000\n"
     ]
    }
   ],
   "source": [
    "tps1 = time.time()\n",
    "hist_bi = k_bi.fit(\n",
    "    X_train_padded, y_train, validation_data=(X_test_padded, y_test), epochs=5, batch_size=128,\n",
    "    callbacks=[tf.keras.callbacks.EarlyStopping(monitor='val_accuracy', patience=2),\n",
    "               tf.keras.callbacks.ModelCheckpoint(\n",
    "                   filepath='/content/gdrive/MyDrive/Colab Notebooks/data_colab/k_bi.h5',\n",
    "                   monitor='val_recall', mode='max', save_best_only=True)])\n",
    "tps2 = time.time()"
   ]
  },
  {
   "cell_type": "code",
   "execution_count": 56,
   "metadata": {
    "colab": {
     "base_uri": "https://localhost:8080/",
     "height": 730
    },
    "id": "sp1Xc2nde-pr",
    "outputId": "665cf2b2-7be6-40f9-f3b8-924479776f35"
   },
   "outputs": [
    {
     "name": "stdout",
     "output_type": "stream",
     "text": [
      "Métriques\n",
      "---------\n"
     ]
    },
    {
     "data": {
      "image/png": "[encoded data removed]",
      "text/plain": [
       "<Figure size 1080x576 with 4 Axes>"
      ]
     },
     "metadata": {
      "needs_background": "light"
     },
     "output_type": "display_data"
    },
    {
     "name": "stdout",
     "output_type": "stream",
     "text": [
      "\n",
      "Matrice de confusion\n",
      "--------------------\n",
      "[[63800 16919]\n",
      " [17895 55990]]\n",
      "\n",
      "Scores\n",
      "--------------------\n",
      "Accuracy : 0.7748182453235363\n",
      "Recall : 0.7577992826690126\n",
      "AUC : 0.7740977979023527\n"
     ]
    }
   ],
   "source": [
    "plot_keras_results(hist_bi.history, k_bi, X_test_padded, y_test)"
   ]
  },
  {
   "cell_type": "code",
   "execution_count": 57,
   "metadata": {
    "colab": {
     "base_uri": "https://localhost:8080/"
    },
    "id": "AwKOaWb3e-pr",
    "outputId": "b22aa4d9-571e-4c11-fbe9-a76af553dd8a"
   },
   "outputs": [
    {
     "name": "stdout",
     "output_type": "stream",
     "text": [
      "Temps total d'exécution : 904.16 secondes\n"
     ]
    }
   ],
   "source": [
    "print(f\"Temps total d'exécution : {np.round(tps2 - tps1, 2)} secondes\")"
   ]
  },
  {
   "cell_type": "markdown",
   "metadata": {},
   "source": [
    "*[(Retour sommaire)](#ch0)*"
   ]
  },
  {
   "cell_type": "markdown",
   "metadata": {
    "id": "mju_IBX2Q3Vm"
   },
   "source": [
    "## <div id=\"ch3_5\" style=\"color:orange\">3.5 Keras : GRU bidirectionnel</div>"
   ]
  },
  {
   "cell_type": "code",
   "execution_count": 58,
   "metadata": {
    "id": "GG7t7THKoXFa"
   },
   "outputs": [],
   "source": [
    "seed(11)"
   ]
  },
  {
   "cell_type": "code",
   "execution_count": 59,
   "metadata": {
    "id": "jaPq5uH0oXFa"
   },
   "outputs": [],
   "source": [
    "k_gru = Sequential()\n",
    "k_gru.add(Embedding(TOP_WORDS, EMBEDDING_VECTOR_LENGTH, input_length=MAX_LEN))\n",
    "k_gru.add(Bidirectional(GRU(EMBEDDING_VECTOR_LENGTH)))  #GRU imbriqué dans une couche bidirectionnelle\n",
    "k_gru.add(Dense(1, activation='sigmoid'))\n",
    "k_gru.compile(loss='binary_crossentropy', optimizer='adam', metrics=['accuracy', rec, tn])"
   ]
  },
  {
   "cell_type": "code",
   "execution_count": 60,
   "metadata": {
    "colab": {
     "base_uri": "https://localhost:8080/"
    },
    "id": "fEl4RhmooXFa",
    "outputId": "9863c889-a8cc-4b14-c201-f7d1e5971700"
   },
   "outputs": [
    {
     "name": "stdout",
     "output_type": "stream",
     "text": [
      "Model: \"sequential_4\"\n",
      "_________________________________________________________________\n",
      " Layer (type)                Output Shape              Param #   \n",
      "=================================================================\n",
      " embedding_4 (Embedding)     (None, 50, 256)           10240000  \n",
      "                                                                 \n",
      " bidirectional_1 (Bidirectio  (None, 512)              789504    \n",
      " nal)                                                            \n",
      "                                                                 \n",
      " dense_6 (Dense)             (None, 1)                 513       \n",
      "                                                                 \n",
      "=================================================================\n",
      "Total params: 11,030,017\n",
      "Trainable params: 11,030,017\n",
      "Non-trainable params: 0\n",
      "_________________________________________________________________\n"
     ]
    }
   ],
   "source": [
    "k_gru.summary()"
   ]
  },
  {
   "cell_type": "code",
   "execution_count": 61,
   "metadata": {
    "colab": {
     "base_uri": "https://localhost:8080/"
    },
    "id": "RwYAxWy0oXFa",
    "outputId": "2a342d7e-bc1b-4740-af57-49adf74d90d0"
   },
   "outputs": [
    {
     "name": "stdout",
     "output_type": "stream",
     "text": [
      "Epoch 1/5\n",
      "10625/10625 [==============================] - 207s 19ms/step - loss: 0.4645 - accuracy: 0.7776 - recall: 0.7800 - true_negatives: 589327.0000 - val_loss: 0.4636 - val_accuracy: 0.7798 - val_recall: 0.7685 - val_true_negatives: 63784.0000\n",
      "Epoch 2/5\n",
      "10625/10625 [==============================] - 205s 19ms/step - loss: 0.4234 - accuracy: 0.8029 - recall: 0.8063 - true_negatives: 543671.0000 - val_loss: 0.4633 - val_accuracy: 0.7810 - val_recall: 0.8026 - val_true_negatives: 61439.0000\n",
      "Epoch 3/5\n",
      "10625/10625 [==============================] - 204s 19ms/step - loss: 0.3915 - accuracy: 0.8216 - recall: 0.8237 - true_negatives: 557241.0000 - val_loss: 0.4726 - val_accuracy: 0.7801 - val_recall: 0.7744 - val_true_negatives: 63390.0000\n",
      "Epoch 4/5\n",
      "10625/10625 [==============================] - 204s 19ms/step - loss: 0.3563 - accuracy: 0.8406 - recall: 0.8417 - true_negatives: 570935.0000 - val_loss: 0.5009 - val_accuracy: 0.7727 - val_recall: 0.7622 - val_true_negatives: 63143.0000\n"
     ]
    }
   ],
   "source": [
    "tps1 = time.time()\n",
    "hist_gru = k_gru.fit(\n",
    "    X_train_padded, y_train, validation_data=(X_test_padded, y_test), epochs=5, batch_size=128,\n",
    "    callbacks=[tf.keras.callbacks.EarlyStopping(monitor='val_accuracy', patience=2),\n",
    "               tf.keras.callbacks.ModelCheckpoint(\n",
    "                   filepath='/content/gdrive/MyDrive/Colab Notebooks/data_colab/k_gru.h5',\n",
    "                   monitor='val_recall', mode='max', save_best_only=True)])\n",
    "tps2 = time.time()"
   ]
  },
  {
   "cell_type": "code",
   "execution_count": 62,
   "metadata": {
    "colab": {
     "base_uri": "https://localhost:8080/",
     "height": 730
    },
    "id": "Yjtm3uRAoXFb",
    "outputId": "8b8c33cb-fea0-4db9-e026-d8a9fea464ed"
   },
   "outputs": [
    {
     "name": "stdout",
     "output_type": "stream",
     "text": [
      "Métriques\n",
      "---------\n"
     ]
    },
    {
     "data": {
      "image/png": "[encoded data removed]",
      "text/plain": [
       "<Figure size 1080x576 with 4 Axes>"
      ]
     },
     "metadata": {
      "needs_background": "light"
     },
     "output_type": "display_data"
    },
    {
     "name": "stdout",
     "output_type": "stream",
     "text": [
      "\n",
      "Matrice de confusion\n",
      "--------------------\n",
      "[[63143 17576]\n",
      " [17570 56315]]\n",
      "\n",
      "Scores\n",
      "--------------------\n",
      "Accuracy : 0.7726708235233241\n",
      "Recall : 0.7621980104216012\n",
      "AUC : 0.7722274879719844\n"
     ]
    }
   ],
   "source": [
    "plot_keras_results(hist_gru.history, k_gru, X_test_padded, y_test)"
   ]
  },
  {
   "cell_type": "code",
   "execution_count": 63,
   "metadata": {
    "colab": {
     "base_uri": "https://localhost:8080/"
    },
    "id": "Ff0W055YoXFb",
    "outputId": "cb4cd4a7-80c3-4961-8a28-583f07e579c5"
   },
   "outputs": [
    {
     "name": "stdout",
     "output_type": "stream",
     "text": [
      "Temps total d'exécution : 820.03 secondes\n"
     ]
    }
   ],
   "source": [
    "print(f\"Temps total d'exécution : {np.round(tps2 - tps1, 2)} secondes\")"
   ]
  },
  {
   "cell_type": "markdown",
   "metadata": {},
   "source": [
    "*[(Retour sommaire)](#ch0)*"
   ]
  },
  {
   "cell_type": "markdown",
   "metadata": {
    "id": "mju_IBX2Q3Vm"
   },
   "source": [
    "## <div id=\"ch3_6\" style=\"color:orange\">3.6 Keras : LSTM & Word Embedding pré-entraîné (GloVe)</div>"
   ]
  },
  {
   "cell_type": "code",
   "execution_count": 64,
   "metadata": {
    "id": "H37wi9uqv3EM"
   },
   "outputs": [],
   "source": [
    "# Source : https://nlpforhackers.io/keras-intro/\n",
    "def read_glove_vectors(path, length):\n",
    "    embeddings = {}\n",
    "    with open(path, encoding='utf-8') as glove_f:\n",
    "        for line in glove_f:\n",
    "            chunks = line.split()\n",
    "            assert len(chunks) == length + 1\n",
    "            embeddings[chunks[0]] = np.array(chunks[1:], dtype='float32')\n",
    "    return embeddings"
   ]
  },
  {
   "cell_type": "code",
   "execution_count": 65,
   "metadata": {
    "id": "cTSL8CP0vueK"
   },
   "outputs": [],
   "source": [
    "GLOVE_PATH = '/content/gdrive/MyDrive/Colab Notebooks/data/glove.6B/glove.6B.200d.txt'\n",
    "GLOVE_VECTOR_LENGHT = 200"
   ]
  },
  {
   "cell_type": "code",
   "execution_count": 66,
   "metadata": {
    "id": "l3vrh-xGwA_F"
   },
   "outputs": [],
   "source": [
    "TOKENS = tokenizer.word_index"
   ]
  },
  {
   "cell_type": "code",
   "execution_count": 67,
   "metadata": {
    "id": "3x1G4TQ9vvaU"
   },
   "outputs": [],
   "source": [
    "GLOVE_INDEX = read_glove_vectors(GLOVE_PATH, GLOVE_VECTOR_LENGHT)"
   ]
  },
  {
   "cell_type": "code",
   "execution_count": 68,
   "metadata": {
    "id": "P19KsXn1wNI-"
   },
   "outputs": [],
   "source": [
    "embeddings_index = np.zeros((TOP_WORDS, GLOVE_VECTOR_LENGHT))\n",
    "for word, idx in TOKENS.items():\n",
    "    try:\n",
    "        embedding = GLOVE_INDEX[word]\n",
    "        embeddings_index[idx] = embedding\n",
    "    except:\n",
    "        pass"
   ]
  },
  {
   "cell_type": "code",
   "execution_count": 69,
   "metadata": {
    "id": "MZrzNi_dvPRI"
   },
   "outputs": [],
   "source": [
    "seed(11)"
   ]
  },
  {
   "cell_type": "code",
   "execution_count": 70,
   "metadata": {
    "id": "ALDYEZq9vPRI"
   },
   "outputs": [],
   "source": [
    "k_glo = Sequential()\n",
    "k_glo.add(Embedding(TOP_WORDS, GLOVE_VECTOR_LENGHT, weights=[embeddings_index], input_length=MAX_LEN, trainable=False))\n",
    "k_glo.add(LSTM(GLOVE_VECTOR_LENGHT))\n",
    "k_glo.add(Dense(1, activation='sigmoid'))\n",
    "k_glo.compile(loss='binary_crossentropy', optimizer='adam', metrics=['accuracy', rec, tn])"
   ]
  },
  {
   "cell_type": "code",
   "execution_count": 71,
   "metadata": {
    "colab": {
     "base_uri": "https://localhost:8080/"
    },
    "id": "fM8qJoD4vPRJ",
    "outputId": "162405c3-6c55-4787-b8e7-44cb5d01913b"
   },
   "outputs": [
    {
     "name": "stdout",
     "output_type": "stream",
     "text": [
      "Model: \"sequential_5\"\n",
      "_________________________________________________________________\n",
      " Layer (type)                Output Shape              Param #   \n",
      "=================================================================\n",
      " embedding_5 (Embedding)     (None, 50, 200)           8000000   \n",
      "                                                                 \n",
      " lstm_2 (LSTM)               (None, 200)               320800    \n",
      "                                                                 \n",
      " dense_7 (Dense)             (None, 1)                 201       \n",
      "                                                                 \n",
      "=================================================================\n",
      "Total params: 8,321,001\n",
      "Trainable params: 321,001\n",
      "Non-trainable params: 8,000,000\n",
      "_________________________________________________________________\n"
     ]
    }
   ],
   "source": [
    "k_glo.summary()"
   ]
  },
  {
   "cell_type": "code",
   "execution_count": 72,
   "metadata": {
    "colab": {
     "base_uri": "https://localhost:8080/"
    },
    "id": "5ggp3pA6vPRJ",
    "outputId": "12ebe993-d635-4117-bb12-e040dcb13844"
   },
   "outputs": [
    {
     "name": "stdout",
     "output_type": "stream",
     "text": [
      "Epoch 1/5\n",
      "10625/10625 [==============================] - 90s 8ms/step - loss: 0.5040 - accuracy: 0.7503 - recall: 0.7590 - true_negatives: 567616.0000 - val_loss: 0.5105 - val_accuracy: 0.7519 - val_recall: 0.7159 - val_true_negatives: 63352.0000\n",
      "Epoch 2/5\n",
      "10625/10625 [==============================] - 88s 8ms/step - loss: 0.4662 - accuracy: 0.7778 - recall: 0.7873 - true_negatives: 522447.0000 - val_loss: 0.4702 - val_accuracy: 0.7741 - val_recall: 0.7866 - val_true_negatives: 61570.0000\n",
      "Epoch 3/5\n",
      "10625/10625 [==============================] - 88s 8ms/step - loss: 0.4449 - accuracy: 0.7901 - recall: 0.7977 - true_negatives: 532111.0000 - val_loss: 0.4658 - val_accuracy: 0.7775 - val_recall: 0.7883 - val_true_negatives: 61959.0000\n",
      "Epoch 4/5\n",
      "10625/10625 [==============================] - 88s 8ms/step - loss: 0.4287 - accuracy: 0.7995 - recall: 0.8061 - true_negatives: 539154.0000 - val_loss: 0.4618 - val_accuracy: 0.7816 - val_recall: 0.8018 - val_true_negatives: 61606.0000\n",
      "Epoch 5/5\n",
      "10625/10625 [==============================] - 87s 8ms/step - loss: 0.4139 - accuracy: 0.8082 - recall: 0.8138 - true_negatives: 545740.0000 - val_loss: 0.4711 - val_accuracy: 0.7794 - val_recall: 0.7761 - val_true_negatives: 63161.0000\n"
     ]
    }
   ],
   "source": [
    "tps1 = time.time()\n",
    "hist_glo = k_glo.fit(\n",
    "    X_train_padded, y_train, validation_data=(X_test_padded, y_test), epochs=5, batch_size=128,\n",
    "    callbacks=[tf.keras.callbacks.EarlyStopping(monitor='val_accuracy', patience=2),\n",
    "               tf.keras.callbacks.ModelCheckpoint(\n",
    "                   filepath='/content/gdrive/MyDrive/Colab Notebooks/data_colab/k_glo.h5',\n",
    "                   monitor='val_recall', mode='max', save_best_only=True)])\n",
    "tps2 = time.time()"
   ]
  },
  {
   "cell_type": "code",
   "execution_count": 73,
   "metadata": {
    "colab": {
     "base_uri": "https://localhost:8080/",
     "height": 730
    },
    "id": "D9cqNDwrvPRJ",
    "outputId": "3580fa6c-7cac-4c0b-9bee-07e0ba43d001"
   },
   "outputs": [
    {
     "name": "stdout",
     "output_type": "stream",
     "text": [
      "Métriques\n",
      "---------\n"
     ]
    },
    {
     "data": {
      "image/png": "[encoded data removed]",
      "text/plain": [
       "<Figure size 1080x576 with 4 Axes>"
      ]
     },
     "metadata": {
      "needs_background": "light"
     },
     "output_type": "display_data"
    },
    {
     "name": "stdout",
     "output_type": "stream",
     "text": [
      "\n",
      "Matrice de confusion\n",
      "--------------------\n",
      "[[63161 17558]\n",
      " [16545 57340]]\n",
      "\n",
      "Scores\n",
      "--------------------\n",
      "Accuracy : 0.7794170914077255\n",
      "Recall : 0.7760709210259187\n",
      "AUC : 0.7792754411866545\n"
     ]
    }
   ],
   "source": [
    "plot_keras_results(hist_glo.history, k_glo, X_test_padded, y_test)"
   ]
  },
  {
   "cell_type": "code",
   "execution_count": 74,
   "metadata": {
    "colab": {
     "base_uri": "https://localhost:8080/"
    },
    "id": "aKTI4B9ivPRK",
    "outputId": "4864fd66-e7b0-4f57-b2e6-7d41d648edbf"
   },
   "outputs": [
    {
     "name": "stdout",
     "output_type": "stream",
     "text": [
      "Temps total d'exécution : 439.44 secondes\n"
     ]
    }
   ],
   "source": [
    "print(f\"Temps total d'exécution : {np.round(tps2 - tps1, 2)} secondes\")"
   ]
  },
  {
   "cell_type": "markdown",
   "metadata": {},
   "source": [
    "*[(Retour sommaire)](#ch0)*"
   ]
  },
  {
   "cell_type": "markdown",
   "metadata": {
    "id": "mju_IBX2Q3Vm"
   },
   "source": [
    "## <div id=\"ch3_7\" style=\"color:orange\">3.7 Keras : LSTM & Word Embedding pré-entraîné (FastText)</div>"
   ]
  },
  {
   "cell_type": "code",
   "execution_count": 75,
   "metadata": {
    "id": "wgO8rKL38zoR"
   },
   "outputs": [],
   "source": [
    "from gensim.test.utils import datapath\n",
    "from gensim.models import fasttext"
   ]
  },
  {
   "cell_type": "code",
   "execution_count": 76,
   "metadata": {
    "id": "gWSFdlp6svNL"
   },
   "outputs": [],
   "source": [
    "import gensim"
   ]
  },
  {
   "cell_type": "code",
   "execution_count": 77,
   "metadata": {
    "id": "ir3YPD5J11cg"
   },
   "outputs": [],
   "source": [
    "import codecs\n",
    "from tqdm import tqdm"
   ]
  },
  {
   "cell_type": "code",
   "execution_count": 78,
   "metadata": {
    "id": "Fz31tskG4oO2"
   },
   "outputs": [],
   "source": [
    "FASTTEXT_DIMS = 300"
   ]
  },
  {
   "cell_type": "code",
   "execution_count": 80,
   "metadata": {
    "colab": {
     "base_uri": "https://localhost:8080/"
    },
    "id": "TrlOwItM0_hw",
    "outputId": "b22b35c8-2fc5-4990-9b95-677e00238a5a"
   },
   "outputs": [
    {
     "name": "stderr",
     "output_type": "stream",
     "text": [
      "999995it [01:12, 13866.15it/s]"
     ]
    },
    {
     "name": "stdout",
     "output_type": "stream",
     "text": [
      "found 999995 word vectors\n"
     ]
    },
    {
     "name": "stderr",
     "output_type": "stream",
     "text": [
      "\n"
     ]
    }
   ],
   "source": [
    "# Source: https://www.kaggle.com/code/vsmolyakov/keras-cnn-with-fasttext-embeddings/notebook\n",
    "embeddings_index = {}\n",
    "f = codecs.open('/content/gdrive/MyDrive/Colab Notebooks/data/fasttext/wiki-news-300d-1M.vec', encoding='utf-8')\n",
    "for line in tqdm(f):\n",
    "    values = line.rstrip().rsplit(' ')\n",
    "    word = values[0]\n",
    "    coefs = np.asarray(values[1:], dtype='float32')\n",
    "    embeddings_index[word] = coefs\n",
    "f.close()\n",
    "print('found %s word vectors' % len(embeddings_index))"
   ]
  },
  {
   "cell_type": "code",
   "execution_count": 81,
   "metadata": {
    "id": "oIQOe2wV0_hw"
   },
   "outputs": [],
   "source": [
    "embedding_matrix = np.zeros((TOP_WORDS, FASTTEXT_DIMS))\n",
    "for word, i in TOKENS.items():\n",
    "    if i >= TOP_WORDS:\n",
    "        continue\n",
    "    embedding_vector = embeddings_index.get(word)\n",
    "    if (embedding_vector is not None) and len(embedding_vector) > 0:\n",
    "        # words not found in embedding index will be all-zeros.\n",
    "        embedding_matrix[i] = embedding_vector"
   ]
  },
  {
   "cell_type": "code",
   "execution_count": 82,
   "metadata": {
    "colab": {
     "base_uri": "https://localhost:8080/"
    },
    "id": "O6akqWFx5Is3",
    "outputId": "4c95ce0f-2147-469d-e293-648e17562e95"
   },
   "outputs": [
    {
     "data": {
      "text/plain": [
       "(40000, 300)"
      ]
     },
     "execution_count": 82,
     "metadata": {},
     "output_type": "execute_result"
    }
   ],
   "source": [
    "embedding_matrix.shape"
   ]
  },
  {
   "cell_type": "code",
   "execution_count": 83,
   "metadata": {
    "id": "zJt5LV4Y0_hw"
   },
   "outputs": [],
   "source": [
    "seed(11)"
   ]
  },
  {
   "cell_type": "code",
   "execution_count": 84,
   "metadata": {
    "id": "AOTP7n7G0_hw"
   },
   "outputs": [],
   "source": [
    "k_fast = Sequential()\n",
    "k_fast.add(Embedding(TOP_WORDS, FASTTEXT_DIMS, weights=[embedding_matrix], input_length=MAX_LEN, trainable=False))\n",
    "k_fast.add(LSTM(FASTTEXT_DIMS))\n",
    "k_fast.add(Dense(1, activation='sigmoid'))\n",
    "k_fast.compile(loss='binary_crossentropy', optimizer='adam', metrics=['accuracy', rec, tn])"
   ]
  },
  {
   "cell_type": "code",
   "execution_count": 85,
   "metadata": {
    "colab": {
     "base_uri": "https://localhost:8080/"
    },
    "id": "f6-U7aOz0_hw",
    "outputId": "6e529519-f1f8-43d0-d2d5-05e9cce84381"
   },
   "outputs": [
    {
     "name": "stdout",
     "output_type": "stream",
     "text": [
      "Model: \"sequential_6\"\n",
      "_________________________________________________________________\n",
      " Layer (type)                Output Shape              Param #   \n",
      "=================================================================\n",
      " embedding_6 (Embedding)     (None, 50, 300)           12000000  \n",
      "                                                                 \n",
      " lstm_3 (LSTM)               (None, 300)               721200    \n",
      "                                                                 \n",
      " dense_8 (Dense)             (None, 1)                 301       \n",
      "                                                                 \n",
      "=================================================================\n",
      "Total params: 12,721,501\n",
      "Trainable params: 721,501\n",
      "Non-trainable params: 12,000,000\n",
      "_________________________________________________________________\n"
     ]
    }
   ],
   "source": [
    "k_fast.summary()"
   ]
  },
  {
   "cell_type": "code",
   "execution_count": 86,
   "metadata": {
    "colab": {
     "base_uri": "https://localhost:8080/"
    },
    "id": "xBgq0x660_hx",
    "outputId": "7f17c9e5-e26d-4d4a-8519-644531f9f44f"
   },
   "outputs": [
    {
     "name": "stdout",
     "output_type": "stream",
     "text": [
      "Epoch 1/5\n",
      "10625/10625 [==============================] - 125s 12ms/step - loss: 0.4871 - accuracy: 0.7650 - recall: 0.7722 - true_negatives: 578682.0000 - val_loss: 0.4726 - val_accuracy: 0.7736 - val_recall: 0.7502 - val_true_negatives: 64166.0000\n",
      "Epoch 2/5\n",
      "10625/10625 [==============================] - 123s 12ms/step - loss: 0.4521 - accuracy: 0.7863 - recall: 0.7935 - true_negatives: 529762.0000 - val_loss: 0.4601 - val_accuracy: 0.7821 - val_recall: 0.7477 - val_true_negatives: 65675.0000\n",
      "Epoch 3/5\n",
      "10625/10625 [==============================] - 124s 12ms/step - loss: 0.4354 - accuracy: 0.7965 - recall: 0.8029 - true_negatives: 537285.0000 - val_loss: 0.4546 - val_accuracy: 0.7866 - val_recall: 0.7620 - val_true_negatives: 65318.0000\n",
      "Epoch 4/5\n",
      "10625/10625 [==============================] - 125s 12ms/step - loss: 0.4278 - accuracy: 0.8008 - recall: 0.8078 - true_negatives: 539713.0000 - val_loss: 0.4498 - val_accuracy: 0.7880 - val_recall: 0.7894 - val_true_negatives: 63506.0000\n",
      "Epoch 5/5\n",
      "10625/10625 [==============================] - 123s 12ms/step - loss: 0.4104 - accuracy: 0.8108 - recall: 0.8167 - true_negatives: 547297.0000 - val_loss: 0.4473 - val_accuracy: 0.7894 - val_recall: 0.7705 - val_true_negatives: 65116.0000\n"
     ]
    }
   ],
   "source": [
    "tps1 = time.time()\n",
    "hist_fast = k_fast.fit(\n",
    "    X_train_padded, y_train, validation_data=(X_test_padded, y_test), epochs=5, batch_size=128,\n",
    "    callbacks=[tf.keras.callbacks.EarlyStopping(monitor='val_accuracy', patience=2),\n",
    "               tf.keras.callbacks.ModelCheckpoint(\n",
    "                   filepath='/content/gdrive/MyDrive/Colab Notebooks/data_colab/k_fast.h5',\n",
    "                   monitor='val_recall', mode='max', save_best_only=True)])\n",
    "tps2 = time.time()"
   ]
  },
  {
   "cell_type": "code",
   "execution_count": 87,
   "metadata": {
    "colab": {
     "base_uri": "https://localhost:8080/",
     "height": 730
    },
    "id": "gG1LOXIC0_hx",
    "outputId": "d2932386-3a0d-4aae-83dd-0b00f4f9c451"
   },
   "outputs": [
    {
     "name": "stdout",
     "output_type": "stream",
     "text": [
      "Métriques\n",
      "---------\n"
     ]
    },
    {
     "data": {
      "image/png": "[encoded data removed]",
      "text/plain": [
       "<Figure size 1080x576 with 4 Axes>"
      ]
     },
     "metadata": {
      "needs_background": "light"
     },
     "output_type": "display_data"
    },
    {
     "name": "stdout",
     "output_type": "stream",
     "text": [
      "\n",
      "Matrice de confusion\n",
      "--------------------\n",
      "[[65116 15603]\n",
      " [16954 56931]]\n",
      "\n",
      "Scores\n",
      "--------------------\n",
      "Accuracy : 0.7894168326822074\n",
      "Recall : 0.7705352913311226\n",
      "AUC : 0.7886175385036787\n"
     ]
    }
   ],
   "source": [
    "plot_keras_results(hist_fast.history, k_fast, X_test_padded, y_test)"
   ]
  },
  {
   "cell_type": "code",
   "execution_count": 88,
   "metadata": {
    "colab": {
     "base_uri": "https://localhost:8080/"
    },
    "id": "19lfUrKR0_hx",
    "outputId": "ff1abd9f-84f3-4415-9a05-26daf51d238e"
   },
   "outputs": [
    {
     "name": "stdout",
     "output_type": "stream",
     "text": [
      "Temps total d'exécution : 623.33 secondes\n"
     ]
    }
   ],
   "source": [
    "print(f\"Temps total d'exécution : {np.round(tps2 - tps1, 2)} secondes\")"
   ]
  },
  {
   "cell_type": "markdown",
   "metadata": {},
   "source": [
    "*[(Retour sommaire)](#ch0)*"
   ]
  },
  {
   "cell_type": "markdown",
   "metadata": {
    "id": "mju_IBX2Q3Vm"
   },
   "source": [
    "## <div id=\"ch3_8\" style=\"color:orange\">3.8 Keras : LSTM & Word Embedding pré-entraîné (GloVe) - sans normalisation</div>"
   ]
  },
  {
   "cell_type": "code",
   "execution_count": 12,
   "metadata": {
    "id": "qCW6yaGV-Fu1"
   },
   "outputs": [],
   "source": [
    "def light_cleaning(s):\n",
    "    s = re.sub('\\@\\w+', '', s) # Enlèvement des références à d'autres utilisateurs\n",
    "    s = re.sub('http(s)?[:\\/\\.\\w-]+', '', s) # Enlèvement des URL\n",
    "    return s"
   ]
  },
  {
   "cell_type": "code",
   "execution_count": 13,
   "metadata": {
    "id": "p9B9eIJG-r-p"
   },
   "outputs": [],
   "source": [
    "tw_en['light_cleaned'] = tw_en['tw_text'].apply(light_cleaning)"
   ]
  },
  {
   "cell_type": "code",
   "execution_count": 14,
   "metadata": {
    "id": "aktuB8QV-3JP"
   },
   "outputs": [],
   "source": [
    "tw_en = tw_en[tw_en['light_cleaned'].str.len() > 1]"
   ]
  },
  {
   "cell_type": "code",
   "execution_count": 39,
   "metadata": {
    "colab": {
     "base_uri": "https://localhost:8080/"
    },
    "id": "amB3zy-T_CQg",
    "outputId": "b1f4b406-39d9-4de1-9c11-47d0bea185b3"
   },
   "outputs": [
    {
     "name": "stdout",
     "output_type": "stream",
     "text": [
      "Taille du jeu de données des séquences nettoyées > 1 : 1519207\n"
     ]
    }
   ],
   "source": [
    "print(f\"Taille du jeu de données des séquences nettoyées > 1 : {tw_en.shape[0]}\")"
   ]
  },
  {
   "cell_type": "code",
   "execution_count": 40,
   "metadata": {
    "colab": {
     "base_uri": "https://localhost:8080/"
    },
    "id": "NFleAo6D_dYg",
    "outputId": "11afc423-c71d-4f86-cd77-baacdbf7b0ac"
   },
   "outputs": [
    {
     "name": "stdout",
     "output_type": "stream",
     "text": [
      "Nombre de lignes par classe : POS = 756318 lignes :: NEG = 762889 lignes\n",
      "Différence : 6571 lignes en plus pour la classe NEG\n"
     ]
    }
   ],
   "source": [
    "nb_pos = tw_en[tw_en['tw_y'] == 1].shape[0]\n",
    "nb_neg = tw_en[tw_en['tw_y'] == 0].shape[0]\n",
    "print(f\"Nombre de lignes par classe : POS = {nb_pos} lignes :: NEG = {nb_neg} lignes\")\n",
    "print(f\"Différence : {np.abs(nb_pos - nb_neg)} lignes en plus pour la classe {'POS' if nb_pos > nb_neg else 'NEG'}\")"
   ]
  },
  {
   "cell_type": "code",
   "execution_count": 16,
   "metadata": {
    "id": "5lxNmvkG_oRA"
   },
   "outputs": [],
   "source": [
    "tw_pos = tw_en.loc[tw_en['tw_y'] == 1, ['light_cleaned', 'tw_y']]\n",
    "tw_neg = tw_en.loc[tw_en['tw_y'] == 0, ['light_cleaned', 'tw_y']]\n",
    "tw_pos_train = tw_pos.head(680000)\n",
    "tw_pos_test = tw_pos.tail(tw_pos.shape[0] - 680000)\n",
    "tw_neg_train = tw_neg.head(680000)\n",
    "tw_neg_test = tw_neg.tail(tw_neg.shape[0] - (680000))\n",
    "X_train = np.concatenate((tw_pos_train['light_cleaned'], tw_neg_train['light_cleaned']))\n",
    "X_test = np.concatenate((tw_pos_test['light_cleaned'], tw_neg_test['light_cleaned']))\n",
    "y_train = np.concatenate((tw_pos_train['tw_y'], tw_neg_train['tw_y']))\n",
    "y_test = np.concatenate((tw_pos_test['tw_y'], tw_neg_test['tw_y']))"
   ]
  },
  {
   "cell_type": "code",
   "execution_count": 42,
   "metadata": {
    "colab": {
     "base_uri": "https://localhost:8080/"
    },
    "id": "LFVzJ5O3_oRB",
    "outputId": "8b6c7605-1718-4502-bcd5-4e43ec0af927"
   },
   "outputs": [
    {
     "name": "stdout",
     "output_type": "stream",
     "text": [
      "Taille du jeu d'entraînement : X=(1360000,) y=(1360000,)\n",
      "Taille du jeu de test : X=(159207,) y=(159207,)\n"
     ]
    }
   ],
   "source": [
    "print(f\"Taille du jeu d'entraînement : X={np.shape(X_train)} y={np.shape(y_train)}\")\n",
    "print(f\"Taille du jeu de test : X={np.shape(X_test)} y={np.shape(y_test)}\")"
   ]
  },
  {
   "cell_type": "code",
   "execution_count": 17,
   "metadata": {
    "id": "WeHwXySfBNr2"
   },
   "outputs": [],
   "source": [
    "def lc_length(s):\n",
    "  return len(s.split())"
   ]
  },
  {
   "cell_type": "code",
   "execution_count": 18,
   "metadata": {
    "id": "yNCaomymBZ7w"
   },
   "outputs": [],
   "source": [
    "tw_en['lc_lng'] = tw_en['light_cleaned'].apply(lc_length)"
   ]
  },
  {
   "cell_type": "code",
   "execution_count": 44,
   "metadata": {
    "colab": {
     "base_uri": "https://localhost:8080/"
    },
    "id": "qIqxkeIoCabs",
    "outputId": "179691cd-fdce-4b42-98e6-305c902e58a9"
   },
   "outputs": [
    {
     "data": {
      "text/plain": [
       "64"
      ]
     },
     "execution_count": 44,
     "metadata": {},
     "output_type": "execute_result"
    }
   ],
   "source": [
    "tw_en['lc_lng'].max()"
   ]
  },
  {
   "cell_type": "code",
   "execution_count": 19,
   "metadata": {
    "id": "2eLo2QPqCJl1"
   },
   "outputs": [],
   "source": [
    "MAX_LEN = tw_en['lc_lng'].max()  #Taille maximale des tweets du dataset\n",
    "TOP_WORDS = 40000  #Taille du vocabulaire trouvée au chapitre précédent"
   ]
  },
  {
   "cell_type": "code",
   "execution_count": 47,
   "metadata": {
    "id": "C2facZRHCJl2"
   },
   "outputs": [],
   "source": [
    "tokenizer = Tokenizer(num_words=TOP_WORDS)\n",
    "tokenizer.fit_on_texts(X_train)"
   ]
  },
  {
   "cell_type": "code",
   "execution_count": 59,
   "metadata": {
    "id": "RgN7Y57dCJl3"
   },
   "outputs": [],
   "source": [
    "def get_sequences(tokenizer, tweets):\n",
    "    sequences = tokenizer.texts_to_sequences(tweets)\n",
    "    padded = pad_sequences(sequences, truncating='post', padding='post', maxlen=MAX_LEN)\n",
    "    return padded"
   ]
  },
  {
   "cell_type": "code",
   "execution_count": 60,
   "metadata": {
    "id": "2AM0-0kLCJl3"
   },
   "outputs": [],
   "source": [
    "X_train_padded = get_sequences(tokenizer, X_train)\n",
    "X_test_padded = get_sequences(tokenizer, X_test)"
   ]
  },
  {
   "cell_type": "code",
   "execution_count": 50,
   "metadata": {
    "id": "EgQkm1j1Eair"
   },
   "outputs": [],
   "source": [
    "TOKENS = tokenizer.word_index"
   ]
  },
  {
   "cell_type": "code",
   "execution_count": 51,
   "metadata": {
    "id": "tN_raGiIEais"
   },
   "outputs": [],
   "source": [
    "GLOVE_INDEX = read_glove_vectors(GLOVE_PATH, GLOVE_VECTOR_LENGHT)"
   ]
  },
  {
   "cell_type": "code",
   "execution_count": 52,
   "metadata": {
    "id": "ruO8dZAkEais"
   },
   "outputs": [],
   "source": [
    "embeddings_index = np.zeros((TOP_WORDS, GLOVE_VECTOR_LENGHT))\n",
    "for word, idx in TOKENS.items():\n",
    "    try:\n",
    "        embedding = GLOVE_INDEX[word]\n",
    "        embeddings_index[idx] = embedding\n",
    "    except:\n",
    "        pass"
   ]
  },
  {
   "cell_type": "code",
   "execution_count": 53,
   "metadata": {
    "id": "DlNrkexgEait"
   },
   "outputs": [],
   "source": [
    "seed(11)"
   ]
  },
  {
   "cell_type": "code",
   "execution_count": 57,
   "metadata": {
    "id": "HR00uqoJEait"
   },
   "outputs": [],
   "source": [
    "k_glo_raw = Sequential()\n",
    "k_glo_raw.add(Embedding(TOP_WORDS, GLOVE_VECTOR_LENGHT, weights=[embeddings_index], input_length=MAX_LEN, trainable=False))\n",
    "k_glo_raw.add(Bidirectional(GRU(GLOVE_VECTOR_LENGHT)))\n",
    "k_glo_raw.add(Dense(1, activation='sigmoid'))\n",
    "k_glo_raw.compile(loss='binary_crossentropy', optimizer='adam', metrics=['accuracy', rec, tn])"
   ]
  },
  {
   "cell_type": "code",
   "execution_count": 58,
   "metadata": {
    "colab": {
     "base_uri": "https://localhost:8080/"
    },
    "id": "SUnXzkroEait",
    "outputId": "6049a564-bbad-4d37-b9d3-33df92595030"
   },
   "outputs": [
    {
     "name": "stdout",
     "output_type": "stream",
     "text": [
      "Model: \"sequential_1\"\n",
      "_________________________________________________________________\n",
      " Layer (type)                Output Shape              Param #   \n",
      "=================================================================\n",
      " embedding_1 (Embedding)     (None, 64, 200)           8000000   \n",
      "                                                                 \n",
      " bidirectional_1 (Bidirectio  (None, 400)              482400    \n",
      " nal)                                                            \n",
      "                                                                 \n",
      " dense_1 (Dense)             (None, 1)                 401       \n",
      "                                                                 \n",
      "=================================================================\n",
      "Total params: 8,482,801\n",
      "Trainable params: 482,801\n",
      "Non-trainable params: 8,000,000\n",
      "_________________________________________________________________\n"
     ]
    }
   ],
   "source": [
    "k_glo_raw.summary()"
   ]
  },
  {
   "cell_type": "code",
   "execution_count": 61,
   "metadata": {
    "colab": {
     "base_uri": "https://localhost:8080/"
    },
    "id": "wpoJsZj7Eaiu",
    "outputId": "fe5b440f-22f6-4c99-d373-f166c3e942d1"
   },
   "outputs": [
    {
     "name": "stdout",
     "output_type": "stream",
     "text": [
      "Epoch 1/5\n",
      "10625/10625 [==============================] - 206s 19ms/step - loss: 0.4359 - accuracy: 0.7958 - recall: 0.7901 - true_negatives: 545009.0000 - val_loss: 0.4169 - val_accuracy: 0.8068 - val_recall: 0.7771 - val_true_negatives: 69147.0000\n",
      "Epoch 2/5\n",
      "10625/10625 [==============================] - 196s 18ms/step - loss: 0.3916 - accuracy: 0.8226 - recall: 0.8189 - true_negatives: 561873.0000 - val_loss: 0.4046 - val_accuracy: 0.8143 - val_recall: 0.8007 - val_true_negatives: 68527.0000\n",
      "Epoch 3/5\n",
      "10625/10625 [==============================] - 195s 18ms/step - loss: 0.3737 - accuracy: 0.8320 - recall: 0.8285 - true_negatives: 568053.0000 - val_loss: 0.4043 - val_accuracy: 0.8153 - val_recall: 0.7936 - val_true_negatives: 69230.0000\n",
      "Epoch 4/5\n",
      "10625/10625 [==============================] - 196s 18ms/step - loss: 0.3608 - accuracy: 0.8388 - recall: 0.8358 - true_negatives: 572467.0000 - val_loss: 0.4056 - val_accuracy: 0.8159 - val_recall: 0.8120 - val_true_negatives: 67922.0000\n",
      "Epoch 5/5\n",
      "10625/10625 [==============================] - 195s 18ms/step - loss: 0.3498 - accuracy: 0.8445 - recall: 0.8415 - true_negatives: 576323.0000 - val_loss: 0.4098 - val_accuracy: 0.8149 - val_recall: 0.7970 - val_true_negatives: 68914.0000\n"
     ]
    }
   ],
   "source": [
    "tps1 = time.time()\n",
    "hist_glo_raw = k_glo_raw.fit(\n",
    "    X_train_padded, y_train, validation_data=(X_test_padded, y_test), epochs=5, batch_size=128,\n",
    "    callbacks=[tf.keras.callbacks.EarlyStopping(monitor='val_accuracy', patience=2),\n",
    "               tf.keras.callbacks.ModelCheckpoint(\n",
    "                   filepath='/content/gdrive/MyDrive/Colab Notebooks/data_colab/k_glo_raw.h5',\n",
    "                   monitor='val_recall', mode='max', save_best_only=True)])\n",
    "tps2 = time.time()"
   ]
  },
  {
   "cell_type": "code",
   "execution_count": 62,
   "metadata": {
    "colab": {
     "base_uri": "https://localhost:8080/",
     "height": 713
    },
    "id": "TzXmkIj4Eaiv",
    "outputId": "e4167e50-5eb0-44e7-b6ea-45aacd1509b1"
   },
   "outputs": [
    {
     "name": "stdout",
     "output_type": "stream",
     "text": [
      "Métriques\n",
      "---------\n"
     ]
    },
    {
     "data": {
      "image/png": "[encoded data removed]",
      "text/plain": [
       "<Figure size 1080x576 with 4 Axes>"
      ]
     },
     "metadata": {
      "needs_background": "light"
     },
     "output_type": "display_data"
    },
    {
     "name": "stdout",
     "output_type": "stream",
     "text": [
      "\n",
      "Matrice de confusion\n",
      "--------------------\n",
      "[[68914 13975]\n",
      " [15489 60829]]\n",
      "\n",
      "Scores\n",
      "--------------------\n",
      "Accuracy : 0.8149327604941994\n",
      "Recall : 0.7970465683062974\n"
     ]
    }
   ],
   "source": [
    "plot_keras_results(hist_glo_raw.history, k_glo_raw, X_test_padded, y_test)"
   ]
  },
  {
   "cell_type": "code",
   "execution_count": 63,
   "metadata": {
    "colab": {
     "base_uri": "https://localhost:8080/"
    },
    "id": "5R1iMdwzEaiv",
    "outputId": "d4169203-8ab8-45e8-947a-4892cbd1e967"
   },
   "outputs": [
    {
     "name": "stdout",
     "output_type": "stream",
     "text": [
      "Temps total d'exécution : 1045.32 secondes\n"
     ]
    }
   ],
   "source": [
    "print(f\"Temps total d'exécution : {np.round(tps2 - tps1, 2)} secondes\")"
   ]
  },
  {
   "cell_type": "code",
   "execution_count": 66,
   "metadata": {
    "colab": {
     "base_uri": "https://localhost:8080/"
    },
    "id": "FUUBJhw7Lz02",
    "outputId": "065a9a94-befc-4a9d-bb72-ddb938e4d232"
   },
   "outputs": [
    {
     "name": "stdout",
     "output_type": "stream",
     "text": [
      "AUC : 0.896328291556162\n"
     ]
    }
   ],
   "source": [
    "print(f'AUC : {roc_auc_score(y_test, k_glo_raw.predict(X_test_padded))}')"
   ]
  },
  {
   "cell_type": "markdown",
   "metadata": {},
   "source": [
    "*[(Retour sommaire)](#ch0)*"
   ]
  },
  {
   "cell_type": "markdown",
   "metadata": {
    "id": "mju_IBX2Q3Vm"
   },
   "source": [
    "# <div id=\"ch4\" style=\"color:blue\">4 Transformers BERT</div>"
   ]
  },
  {
   "cell_type": "markdown",
   "metadata": {
    "id": "mju_IBX2Q3Vm"
   },
   "source": [
    "## <div id=\"ch4_1\" style=\"color:orange\">4.1 BERT : DistilBERT</div>"
   ]
  },
  {
   "cell_type": "code",
   "execution_count": 15,
   "metadata": {
    "colab": {
     "base_uri": "https://localhost:8080/"
    },
    "id": "9CE-t_2O6o0f",
    "outputId": "62816e04-7fd8-421b-fb28-6003e5df86ef"
   },
   "outputs": [
    {
     "name": "stdout",
     "output_type": "stream",
     "text": [
      "Looking in indexes: https://pypi.org/simple, https://us-python.pkg.dev/colab-wheels/public/simple/\n",
      "Requirement already satisfied: torch in /usr/local/lib/python3.7/dist-packages (1.12.0+cu113)\n",
      "Requirement already satisfied: typing-extensions in /usr/local/lib/python3.7/dist-packages (from torch) (4.1.1)\n"
     ]
    }
   ],
   "source": [
    "%pip install torch"
   ]
  },
  {
   "cell_type": "code",
   "execution_count": 16,
   "metadata": {
    "id": "wKfqni_p63Ft"
   },
   "outputs": [],
   "source": [
    "import torch\n",
    "from torch.utils.data import Dataset\n",
    "from transformers import DistilBertTokenizerFast\n",
    "from transformers import DistilBertForSequenceClassification\n",
    "from transformers import Trainer\n",
    "from transformers import TrainingArguments"
   ]
  },
  {
   "cell_type": "code",
   "execution_count": 17,
   "metadata": {
    "id": "-medSeH2933n"
   },
   "outputs": [],
   "source": [
    "model_name = \"distilbert-base-uncased\""
   ]
  },
  {
   "cell_type": "code",
   "execution_count": 18,
   "metadata": {
    "id": "bs-3uplWvUrS"
   },
   "outputs": [],
   "source": [
    "# Source : https://www.youtube.com/watch?v=GSt00_-0ncQ\n",
    "class BertDataset(Dataset):\n",
    "  def __init__(self, encodings, labels):\n",
    "    self.encodings = encodings\n",
    "    self.labels = labels\n",
    "\n",
    "  def __getitem__(self, idx):\n",
    "    item = {key: torch.tensor(val[idx]) for key, val in self.encodings.items()}\n",
    "    item['labels'] = torch.tensor(self.labels[idx])\n",
    "    return item\n",
    "\n",
    "  def __len__(self):\n",
    "    return len(self.labels)"
   ]
  },
  {
   "cell_type": "code",
   "execution_count": 19,
   "metadata": {
    "id": "RHZAJVDc933o"
   },
   "outputs": [],
   "source": [
    "b_dist_tok = DistilBertTokenizerFast.from_pretrained(model_name)"
   ]
  },
  {
   "cell_type": "code",
   "execution_count": 20,
   "metadata": {
    "id": "Dj_I9hpnQLas"
   },
   "outputs": [],
   "source": [
    "tw_pos = tw_en.loc[tw_en['tw_y'] == 1, ['light_cleaned', 'tw_y']]\n",
    "tw_neg = tw_en.loc[tw_en['tw_y'] == 0, ['light_cleaned', 'tw_y']]\n",
    "tw_pos_train = tw_pos.head(300000)\n",
    "tw_pos_test = tw_pos.tail(50000)\n",
    "tw_neg_train = tw_neg.head(300000)\n",
    "tw_neg_test = tw_neg.tail(50000)\n",
    "X_train = np.concatenate((tw_pos_train['light_cleaned'], tw_neg_train['light_cleaned']))\n",
    "X_test = np.concatenate((tw_pos_test['light_cleaned'], tw_neg_test['light_cleaned']))\n",
    "y_train = np.concatenate((tw_pos_train['tw_y'], tw_neg_train['tw_y']))\n",
    "y_test = np.concatenate((tw_pos_test['tw_y'], tw_neg_test['tw_y']))"
   ]
  },
  {
   "cell_type": "code",
   "execution_count": 21,
   "metadata": {
    "colab": {
     "base_uri": "https://localhost:8080/"
    },
    "id": "tO4PgFQ2QLat",
    "outputId": "6e2797ad-4063-49ab-90bb-e827531dd7ab"
   },
   "outputs": [
    {
     "name": "stdout",
     "output_type": "stream",
     "text": [
      "Taille du jeu d'entraînement : X=(600000,) y=(600000,)\n",
      "Taille du jeu de test : X=(100000,) y=(100000,)\n"
     ]
    }
   ],
   "source": [
    "print(f\"Taille du jeu d'entraînement : X={np.shape(X_train)} y={np.shape(y_train)}\")\n",
    "print(f\"Taille du jeu de test : X={np.shape(X_test)} y={np.shape(y_test)}\")"
   ]
  },
  {
   "cell_type": "code",
   "execution_count": 22,
   "metadata": {
    "id": "wr30wa3sQLau"
   },
   "outputs": [],
   "source": [
    "def lc_length(s):\n",
    "  return len(s.split())"
   ]
  },
  {
   "cell_type": "code",
   "execution_count": 23,
   "metadata": {
    "id": "2SLs_IRxQLau"
   },
   "outputs": [],
   "source": [
    "tw_en['lc_lng'] = tw_en['light_cleaned'].apply(lc_length)"
   ]
  },
  {
   "cell_type": "code",
   "execution_count": 24,
   "metadata": {
    "colab": {
     "base_uri": "https://localhost:8080/"
    },
    "id": "TNazc38GQLau",
    "outputId": "348a77d4-1a4c-400c-a51f-b64bd3171597"
   },
   "outputs": [
    {
     "data": {
      "text/plain": [
       "64"
      ]
     },
     "execution_count": 24,
     "metadata": {},
     "output_type": "execute_result"
    }
   ],
   "source": [
    "tw_en['lc_lng'].max()"
   ]
  },
  {
   "cell_type": "code",
   "execution_count": 25,
   "metadata": {
    "id": "f71mURT_QLau"
   },
   "outputs": [],
   "source": [
    "MAX_LEN = tw_en['lc_lng'].max()  #Taille maximale des tweets du dataset\n",
    "TOP_WORDS = 40000  #Taille du vocabulaire trouvée au chapitre précédent"
   ]
  },
  {
   "cell_type": "code",
   "execution_count": 26,
   "metadata": {
    "id": "r0wCUnyH8GcR"
   },
   "outputs": [],
   "source": [
    "X_train_padded = b_dist_tok(list(np.array(X_train)), padding=True, truncation=True)\n",
    "X_test_padded = b_dist_tok(list(np.array(X_test)), padding=True, truncation=True)"
   ]
  },
  {
   "cell_type": "code",
   "execution_count": 27,
   "metadata": {
    "id": "IzHcdiTa8WJn"
   },
   "outputs": [],
   "source": [
    "X_train_ds = BertDataset(X_train_padded, y_train)\n",
    "X_test_ds = BertDataset(X_test_padded, y_test)"
   ]
  },
  {
   "cell_type": "code",
   "execution_count": 29,
   "metadata": {
    "id": "7c9f7DRj9V9a"
   },
   "outputs": [],
   "source": [
    "training_args = TrainingArguments(\n",
    "    seed=11,\n",
    "    output_dir='/content/bert',\n",
    "    save_total_limit=1,\n",
    "    per_device_train_batch_size=16,\n",
    "    per_device_eval_batch_size=16,\n",
    "    warmup_steps=500,\n",
    "    weight_decay=0.01,\n",
    "    load_best_model_at_end=True,\n",
    "    evaluation_strategy='epoch',\n",
    "    save_strategy='epoch'\n",
    ")"
   ]
  },
  {
   "cell_type": "code",
   "execution_count": 30,
   "metadata": {
    "colab": {
     "base_uri": "https://localhost:8080/",
     "height": 156,
     "referenced_widgets": [
      "6595de7d1de44db18d31e68e294b2024",
      "e15a26d27cbe4ac6b8dd125a45479c23",
      "41b7255d32104d159a4828a7c7b4d55b",
      "18fa0acf7d4f4baf875c342993d09163",
      "0424e6a7fca140ce8aa79c075ce352ea",
      "68598ac612534240bcfe7a692915c933",
      "69ce441f95a540ef8c1b7d69bec3eb96",
      "5add33bfbf444e33990459c217b42e6f",
      "798c621214f547b6ab94b7046b6826dc",
      "116946e0ba614fa8bbcff00f0233df6c",
      "d1e3e1fa762f4bfa9caaca4b4d354dec"
     ]
    },
    "id": "uQmCcc6DyCbS",
    "outputId": "1eec9329-416c-4931-c540-ecbc4b16087e"
   },
   "outputs": [
    {
     "data": {
      "application/vnd.jupyter.widget-view+json": {
       "model_id": "6595de7d1de44db18d31e68e294b2024",
       "version_major": 2,
       "version_minor": 0
      },
      "text/plain": [
       "Downloading:   0%|          | 0.00/256M [00:00<?, ?B/s]"
      ]
     },
     "metadata": {},
     "output_type": "display_data"
    },
    {
     "name": "stderr",
     "output_type": "stream",
     "text": [
      "Some weights of the model checkpoint at distilbert-base-uncased were not used when initializing DistilBertForSequenceClassification: ['vocab_transform.weight', 'vocab_transform.bias', 'vocab_projector.weight', 'vocab_projector.bias', 'vocab_layer_norm.weight', 'vocab_layer_norm.bias']\n",
      "- This IS expected if you are initializing DistilBertForSequenceClassification from the checkpoint of a model trained on another task or with another architecture (e.g. initializing a BertForSequenceClassification model from a BertForPreTraining model).\n",
      "- This IS NOT expected if you are initializing DistilBertForSequenceClassification from the checkpoint of a model that you expect to be exactly identical (initializing a BertForSequenceClassification model from a BertForSequenceClassification model).\n",
      "Some weights of DistilBertForSequenceClassification were not initialized from the model checkpoint at distilbert-base-uncased and are newly initialized: ['classifier.bias', 'classifier.weight', 'pre_classifier.bias', 'pre_classifier.weight']\n",
      "You should probably TRAIN this model on a down-stream task to be able to use it for predictions and inference.\n"
     ]
    }
   ],
   "source": [
    "b_dist = DistilBertForSequenceClassification.from_pretrained(model_name)"
   ]
  },
  {
   "cell_type": "code",
   "execution_count": 31,
   "metadata": {
    "id": "S3hAWxedwJ8Q"
   },
   "outputs": [],
   "source": [
    "trainer = Trainer(\n",
    "    model=b_dist,\n",
    "    args=training_args,\n",
    "    train_dataset=X_train_ds,\n",
    "    eval_dataset=X_test_ds\n",
    ")"
   ]
  },
  {
   "cell_type": "code",
   "execution_count": 32,
   "metadata": {
    "colab": {
     "base_uri": "https://localhost:8080/",
     "height": 832
    },
    "id": "whiW8UAXwrQH",
    "outputId": "0134fb67-01c6-4fef-c5bd-0352562cdaf5"
   },
   "outputs": [
    {
     "name": "stderr",
     "output_type": "stream",
     "text": [
      "/usr/local/lib/python3.7/dist-packages/transformers/optimization.py:310: FutureWarning: This implementation of AdamW is deprecated and will be removed in a future version. Use the PyTorch implementation torch.optim.AdamW instead, or set `no_deprecation_warning=True` to disable this warning\n",
      "  FutureWarning,\n",
      "***** Running training *****\n",
      "  Num examples = 600000\n",
      "  Num Epochs = 3\n",
      "  Instantaneous batch size per device = 16\n",
      "  Total train batch size (w. parallel, distributed & accumulation) = 16\n",
      "  Gradient Accumulation steps = 1\n",
      "  Total optimization steps = 112500\n"
     ]
    },
    {
     "data": {
      "text/html": [
       "\n",
       "    <div>\n",
       "      \n",
       "      <progress value='112500' max='112500' style='width:300px; height:20px; vertical-align: middle;'></progress>\n",
       "      [112500/112500 3:37:35, Epoch 3/3]\n",
       "    </div>\n",
       "    <table border=\"1\" class=\"dataframe\">\n",
       "  <thead>\n",
       " <tr style=\"text-align: left;\">\n",
       "      <th>Epoch</th>\n",
       "      <th>Training Loss</th>\n",
       "      <th>Validation Loss</th>\n",
       "    </tr>\n",
       "  </thead>\n",
       "  <tbody>\n",
       "    <tr>\n",
       "      <td>1</td>\n",
       "      <td>0.358400</td>\n",
       "      <td>0.364949</td>\n",
       "    </tr>\n",
       "    <tr>\n",
       "      <td>2</td>\n",
       "      <td>0.305400</td>\n",
       "      <td>0.354038</td>\n",
       "    </tr>\n",
       "    <tr>\n",
       "      <td>3</td>\n",
       "      <td>0.231900</td>\n",
       "      <td>0.442058</td>\n",
       "    </tr>\n",
       "  </tbody>\n",
       "</table><p>"
      ],
      "text/plain": [
       "<IPython.core.display.HTML object>"
      ]
     },
     "metadata": {},
     "output_type": "display_data"
    },
    {
     "name": "stderr",
     "output_type": "stream",
     "text": [
      "***** Running Evaluation *****\n",
      "  Num examples = 100000\n",
      "  Batch size = 16\n",
      "Saving model checkpoint to /content/bert/checkpoint-37500\n",
      "Configuration saved in /content/bert/checkpoint-37500/config.json\n",
      "Model weights saved in /content/bert/checkpoint-37500/pytorch_model.bin\n",
      "***** Running Evaluation *****\n",
      "  Num examples = 100000\n",
      "  Batch size = 16\n",
      "Saving model checkpoint to /content/bert/checkpoint-75000\n",
      "Configuration saved in /content/bert/checkpoint-75000/config.json\n",
      "Model weights saved in /content/bert/checkpoint-75000/pytorch_model.bin\n",
      "Deleting older checkpoint [/content/bert/checkpoint-37500] due to args.save_total_limit\n",
      "***** Running Evaluation *****\n",
      "  Num examples = 100000\n",
      "  Batch size = 16\n",
      "Saving model checkpoint to /content/bert/checkpoint-112500\n",
      "Configuration saved in /content/bert/checkpoint-112500/config.json\n",
      "Model weights saved in /content/bert/checkpoint-112500/pytorch_model.bin\n",
      "\n",
      "\n",
      "Training completed. Do not forget to share your model on huggingface.co/models =)\n",
      "\n",
      "\n",
      "Loading best model from /content/bert/checkpoint-75000 (score: 0.35403770208358765).\n"
     ]
    },
    {
     "data": {
      "text/plain": [
       "TrainOutput(global_step=112500, training_loss=0.3036887846544054, metrics={'train_runtime': 13057.7939, 'train_samples_per_second': 137.849, 'train_steps_per_second': 8.616, 'total_flos': 5.49532724112e+16, 'train_loss': 0.3036887846544054, 'epoch': 3.0})"
      ]
     },
     "execution_count": 32,
     "metadata": {},
     "output_type": "execute_result"
    }
   ],
   "source": [
    "trainer.train()"
   ]
  },
  {
   "cell_type": "code",
   "execution_count": 33,
   "metadata": {
    "id": "0iHvJcydaUDj"
   },
   "outputs": [],
   "source": [
    "from huggingface_hub import notebook_login"
   ]
  },
  {
   "cell_type": "code",
   "execution_count": 34,
   "metadata": {
    "colab": {
     "base_uri": "https://localhost:8080/",
     "height": 354,
     "referenced_widgets": [
      "b9eb070945994251a80b1f8c10c7c933",
      "acbac61c5f184939a4bdafaab8a2d91a",
      "793e2bdc817d4c60ad5787bd016ed40d",
      "c09c444aae37457faca93af8f112c584",
      "02ac3eae9b4949ddbaa7ed57ce1ed588",
      "588df2d7c5b34703aa0c6feb66a10925",
      "58dfac02299d43c8b7b1bee11a3a3dfd",
      "397c6f8b27fe4adc81b3790dd5024443",
      "8cf7f97b5168409c9fd00016448034f0",
      "7e344036067642f98ab075ef701c3d67",
      "a049283218724168843065ea2f61ef22",
      "a578933520374a6d8327bcd149ae9078",
      "594d76ea44d84752bee697eb9cf81217",
      "4e5c2658b6ae467f84b019f32cb6a3dc"
     ]
    },
    "id": "1nVOmkvMgb3D",
    "outputId": "acacbdd8-1865-45bd-ca03-6615329b9f00"
   },
   "outputs": [
    {
     "name": "stdout",
     "output_type": "stream",
     "text": [
      "Login successful\n",
      "Your token has been saved to /root/.huggingface/token\n",
      "\u001b[1m\u001b[31mAuthenticated through git-credential store but this isn't the helper defined on your machine.\n",
      "You might have to re-authenticate when pushing to the Hugging Face Hub. Run the following command in your terminal in case you want to set this credential helper as the default\n",
      "\n",
      "git config --global credential.helper store\u001b[0m\n"
     ]
    }
   ],
   "source": [
    "notebook_login()"
   ]
  },
  {
   "cell_type": "code",
   "execution_count": 35,
   "metadata": {
    "colab": {
     "base_uri": "https://localhost:8080/",
     "height": 35
    },
    "id": "vUL7h10ViocQ",
    "outputId": "bae3884c-c058-4797-d6c0-7dda8d0090a6"
   },
   "outputs": [
    {
     "data": {
      "application/vnd.google.colaboratory.intrinsic+json": {
       "type": "string"
      },
      "text/plain": [
       "'https://huggingface.co/tatsumaru/bert'"
      ]
     },
     "execution_count": 35,
     "metadata": {},
     "output_type": "execute_result"
    }
   ],
   "source": [
    "from huggingface_hub import create_repo\n",
    "create_repo(\"tatsumaru/bert\")"
   ]
  },
  {
   "cell_type": "code",
   "execution_count": 37,
   "metadata": {
    "colab": {
     "base_uri": "https://localhost:8080/"
    },
    "id": "rZxdWqj5iz5p",
    "outputId": "4f655a56-635a-4d5e-eb25-438e33814271"
   },
   "outputs": [
    {
     "name": "stderr",
     "output_type": "stream",
     "text": [
      "Cloning https://huggingface.co/tatsumaru/bert into local empty directory.\n"
     ]
    }
   ],
   "source": [
    "from huggingface_hub import Repository\n",
    "repo = Repository(local_dir=\"d_bert\", clone_from=\"https://huggingface.co/tatsumaru/bert\")"
   ]
  },
  {
   "cell_type": "code",
   "execution_count": 38,
   "metadata": {
    "colab": {
     "base_uri": "https://localhost:8080/",
     "height": 188,
     "referenced_widgets": [
      "acd80d178b6f4085bf7e03b364780203",
      "30a0f95cb0de4e3799a48dd868f1939e",
      "a146bd8536e0482aa5cf268ef33c3070",
      "a1eba17f59d54229b7c4b845de7568b7",
      "0c714ef99b304231ae281c455124d823",
      "21bb969c9dfb435d84e1c9e870422209",
      "95234729eba14f7a8c67a589864d1f96",
      "1bee90e83a614f89b6d0be09010c4aef",
      "a84163c2e2014ebd8cb49adf58ae0cc6",
      "91799c0c58ce496c9cc09cc11581d63e",
      "df2381f3ec4f49a68636c9f24b1f23cf"
     ]
    },
    "id": "_PNKQwCAj8iI",
    "outputId": "4dbf4679-9ea5-44c7-f799-58532a3ef88e"
   },
   "outputs": [
    {
     "name": "stderr",
     "output_type": "stream",
     "text": [
      "Pulling changes ...\n",
      "Configuration saved in b_dist/config.json\n",
      "Model weights saved in b_dist/pytorch_model.bin\n",
      "tokenizer config file saved in b_dist_tok/tokenizer_config.json\n",
      "Special tokens file saved in b_dist_tok/special_tokens_map.json\n"
     ]
    },
    {
     "data": {
      "application/vnd.jupyter.widget-view+json": {
       "model_id": "acd80d178b6f4085bf7e03b364780203",
       "version_major": 2,
       "version_minor": 0
      },
      "text/plain": [
       "Upload file b_dist/pytorch_model.bin:   0%|          | 3.34k/255M [00:00<?, ?B/s]"
      ]
     },
     "metadata": {},
     "output_type": "display_data"
    },
    {
     "name": "stderr",
     "output_type": "stream",
     "text": [
      "To https://huggingface.co/tatsumaru/bert\n",
      "   6248b7d..ede8d82  main -> main\n",
      "\n"
     ]
    }
   ],
   "source": [
    "with repo.commit('d_bert'):\n",
    "  b_dist.save_pretrained('b_dist')\n",
    "  b_dist_tok.save_pretrained('b_dist_tok')"
   ]
  },
  {
   "cell_type": "code",
   "execution_count": 42,
   "metadata": {
    "colab": {
     "base_uri": "https://localhost:8080/",
     "height": 170,
     "referenced_widgets": [
      "1c57e904902b42a287742ead7c39367a",
      "894b4f6f5061482caa441c551a6e61e0",
      "a32ecb4e6bdc48ccaac524654c1bc656",
      "015833da6caf4b648405105629e12e6f",
      "f79315f799a04b67b1b5f902d13de1ad",
      "97ab967d9e15423d99cfba824bfbebeb",
      "78e99a0ee6ef429698aff3159efe6dc8",
      "b80d556460f44d5e9faec61b24eb3303",
      "43005b17ade44315b9b685ad21f4cfaa",
      "708c15710e33494ba96a2aceb17eeb65",
      "15769b7512dd4c908a28eeb565748258"
     ]
    },
    "id": "aEjLrKl4RCwR",
    "outputId": "c6d09756-db47-4856-eb95-e7219c27c4b2"
   },
   "outputs": [
    {
     "name": "stderr",
     "output_type": "stream",
     "text": [
      "Pulling changes ...\n",
      "Saving model checkpoint to b_dist_trainer\n",
      "Configuration saved in b_dist_trainer/config.json\n",
      "Model weights saved in b_dist_trainer/pytorch_model.bin\n"
     ]
    },
    {
     "data": {
      "application/vnd.jupyter.widget-view+json": {
       "model_id": "1c57e904902b42a287742ead7c39367a",
       "version_major": 2,
       "version_minor": 0
      },
      "text/plain": [
       "Upload file b_dist_trainer/training_args.bin: 100%|##########| 3.23k/3.23k [00:00<?, ?B/s]"
      ]
     },
     "metadata": {},
     "output_type": "display_data"
    },
    {
     "name": "stderr",
     "output_type": "stream",
     "text": [
      "To https://huggingface.co/tatsumaru/bert\n",
      "   ede8d82..1839370  main -> main\n",
      "\n"
     ]
    }
   ],
   "source": [
    "with repo.commit('trainer'):\n",
    "  trainer.save_model('b_dist_trainer')"
   ]
  },
  {
   "cell_type": "code",
   "execution_count": 43,
   "metadata": {
    "colab": {
     "base_uri": "https://localhost:8080/",
     "height": 89
    },
    "id": "GHYViE5FR_Es",
    "outputId": "bb6e1d32-2e38-4ed9-a799-1688cff8fc81"
   },
   "outputs": [
    {
     "name": "stderr",
     "output_type": "stream",
     "text": [
      "***** Running Prediction *****\n",
      "  Num examples = 100000\n",
      "  Batch size = 16\n"
     ]
    },
    {
     "data": {
      "text/html": [
       "\n",
       "    <div>\n",
       "      \n",
       "      <progress value='14003' max='6250' style='width:300px; height:20px; vertical-align: middle;'></progress>\n",
       "      [6250/6250 10:04]\n",
       "    </div>\n",
       "    "
      ],
      "text/plain": [
       "<IPython.core.display.HTML object>"
      ]
     },
     "metadata": {},
     "output_type": "display_data"
    }
   ],
   "source": [
    "y_pred_bert = trainer.predict(X_test_ds)"
   ]
  },
  {
   "cell_type": "code",
   "execution_count": 50,
   "metadata": {
    "id": "oQmr04HZS9J0"
   },
   "outputs": [],
   "source": [
    "y_pred = []\n",
    "for y in y_pred_bert.predictions:\n",
    "  y_pred.append(np.argmax(y))"
   ]
  },
  {
   "cell_type": "code",
   "execution_count": 53,
   "metadata": {
    "colab": {
     "base_uri": "https://localhost:8080/"
    },
    "id": "6S3yJsm1VuCj",
    "outputId": "222be78b-225f-4564-c89a-538ceadd3f55"
   },
   "outputs": [
    {
     "data": {
      "text/plain": [
       "array([[43232,  6768],\n",
       "       [ 7970, 42030]])"
      ]
     },
     "execution_count": 53,
     "metadata": {},
     "output_type": "execute_result"
    }
   ],
   "source": [
    "confusion_matrix(y_test, y_pred)"
   ]
  },
  {
   "cell_type": "code",
   "execution_count": 52,
   "metadata": {
    "colab": {
     "base_uri": "https://localhost:8080/"
    },
    "id": "0f-gN3mLU5gK",
    "outputId": "063775ec-5514-43d6-8746-7bb37caf8025"
   },
   "outputs": [
    {
     "name": "stdout",
     "output_type": "stream",
     "text": [
      "Accuracy : 0.85262\n",
      "Recall : 0.8406\n",
      "AUC : 0.85262\n"
     ]
    }
   ],
   "source": [
    "print(f\"Accuracy : {accuracy_score(y_test, y_pred)}\")\n",
    "print(f\"Recall : {recall_score(y_test, y_pred)}\")\n",
    "print(f\"AUC : {roc_auc_score(y_test, y_pred)}\")"
   ]
  },
  {
   "cell_type": "markdown",
   "metadata": {},
   "source": [
    "*[(Retour sommaire)](#ch0)*"
   ]
  },
  {
   "cell_type": "markdown",
   "metadata": {
    "id": "mju_IBX2Q3Vm"
   },
   "source": [
    "## <div id=\"ch4_2\" style=\"color:orange\">4.2 BERT : BERTweet</div>"
   ]
  },
  {
   "cell_type": "code",
   "execution_count": 55,
   "metadata": {
    "id": "Qu_dzV5JYszw"
   },
   "outputs": [],
   "source": [
    "from transformers import AutoTokenizer\n",
    "from transformers import AutoModelForSequenceClassification"
   ]
  },
  {
   "cell_type": "code",
   "execution_count": 54,
   "metadata": {
    "id": "mpxkBmt3X5rQ"
   },
   "outputs": [],
   "source": [
    "model_name = \"vinai/bertweet-base\""
   ]
  },
  {
   "cell_type": "code",
   "execution_count": 56,
   "metadata": {
    "colab": {
     "base_uri": "https://localhost:8080/",
     "height": 1000,
     "referenced_widgets": [
      "e2cab42e842d4d8f9b6f38e198504d3e",
      "17d61ec2b21c405788bbf93daefef530",
      "6d9eca6631e14d958f559e204dbcd47b",
      "340febe6165048bf9a8224aa6f593204",
      "da626472bd144748b7a7652a8829c6a7",
      "ee4bb4514add4825bc6710c7a540bddd",
      "60954e2eb8bc4384be7a42c172c5a4b3",
      "8470d87c93d8429e940f7427bd904125",
      "05470db35b2e46339713f4dd26528ab5",
      "c3ff0f107d5243749fb7e6a1409cf5c1",
      "21dda3f91c2d4b99a252182d3f3c006b",
      "d0e6b207cd2f4f8389583fd0a831e0b9",
      "0984c055f6e3412d978278b3af5e2ab0",
      "532c8adbdca94b3b855c259d323173bc",
      "590f099adabb41279081567e3ea112fd",
      "7b1abc2df7534308b9c8b81c25423f7b",
      "3c71fbe5974146d1b750c71db782807b",
      "e5431fa403954bfc9d59364889bb7661",
      "0efe32933d524c3fa69e794b78eb9761",
      "21664a2a491f4f32b9c9cd00ba3d3aa3",
      "1c18f8ba91744bdd8bd3ac1332524ed7",
      "4c02cf308c8846f0bac06a218eb7e745",
      "c9ab4a7a78bb447b9d455f943fd52025",
      "78db911ed7f9457988dbb04e95c151b8",
      "1ae6dc8b99414af9819fd0b52c5d36a7",
      "d993c816b6e04571bf22655233b780d8",
      "a0cea0d8d31e4db8b46f1a2e1ee8357f",
      "19a2559e0f0046df97ec4429711886af",
      "941811c0beeb4e7cbebfcc08974494fe",
      "a2efded70138450192a707c712337a89",
      "5656d201f10844498c1cda855e32baf0",
      "f6d7319ade854b7585c9401730e2e55d",
      "d6275a38506e4579ae8feace5de37f06"
     ]
    },
    "id": "8TnW0-tSX5rQ",
    "outputId": "81041ead-c9fb-4d1b-dd9a-138824cc55b2"
   },
   "outputs": [
    {
     "name": "stderr",
     "output_type": "stream",
     "text": [
      "Could not locate the tokenizer configuration file, will try to use the model config instead.\n",
      "https://huggingface.co/vinai/bertweet-base/resolve/main/config.json not found in cache or force_download set to True, downloading to /root/.cache/huggingface/transformers/tmpfonjapug\n"
     ]
    },
    {
     "data": {
      "application/vnd.jupyter.widget-view+json": {
       "model_id": "e2cab42e842d4d8f9b6f38e198504d3e",
       "version_major": 2,
       "version_minor": 0
      },
      "text/plain": [
       "Downloading:   0%|          | 0.00/558 [00:00<?, ?B/s]"
      ]
     },
     "metadata": {},
     "output_type": "display_data"
    },
    {
     "name": "stderr",
     "output_type": "stream",
     "text": [
      "storing https://huggingface.co/vinai/bertweet-base/resolve/main/config.json in cache at /root/.cache/huggingface/transformers/356366feedcea0917e30f7f235e1e062ffc2d28138445d5672a184be756c8686.a2b6026e688d1b19cebc0981d8f3a5b1668eabfda55b2c42049d5eac0bc8cb2d\n",
      "creating metadata file for /root/.cache/huggingface/transformers/356366feedcea0917e30f7f235e1e062ffc2d28138445d5672a184be756c8686.a2b6026e688d1b19cebc0981d8f3a5b1668eabfda55b2c42049d5eac0bc8cb2d\n",
      "loading configuration file https://huggingface.co/vinai/bertweet-base/resolve/main/config.json from cache at /root/.cache/huggingface/transformers/356366feedcea0917e30f7f235e1e062ffc2d28138445d5672a184be756c8686.a2b6026e688d1b19cebc0981d8f3a5b1668eabfda55b2c42049d5eac0bc8cb2d\n",
      "Model config RobertaConfig {\n",
      "  \"_name_or_path\": \"vinai/bertweet-base\",\n",
      "  \"architectures\": [\n",
      "    \"RobertaForMaskedLM\"\n",
      "  ],\n",
      "  \"attention_probs_dropout_prob\": 0.1,\n",
      "  \"bos_token_id\": 0,\n",
      "  \"classifier_dropout\": null,\n",
      "  \"eos_token_id\": 2,\n",
      "  \"gradient_checkpointing\": false,\n",
      "  \"hidden_act\": \"gelu\",\n",
      "  \"hidden_dropout_prob\": 0.1,\n",
      "  \"hidden_size\": 768,\n",
      "  \"initializer_range\": 0.02,\n",
      "  \"intermediate_size\": 3072,\n",
      "  \"layer_norm_eps\": 1e-05,\n",
      "  \"max_position_embeddings\": 130,\n",
      "  \"model_type\": \"roberta\",\n",
      "  \"num_attention_heads\": 12,\n",
      "  \"num_hidden_layers\": 12,\n",
      "  \"pad_token_id\": 1,\n",
      "  \"position_embedding_type\": \"absolute\",\n",
      "  \"tokenizer_class\": \"BertweetTokenizer\",\n",
      "  \"transformers_version\": \"4.20.1\",\n",
      "  \"type_vocab_size\": 1,\n",
      "  \"use_cache\": true,\n",
      "  \"vocab_size\": 64001\n",
      "}\n",
      "\n",
      "https://huggingface.co/vinai/bertweet-base/resolve/main/vocab.txt not found in cache or force_download set to True, downloading to /root/.cache/huggingface/transformers/tmp0h7ktvxg\n"
     ]
    },
    {
     "data": {
      "application/vnd.jupyter.widget-view+json": {
       "model_id": "d0e6b207cd2f4f8389583fd0a831e0b9",
       "version_major": 2,
       "version_minor": 0
      },
      "text/plain": [
       "Downloading:   0%|          | 0.00/824k [00:00<?, ?B/s]"
      ]
     },
     "metadata": {},
     "output_type": "display_data"
    },
    {
     "name": "stderr",
     "output_type": "stream",
     "text": [
      "storing https://huggingface.co/vinai/bertweet-base/resolve/main/vocab.txt in cache at /root/.cache/huggingface/transformers/9a877d0d57efbfeae96fec396a35595dc8c4685fe2b7b2049c6c094e24a0e8bf.f8a4dfe5c3c45a26f9df849d732decb191dc0c05ab270799695430332d143982\n",
      "creating metadata file for /root/.cache/huggingface/transformers/9a877d0d57efbfeae96fec396a35595dc8c4685fe2b7b2049c6c094e24a0e8bf.f8a4dfe5c3c45a26f9df849d732decb191dc0c05ab270799695430332d143982\n",
      "https://huggingface.co/vinai/bertweet-base/resolve/main/bpe.codes not found in cache or force_download set to True, downloading to /root/.cache/huggingface/transformers/tmpk9jveerz\n"
     ]
    },
    {
     "data": {
      "application/vnd.jupyter.widget-view+json": {
       "model_id": "c9ab4a7a78bb447b9d455f943fd52025",
       "version_major": 2,
       "version_minor": 0
      },
      "text/plain": [
       "Downloading:   0%|          | 0.00/1.03M [00:00<?, ?B/s]"
      ]
     },
     "metadata": {},
     "output_type": "display_data"
    },
    {
     "name": "stderr",
     "output_type": "stream",
     "text": [
      "storing https://huggingface.co/vinai/bertweet-base/resolve/main/bpe.codes in cache at /root/.cache/huggingface/transformers/1c2d05a06ac61a063ad62a7590731a28cc62f58e2802c76b5f993165f25894a9.75877d86011e5d5d46614d3a21757b705e9d20ed45a019805d25159b4837b0a4\n",
      "creating metadata file for /root/.cache/huggingface/transformers/1c2d05a06ac61a063ad62a7590731a28cc62f58e2802c76b5f993165f25894a9.75877d86011e5d5d46614d3a21757b705e9d20ed45a019805d25159b4837b0a4\n",
      "loading file https://huggingface.co/vinai/bertweet-base/resolve/main/vocab.txt from cache at /root/.cache/huggingface/transformers/9a877d0d57efbfeae96fec396a35595dc8c4685fe2b7b2049c6c094e24a0e8bf.f8a4dfe5c3c45a26f9df849d732decb191dc0c05ab270799695430332d143982\n",
      "loading file https://huggingface.co/vinai/bertweet-base/resolve/main/bpe.codes from cache at /root/.cache/huggingface/transformers/1c2d05a06ac61a063ad62a7590731a28cc62f58e2802c76b5f993165f25894a9.75877d86011e5d5d46614d3a21757b705e9d20ed45a019805d25159b4837b0a4\n",
      "loading file https://huggingface.co/vinai/bertweet-base/resolve/main/added_tokens.json from cache at None\n",
      "loading file https://huggingface.co/vinai/bertweet-base/resolve/main/special_tokens_map.json from cache at None\n",
      "loading file https://huggingface.co/vinai/bertweet-base/resolve/main/tokenizer_config.json from cache at None\n",
      "loading configuration file https://huggingface.co/vinai/bertweet-base/resolve/main/config.json from cache at /root/.cache/huggingface/transformers/356366feedcea0917e30f7f235e1e062ffc2d28138445d5672a184be756c8686.a2b6026e688d1b19cebc0981d8f3a5b1668eabfda55b2c42049d5eac0bc8cb2d\n",
      "Model config RobertaConfig {\n",
      "  \"_name_or_path\": \"vinai/bertweet-base\",\n",
      "  \"architectures\": [\n",
      "    \"RobertaForMaskedLM\"\n",
      "  ],\n",
      "  \"attention_probs_dropout_prob\": 0.1,\n",
      "  \"bos_token_id\": 0,\n",
      "  \"classifier_dropout\": null,\n",
      "  \"eos_token_id\": 2,\n",
      "  \"gradient_checkpointing\": false,\n",
      "  \"hidden_act\": \"gelu\",\n",
      "  \"hidden_dropout_prob\": 0.1,\n",
      "  \"hidden_size\": 768,\n",
      "  \"initializer_range\": 0.02,\n",
      "  \"intermediate_size\": 3072,\n",
      "  \"layer_norm_eps\": 1e-05,\n",
      "  \"max_position_embeddings\": 130,\n",
      "  \"model_type\": \"roberta\",\n",
      "  \"num_attention_heads\": 12,\n",
      "  \"num_hidden_layers\": 12,\n",
      "  \"pad_token_id\": 1,\n",
      "  \"position_embedding_type\": \"absolute\",\n",
      "  \"tokenizer_class\": \"BertweetTokenizer\",\n",
      "  \"transformers_version\": \"4.20.1\",\n",
      "  \"type_vocab_size\": 1,\n",
      "  \"use_cache\": true,\n",
      "  \"vocab_size\": 64001\n",
      "}\n",
      "\n",
      "emoji is not installed, thus not converting emoticons or emojis into text. Install emoji: pip3 install emoji==0.6.0\n",
      "Adding <mask> to the vocabulary\n",
      "Special tokens have been added in the vocabulary, make sure the associated word embeddings are fine-tuned or trained.\n"
     ]
    }
   ],
   "source": [
    "b_tweet_tok = AutoTokenizer.from_pretrained(model_name)"
   ]
  },
  {
   "cell_type": "code",
   "execution_count": 58,
   "metadata": {
    "id": "ORdWHz05X5rR"
   },
   "outputs": [],
   "source": [
    "tw_pos = tw_en.loc[tw_en['tw_y'] == 1, ['tw_text', 'tw_y']]\n",
    "tw_neg = tw_en.loc[tw_en['tw_y'] == 0, ['tw_text', 'tw_y']]\n",
    "tw_pos_train = tw_pos.head(300000)\n",
    "tw_pos_test = tw_pos.tail(50000)\n",
    "tw_neg_train = tw_neg.head(300000)\n",
    "tw_neg_test = tw_neg.tail(50000)\n",
    "X_train = np.concatenate((tw_pos_train['tw_text'], tw_neg_train['tw_text']))\n",
    "X_test = np.concatenate((tw_pos_test['tw_text'], tw_neg_test['tw_text']))\n",
    "y_train = np.concatenate((tw_pos_train['tw_y'], tw_neg_train['tw_y']))\n",
    "y_test = np.concatenate((tw_pos_test['tw_y'], tw_neg_test['tw_y']))"
   ]
  },
  {
   "cell_type": "code",
   "execution_count": 59,
   "metadata": {
    "colab": {
     "base_uri": "https://localhost:8080/"
    },
    "id": "1991DVnCX5rR",
    "outputId": "39e2d1e0-ba7e-4f0f-e2b0-708628f96151"
   },
   "outputs": [
    {
     "name": "stdout",
     "output_type": "stream",
     "text": [
      "Taille du jeu d'entraînement : X=(600000,) y=(600000,)\n",
      "Taille du jeu de test : X=(100000,) y=(100000,)\n"
     ]
    }
   ],
   "source": [
    "print(f\"Taille du jeu d'entraînement : X={np.shape(X_train)} y={np.shape(y_train)}\")\n",
    "print(f\"Taille du jeu de test : X={np.shape(X_test)} y={np.shape(y_test)}\")"
   ]
  },
  {
   "cell_type": "code",
   "execution_count": 60,
   "metadata": {
    "id": "TLh1X4rjX5rR"
   },
   "outputs": [],
   "source": [
    "tw_en['tw_lng'] = tw_en['tw_text'].apply(lc_length)"
   ]
  },
  {
   "cell_type": "code",
   "execution_count": 62,
   "metadata": {
    "colab": {
     "base_uri": "https://localhost:8080/"
    },
    "id": "rLCTPwlsX5rR",
    "outputId": "cc17ef61-650d-439e-dff7-8f645085cfcc"
   },
   "outputs": [
    {
     "data": {
      "text/plain": [
       "64"
      ]
     },
     "execution_count": 62,
     "metadata": {},
     "output_type": "execute_result"
    }
   ],
   "source": [
    "tw_en['tw_lng'].max()"
   ]
  },
  {
   "cell_type": "code",
   "execution_count": 63,
   "metadata": {
    "id": "gskQzP8JX5rR"
   },
   "outputs": [],
   "source": [
    "MAX_LEN = tw_en['tw_lng'].max()  #Taille maximale des tweets du dataset\n",
    "TOP_WORDS = 40000  #Taille du vocabulaire trouvée au chapitre précédent"
   ]
  },
  {
   "cell_type": "code",
   "execution_count": 64,
   "metadata": {
    "id": "J4BQxesKX5rR"
   },
   "outputs": [],
   "source": [
    "X_train_padded = b_tweet_tok(list(np.array(X_train)), padding=True, truncation=True)\n",
    "X_test_padded = b_tweet_tok(list(np.array(X_test)), padding=True, truncation=True)"
   ]
  },
  {
   "cell_type": "code",
   "execution_count": 67,
   "metadata": {
    "id": "6v6LizTAX5rS"
   },
   "outputs": [],
   "source": [
    "X_train_ds = BertDataset(X_train_padded, y_train)\n",
    "X_test_ds = BertDataset(X_test_padded, y_test)"
   ]
  },
  {
   "cell_type": "code",
   "execution_count": 68,
   "metadata": {
    "colab": {
     "base_uri": "https://localhost:8080/"
    },
    "id": "4t9pgTVNX5rS",
    "outputId": "8c1ea0a1-bc08-4021-9b9d-75142483abd4"
   },
   "outputs": [
    {
     "name": "stderr",
     "output_type": "stream",
     "text": [
      "PyTorch: setting up devices\n",
      "The default value for the training argument `--report_to` will change in v5 (from all installed integrations to none). In v5, you will need to use `--report_to all` to get the same behavior as now. You should start updating your code and make this info disappear :-).\n"
     ]
    }
   ],
   "source": [
    "training_args = TrainingArguments(\n",
    "    seed=11,\n",
    "    output_dir='/content/bertweet',\n",
    "    save_total_limit=1,\n",
    "    per_device_train_batch_size=16,\n",
    "    per_device_eval_batch_size=16,\n",
    "    warmup_steps=500,\n",
    "    weight_decay=0.01,\n",
    "    load_best_model_at_end=True,\n",
    "    evaluation_strategy='epoch',\n",
    "    save_strategy='epoch'\n",
    ")"
   ]
  },
  {
   "cell_type": "code",
   "execution_count": 69,
   "metadata": {
    "colab": {
     "base_uri": "https://localhost:8080/",
     "height": 746,
     "referenced_widgets": [
      "bde7fda0f3c4474b909be5421dfadd9d",
      "ce34b7eeba27437b8e97366084e702ea",
      "2ea295c4ae744288aee0f1d567dc8508",
      "1a6deffdf0d147788d60bbcf64eda002",
      "4197a762b5ad4f7d8e99eec20e9107a4",
      "18391ba116e34f85bb8d4a9ea3160514",
      "8ad625365e4e41029f1f2d60f2cbf1a9",
      "30c543c2a5364c388972df13720b3bee",
      "0d6f45bfcd4b40038157ac71b37d7c54",
      "0e61e70144fa41e7802ba2a1a3020bba",
      "6e5b760bc7a94f2da19b823cd096be1e"
     ]
    },
    "id": "EuPJmMRXX5rS",
    "outputId": "d6f1ac56-c9b1-402a-826d-db6aac264160"
   },
   "outputs": [
    {
     "name": "stderr",
     "output_type": "stream",
     "text": [
      "loading configuration file https://huggingface.co/vinai/bertweet-base/resolve/main/config.json from cache at /root/.cache/huggingface/transformers/356366feedcea0917e30f7f235e1e062ffc2d28138445d5672a184be756c8686.a2b6026e688d1b19cebc0981d8f3a5b1668eabfda55b2c42049d5eac0bc8cb2d\n",
      "Model config RobertaConfig {\n",
      "  \"_name_or_path\": \"vinai/bertweet-base\",\n",
      "  \"architectures\": [\n",
      "    \"RobertaForMaskedLM\"\n",
      "  ],\n",
      "  \"attention_probs_dropout_prob\": 0.1,\n",
      "  \"bos_token_id\": 0,\n",
      "  \"classifier_dropout\": null,\n",
      "  \"eos_token_id\": 2,\n",
      "  \"gradient_checkpointing\": false,\n",
      "  \"hidden_act\": \"gelu\",\n",
      "  \"hidden_dropout_prob\": 0.1,\n",
      "  \"hidden_size\": 768,\n",
      "  \"initializer_range\": 0.02,\n",
      "  \"intermediate_size\": 3072,\n",
      "  \"layer_norm_eps\": 1e-05,\n",
      "  \"max_position_embeddings\": 130,\n",
      "  \"model_type\": \"roberta\",\n",
      "  \"num_attention_heads\": 12,\n",
      "  \"num_hidden_layers\": 12,\n",
      "  \"pad_token_id\": 1,\n",
      "  \"position_embedding_type\": \"absolute\",\n",
      "  \"tokenizer_class\": \"BertweetTokenizer\",\n",
      "  \"transformers_version\": \"4.20.1\",\n",
      "  \"type_vocab_size\": 1,\n",
      "  \"use_cache\": true,\n",
      "  \"vocab_size\": 64001\n",
      "}\n",
      "\n",
      "https://huggingface.co/vinai/bertweet-base/resolve/main/pytorch_model.bin not found in cache or force_download set to True, downloading to /root/.cache/huggingface/transformers/tmptekazf71\n"
     ]
    },
    {
     "data": {
      "application/vnd.jupyter.widget-view+json": {
       "model_id": "bde7fda0f3c4474b909be5421dfadd9d",
       "version_major": 2,
       "version_minor": 0
      },
      "text/plain": [
       "Downloading:   0%|          | 0.00/517M [00:00<?, ?B/s]"
      ]
     },
     "metadata": {},
     "output_type": "display_data"
    },
    {
     "name": "stderr",
     "output_type": "stream",
     "text": [
      "storing https://huggingface.co/vinai/bertweet-base/resolve/main/pytorch_model.bin in cache at /root/.cache/huggingface/transformers/4e07e2989cb95a6f63c704a7170b48e6e663cc203c05db424e47f4d75562cf0e.7b2adda243ecb4b085eb2d22ef1b2cd12a882a43bbb13a34c11e10f960b9bfc3\n",
      "creating metadata file for /root/.cache/huggingface/transformers/4e07e2989cb95a6f63c704a7170b48e6e663cc203c05db424e47f4d75562cf0e.7b2adda243ecb4b085eb2d22ef1b2cd12a882a43bbb13a34c11e10f960b9bfc3\n",
      "loading weights file https://huggingface.co/vinai/bertweet-base/resolve/main/pytorch_model.bin from cache at /root/.cache/huggingface/transformers/4e07e2989cb95a6f63c704a7170b48e6e663cc203c05db424e47f4d75562cf0e.7b2adda243ecb4b085eb2d22ef1b2cd12a882a43bbb13a34c11e10f960b9bfc3\n",
      "Some weights of the model checkpoint at vinai/bertweet-base were not used when initializing RobertaForSequenceClassification: ['lm_head.decoder.bias', 'lm_head.decoder.weight', 'lm_head.layer_norm.weight', 'roberta.pooler.dense.bias', 'lm_head.bias', 'lm_head.dense.bias', 'lm_head.dense.weight', 'lm_head.layer_norm.bias', 'roberta.pooler.dense.weight']\n",
      "- This IS expected if you are initializing RobertaForSequenceClassification from the checkpoint of a model trained on another task or with another architecture (e.g. initializing a BertForSequenceClassification model from a BertForPreTraining model).\n",
      "- This IS NOT expected if you are initializing RobertaForSequenceClassification from the checkpoint of a model that you expect to be exactly identical (initializing a BertForSequenceClassification model from a BertForSequenceClassification model).\n",
      "Some weights of RobertaForSequenceClassification were not initialized from the model checkpoint at vinai/bertweet-base and are newly initialized: ['classifier.dense.bias', 'classifier.out_proj.weight', 'classifier.out_proj.bias', 'classifier.dense.weight']\n",
      "You should probably TRAIN this model on a down-stream task to be able to use it for predictions and inference.\n"
     ]
    }
   ],
   "source": [
    "b_tweet = AutoModelForSequenceClassification.from_pretrained(model_name)"
   ]
  },
  {
   "cell_type": "code",
   "execution_count": 70,
   "metadata": {
    "id": "0_uC1TS0X5rS"
   },
   "outputs": [],
   "source": [
    "trainer = Trainer(\n",
    "    model=b_tweet,\n",
    "    args=training_args,\n",
    "    train_dataset=X_train_ds,\n",
    "    eval_dataset=X_test_ds\n",
    ")"
   ]
  },
  {
   "cell_type": "code",
   "execution_count": 71,
   "metadata": {
    "colab": {
     "base_uri": "https://localhost:8080/",
     "height": 970
    },
    "id": "afEf5OTZX5rS",
    "outputId": "097debb6-2283-4c4a-c326-349c8dc564e6"
   },
   "outputs": [
    {
     "metadata": {
      "tags": null
     },
     "name": "stderr",
     "output_type": "stream",
     "text": [
      "/usr/local/lib/python3.7/dist-packages/transformers/optimization.py:310: FutureWarning: This implementation of AdamW is deprecated and will be removed in a future version. Use the PyTorch implementation torch.optim.AdamW instead, or set `no_deprecation_warning=True` to disable this warning\n",
      "  FutureWarning,\n",
      "***** Running training *****\n",
      "  Num examples = 600000\n",
      "  Num Epochs = 3\n",
      "  Instantaneous batch size per device = 16\n",
      "  Total train batch size (w. parallel, distributed & accumulation) = 16\n",
      "  Gradient Accumulation steps = 1\n",
      "  Total optimization steps = 112500\n"
     ]
    },
    {
     "data": {
      "text/html": [
       "\n",
       "    <div>\n",
       "      \n",
       "      <progress value='108314' max='112500' style='width:300px; height:20px; vertical-align: middle;'></progress>\n",
       "      [108314/112500 6:39:52 < 15:27, 4.51 it/s, Epoch 2.89/3]\n",
       "    </div>\n",
       "    <table border=\"1\" class=\"dataframe\">\n",
       "  <thead>\n",
       " <tr style=\"text-align: left;\">\n",
       "      <th>Epoch</th>\n",
       "      <th>Training Loss</th>\n",
       "      <th>Validation Loss</th>\n",
       "    </tr>\n",
       "  </thead>\n",
       "  <tbody>\n",
       "    <tr>\n",
       "      <td>1</td>\n",
       "      <td>0.440400</td>\n",
       "      <td>0.417299</td>\n",
       "    </tr>\n",
       "    <tr>\n",
       "      <td>2</td>\n",
       "      <td>0.356900</td>\n",
       "      <td>0.354568</td>\n",
       "    </tr>\n",
       "  </tbody>\n",
       "</table><p>"
      ],
      "text/plain": [
       "<IPython.core.display.HTML object>"
      ]
     },
     "metadata": {},
     "output_type": "display_data"
    },
    {
     "metadata": {
      "tags": null
     },
     "name": "stderr",
     "output_type": "stream",
     "text": [
      "***** Running Evaluation *****\n",
      "  Num examples = 100000\n",
      "  Batch size = 16\n",
      "Saving model checkpoint to /content/bertweet/checkpoint-37500\n",
      "Configuration saved in /content/bertweet/checkpoint-37500/config.json\n",
      "Model weights saved in /content/bertweet/checkpoint-37500/pytorch_model.bin\n",
      "***** Running Evaluation *****\n",
      "  Num examples = 100000\n",
      "  Batch size = 16\n",
      "Saving model checkpoint to /content/bertweet/checkpoint-75000\n",
      "Configuration saved in /content/bertweet/checkpoint-75000/config.json\n",
      "Model weights saved in /content/bertweet/checkpoint-75000/pytorch_model.bin\n",
      "Deleting older checkpoint [/content/bertweet/checkpoint-37500] due to args.save_total_limit\n"
     ]
    },
    {
     "data": {
      "text/html": [
       "\n",
       "    <div>\n",
       "      \n",
       "      <progress value='112500' max='112500' style='width:300px; height:20px; vertical-align: middle;'></progress>\n",
       "      [112500/112500 6:59:29, Epoch 3/3]\n",
       "    </div>\n",
       "    <table border=\"1\" class=\"dataframe\">\n",
       "  <thead>\n",
       " <tr style=\"text-align: left;\">\n",
       "      <th>Epoch</th>\n",
       "      <th>Training Loss</th>\n",
       "      <th>Validation Loss</th>\n",
       "    </tr>\n",
       "  </thead>\n",
       "  <tbody>\n",
       "    <tr>\n",
       "      <td>1</td>\n",
       "      <td>0.440400</td>\n",
       "      <td>0.417299</td>\n",
       "    </tr>\n",
       "    <tr>\n",
       "      <td>2</td>\n",
       "      <td>0.356900</td>\n",
       "      <td>0.354568</td>\n",
       "    </tr>\n",
       "    <tr>\n",
       "      <td>3</td>\n",
       "      <td>0.290300</td>\n",
       "      <td>0.351017</td>\n",
       "    </tr>\n",
       "  </tbody>\n",
       "</table><p>"
      ],
      "text/plain": [
       "<IPython.core.display.HTML object>"
      ]
     },
     "metadata": {},
     "output_type": "display_data"
    },
    {
     "name": "stderr",
     "output_type": "stream",
     "text": [
      "***** Running Evaluation *****\n",
      "  Num examples = 100000\n",
      "  Batch size = 16\n",
      "Saving model checkpoint to /content/bertweet/checkpoint-112500\n",
      "Configuration saved in /content/bertweet/checkpoint-112500/config.json\n",
      "Model weights saved in /content/bertweet/checkpoint-112500/pytorch_model.bin\n",
      "Deleting older checkpoint [/content/bertweet/checkpoint-75000] due to args.save_total_limit\n",
      "\n",
      "\n",
      "Training completed. Do not forget to share your model on huggingface.co/models =)\n",
      "\n",
      "\n",
      "Loading best model from /content/bertweet/checkpoint-112500 (score: 0.3510168790817261).\n"
     ]
    },
    {
     "data": {
      "text/plain": [
       "TrainOutput(global_step=112500, training_loss=0.35671465372721356, metrics={'train_runtime': 25169.3581, 'train_samples_per_second': 71.516, 'train_steps_per_second': 4.47, 'total_flos': 1.09149976872e+17, 'train_loss': 0.35671465372721356, 'epoch': 3.0})"
      ]
     },
     "execution_count": 71,
     "metadata": {},
     "output_type": "execute_result"
    }
   ],
   "source": [
    "trainer.train()"
   ]
  },
  {
   "cell_type": "code",
   "execution_count": 72,
   "metadata": {
    "colab": {
     "base_uri": "https://localhost:8080/",
     "height": 35
    },
    "id": "H2DKYqIBX5rT",
    "outputId": "cbed5695-8812-4e4d-fd43-6c3256d5aab8"
   },
   "outputs": [
    {
     "data": {
      "application/vnd.google.colaboratory.intrinsic+json": {
       "type": "string"
      },
      "text/plain": [
       "'https://huggingface.co/tatsumaru/bertweet'"
      ]
     },
     "execution_count": 72,
     "metadata": {},
     "output_type": "execute_result"
    }
   ],
   "source": [
    "create_repo(\"tatsumaru/bertweet\")"
   ]
  },
  {
   "cell_type": "code",
   "execution_count": 73,
   "metadata": {
    "colab": {
     "base_uri": "https://localhost:8080/"
    },
    "id": "d4-FfYrhX5rT",
    "outputId": "1d00361d-b868-4035-f447-2e321e73e2dd"
   },
   "outputs": [
    {
     "name": "stderr",
     "output_type": "stream",
     "text": [
      "Cloning https://huggingface.co/tatsumaru/bertweet into local empty directory.\n"
     ]
    }
   ],
   "source": [
    "repo = Repository(local_dir=\"t_bert\", clone_from=\"https://huggingface.co/tatsumaru/bertweet\")"
   ]
  },
  {
   "cell_type": "code",
   "execution_count": 74,
   "metadata": {
    "colab": {
     "base_uri": "https://localhost:8080/",
     "height": 304,
     "referenced_widgets": [
      "baa35a53903546879f581c1c3b1f60c1",
      "45585a0486b84007930b038e94720cc2",
      "bb2980fbe42944028dbffd14a198aabe",
      "f6ff4096b1bb4c3d9c61d8a97f7938f3",
      "3706bb88f0644ff495316619dee55d3b",
      "50da65904ed5443491df09698f45c0fb",
      "4a238b9a686b48e5b4eff6584edf8442",
      "bedec41068ca4ebba6939f12ad507321",
      "c5d52a4d38374798983aacfdf83c1c6c",
      "e5795e40bd3a4ebb9342b680a26de119",
      "3c1d0ec80c2645a5911706218f82bbe6",
      "73a98d45409648a8b08fde43bfc8e692",
      "6452d2111c6d4ac2b2ffb6be5218e345",
      "6a5695d190ff49fdbb8cf11c3873bcb7",
      "c2a8f623c6584c56ac0e024f46f6b877",
      "1bc6c890b01e4cbab66041561166fcf5",
      "c08698cfd6574591aef8eb1cffb4bd61",
      "8880f2085374492d98ad17b4612d05ad",
      "0db636484ae84124820f17fbe080b46e",
      "79f87730c46e4a5cb9f8a738afb3f0e9",
      "e0c6d07a9400499199a4e08845f47765",
      "f0a1da74c269420d8abd1aaac023ea6a",
      "e74bd4d0467e460f9a156f32f8eca4ee",
      "132fd547d1d34eb1be152bf1d8d175fc",
      "82c9415b73724dac95859f8008d8f60f",
      "75cf96f1d617405b8176f1ec668e8a0e",
      "a5d012eb4e7a40909a1cd2856d863676",
      "d53a4c85f73f405db228f48b26ee897d",
      "8a3c387641984c39a8a85003f5933bee",
      "2f480d4bc1ce4b1884aa39fcb68997ec",
      "1559df5ab0c7439b9b41abad1ca5192d",
      "58b5829f7c8b4ca4b3c46a376c54a673",
      "d80667a55b6347249d88191fee27f1a3"
     ]
    },
    "id": "wkX4QvI3X5rT",
    "outputId": "9f6d42cf-5c31-4094-98a3-c8101775d4f2"
   },
   "outputs": [
    {
     "name": "stderr",
     "output_type": "stream",
     "text": [
      "Pulling changes ...\n",
      "Configuration saved in b_tweet/config.json\n",
      "Model weights saved in b_tweet/pytorch_model.bin\n",
      "tokenizer config file saved in b_tweet_tok/tokenizer_config.json\n",
      "Special tokens file saved in b_tweet_tok/special_tokens_map.json\n",
      "Saving model checkpoint to b_tweet_trainer\n",
      "Configuration saved in b_tweet_trainer/config.json\n",
      "Model weights saved in b_tweet_trainer/pytorch_model.bin\n"
     ]
    },
    {
     "data": {
      "application/vnd.jupyter.widget-view+json": {
       "model_id": "baa35a53903546879f581c1c3b1f60c1",
       "version_major": 2,
       "version_minor": 0
      },
      "text/plain": [
       "Upload file b_tweet_trainer/pytorch_model.bin:   0%|          | 3.34k/515M [00:00<?, ?B/s]"
      ]
     },
     "metadata": {},
     "output_type": "display_data"
    },
    {
     "data": {
      "application/vnd.jupyter.widget-view+json": {
       "model_id": "73a98d45409648a8b08fde43bfc8e692",
       "version_major": 2,
       "version_minor": 0
      },
      "text/plain": [
       "Upload file b_tweet_trainer/training_args.bin: 100%|##########| 3.23k/3.23k [00:00<?, ?B/s]"
      ]
     },
     "metadata": {},
     "output_type": "display_data"
    },
    {
     "data": {
      "application/vnd.jupyter.widget-view+json": {
       "model_id": "e74bd4d0467e460f9a156f32f8eca4ee",
       "version_major": 2,
       "version_minor": 0
      },
      "text/plain": [
       "Upload file b_tweet/pytorch_model.bin:   0%|          | 3.34k/255M [00:00<?, ?B/s]"
      ]
     },
     "metadata": {},
     "output_type": "display_data"
    },
    {
     "name": "stderr",
     "output_type": "stream",
     "text": [
      "To https://huggingface.co/tatsumaru/bertweet\n",
      "   20e6bb3..e454b0e  main -> main\n",
      "\n"
     ]
    }
   ],
   "source": [
    "with repo.commit('t_bert'):\n",
    "  b_dist.save_pretrained('b_tweet')\n",
    "  b_dist_tok.save_pretrained('b_tweet_tok')\n",
    "  trainer.save_model('b_tweet_trainer')"
   ]
  },
  {
   "cell_type": "code",
   "execution_count": 75,
   "metadata": {
    "colab": {
     "base_uri": "https://localhost:8080/",
     "height": 89
    },
    "id": "Ki5CnYARX5rT",
    "outputId": "cd35c920-c1ad-454d-9c4d-5e2020dd6f2d"
   },
   "outputs": [
    {
     "name": "stderr",
     "output_type": "stream",
     "text": [
      "***** Running Prediction *****\n",
      "  Num examples = 100000\n",
      "  Batch size = 16\n"
     ]
    },
    {
     "data": {
      "text/html": [
       "\n",
       "    <div>\n",
       "      \n",
       "      <progress value='6250' max='6250' style='width:300px; height:20px; vertical-align: middle;'></progress>\n",
       "      [6250/6250 04:38]\n",
       "    </div>\n",
       "    "
      ],
      "text/plain": [
       "<IPython.core.display.HTML object>"
      ]
     },
     "metadata": {},
     "output_type": "display_data"
    }
   ],
   "source": [
    "y_pred_bert = trainer.predict(X_test_ds)"
   ]
  },
  {
   "cell_type": "code",
   "execution_count": 76,
   "metadata": {
    "id": "FYpvOrhKX5rT"
   },
   "outputs": [],
   "source": [
    "y_pred = []\n",
    "for y in y_pred_bert.predictions:\n",
    "  y_pred.append(np.argmax(y))"
   ]
  },
  {
   "cell_type": "code",
   "execution_count": 77,
   "metadata": {
    "colab": {
     "base_uri": "https://localhost:8080/"
    },
    "id": "A_AawvmeX5rT",
    "outputId": "ca00cf46-21b9-4137-aca9-bf2a1f67851b"
   },
   "outputs": [
    {
     "data": {
      "text/plain": [
       "array([[43660,  6340],\n",
       "       [ 7497, 42503]])"
      ]
     },
     "execution_count": 77,
     "metadata": {},
     "output_type": "execute_result"
    }
   ],
   "source": [
    "confusion_matrix(y_test, y_pred)"
   ]
  },
  {
   "cell_type": "code",
   "execution_count": 78,
   "metadata": {
    "colab": {
     "base_uri": "https://localhost:8080/"
    },
    "id": "8BOenVTkX5rT",
    "outputId": "21aa49f2-92cd-4770-e311-e0877fe15d08"
   },
   "outputs": [
    {
     "name": "stdout",
     "output_type": "stream",
     "text": [
      "Accuracy : 0.86163\n",
      "Recall : 0.85006\n",
      "AUC : 0.86163\n"
     ]
    }
   ],
   "source": [
    "print(f\"Accuracy : {accuracy_score(y_test, y_pred)}\")\n",
    "print(f\"Recall : {recall_score(y_test, y_pred)}\")\n",
    "print(f\"AUC : {roc_auc_score(y_test, y_pred)}\")"
   ]
  },
  {
   "cell_type": "markdown",
   "metadata": {},
   "source": [
    "*[(Retour sommaire)](#ch0)*"
   ]
  }
 ],
 "metadata": {
  "accelerator": "GPU",
  "colab": {
   "collapsed_sections": [],
   "machine_shape": "hm",
   "name": "P7",
   "provenance": []
  },
  "gpuClass": "standard",
  "kernelspec": {
   "display_name": "Python 3 (ipykernel)",
   "language": "python",
   "name": "python3"
  },
  "language_info": {
   "codemirror_mode": {
    "name": "ipython",
    "version": 3
   },
   "file_extension": ".py",
   "mimetype": "text/x-python",
   "name": "python",
   "nbconvert_exporter": "python",
   "pygments_lexer": "ipython3",
   "version": "3.10.5"
  },
  "widgets": {
   "application/vnd.jupyter.widget-state+json": {
    "015833da6caf4b648405105629e12e6f": {
     "model_module": "@jupyter-widgets/controls",
     "model_module_version": "1.5.0",
     "model_name": "HTMLModel",
     "state": {
      "_dom_classes": [],
      "_model_module": "@jupyter-widgets/controls",
      "_model_module_version": "1.5.0",
      "_model_name": "HTMLModel",
      "_view_count": null,
      "_view_module": "@jupyter-widgets/controls",
      "_view_module_version": "1.5.0",
      "_view_name": "HTMLView",
      "description": "",
      "description_tooltip": null,
      "layout": "IPY_MODEL_708c15710e33494ba96a2aceb17eeb65",
      "placeholder": "​",
      "style": "IPY_MODEL_15769b7512dd4c908a28eeb565748258",
      "value": " 3.23k/3.23k [00:02&lt;?, ?B/s]"
     }
    },
    "02ac3eae9b4949ddbaa7ed57ce1ed588": {
     "model_module": "@jupyter-widgets/controls",
     "model_module_version": "1.5.0",
     "model_name": "HTMLModel",
     "state": {
      "_dom_classes": [],
      "_model_module": "@jupyter-widgets/controls",
      "_model_module_version": "1.5.0",
      "_model_name": "HTMLModel",
      "_view_count": null,
      "_view_module": "@jupyter-widgets/controls",
      "_view_module_version": "1.5.0",
      "_view_name": "HTMLView",
      "description": "",
      "description_tooltip": null,
      "layout": "IPY_MODEL_594d76ea44d84752bee697eb9cf81217",
      "placeholder": "​",
      "style": "IPY_MODEL_4e5c2658b6ae467f84b019f32cb6a3dc",
      "value": "\n<b>Pro Tip:</b> If you don't already have one, you can create a dedicated\n'notebooks' token with 'write' access, that you can then easily reuse for all\nnotebooks. </center>"
     }
    },
    "0424e6a7fca140ce8aa79c075ce352ea": {
     "model_module": "@jupyter-widgets/base",
     "model_module_version": "1.2.0",
     "model_name": "LayoutModel",
     "state": {
      "_model_module": "@jupyter-widgets/base",
      "_model_module_version": "1.2.0",
      "_model_name": "LayoutModel",
      "_view_count": null,
      "_view_module": "@jupyter-widgets/base",
      "_view_module_version": "1.2.0",
      "_view_name": "LayoutView",
      "align_content": null,
      "align_items": null,
      "align_self": null,
      "border": null,
      "bottom": null,
      "display": null,
      "flex": null,
      "flex_flow": null,
      "grid_area": null,
      "grid_auto_columns": null,
      "grid_auto_flow": null,
      "grid_auto_rows": null,
      "grid_column": null,
      "grid_gap": null,
      "grid_row": null,
      "grid_template_areas": null,
      "grid_template_columns": null,
      "grid_template_rows": null,
      "height": null,
      "justify_content": null,
      "justify_items": null,
      "left": null,
      "margin": null,
      "max_height": null,
      "max_width": null,
      "min_height": null,
      "min_width": null,
      "object_fit": null,
      "object_position": null,
      "order": null,
      "overflow": null,
      "overflow_x": null,
      "overflow_y": null,
      "padding": null,
      "right": null,
      "top": null,
      "visibility": null,
      "width": null
     }
    },
    "05470db35b2e46339713f4dd26528ab5": {
     "model_module": "@jupyter-widgets/controls",
     "model_module_version": "1.5.0",
     "model_name": "ProgressStyleModel",
     "state": {
      "_model_module": "@jupyter-widgets/controls",
      "_model_module_version": "1.5.0",
      "_model_name": "ProgressStyleModel",
      "_view_count": null,
      "_view_module": "@jupyter-widgets/base",
      "_view_module_version": "1.2.0",
      "_view_name": "StyleView",
      "bar_color": null,
      "description_width": ""
     }
    },
    "0984c055f6e3412d978278b3af5e2ab0": {
     "model_module": "@jupyter-widgets/controls",
     "model_module_version": "1.5.0",
     "model_name": "HTMLModel",
     "state": {
      "_dom_classes": [],
      "_model_module": "@jupyter-widgets/controls",
      "_model_module_version": "1.5.0",
      "_model_name": "HTMLModel",
      "_view_count": null,
      "_view_module": "@jupyter-widgets/controls",
      "_view_module_version": "1.5.0",
      "_view_name": "HTMLView",
      "description": "",
      "description_tooltip": null,
      "layout": "IPY_MODEL_3c71fbe5974146d1b750c71db782807b",
      "placeholder": "​",
      "style": "IPY_MODEL_e5431fa403954bfc9d59364889bb7661",
      "value": "Downloading: 100%"
     }
    },
    "0c714ef99b304231ae281c455124d823": {
     "model_module": "@jupyter-widgets/base",
     "model_module_version": "1.2.0",
     "model_name": "LayoutModel",
     "state": {
      "_model_module": "@jupyter-widgets/base",
      "_model_module_version": "1.2.0",
      "_model_name": "LayoutModel",
      "_view_count": null,
      "_view_module": "@jupyter-widgets/base",
      "_view_module_version": "1.2.0",
      "_view_name": "LayoutView",
      "align_content": null,
      "align_items": null,
      "align_self": null,
      "border": null,
      "bottom": null,
      "display": null,
      "flex": null,
      "flex_flow": null,
      "grid_area": null,
      "grid_auto_columns": null,
      "grid_auto_flow": null,
      "grid_auto_rows": null,
      "grid_column": null,
      "grid_gap": null,
      "grid_row": null,
      "grid_template_areas": null,
      "grid_template_columns": null,
      "grid_template_rows": null,
      "height": null,
      "justify_content": null,
      "justify_items": null,
      "left": null,
      "margin": null,
      "max_height": null,
      "max_width": null,
      "min_height": null,
      "min_width": null,
      "object_fit": null,
      "object_position": null,
      "order": null,
      "overflow": null,
      "overflow_x": null,
      "overflow_y": null,
      "padding": null,
      "right": null,
      "top": null,
      "visibility": null,
      "width": null
     }
    },
    "0d6f45bfcd4b40038157ac71b37d7c54": {
     "model_module": "@jupyter-widgets/controls",
     "model_module_version": "1.5.0",
     "model_name": "ProgressStyleModel",
     "state": {
      "_model_module": "@jupyter-widgets/controls",
      "_model_module_version": "1.5.0",
      "_model_name": "ProgressStyleModel",
      "_view_count": null,
      "_view_module": "@jupyter-widgets/base",
      "_view_module_version": "1.2.0",
      "_view_name": "StyleView",
      "bar_color": null,
      "description_width": ""
     }
    },
    "0db636484ae84124820f17fbe080b46e": {
     "model_module": "@jupyter-widgets/base",
     "model_module_version": "1.2.0",
     "model_name": "LayoutModel",
     "state": {
      "_model_module": "@jupyter-widgets/base",
      "_model_module_version": "1.2.0",
      "_model_name": "LayoutModel",
      "_view_count": null,
      "_view_module": "@jupyter-widgets/base",
      "_view_module_version": "1.2.0",
      "_view_name": "LayoutView",
      "align_content": null,
      "align_items": null,
      "align_self": null,
      "border": null,
      "bottom": null,
      "display": null,
      "flex": null,
      "flex_flow": null,
      "grid_area": null,
      "grid_auto_columns": null,
      "grid_auto_flow": null,
      "grid_auto_rows": null,
      "grid_column": null,
      "grid_gap": null,
      "grid_row": null,
      "grid_template_areas": null,
      "grid_template_columns": null,
      "grid_template_rows": null,
      "height": null,
      "justify_content": null,
      "justify_items": null,
      "left": null,
      "margin": null,
      "max_height": null,
      "max_width": null,
      "min_height": null,
      "min_width": null,
      "object_fit": null,
      "object_position": null,
      "order": null,
      "overflow": null,
      "overflow_x": null,
      "overflow_y": null,
      "padding": null,
      "right": null,
      "top": null,
      "visibility": null,
      "width": null
     }
    },
    "0e61e70144fa41e7802ba2a1a3020bba": {
     "model_module": "@jupyter-widgets/base",
     "model_module_version": "1.2.0",
     "model_name": "LayoutModel",
     "state": {
      "_model_module": "@jupyter-widgets/base",
      "_model_module_version": "1.2.0",
      "_model_name": "LayoutModel",
      "_view_count": null,
      "_view_module": "@jupyter-widgets/base",
      "_view_module_version": "1.2.0",
      "_view_name": "LayoutView",
      "align_content": null,
      "align_items": null,
      "align_self": null,
      "border": null,
      "bottom": null,
      "display": null,
      "flex": null,
      "flex_flow": null,
      "grid_area": null,
      "grid_auto_columns": null,
      "grid_auto_flow": null,
      "grid_auto_rows": null,
      "grid_column": null,
      "grid_gap": null,
      "grid_row": null,
      "grid_template_areas": null,
      "grid_template_columns": null,
      "grid_template_rows": null,
      "height": null,
      "justify_content": null,
      "justify_items": null,
      "left": null,
      "margin": null,
      "max_height": null,
      "max_width": null,
      "min_height": null,
      "min_width": null,
      "object_fit": null,
      "object_position": null,
      "order": null,
      "overflow": null,
      "overflow_x": null,
      "overflow_y": null,
      "padding": null,
      "right": null,
      "top": null,
      "visibility": null,
      "width": null
     }
    },
    "0efe32933d524c3fa69e794b78eb9761": {
     "model_module": "@jupyter-widgets/base",
     "model_module_version": "1.2.0",
     "model_name": "LayoutModel",
     "state": {
      "_model_module": "@jupyter-widgets/base",
      "_model_module_version": "1.2.0",
      "_model_name": "LayoutModel",
      "_view_count": null,
      "_view_module": "@jupyter-widgets/base",
      "_view_module_version": "1.2.0",
      "_view_name": "LayoutView",
      "align_content": null,
      "align_items": null,
      "align_self": null,
      "border": null,
      "bottom": null,
      "display": null,
      "flex": null,
      "flex_flow": null,
      "grid_area": null,
      "grid_auto_columns": null,
      "grid_auto_flow": null,
      "grid_auto_rows": null,
      "grid_column": null,
      "grid_gap": null,
      "grid_row": null,
      "grid_template_areas": null,
      "grid_template_columns": null,
      "grid_template_rows": null,
      "height": null,
      "justify_content": null,
      "justify_items": null,
      "left": null,
      "margin": null,
      "max_height": null,
      "max_width": null,
      "min_height": null,
      "min_width": null,
      "object_fit": null,
      "object_position": null,
      "order": null,
      "overflow": null,
      "overflow_x": null,
      "overflow_y": null,
      "padding": null,
      "right": null,
      "top": null,
      "visibility": null,
      "width": null
     }
    },
    "116946e0ba614fa8bbcff00f0233df6c": {
     "model_module": "@jupyter-widgets/base",
     "model_module_version": "1.2.0",
     "model_name": "LayoutModel",
     "state": {
      "_model_module": "@jupyter-widgets/base",
      "_model_module_version": "1.2.0",
      "_model_name": "LayoutModel",
      "_view_count": null,
      "_view_module": "@jupyter-widgets/base",
      "_view_module_version": "1.2.0",
      "_view_name": "LayoutView",
      "align_content": null,
      "align_items": null,
      "align_self": null,
      "border": null,
      "bottom": null,
      "display": null,
      "flex": null,
      "flex_flow": null,
      "grid_area": null,
      "grid_auto_columns": null,
      "grid_auto_flow": null,
      "grid_auto_rows": null,
      "grid_column": null,
      "grid_gap": null,
      "grid_row": null,
      "grid_template_areas": null,
      "grid_template_columns": null,
      "grid_template_rows": null,
      "height": null,
      "justify_content": null,
      "justify_items": null,
      "left": null,
      "margin": null,
      "max_height": null,
      "max_width": null,
      "min_height": null,
      "min_width": null,
      "object_fit": null,
      "object_position": null,
      "order": null,
      "overflow": null,
      "overflow_x": null,
      "overflow_y": null,
      "padding": null,
      "right": null,
      "top": null,
      "visibility": null,
      "width": null
     }
    },
    "132fd547d1d34eb1be152bf1d8d175fc": {
     "model_module": "@jupyter-widgets/controls",
     "model_module_version": "1.5.0",
     "model_name": "HTMLModel",
     "state": {
      "_dom_classes": [],
      "_model_module": "@jupyter-widgets/controls",
      "_model_module_version": "1.5.0",
      "_model_name": "HTMLModel",
      "_view_count": null,
      "_view_module": "@jupyter-widgets/controls",
      "_view_module_version": "1.5.0",
      "_view_name": "HTMLView",
      "description": "",
      "description_tooltip": null,
      "layout": "IPY_MODEL_d53a4c85f73f405db228f48b26ee897d",
      "placeholder": "​",
      "style": "IPY_MODEL_8a3c387641984c39a8a85003f5933bee",
      "value": "Upload file b_tweet/pytorch_model.bin: 100%"
     }
    },
    "1559df5ab0c7439b9b41abad1ca5192d": {
     "model_module": "@jupyter-widgets/controls",
     "model_module_version": "1.5.0",
     "model_name": "ProgressStyleModel",
     "state": {
      "_model_module": "@jupyter-widgets/controls",
      "_model_module_version": "1.5.0",
      "_model_name": "ProgressStyleModel",
      "_view_count": null,
      "_view_module": "@jupyter-widgets/base",
      "_view_module_version": "1.2.0",
      "_view_name": "StyleView",
      "bar_color": null,
      "description_width": ""
     }
    },
    "15769b7512dd4c908a28eeb565748258": {
     "model_module": "@jupyter-widgets/controls",
     "model_module_version": "1.5.0",
     "model_name": "DescriptionStyleModel",
     "state": {
      "_model_module": "@jupyter-widgets/controls",
      "_model_module_version": "1.5.0",
      "_model_name": "DescriptionStyleModel",
      "_view_count": null,
      "_view_module": "@jupyter-widgets/base",
      "_view_module_version": "1.2.0",
      "_view_name": "StyleView",
      "description_width": ""
     }
    },
    "17d61ec2b21c405788bbf93daefef530": {
     "model_module": "@jupyter-widgets/controls",
     "model_module_version": "1.5.0",
     "model_name": "HTMLModel",
     "state": {
      "_dom_classes": [],
      "_model_module": "@jupyter-widgets/controls",
      "_model_module_version": "1.5.0",
      "_model_name": "HTMLModel",
      "_view_count": null,
      "_view_module": "@jupyter-widgets/controls",
      "_view_module_version": "1.5.0",
      "_view_name": "HTMLView",
      "description": "",
      "description_tooltip": null,
      "layout": "IPY_MODEL_ee4bb4514add4825bc6710c7a540bddd",
      "placeholder": "​",
      "style": "IPY_MODEL_60954e2eb8bc4384be7a42c172c5a4b3",
      "value": "Downloading: 100%"
     }
    },
    "18391ba116e34f85bb8d4a9ea3160514": {
     "model_module": "@jupyter-widgets/base",
     "model_module_version": "1.2.0",
     "model_name": "LayoutModel",
     "state": {
      "_model_module": "@jupyter-widgets/base",
      "_model_module_version": "1.2.0",
      "_model_name": "LayoutModel",
      "_view_count": null,
      "_view_module": "@jupyter-widgets/base",
      "_view_module_version": "1.2.0",
      "_view_name": "LayoutView",
      "align_content": null,
      "align_items": null,
      "align_self": null,
      "border": null,
      "bottom": null,
      "display": null,
      "flex": null,
      "flex_flow": null,
      "grid_area": null,
      "grid_auto_columns": null,
      "grid_auto_flow": null,
      "grid_auto_rows": null,
      "grid_column": null,
      "grid_gap": null,
      "grid_row": null,
      "grid_template_areas": null,
      "grid_template_columns": null,
      "grid_template_rows": null,
      "height": null,
      "justify_content": null,
      "justify_items": null,
      "left": null,
      "margin": null,
      "max_height": null,
      "max_width": null,
      "min_height": null,
      "min_width": null,
      "object_fit": null,
      "object_position": null,
      "order": null,
      "overflow": null,
      "overflow_x": null,
      "overflow_y": null,
      "padding": null,
      "right": null,
      "top": null,
      "visibility": null,
      "width": null
     }
    },
    "18fa0acf7d4f4baf875c342993d09163": {
     "model_module": "@jupyter-widgets/controls",
     "model_module_version": "1.5.0",
     "model_name": "HTMLModel",
     "state": {
      "_dom_classes": [],
      "_model_module": "@jupyter-widgets/controls",
      "_model_module_version": "1.5.0",
      "_model_name": "HTMLModel",
      "_view_count": null,
      "_view_module": "@jupyter-widgets/controls",
      "_view_module_version": "1.5.0",
      "_view_name": "HTMLView",
      "description": "",
      "description_tooltip": null,
      "layout": "IPY_MODEL_116946e0ba614fa8bbcff00f0233df6c",
      "placeholder": "​",
      "style": "IPY_MODEL_d1e3e1fa762f4bfa9caaca4b4d354dec",
      "value": " 256M/256M [00:06&lt;00:00, 44.9MB/s]"
     }
    },
    "19a2559e0f0046df97ec4429711886af": {
     "model_module": "@jupyter-widgets/base",
     "model_module_version": "1.2.0",
     "model_name": "LayoutModel",
     "state": {
      "_model_module": "@jupyter-widgets/base",
      "_model_module_version": "1.2.0",
      "_model_name": "LayoutModel",
      "_view_count": null,
      "_view_module": "@jupyter-widgets/base",
      "_view_module_version": "1.2.0",
      "_view_name": "LayoutView",
      "align_content": null,
      "align_items": null,
      "align_self": null,
      "border": null,
      "bottom": null,
      "display": null,
      "flex": null,
      "flex_flow": null,
      "grid_area": null,
      "grid_auto_columns": null,
      "grid_auto_flow": null,
      "grid_auto_rows": null,
      "grid_column": null,
      "grid_gap": null,
      "grid_row": null,
      "grid_template_areas": null,
      "grid_template_columns": null,
      "grid_template_rows": null,
      "height": null,
      "justify_content": null,
      "justify_items": null,
      "left": null,
      "margin": null,
      "max_height": null,
      "max_width": null,
      "min_height": null,
      "min_width": null,
      "object_fit": null,
      "object_position": null,
      "order": null,
      "overflow": null,
      "overflow_x": null,
      "overflow_y": null,
      "padding": null,
      "right": null,
      "top": null,
      "visibility": null,
      "width": null
     }
    },
    "1a6deffdf0d147788d60bbcf64eda002": {
     "model_module": "@jupyter-widgets/controls",
     "model_module_version": "1.5.0",
     "model_name": "HTMLModel",
     "state": {
      "_dom_classes": [],
      "_model_module": "@jupyter-widgets/controls",
      "_model_module_version": "1.5.0",
      "_model_name": "HTMLModel",
      "_view_count": null,
      "_view_module": "@jupyter-widgets/controls",
      "_view_module_version": "1.5.0",
      "_view_name": "HTMLView",
      "description": "",
      "description_tooltip": null,
      "layout": "IPY_MODEL_0e61e70144fa41e7802ba2a1a3020bba",
      "placeholder": "​",
      "style": "IPY_MODEL_6e5b760bc7a94f2da19b823cd096be1e",
      "value": " 517M/517M [00:12&lt;00:00, 41.9MB/s]"
     }
    },
    "1ae6dc8b99414af9819fd0b52c5d36a7": {
     "model_module": "@jupyter-widgets/controls",
     "model_module_version": "1.5.0",
     "model_name": "FloatProgressModel",
     "state": {
      "_dom_classes": [],
      "_model_module": "@jupyter-widgets/controls",
      "_model_module_version": "1.5.0",
      "_model_name": "FloatProgressModel",
      "_view_count": null,
      "_view_module": "@jupyter-widgets/controls",
      "_view_module_version": "1.5.0",
      "_view_name": "ProgressView",
      "bar_style": "success",
      "description": "",
      "description_tooltip": null,
      "layout": "IPY_MODEL_a2efded70138450192a707c712337a89",
      "max": 1078931,
      "min": 0,
      "orientation": "horizontal",
      "style": "IPY_MODEL_5656d201f10844498c1cda855e32baf0",
      "value": 1078931
     }
    },
    "1bc6c890b01e4cbab66041561166fcf5": {
     "model_module": "@jupyter-widgets/base",
     "model_module_version": "1.2.0",
     "model_name": "LayoutModel",
     "state": {
      "_model_module": "@jupyter-widgets/base",
      "_model_module_version": "1.2.0",
      "_model_name": "LayoutModel",
      "_view_count": null,
      "_view_module": "@jupyter-widgets/base",
      "_view_module_version": "1.2.0",
      "_view_name": "LayoutView",
      "align_content": null,
      "align_items": null,
      "align_self": null,
      "border": null,
      "bottom": null,
      "display": null,
      "flex": null,
      "flex_flow": null,
      "grid_area": null,
      "grid_auto_columns": null,
      "grid_auto_flow": null,
      "grid_auto_rows": null,
      "grid_column": null,
      "grid_gap": null,
      "grid_row": null,
      "grid_template_areas": null,
      "grid_template_columns": null,
      "grid_template_rows": null,
      "height": null,
      "justify_content": null,
      "justify_items": null,
      "left": null,
      "margin": null,
      "max_height": null,
      "max_width": null,
      "min_height": null,
      "min_width": null,
      "object_fit": null,
      "object_position": null,
      "order": null,
      "overflow": null,
      "overflow_x": null,
      "overflow_y": null,
      "padding": null,
      "right": null,
      "top": null,
      "visibility": null,
      "width": null
     }
    },
    "1bee90e83a614f89b6d0be09010c4aef": {
     "model_module": "@jupyter-widgets/base",
     "model_module_version": "1.2.0",
     "model_name": "LayoutModel",
     "state": {
      "_model_module": "@jupyter-widgets/base",
      "_model_module_version": "1.2.0",
      "_model_name": "LayoutModel",
      "_view_count": null,
      "_view_module": "@jupyter-widgets/base",
      "_view_module_version": "1.2.0",
      "_view_name": "LayoutView",
      "align_content": null,
      "align_items": null,
      "align_self": null,
      "border": null,
      "bottom": null,
      "display": null,
      "flex": null,
      "flex_flow": null,
      "grid_area": null,
      "grid_auto_columns": null,
      "grid_auto_flow": null,
      "grid_auto_rows": null,
      "grid_column": null,
      "grid_gap": null,
      "grid_row": null,
      "grid_template_areas": null,
      "grid_template_columns": null,
      "grid_template_rows": null,
      "height": null,
      "justify_content": null,
      "justify_items": null,
      "left": null,
      "margin": null,
      "max_height": null,
      "max_width": null,
      "min_height": null,
      "min_width": null,
      "object_fit": null,
      "object_position": null,
      "order": null,
      "overflow": null,
      "overflow_x": null,
      "overflow_y": null,
      "padding": null,
      "right": null,
      "top": null,
      "visibility": null,
      "width": null
     }
    },
    "1c18f8ba91744bdd8bd3ac1332524ed7": {
     "model_module": "@jupyter-widgets/base",
     "model_module_version": "1.2.0",
     "model_name": "LayoutModel",
     "state": {
      "_model_module": "@jupyter-widgets/base",
      "_model_module_version": "1.2.0",
      "_model_name": "LayoutModel",
      "_view_count": null,
      "_view_module": "@jupyter-widgets/base",
      "_view_module_version": "1.2.0",
      "_view_name": "LayoutView",
      "align_content": null,
      "align_items": null,
      "align_self": null,
      "border": null,
      "bottom": null,
      "display": null,
      "flex": null,
      "flex_flow": null,
      "grid_area": null,
      "grid_auto_columns": null,
      "grid_auto_flow": null,
      "grid_auto_rows": null,
      "grid_column": null,
      "grid_gap": null,
      "grid_row": null,
      "grid_template_areas": null,
      "grid_template_columns": null,
      "grid_template_rows": null,
      "height": null,
      "justify_content": null,
      "justify_items": null,
      "left": null,
      "margin": null,
      "max_height": null,
      "max_width": null,
      "min_height": null,
      "min_width": null,
      "object_fit": null,
      "object_position": null,
      "order": null,
      "overflow": null,
      "overflow_x": null,
      "overflow_y": null,
      "padding": null,
      "right": null,
      "top": null,
      "visibility": null,
      "width": null
     }
    },
    "1c57e904902b42a287742ead7c39367a": {
     "model_module": "@jupyter-widgets/controls",
     "model_module_version": "1.5.0",
     "model_name": "HBoxModel",
     "state": {
      "_dom_classes": [],
      "_model_module": "@jupyter-widgets/controls",
      "_model_module_version": "1.5.0",
      "_model_name": "HBoxModel",
      "_view_count": null,
      "_view_module": "@jupyter-widgets/controls",
      "_view_module_version": "1.5.0",
      "_view_name": "HBoxView",
      "box_style": "",
      "children": [
       "IPY_MODEL_894b4f6f5061482caa441c551a6e61e0",
       "IPY_MODEL_a32ecb4e6bdc48ccaac524654c1bc656",
       "IPY_MODEL_015833da6caf4b648405105629e12e6f"
      ],
      "layout": "IPY_MODEL_f79315f799a04b67b1b5f902d13de1ad"
     }
    },
    "21664a2a491f4f32b9c9cd00ba3d3aa3": {
     "model_module": "@jupyter-widgets/controls",
     "model_module_version": "1.5.0",
     "model_name": "ProgressStyleModel",
     "state": {
      "_model_module": "@jupyter-widgets/controls",
      "_model_module_version": "1.5.0",
      "_model_name": "ProgressStyleModel",
      "_view_count": null,
      "_view_module": "@jupyter-widgets/base",
      "_view_module_version": "1.2.0",
      "_view_name": "StyleView",
      "bar_color": null,
      "description_width": ""
     }
    },
    "21bb969c9dfb435d84e1c9e870422209": {
     "model_module": "@jupyter-widgets/base",
     "model_module_version": "1.2.0",
     "model_name": "LayoutModel",
     "state": {
      "_model_module": "@jupyter-widgets/base",
      "_model_module_version": "1.2.0",
      "_model_name": "LayoutModel",
      "_view_count": null,
      "_view_module": "@jupyter-widgets/base",
      "_view_module_version": "1.2.0",
      "_view_name": "LayoutView",
      "align_content": null,
      "align_items": null,
      "align_self": null,
      "border": null,
      "bottom": null,
      "display": null,
      "flex": null,
      "flex_flow": null,
      "grid_area": null,
      "grid_auto_columns": null,
      "grid_auto_flow": null,
      "grid_auto_rows": null,
      "grid_column": null,
      "grid_gap": null,
      "grid_row": null,
      "grid_template_areas": null,
      "grid_template_columns": null,
      "grid_template_rows": null,
      "height": null,
      "justify_content": null,
      "justify_items": null,
      "left": null,
      "margin": null,
      "max_height": null,
      "max_width": null,
      "min_height": null,
      "min_width": null,
      "object_fit": null,
      "object_position": null,
      "order": null,
      "overflow": null,
      "overflow_x": null,
      "overflow_y": null,
      "padding": null,
      "right": null,
      "top": null,
      "visibility": null,
      "width": null
     }
    },
    "21dda3f91c2d4b99a252182d3f3c006b": {
     "model_module": "@jupyter-widgets/controls",
     "model_module_version": "1.5.0",
     "model_name": "DescriptionStyleModel",
     "state": {
      "_model_module": "@jupyter-widgets/controls",
      "_model_module_version": "1.5.0",
      "_model_name": "DescriptionStyleModel",
      "_view_count": null,
      "_view_module": "@jupyter-widgets/base",
      "_view_module_version": "1.2.0",
      "_view_name": "StyleView",
      "description_width": ""
     }
    },
    "2ea295c4ae744288aee0f1d567dc8508": {
     "model_module": "@jupyter-widgets/controls",
     "model_module_version": "1.5.0",
     "model_name": "FloatProgressModel",
     "state": {
      "_dom_classes": [],
      "_model_module": "@jupyter-widgets/controls",
      "_model_module_version": "1.5.0",
      "_model_name": "FloatProgressModel",
      "_view_count": null,
      "_view_module": "@jupyter-widgets/controls",
      "_view_module_version": "1.5.0",
      "_view_name": "ProgressView",
      "bar_style": "success",
      "description": "",
      "description_tooltip": null,
      "layout": "IPY_MODEL_30c543c2a5364c388972df13720b3bee",
      "max": 542529064,
      "min": 0,
      "orientation": "horizontal",
      "style": "IPY_MODEL_0d6f45bfcd4b40038157ac71b37d7c54",
      "value": 542529064
     }
    },
    "2f480d4bc1ce4b1884aa39fcb68997ec": {
     "model_module": "@jupyter-widgets/base",
     "model_module_version": "1.2.0",
     "model_name": "LayoutModel",
     "state": {
      "_model_module": "@jupyter-widgets/base",
      "_model_module_version": "1.2.0",
      "_model_name": "LayoutModel",
      "_view_count": null,
      "_view_module": "@jupyter-widgets/base",
      "_view_module_version": "1.2.0",
      "_view_name": "LayoutView",
      "align_content": null,
      "align_items": null,
      "align_self": null,
      "border": null,
      "bottom": null,
      "display": null,
      "flex": null,
      "flex_flow": null,
      "grid_area": null,
      "grid_auto_columns": null,
      "grid_auto_flow": null,
      "grid_auto_rows": null,
      "grid_column": null,
      "grid_gap": null,
      "grid_row": null,
      "grid_template_areas": null,
      "grid_template_columns": null,
      "grid_template_rows": null,
      "height": null,
      "justify_content": null,
      "justify_items": null,
      "left": null,
      "margin": null,
      "max_height": null,
      "max_width": null,
      "min_height": null,
      "min_width": null,
      "object_fit": null,
      "object_position": null,
      "order": null,
      "overflow": null,
      "overflow_x": null,
      "overflow_y": null,
      "padding": null,
      "right": null,
      "top": null,
      "visibility": null,
      "width": null
     }
    },
    "30a0f95cb0de4e3799a48dd868f1939e": {
     "model_module": "@jupyter-widgets/controls",
     "model_module_version": "1.5.0",
     "model_name": "HTMLModel",
     "state": {
      "_dom_classes": [],
      "_model_module": "@jupyter-widgets/controls",
      "_model_module_version": "1.5.0",
      "_model_name": "HTMLModel",
      "_view_count": null,
      "_view_module": "@jupyter-widgets/controls",
      "_view_module_version": "1.5.0",
      "_view_name": "HTMLView",
      "description": "",
      "description_tooltip": null,
      "layout": "IPY_MODEL_21bb969c9dfb435d84e1c9e870422209",
      "placeholder": "​",
      "style": "IPY_MODEL_95234729eba14f7a8c67a589864d1f96",
      "value": "Upload file b_dist/pytorch_model.bin: 100%"
     }
    },
    "30c543c2a5364c388972df13720b3bee": {
     "model_module": "@jupyter-widgets/base",
     "model_module_version": "1.2.0",
     "model_name": "LayoutModel",
     "state": {
      "_model_module": "@jupyter-widgets/base",
      "_model_module_version": "1.2.0",
      "_model_name": "LayoutModel",
      "_view_count": null,
      "_view_module": "@jupyter-widgets/base",
      "_view_module_version": "1.2.0",
      "_view_name": "LayoutView",
      "align_content": null,
      "align_items": null,
      "align_self": null,
      "border": null,
      "bottom": null,
      "display": null,
      "flex": null,
      "flex_flow": null,
      "grid_area": null,
      "grid_auto_columns": null,
      "grid_auto_flow": null,
      "grid_auto_rows": null,
      "grid_column": null,
      "grid_gap": null,
      "grid_row": null,
      "grid_template_areas": null,
      "grid_template_columns": null,
      "grid_template_rows": null,
      "height": null,
      "justify_content": null,
      "justify_items": null,
      "left": null,
      "margin": null,
      "max_height": null,
      "max_width": null,
      "min_height": null,
      "min_width": null,
      "object_fit": null,
      "object_position": null,
      "order": null,
      "overflow": null,
      "overflow_x": null,
      "overflow_y": null,
      "padding": null,
      "right": null,
      "top": null,
      "visibility": null,
      "width": null
     }
    },
    "340febe6165048bf9a8224aa6f593204": {
     "model_module": "@jupyter-widgets/controls",
     "model_module_version": "1.5.0",
     "model_name": "HTMLModel",
     "state": {
      "_dom_classes": [],
      "_model_module": "@jupyter-widgets/controls",
      "_model_module_version": "1.5.0",
      "_model_name": "HTMLModel",
      "_view_count": null,
      "_view_module": "@jupyter-widgets/controls",
      "_view_module_version": "1.5.0",
      "_view_name": "HTMLView",
      "description": "",
      "description_tooltip": null,
      "layout": "IPY_MODEL_c3ff0f107d5243749fb7e6a1409cf5c1",
      "placeholder": "​",
      "style": "IPY_MODEL_21dda3f91c2d4b99a252182d3f3c006b",
      "value": " 558/558 [00:00&lt;00:00, 12.2kB/s]"
     }
    },
    "3706bb88f0644ff495316619dee55d3b": {
     "model_module": "@jupyter-widgets/base",
     "model_module_version": "1.2.0",
     "model_name": "LayoutModel",
     "state": {
      "_model_module": "@jupyter-widgets/base",
      "_model_module_version": "1.2.0",
      "_model_name": "LayoutModel",
      "_view_count": null,
      "_view_module": "@jupyter-widgets/base",
      "_view_module_version": "1.2.0",
      "_view_name": "LayoutView",
      "align_content": null,
      "align_items": null,
      "align_self": null,
      "border": null,
      "bottom": null,
      "display": null,
      "flex": null,
      "flex_flow": null,
      "grid_area": null,
      "grid_auto_columns": null,
      "grid_auto_flow": null,
      "grid_auto_rows": null,
      "grid_column": null,
      "grid_gap": null,
      "grid_row": null,
      "grid_template_areas": null,
      "grid_template_columns": null,
      "grid_template_rows": null,
      "height": null,
      "justify_content": null,
      "justify_items": null,
      "left": null,
      "margin": null,
      "max_height": null,
      "max_width": null,
      "min_height": null,
      "min_width": null,
      "object_fit": null,
      "object_position": null,
      "order": null,
      "overflow": null,
      "overflow_x": null,
      "overflow_y": null,
      "padding": null,
      "right": null,
      "top": null,
      "visibility": null,
      "width": null
     }
    },
    "397c6f8b27fe4adc81b3790dd5024443": {
     "model_module": "@jupyter-widgets/controls",
     "model_module_version": "1.5.0",
     "model_name": "DescriptionStyleModel",
     "state": {
      "_model_module": "@jupyter-widgets/controls",
      "_model_module_version": "1.5.0",
      "_model_name": "DescriptionStyleModel",
      "_view_count": null,
      "_view_module": "@jupyter-widgets/base",
      "_view_module_version": "1.2.0",
      "_view_name": "StyleView",
      "description_width": ""
     }
    },
    "3c1d0ec80c2645a5911706218f82bbe6": {
     "model_module": "@jupyter-widgets/controls",
     "model_module_version": "1.5.0",
     "model_name": "DescriptionStyleModel",
     "state": {
      "_model_module": "@jupyter-widgets/controls",
      "_model_module_version": "1.5.0",
      "_model_name": "DescriptionStyleModel",
      "_view_count": null,
      "_view_module": "@jupyter-widgets/base",
      "_view_module_version": "1.2.0",
      "_view_name": "StyleView",
      "description_width": ""
     }
    },
    "3c71fbe5974146d1b750c71db782807b": {
     "model_module": "@jupyter-widgets/base",
     "model_module_version": "1.2.0",
     "model_name": "LayoutModel",
     "state": {
      "_model_module": "@jupyter-widgets/base",
      "_model_module_version": "1.2.0",
      "_model_name": "LayoutModel",
      "_view_count": null,
      "_view_module": "@jupyter-widgets/base",
      "_view_module_version": "1.2.0",
      "_view_name": "LayoutView",
      "align_content": null,
      "align_items": null,
      "align_self": null,
      "border": null,
      "bottom": null,
      "display": null,
      "flex": null,
      "flex_flow": null,
      "grid_area": null,
      "grid_auto_columns": null,
      "grid_auto_flow": null,
      "grid_auto_rows": null,
      "grid_column": null,
      "grid_gap": null,
      "grid_row": null,
      "grid_template_areas": null,
      "grid_template_columns": null,
      "grid_template_rows": null,
      "height": null,
      "justify_content": null,
      "justify_items": null,
      "left": null,
      "margin": null,
      "max_height": null,
      "max_width": null,
      "min_height": null,
      "min_width": null,
      "object_fit": null,
      "object_position": null,
      "order": null,
      "overflow": null,
      "overflow_x": null,
      "overflow_y": null,
      "padding": null,
      "right": null,
      "top": null,
      "visibility": null,
      "width": null
     }
    },
    "4197a762b5ad4f7d8e99eec20e9107a4": {
     "model_module": "@jupyter-widgets/base",
     "model_module_version": "1.2.0",
     "model_name": "LayoutModel",
     "state": {
      "_model_module": "@jupyter-widgets/base",
      "_model_module_version": "1.2.0",
      "_model_name": "LayoutModel",
      "_view_count": null,
      "_view_module": "@jupyter-widgets/base",
      "_view_module_version": "1.2.0",
      "_view_name": "LayoutView",
      "align_content": null,
      "align_items": null,
      "align_self": null,
      "border": null,
      "bottom": null,
      "display": null,
      "flex": null,
      "flex_flow": null,
      "grid_area": null,
      "grid_auto_columns": null,
      "grid_auto_flow": null,
      "grid_auto_rows": null,
      "grid_column": null,
      "grid_gap": null,
      "grid_row": null,
      "grid_template_areas": null,
      "grid_template_columns": null,
      "grid_template_rows": null,
      "height": null,
      "justify_content": null,
      "justify_items": null,
      "left": null,
      "margin": null,
      "max_height": null,
      "max_width": null,
      "min_height": null,
      "min_width": null,
      "object_fit": null,
      "object_position": null,
      "order": null,
      "overflow": null,
      "overflow_x": null,
      "overflow_y": null,
      "padding": null,
      "right": null,
      "top": null,
      "visibility": null,
      "width": null
     }
    },
    "41b7255d32104d159a4828a7c7b4d55b": {
     "model_module": "@jupyter-widgets/controls",
     "model_module_version": "1.5.0",
     "model_name": "FloatProgressModel",
     "state": {
      "_dom_classes": [],
      "_model_module": "@jupyter-widgets/controls",
      "_model_module_version": "1.5.0",
      "_model_name": "FloatProgressModel",
      "_view_count": null,
      "_view_module": "@jupyter-widgets/controls",
      "_view_module_version": "1.5.0",
      "_view_name": "ProgressView",
      "bar_style": "success",
      "description": "",
      "description_tooltip": null,
      "layout": "IPY_MODEL_5add33bfbf444e33990459c217b42e6f",
      "max": 267967963,
      "min": 0,
      "orientation": "horizontal",
      "style": "IPY_MODEL_798c621214f547b6ab94b7046b6826dc",
      "value": 267967963
     }
    },
    "43005b17ade44315b9b685ad21f4cfaa": {
     "model_module": "@jupyter-widgets/controls",
     "model_module_version": "1.5.0",
     "model_name": "ProgressStyleModel",
     "state": {
      "_model_module": "@jupyter-widgets/controls",
      "_model_module_version": "1.5.0",
      "_model_name": "ProgressStyleModel",
      "_view_count": null,
      "_view_module": "@jupyter-widgets/base",
      "_view_module_version": "1.2.0",
      "_view_name": "StyleView",
      "bar_color": null,
      "description_width": ""
     }
    },
    "45585a0486b84007930b038e94720cc2": {
     "model_module": "@jupyter-widgets/controls",
     "model_module_version": "1.5.0",
     "model_name": "HTMLModel",
     "state": {
      "_dom_classes": [],
      "_model_module": "@jupyter-widgets/controls",
      "_model_module_version": "1.5.0",
      "_model_name": "HTMLModel",
      "_view_count": null,
      "_view_module": "@jupyter-widgets/controls",
      "_view_module_version": "1.5.0",
      "_view_name": "HTMLView",
      "description": "",
      "description_tooltip": null,
      "layout": "IPY_MODEL_50da65904ed5443491df09698f45c0fb",
      "placeholder": "​",
      "style": "IPY_MODEL_4a238b9a686b48e5b4eff6584edf8442",
      "value": "Upload file b_tweet_trainer/pytorch_model.bin: 100%"
     }
    },
    "4a238b9a686b48e5b4eff6584edf8442": {
     "model_module": "@jupyter-widgets/controls",
     "model_module_version": "1.5.0",
     "model_name": "DescriptionStyleModel",
     "state": {
      "_model_module": "@jupyter-widgets/controls",
      "_model_module_version": "1.5.0",
      "_model_name": "DescriptionStyleModel",
      "_view_count": null,
      "_view_module": "@jupyter-widgets/base",
      "_view_module_version": "1.2.0",
      "_view_name": "StyleView",
      "description_width": ""
     }
    },
    "4c02cf308c8846f0bac06a218eb7e745": {
     "model_module": "@jupyter-widgets/controls",
     "model_module_version": "1.5.0",
     "model_name": "DescriptionStyleModel",
     "state": {
      "_model_module": "@jupyter-widgets/controls",
      "_model_module_version": "1.5.0",
      "_model_name": "DescriptionStyleModel",
      "_view_count": null,
      "_view_module": "@jupyter-widgets/base",
      "_view_module_version": "1.2.0",
      "_view_name": "StyleView",
      "description_width": ""
     }
    },
    "4e5c2658b6ae467f84b019f32cb6a3dc": {
     "model_module": "@jupyter-widgets/controls",
     "model_module_version": "1.5.0",
     "model_name": "DescriptionStyleModel",
     "state": {
      "_model_module": "@jupyter-widgets/controls",
      "_model_module_version": "1.5.0",
      "_model_name": "DescriptionStyleModel",
      "_view_count": null,
      "_view_module": "@jupyter-widgets/base",
      "_view_module_version": "1.2.0",
      "_view_name": "StyleView",
      "description_width": ""
     }
    },
    "50da65904ed5443491df09698f45c0fb": {
     "model_module": "@jupyter-widgets/base",
     "model_module_version": "1.2.0",
     "model_name": "LayoutModel",
     "state": {
      "_model_module": "@jupyter-widgets/base",
      "_model_module_version": "1.2.0",
      "_model_name": "LayoutModel",
      "_view_count": null,
      "_view_module": "@jupyter-widgets/base",
      "_view_module_version": "1.2.0",
      "_view_name": "LayoutView",
      "align_content": null,
      "align_items": null,
      "align_self": null,
      "border": null,
      "bottom": null,
      "display": null,
      "flex": null,
      "flex_flow": null,
      "grid_area": null,
      "grid_auto_columns": null,
      "grid_auto_flow": null,
      "grid_auto_rows": null,
      "grid_column": null,
      "grid_gap": null,
      "grid_row": null,
      "grid_template_areas": null,
      "grid_template_columns": null,
      "grid_template_rows": null,
      "height": null,
      "justify_content": null,
      "justify_items": null,
      "left": null,
      "margin": null,
      "max_height": null,
      "max_width": null,
      "min_height": null,
      "min_width": null,
      "object_fit": null,
      "object_position": null,
      "order": null,
      "overflow": null,
      "overflow_x": null,
      "overflow_y": null,
      "padding": null,
      "right": null,
      "top": null,
      "visibility": null,
      "width": null
     }
    },
    "532c8adbdca94b3b855c259d323173bc": {
     "model_module": "@jupyter-widgets/controls",
     "model_module_version": "1.5.0",
     "model_name": "FloatProgressModel",
     "state": {
      "_dom_classes": [],
      "_model_module": "@jupyter-widgets/controls",
      "_model_module_version": "1.5.0",
      "_model_name": "FloatProgressModel",
      "_view_count": null,
      "_view_module": "@jupyter-widgets/controls",
      "_view_module_version": "1.5.0",
      "_view_name": "ProgressView",
      "bar_style": "success",
      "description": "",
      "description_tooltip": null,
      "layout": "IPY_MODEL_0efe32933d524c3fa69e794b78eb9761",
      "max": 843438,
      "min": 0,
      "orientation": "horizontal",
      "style": "IPY_MODEL_21664a2a491f4f32b9c9cd00ba3d3aa3",
      "value": 843438
     }
    },
    "5656d201f10844498c1cda855e32baf0": {
     "model_module": "@jupyter-widgets/controls",
     "model_module_version": "1.5.0",
     "model_name": "ProgressStyleModel",
     "state": {
      "_model_module": "@jupyter-widgets/controls",
      "_model_module_version": "1.5.0",
      "_model_name": "ProgressStyleModel",
      "_view_count": null,
      "_view_module": "@jupyter-widgets/base",
      "_view_module_version": "1.2.0",
      "_view_name": "StyleView",
      "bar_color": null,
      "description_width": ""
     }
    },
    "588df2d7c5b34703aa0c6feb66a10925": {
     "model_module": "@jupyter-widgets/base",
     "model_module_version": "1.2.0",
     "model_name": "LayoutModel",
     "state": {
      "_model_module": "@jupyter-widgets/base",
      "_model_module_version": "1.2.0",
      "_model_name": "LayoutModel",
      "_view_count": null,
      "_view_module": "@jupyter-widgets/base",
      "_view_module_version": "1.2.0",
      "_view_name": "LayoutView",
      "align_content": null,
      "align_items": "center",
      "align_self": null,
      "border": null,
      "bottom": null,
      "display": "flex",
      "flex": null,
      "flex_flow": "column",
      "grid_area": null,
      "grid_auto_columns": null,
      "grid_auto_flow": null,
      "grid_auto_rows": null,
      "grid_column": null,
      "grid_gap": null,
      "grid_row": null,
      "grid_template_areas": null,
      "grid_template_columns": null,
      "grid_template_rows": null,
      "height": null,
      "justify_content": null,
      "justify_items": null,
      "left": null,
      "margin": null,
      "max_height": null,
      "max_width": null,
      "min_height": null,
      "min_width": null,
      "object_fit": null,
      "object_position": null,
      "order": null,
      "overflow": null,
      "overflow_x": null,
      "overflow_y": null,
      "padding": null,
      "right": null,
      "top": null,
      "visibility": null,
      "width": "50%"
     }
    },
    "58b5829f7c8b4ca4b3c46a376c54a673": {
     "model_module": "@jupyter-widgets/base",
     "model_module_version": "1.2.0",
     "model_name": "LayoutModel",
     "state": {
      "_model_module": "@jupyter-widgets/base",
      "_model_module_version": "1.2.0",
      "_model_name": "LayoutModel",
      "_view_count": null,
      "_view_module": "@jupyter-widgets/base",
      "_view_module_version": "1.2.0",
      "_view_name": "LayoutView",
      "align_content": null,
      "align_items": null,
      "align_self": null,
      "border": null,
      "bottom": null,
      "display": null,
      "flex": null,
      "flex_flow": null,
      "grid_area": null,
      "grid_auto_columns": null,
      "grid_auto_flow": null,
      "grid_auto_rows": null,
      "grid_column": null,
      "grid_gap": null,
      "grid_row": null,
      "grid_template_areas": null,
      "grid_template_columns": null,
      "grid_template_rows": null,
      "height": null,
      "justify_content": null,
      "justify_items": null,
      "left": null,
      "margin": null,
      "max_height": null,
      "max_width": null,
      "min_height": null,
      "min_width": null,
      "object_fit": null,
      "object_position": null,
      "order": null,
      "overflow": null,
      "overflow_x": null,
      "overflow_y": null,
      "padding": null,
      "right": null,
      "top": null,
      "visibility": null,
      "width": null
     }
    },
    "58dfac02299d43c8b7b1bee11a3a3dfd": {
     "model_module": "@jupyter-widgets/base",
     "model_module_version": "1.2.0",
     "model_name": "LayoutModel",
     "state": {
      "_model_module": "@jupyter-widgets/base",
      "_model_module_version": "1.2.0",
      "_model_name": "LayoutModel",
      "_view_count": null,
      "_view_module": "@jupyter-widgets/base",
      "_view_module_version": "1.2.0",
      "_view_name": "LayoutView",
      "align_content": null,
      "align_items": null,
      "align_self": null,
      "border": null,
      "bottom": null,
      "display": null,
      "flex": null,
      "flex_flow": null,
      "grid_area": null,
      "grid_auto_columns": null,
      "grid_auto_flow": null,
      "grid_auto_rows": null,
      "grid_column": null,
      "grid_gap": null,
      "grid_row": null,
      "grid_template_areas": null,
      "grid_template_columns": null,
      "grid_template_rows": null,
      "height": null,
      "justify_content": null,
      "justify_items": null,
      "left": null,
      "margin": null,
      "max_height": null,
      "max_width": null,
      "min_height": null,
      "min_width": null,
      "object_fit": null,
      "object_position": null,
      "order": null,
      "overflow": null,
      "overflow_x": null,
      "overflow_y": null,
      "padding": null,
      "right": null,
      "top": null,
      "visibility": null,
      "width": null
     }
    },
    "590f099adabb41279081567e3ea112fd": {
     "model_module": "@jupyter-widgets/controls",
     "model_module_version": "1.5.0",
     "model_name": "HTMLModel",
     "state": {
      "_dom_classes": [],
      "_model_module": "@jupyter-widgets/controls",
      "_model_module_version": "1.5.0",
      "_model_name": "HTMLModel",
      "_view_count": null,
      "_view_module": "@jupyter-widgets/controls",
      "_view_module_version": "1.5.0",
      "_view_name": "HTMLView",
      "description": "",
      "description_tooltip": null,
      "layout": "IPY_MODEL_1c18f8ba91744bdd8bd3ac1332524ed7",
      "placeholder": "​",
      "style": "IPY_MODEL_4c02cf308c8846f0bac06a218eb7e745",
      "value": " 824k/824k [00:00&lt;00:00, 970kB/s]"
     }
    },
    "594d76ea44d84752bee697eb9cf81217": {
     "model_module": "@jupyter-widgets/base",
     "model_module_version": "1.2.0",
     "model_name": "LayoutModel",
     "state": {
      "_model_module": "@jupyter-widgets/base",
      "_model_module_version": "1.2.0",
      "_model_name": "LayoutModel",
      "_view_count": null,
      "_view_module": "@jupyter-widgets/base",
      "_view_module_version": "1.2.0",
      "_view_name": "LayoutView",
      "align_content": null,
      "align_items": null,
      "align_self": null,
      "border": null,
      "bottom": null,
      "display": null,
      "flex": null,
      "flex_flow": null,
      "grid_area": null,
      "grid_auto_columns": null,
      "grid_auto_flow": null,
      "grid_auto_rows": null,
      "grid_column": null,
      "grid_gap": null,
      "grid_row": null,
      "grid_template_areas": null,
      "grid_template_columns": null,
      "grid_template_rows": null,
      "height": null,
      "justify_content": null,
      "justify_items": null,
      "left": null,
      "margin": null,
      "max_height": null,
      "max_width": null,
      "min_height": null,
      "min_width": null,
      "object_fit": null,
      "object_position": null,
      "order": null,
      "overflow": null,
      "overflow_x": null,
      "overflow_y": null,
      "padding": null,
      "right": null,
      "top": null,
      "visibility": null,
      "width": null
     }
    },
    "5add33bfbf444e33990459c217b42e6f": {
     "model_module": "@jupyter-widgets/base",
     "model_module_version": "1.2.0",
     "model_name": "LayoutModel",
     "state": {
      "_model_module": "@jupyter-widgets/base",
      "_model_module_version": "1.2.0",
      "_model_name": "LayoutModel",
      "_view_count": null,
      "_view_module": "@jupyter-widgets/base",
      "_view_module_version": "1.2.0",
      "_view_name": "LayoutView",
      "align_content": null,
      "align_items": null,
      "align_self": null,
      "border": null,
      "bottom": null,
      "display": null,
      "flex": null,
      "flex_flow": null,
      "grid_area": null,
      "grid_auto_columns": null,
      "grid_auto_flow": null,
      "grid_auto_rows": null,
      "grid_column": null,
      "grid_gap": null,
      "grid_row": null,
      "grid_template_areas": null,
      "grid_template_columns": null,
      "grid_template_rows": null,
      "height": null,
      "justify_content": null,
      "justify_items": null,
      "left": null,
      "margin": null,
      "max_height": null,
      "max_width": null,
      "min_height": null,
      "min_width": null,
      "object_fit": null,
      "object_position": null,
      "order": null,
      "overflow": null,
      "overflow_x": null,
      "overflow_y": null,
      "padding": null,
      "right": null,
      "top": null,
      "visibility": null,
      "width": null
     }
    },
    "60954e2eb8bc4384be7a42c172c5a4b3": {
     "model_module": "@jupyter-widgets/controls",
     "model_module_version": "1.5.0",
     "model_name": "DescriptionStyleModel",
     "state": {
      "_model_module": "@jupyter-widgets/controls",
      "_model_module_version": "1.5.0",
      "_model_name": "DescriptionStyleModel",
      "_view_count": null,
      "_view_module": "@jupyter-widgets/base",
      "_view_module_version": "1.2.0",
      "_view_name": "StyleView",
      "description_width": ""
     }
    },
    "6452d2111c6d4ac2b2ffb6be5218e345": {
     "model_module": "@jupyter-widgets/controls",
     "model_module_version": "1.5.0",
     "model_name": "HTMLModel",
     "state": {
      "_dom_classes": [],
      "_model_module": "@jupyter-widgets/controls",
      "_model_module_version": "1.5.0",
      "_model_name": "HTMLModel",
      "_view_count": null,
      "_view_module": "@jupyter-widgets/controls",
      "_view_module_version": "1.5.0",
      "_view_name": "HTMLView",
      "description": "",
      "description_tooltip": null,
      "layout": "IPY_MODEL_c08698cfd6574591aef8eb1cffb4bd61",
      "placeholder": "​",
      "style": "IPY_MODEL_8880f2085374492d98ad17b4612d05ad",
      "value": "Upload file b_tweet_trainer/training_args.bin: 100%"
     }
    },
    "6595de7d1de44db18d31e68e294b2024": {
     "model_module": "@jupyter-widgets/controls",
     "model_module_version": "1.5.0",
     "model_name": "HBoxModel",
     "state": {
      "_dom_classes": [],
      "_model_module": "@jupyter-widgets/controls",
      "_model_module_version": "1.5.0",
      "_model_name": "HBoxModel",
      "_view_count": null,
      "_view_module": "@jupyter-widgets/controls",
      "_view_module_version": "1.5.0",
      "_view_name": "HBoxView",
      "box_style": "",
      "children": [
       "IPY_MODEL_e15a26d27cbe4ac6b8dd125a45479c23",
       "IPY_MODEL_41b7255d32104d159a4828a7c7b4d55b",
       "IPY_MODEL_18fa0acf7d4f4baf875c342993d09163"
      ],
      "layout": "IPY_MODEL_0424e6a7fca140ce8aa79c075ce352ea"
     }
    },
    "68598ac612534240bcfe7a692915c933": {
     "model_module": "@jupyter-widgets/base",
     "model_module_version": "1.2.0",
     "model_name": "LayoutModel",
     "state": {
      "_model_module": "@jupyter-widgets/base",
      "_model_module_version": "1.2.0",
      "_model_name": "LayoutModel",
      "_view_count": null,
      "_view_module": "@jupyter-widgets/base",
      "_view_module_version": "1.2.0",
      "_view_name": "LayoutView",
      "align_content": null,
      "align_items": null,
      "align_self": null,
      "border": null,
      "bottom": null,
      "display": null,
      "flex": null,
      "flex_flow": null,
      "grid_area": null,
      "grid_auto_columns": null,
      "grid_auto_flow": null,
      "grid_auto_rows": null,
      "grid_column": null,
      "grid_gap": null,
      "grid_row": null,
      "grid_template_areas": null,
      "grid_template_columns": null,
      "grid_template_rows": null,
      "height": null,
      "justify_content": null,
      "justify_items": null,
      "left": null,
      "margin": null,
      "max_height": null,
      "max_width": null,
      "min_height": null,
      "min_width": null,
      "object_fit": null,
      "object_position": null,
      "order": null,
      "overflow": null,
      "overflow_x": null,
      "overflow_y": null,
      "padding": null,
      "right": null,
      "top": null,
      "visibility": null,
      "width": null
     }
    },
    "69ce441f95a540ef8c1b7d69bec3eb96": {
     "model_module": "@jupyter-widgets/controls",
     "model_module_version": "1.5.0",
     "model_name": "DescriptionStyleModel",
     "state": {
      "_model_module": "@jupyter-widgets/controls",
      "_model_module_version": "1.5.0",
      "_model_name": "DescriptionStyleModel",
      "_view_count": null,
      "_view_module": "@jupyter-widgets/base",
      "_view_module_version": "1.2.0",
      "_view_name": "StyleView",
      "description_width": ""
     }
    },
    "6a5695d190ff49fdbb8cf11c3873bcb7": {
     "model_module": "@jupyter-widgets/controls",
     "model_module_version": "1.5.0",
     "model_name": "FloatProgressModel",
     "state": {
      "_dom_classes": [],
      "_model_module": "@jupyter-widgets/controls",
      "_model_module_version": "1.5.0",
      "_model_name": "FloatProgressModel",
      "_view_count": null,
      "_view_module": "@jupyter-widgets/controls",
      "_view_module_version": "1.5.0",
      "_view_name": "ProgressView",
      "bar_style": "success",
      "description": "",
      "description_tooltip": null,
      "layout": "IPY_MODEL_0db636484ae84124820f17fbe080b46e",
      "max": 3311,
      "min": 0,
      "orientation": "horizontal",
      "style": "IPY_MODEL_79f87730c46e4a5cb9f8a738afb3f0e9",
      "value": 3311
     }
    },
    "6d9eca6631e14d958f559e204dbcd47b": {
     "model_module": "@jupyter-widgets/controls",
     "model_module_version": "1.5.0",
     "model_name": "FloatProgressModel",
     "state": {
      "_dom_classes": [],
      "_model_module": "@jupyter-widgets/controls",
      "_model_module_version": "1.5.0",
      "_model_name": "FloatProgressModel",
      "_view_count": null,
      "_view_module": "@jupyter-widgets/controls",
      "_view_module_version": "1.5.0",
      "_view_name": "ProgressView",
      "bar_style": "success",
      "description": "",
      "description_tooltip": null,
      "layout": "IPY_MODEL_8470d87c93d8429e940f7427bd904125",
      "max": 558,
      "min": 0,
      "orientation": "horizontal",
      "style": "IPY_MODEL_05470db35b2e46339713f4dd26528ab5",
      "value": 558
     }
    },
    "6e5b760bc7a94f2da19b823cd096be1e": {
     "model_module": "@jupyter-widgets/controls",
     "model_module_version": "1.5.0",
     "model_name": "DescriptionStyleModel",
     "state": {
      "_model_module": "@jupyter-widgets/controls",
      "_model_module_version": "1.5.0",
      "_model_name": "DescriptionStyleModel",
      "_view_count": null,
      "_view_module": "@jupyter-widgets/base",
      "_view_module_version": "1.2.0",
      "_view_name": "StyleView",
      "description_width": ""
     }
    },
    "708c15710e33494ba96a2aceb17eeb65": {
     "model_module": "@jupyter-widgets/base",
     "model_module_version": "1.2.0",
     "model_name": "LayoutModel",
     "state": {
      "_model_module": "@jupyter-widgets/base",
      "_model_module_version": "1.2.0",
      "_model_name": "LayoutModel",
      "_view_count": null,
      "_view_module": "@jupyter-widgets/base",
      "_view_module_version": "1.2.0",
      "_view_name": "LayoutView",
      "align_content": null,
      "align_items": null,
      "align_self": null,
      "border": null,
      "bottom": null,
      "display": null,
      "flex": null,
      "flex_flow": null,
      "grid_area": null,
      "grid_auto_columns": null,
      "grid_auto_flow": null,
      "grid_auto_rows": null,
      "grid_column": null,
      "grid_gap": null,
      "grid_row": null,
      "grid_template_areas": null,
      "grid_template_columns": null,
      "grid_template_rows": null,
      "height": null,
      "justify_content": null,
      "justify_items": null,
      "left": null,
      "margin": null,
      "max_height": null,
      "max_width": null,
      "min_height": null,
      "min_width": null,
      "object_fit": null,
      "object_position": null,
      "order": null,
      "overflow": null,
      "overflow_x": null,
      "overflow_y": null,
      "padding": null,
      "right": null,
      "top": null,
      "visibility": null,
      "width": null
     }
    },
    "73a98d45409648a8b08fde43bfc8e692": {
     "model_module": "@jupyter-widgets/controls",
     "model_module_version": "1.5.0",
     "model_name": "HBoxModel",
     "state": {
      "_dom_classes": [],
      "_model_module": "@jupyter-widgets/controls",
      "_model_module_version": "1.5.0",
      "_model_name": "HBoxModel",
      "_view_count": null,
      "_view_module": "@jupyter-widgets/controls",
      "_view_module_version": "1.5.0",
      "_view_name": "HBoxView",
      "box_style": "",
      "children": [
       "IPY_MODEL_6452d2111c6d4ac2b2ffb6be5218e345",
       "IPY_MODEL_6a5695d190ff49fdbb8cf11c3873bcb7",
       "IPY_MODEL_c2a8f623c6584c56ac0e024f46f6b877"
      ],
      "layout": "IPY_MODEL_1bc6c890b01e4cbab66041561166fcf5"
     }
    },
    "75cf96f1d617405b8176f1ec668e8a0e": {
     "model_module": "@jupyter-widgets/controls",
     "model_module_version": "1.5.0",
     "model_name": "HTMLModel",
     "state": {
      "_dom_classes": [],
      "_model_module": "@jupyter-widgets/controls",
      "_model_module_version": "1.5.0",
      "_model_name": "HTMLModel",
      "_view_count": null,
      "_view_module": "@jupyter-widgets/controls",
      "_view_module_version": "1.5.0",
      "_view_name": "HTMLView",
      "description": "",
      "description_tooltip": null,
      "layout": "IPY_MODEL_58b5829f7c8b4ca4b3c46a376c54a673",
      "placeholder": "​",
      "style": "IPY_MODEL_d80667a55b6347249d88191fee27f1a3",
      "value": " 255M/255M [11:49&lt;00:00, 6.45kB/s]"
     }
    },
    "78db911ed7f9457988dbb04e95c151b8": {
     "model_module": "@jupyter-widgets/controls",
     "model_module_version": "1.5.0",
     "model_name": "HTMLModel",
     "state": {
      "_dom_classes": [],
      "_model_module": "@jupyter-widgets/controls",
      "_model_module_version": "1.5.0",
      "_model_name": "HTMLModel",
      "_view_count": null,
      "_view_module": "@jupyter-widgets/controls",
      "_view_module_version": "1.5.0",
      "_view_name": "HTMLView",
      "description": "",
      "description_tooltip": null,
      "layout": "IPY_MODEL_19a2559e0f0046df97ec4429711886af",
      "placeholder": "​",
      "style": "IPY_MODEL_941811c0beeb4e7cbebfcc08974494fe",
      "value": "Downloading: 100%"
     }
    },
    "78e99a0ee6ef429698aff3159efe6dc8": {
     "model_module": "@jupyter-widgets/controls",
     "model_module_version": "1.5.0",
     "model_name": "DescriptionStyleModel",
     "state": {
      "_model_module": "@jupyter-widgets/controls",
      "_model_module_version": "1.5.0",
      "_model_name": "DescriptionStyleModel",
      "_view_count": null,
      "_view_module": "@jupyter-widgets/base",
      "_view_module_version": "1.2.0",
      "_view_name": "StyleView",
      "description_width": ""
     }
    },
    "793e2bdc817d4c60ad5787bd016ed40d": {
     "model_module": "@jupyter-widgets/controls",
     "model_module_version": "1.5.0",
     "model_name": "PasswordModel",
     "state": {
      "_dom_classes": [],
      "_model_module": "@jupyter-widgets/controls",
      "_model_module_version": "1.5.0",
      "_model_name": "PasswordModel",
      "_view_count": null,
      "_view_module": "@jupyter-widgets/controls",
      "_view_module_version": "1.5.0",
      "_view_name": "PasswordView",
      "continuous_update": true,
      "description": "Token:",
      "description_tooltip": null,
      "disabled": false,
      "layout": "IPY_MODEL_8cf7f97b5168409c9fd00016448034f0",
      "placeholder": "​",
      "style": "IPY_MODEL_7e344036067642f98ab075ef701c3d67",
      "value": ""
     }
    },
    "798c621214f547b6ab94b7046b6826dc": {
     "model_module": "@jupyter-widgets/controls",
     "model_module_version": "1.5.0",
     "model_name": "ProgressStyleModel",
     "state": {
      "_model_module": "@jupyter-widgets/controls",
      "_model_module_version": "1.5.0",
      "_model_name": "ProgressStyleModel",
      "_view_count": null,
      "_view_module": "@jupyter-widgets/base",
      "_view_module_version": "1.2.0",
      "_view_name": "StyleView",
      "bar_color": null,
      "description_width": ""
     }
    },
    "79f87730c46e4a5cb9f8a738afb3f0e9": {
     "model_module": "@jupyter-widgets/controls",
     "model_module_version": "1.5.0",
     "model_name": "ProgressStyleModel",
     "state": {
      "_model_module": "@jupyter-widgets/controls",
      "_model_module_version": "1.5.0",
      "_model_name": "ProgressStyleModel",
      "_view_count": null,
      "_view_module": "@jupyter-widgets/base",
      "_view_module_version": "1.2.0",
      "_view_name": "StyleView",
      "bar_color": null,
      "description_width": ""
     }
    },
    "7b1abc2df7534308b9c8b81c25423f7b": {
     "model_module": "@jupyter-widgets/base",
     "model_module_version": "1.2.0",
     "model_name": "LayoutModel",
     "state": {
      "_model_module": "@jupyter-widgets/base",
      "_model_module_version": "1.2.0",
      "_model_name": "LayoutModel",
      "_view_count": null,
      "_view_module": "@jupyter-widgets/base",
      "_view_module_version": "1.2.0",
      "_view_name": "LayoutView",
      "align_content": null,
      "align_items": null,
      "align_self": null,
      "border": null,
      "bottom": null,
      "display": null,
      "flex": null,
      "flex_flow": null,
      "grid_area": null,
      "grid_auto_columns": null,
      "grid_auto_flow": null,
      "grid_auto_rows": null,
      "grid_column": null,
      "grid_gap": null,
      "grid_row": null,
      "grid_template_areas": null,
      "grid_template_columns": null,
      "grid_template_rows": null,
      "height": null,
      "justify_content": null,
      "justify_items": null,
      "left": null,
      "margin": null,
      "max_height": null,
      "max_width": null,
      "min_height": null,
      "min_width": null,
      "object_fit": null,
      "object_position": null,
      "order": null,
      "overflow": null,
      "overflow_x": null,
      "overflow_y": null,
      "padding": null,
      "right": null,
      "top": null,
      "visibility": null,
      "width": null
     }
    },
    "7e344036067642f98ab075ef701c3d67": {
     "model_module": "@jupyter-widgets/controls",
     "model_module_version": "1.5.0",
     "model_name": "DescriptionStyleModel",
     "state": {
      "_model_module": "@jupyter-widgets/controls",
      "_model_module_version": "1.5.0",
      "_model_name": "DescriptionStyleModel",
      "_view_count": null,
      "_view_module": "@jupyter-widgets/base",
      "_view_module_version": "1.2.0",
      "_view_name": "StyleView",
      "description_width": ""
     }
    },
    "82c9415b73724dac95859f8008d8f60f": {
     "model_module": "@jupyter-widgets/controls",
     "model_module_version": "1.5.0",
     "model_name": "FloatProgressModel",
     "state": {
      "_dom_classes": [],
      "_model_module": "@jupyter-widgets/controls",
      "_model_module_version": "1.5.0",
      "_model_name": "FloatProgressModel",
      "_view_count": null,
      "_view_module": "@jupyter-widgets/controls",
      "_view_module_version": "1.5.0",
      "_view_name": "ProgressView",
      "bar_style": "success",
      "description": "",
      "description_tooltip": null,
      "layout": "IPY_MODEL_2f480d4bc1ce4b1884aa39fcb68997ec",
      "max": 267854321,
      "min": 0,
      "orientation": "horizontal",
      "style": "IPY_MODEL_1559df5ab0c7439b9b41abad1ca5192d",
      "value": 267854321
     }
    },
    "8470d87c93d8429e940f7427bd904125": {
     "model_module": "@jupyter-widgets/base",
     "model_module_version": "1.2.0",
     "model_name": "LayoutModel",
     "state": {
      "_model_module": "@jupyter-widgets/base",
      "_model_module_version": "1.2.0",
      "_model_name": "LayoutModel",
      "_view_count": null,
      "_view_module": "@jupyter-widgets/base",
      "_view_module_version": "1.2.0",
      "_view_name": "LayoutView",
      "align_content": null,
      "align_items": null,
      "align_self": null,
      "border": null,
      "bottom": null,
      "display": null,
      "flex": null,
      "flex_flow": null,
      "grid_area": null,
      "grid_auto_columns": null,
      "grid_auto_flow": null,
      "grid_auto_rows": null,
      "grid_column": null,
      "grid_gap": null,
      "grid_row": null,
      "grid_template_areas": null,
      "grid_template_columns": null,
      "grid_template_rows": null,
      "height": null,
      "justify_content": null,
      "justify_items": null,
      "left": null,
      "margin": null,
      "max_height": null,
      "max_width": null,
      "min_height": null,
      "min_width": null,
      "object_fit": null,
      "object_position": null,
      "order": null,
      "overflow": null,
      "overflow_x": null,
      "overflow_y": null,
      "padding": null,
      "right": null,
      "top": null,
      "visibility": null,
      "width": null
     }
    },
    "8880f2085374492d98ad17b4612d05ad": {
     "model_module": "@jupyter-widgets/controls",
     "model_module_version": "1.5.0",
     "model_name": "DescriptionStyleModel",
     "state": {
      "_model_module": "@jupyter-widgets/controls",
      "_model_module_version": "1.5.0",
      "_model_name": "DescriptionStyleModel",
      "_view_count": null,
      "_view_module": "@jupyter-widgets/base",
      "_view_module_version": "1.2.0",
      "_view_name": "StyleView",
      "description_width": ""
     }
    },
    "894b4f6f5061482caa441c551a6e61e0": {
     "model_module": "@jupyter-widgets/controls",
     "model_module_version": "1.5.0",
     "model_name": "HTMLModel",
     "state": {
      "_dom_classes": [],
      "_model_module": "@jupyter-widgets/controls",
      "_model_module_version": "1.5.0",
      "_model_name": "HTMLModel",
      "_view_count": null,
      "_view_module": "@jupyter-widgets/controls",
      "_view_module_version": "1.5.0",
      "_view_name": "HTMLView",
      "description": "",
      "description_tooltip": null,
      "layout": "IPY_MODEL_97ab967d9e15423d99cfba824bfbebeb",
      "placeholder": "​",
      "style": "IPY_MODEL_78e99a0ee6ef429698aff3159efe6dc8",
      "value": "Upload file b_dist_trainer/training_args.bin: 100%"
     }
    },
    "8a3c387641984c39a8a85003f5933bee": {
     "model_module": "@jupyter-widgets/controls",
     "model_module_version": "1.5.0",
     "model_name": "DescriptionStyleModel",
     "state": {
      "_model_module": "@jupyter-widgets/controls",
      "_model_module_version": "1.5.0",
      "_model_name": "DescriptionStyleModel",
      "_view_count": null,
      "_view_module": "@jupyter-widgets/base",
      "_view_module_version": "1.2.0",
      "_view_name": "StyleView",
      "description_width": ""
     }
    },
    "8ad625365e4e41029f1f2d60f2cbf1a9": {
     "model_module": "@jupyter-widgets/controls",
     "model_module_version": "1.5.0",
     "model_name": "DescriptionStyleModel",
     "state": {
      "_model_module": "@jupyter-widgets/controls",
      "_model_module_version": "1.5.0",
      "_model_name": "DescriptionStyleModel",
      "_view_count": null,
      "_view_module": "@jupyter-widgets/base",
      "_view_module_version": "1.2.0",
      "_view_name": "StyleView",
      "description_width": ""
     }
    },
    "8cf7f97b5168409c9fd00016448034f0": {
     "model_module": "@jupyter-widgets/base",
     "model_module_version": "1.2.0",
     "model_name": "LayoutModel",
     "state": {
      "_model_module": "@jupyter-widgets/base",
      "_model_module_version": "1.2.0",
      "_model_name": "LayoutModel",
      "_view_count": null,
      "_view_module": "@jupyter-widgets/base",
      "_view_module_version": "1.2.0",
      "_view_name": "LayoutView",
      "align_content": null,
      "align_items": null,
      "align_self": null,
      "border": null,
      "bottom": null,
      "display": null,
      "flex": null,
      "flex_flow": null,
      "grid_area": null,
      "grid_auto_columns": null,
      "grid_auto_flow": null,
      "grid_auto_rows": null,
      "grid_column": null,
      "grid_gap": null,
      "grid_row": null,
      "grid_template_areas": null,
      "grid_template_columns": null,
      "grid_template_rows": null,
      "height": null,
      "justify_content": null,
      "justify_items": null,
      "left": null,
      "margin": null,
      "max_height": null,
      "max_width": null,
      "min_height": null,
      "min_width": null,
      "object_fit": null,
      "object_position": null,
      "order": null,
      "overflow": null,
      "overflow_x": null,
      "overflow_y": null,
      "padding": null,
      "right": null,
      "top": null,
      "visibility": null,
      "width": null
     }
    },
    "91799c0c58ce496c9cc09cc11581d63e": {
     "model_module": "@jupyter-widgets/base",
     "model_module_version": "1.2.0",
     "model_name": "LayoutModel",
     "state": {
      "_model_module": "@jupyter-widgets/base",
      "_model_module_version": "1.2.0",
      "_model_name": "LayoutModel",
      "_view_count": null,
      "_view_module": "@jupyter-widgets/base",
      "_view_module_version": "1.2.0",
      "_view_name": "LayoutView",
      "align_content": null,
      "align_items": null,
      "align_self": null,
      "border": null,
      "bottom": null,
      "display": null,
      "flex": null,
      "flex_flow": null,
      "grid_area": null,
      "grid_auto_columns": null,
      "grid_auto_flow": null,
      "grid_auto_rows": null,
      "grid_column": null,
      "grid_gap": null,
      "grid_row": null,
      "grid_template_areas": null,
      "grid_template_columns": null,
      "grid_template_rows": null,
      "height": null,
      "justify_content": null,
      "justify_items": null,
      "left": null,
      "margin": null,
      "max_height": null,
      "max_width": null,
      "min_height": null,
      "min_width": null,
      "object_fit": null,
      "object_position": null,
      "order": null,
      "overflow": null,
      "overflow_x": null,
      "overflow_y": null,
      "padding": null,
      "right": null,
      "top": null,
      "visibility": null,
      "width": null
     }
    },
    "941811c0beeb4e7cbebfcc08974494fe": {
     "model_module": "@jupyter-widgets/controls",
     "model_module_version": "1.5.0",
     "model_name": "DescriptionStyleModel",
     "state": {
      "_model_module": "@jupyter-widgets/controls",
      "_model_module_version": "1.5.0",
      "_model_name": "DescriptionStyleModel",
      "_view_count": null,
      "_view_module": "@jupyter-widgets/base",
      "_view_module_version": "1.2.0",
      "_view_name": "StyleView",
      "description_width": ""
     }
    },
    "95234729eba14f7a8c67a589864d1f96": {
     "model_module": "@jupyter-widgets/controls",
     "model_module_version": "1.5.0",
     "model_name": "DescriptionStyleModel",
     "state": {
      "_model_module": "@jupyter-widgets/controls",
      "_model_module_version": "1.5.0",
      "_model_name": "DescriptionStyleModel",
      "_view_count": null,
      "_view_module": "@jupyter-widgets/base",
      "_view_module_version": "1.2.0",
      "_view_name": "StyleView",
      "description_width": ""
     }
    },
    "97ab967d9e15423d99cfba824bfbebeb": {
     "model_module": "@jupyter-widgets/base",
     "model_module_version": "1.2.0",
     "model_name": "LayoutModel",
     "state": {
      "_model_module": "@jupyter-widgets/base",
      "_model_module_version": "1.2.0",
      "_model_name": "LayoutModel",
      "_view_count": null,
      "_view_module": "@jupyter-widgets/base",
      "_view_module_version": "1.2.0",
      "_view_name": "LayoutView",
      "align_content": null,
      "align_items": null,
      "align_self": null,
      "border": null,
      "bottom": null,
      "display": null,
      "flex": null,
      "flex_flow": null,
      "grid_area": null,
      "grid_auto_columns": null,
      "grid_auto_flow": null,
      "grid_auto_rows": null,
      "grid_column": null,
      "grid_gap": null,
      "grid_row": null,
      "grid_template_areas": null,
      "grid_template_columns": null,
      "grid_template_rows": null,
      "height": null,
      "justify_content": null,
      "justify_items": null,
      "left": null,
      "margin": null,
      "max_height": null,
      "max_width": null,
      "min_height": null,
      "min_width": null,
      "object_fit": null,
      "object_position": null,
      "order": null,
      "overflow": null,
      "overflow_x": null,
      "overflow_y": null,
      "padding": null,
      "right": null,
      "top": null,
      "visibility": null,
      "width": null
     }
    },
    "a049283218724168843065ea2f61ef22": {
     "model_module": "@jupyter-widgets/base",
     "model_module_version": "1.2.0",
     "model_name": "LayoutModel",
     "state": {
      "_model_module": "@jupyter-widgets/base",
      "_model_module_version": "1.2.0",
      "_model_name": "LayoutModel",
      "_view_count": null,
      "_view_module": "@jupyter-widgets/base",
      "_view_module_version": "1.2.0",
      "_view_name": "LayoutView",
      "align_content": null,
      "align_items": null,
      "align_self": null,
      "border": null,
      "bottom": null,
      "display": null,
      "flex": null,
      "flex_flow": null,
      "grid_area": null,
      "grid_auto_columns": null,
      "grid_auto_flow": null,
      "grid_auto_rows": null,
      "grid_column": null,
      "grid_gap": null,
      "grid_row": null,
      "grid_template_areas": null,
      "grid_template_columns": null,
      "grid_template_rows": null,
      "height": null,
      "justify_content": null,
      "justify_items": null,
      "left": null,
      "margin": null,
      "max_height": null,
      "max_width": null,
      "min_height": null,
      "min_width": null,
      "object_fit": null,
      "object_position": null,
      "order": null,
      "overflow": null,
      "overflow_x": null,
      "overflow_y": null,
      "padding": null,
      "right": null,
      "top": null,
      "visibility": null,
      "width": null
     }
    },
    "a0cea0d8d31e4db8b46f1a2e1ee8357f": {
     "model_module": "@jupyter-widgets/base",
     "model_module_version": "1.2.0",
     "model_name": "LayoutModel",
     "state": {
      "_model_module": "@jupyter-widgets/base",
      "_model_module_version": "1.2.0",
      "_model_name": "LayoutModel",
      "_view_count": null,
      "_view_module": "@jupyter-widgets/base",
      "_view_module_version": "1.2.0",
      "_view_name": "LayoutView",
      "align_content": null,
      "align_items": null,
      "align_self": null,
      "border": null,
      "bottom": null,
      "display": null,
      "flex": null,
      "flex_flow": null,
      "grid_area": null,
      "grid_auto_columns": null,
      "grid_auto_flow": null,
      "grid_auto_rows": null,
      "grid_column": null,
      "grid_gap": null,
      "grid_row": null,
      "grid_template_areas": null,
      "grid_template_columns": null,
      "grid_template_rows": null,
      "height": null,
      "justify_content": null,
      "justify_items": null,
      "left": null,
      "margin": null,
      "max_height": null,
      "max_width": null,
      "min_height": null,
      "min_width": null,
      "object_fit": null,
      "object_position": null,
      "order": null,
      "overflow": null,
      "overflow_x": null,
      "overflow_y": null,
      "padding": null,
      "right": null,
      "top": null,
      "visibility": null,
      "width": null
     }
    },
    "a146bd8536e0482aa5cf268ef33c3070": {
     "model_module": "@jupyter-widgets/controls",
     "model_module_version": "1.5.0",
     "model_name": "FloatProgressModel",
     "state": {
      "_dom_classes": [],
      "_model_module": "@jupyter-widgets/controls",
      "_model_module_version": "1.5.0",
      "_model_name": "FloatProgressModel",
      "_view_count": null,
      "_view_module": "@jupyter-widgets/controls",
      "_view_module_version": "1.5.0",
      "_view_name": "ProgressView",
      "bar_style": "success",
      "description": "",
      "description_tooltip": null,
      "layout": "IPY_MODEL_1bee90e83a614f89b6d0be09010c4aef",
      "max": 267854321,
      "min": 0,
      "orientation": "horizontal",
      "style": "IPY_MODEL_a84163c2e2014ebd8cb49adf58ae0cc6",
      "value": 267854321
     }
    },
    "a1eba17f59d54229b7c4b845de7568b7": {
     "model_module": "@jupyter-widgets/controls",
     "model_module_version": "1.5.0",
     "model_name": "HTMLModel",
     "state": {
      "_dom_classes": [],
      "_model_module": "@jupyter-widgets/controls",
      "_model_module_version": "1.5.0",
      "_model_name": "HTMLModel",
      "_view_count": null,
      "_view_module": "@jupyter-widgets/controls",
      "_view_module_version": "1.5.0",
      "_view_name": "HTMLView",
      "description": "",
      "description_tooltip": null,
      "layout": "IPY_MODEL_91799c0c58ce496c9cc09cc11581d63e",
      "placeholder": "​",
      "style": "IPY_MODEL_df2381f3ec4f49a68636c9f24b1f23cf",
      "value": " 255M/255M [04:20&lt;00:00, 257kB/s]"
     }
    },
    "a2efded70138450192a707c712337a89": {
     "model_module": "@jupyter-widgets/base",
     "model_module_version": "1.2.0",
     "model_name": "LayoutModel",
     "state": {
      "_model_module": "@jupyter-widgets/base",
      "_model_module_version": "1.2.0",
      "_model_name": "LayoutModel",
      "_view_count": null,
      "_view_module": "@jupyter-widgets/base",
      "_view_module_version": "1.2.0",
      "_view_name": "LayoutView",
      "align_content": null,
      "align_items": null,
      "align_self": null,
      "border": null,
      "bottom": null,
      "display": null,
      "flex": null,
      "flex_flow": null,
      "grid_area": null,
      "grid_auto_columns": null,
      "grid_auto_flow": null,
      "grid_auto_rows": null,
      "grid_column": null,
      "grid_gap": null,
      "grid_row": null,
      "grid_template_areas": null,
      "grid_template_columns": null,
      "grid_template_rows": null,
      "height": null,
      "justify_content": null,
      "justify_items": null,
      "left": null,
      "margin": null,
      "max_height": null,
      "max_width": null,
      "min_height": null,
      "min_width": null,
      "object_fit": null,
      "object_position": null,
      "order": null,
      "overflow": null,
      "overflow_x": null,
      "overflow_y": null,
      "padding": null,
      "right": null,
      "top": null,
      "visibility": null,
      "width": null
     }
    },
    "a32ecb4e6bdc48ccaac524654c1bc656": {
     "model_module": "@jupyter-widgets/controls",
     "model_module_version": "1.5.0",
     "model_name": "FloatProgressModel",
     "state": {
      "_dom_classes": [],
      "_model_module": "@jupyter-widgets/controls",
      "_model_module_version": "1.5.0",
      "_model_name": "FloatProgressModel",
      "_view_count": null,
      "_view_module": "@jupyter-widgets/controls",
      "_view_module_version": "1.5.0",
      "_view_name": "ProgressView",
      "bar_style": "success",
      "description": "",
      "description_tooltip": null,
      "layout": "IPY_MODEL_b80d556460f44d5e9faec61b24eb3303",
      "max": 3311,
      "min": 0,
      "orientation": "horizontal",
      "style": "IPY_MODEL_43005b17ade44315b9b685ad21f4cfaa",
      "value": 3311
     }
    },
    "a578933520374a6d8327bcd149ae9078": {
     "model_module": "@jupyter-widgets/controls",
     "model_module_version": "1.5.0",
     "model_name": "ButtonStyleModel",
     "state": {
      "_model_module": "@jupyter-widgets/controls",
      "_model_module_version": "1.5.0",
      "_model_name": "ButtonStyleModel",
      "_view_count": null,
      "_view_module": "@jupyter-widgets/base",
      "_view_module_version": "1.2.0",
      "_view_name": "StyleView",
      "button_color": null,
      "font_weight": ""
     }
    },
    "a5d012eb4e7a40909a1cd2856d863676": {
     "model_module": "@jupyter-widgets/base",
     "model_module_version": "1.2.0",
     "model_name": "LayoutModel",
     "state": {
      "_model_module": "@jupyter-widgets/base",
      "_model_module_version": "1.2.0",
      "_model_name": "LayoutModel",
      "_view_count": null,
      "_view_module": "@jupyter-widgets/base",
      "_view_module_version": "1.2.0",
      "_view_name": "LayoutView",
      "align_content": null,
      "align_items": null,
      "align_self": null,
      "border": null,
      "bottom": null,
      "display": null,
      "flex": null,
      "flex_flow": null,
      "grid_area": null,
      "grid_auto_columns": null,
      "grid_auto_flow": null,
      "grid_auto_rows": null,
      "grid_column": null,
      "grid_gap": null,
      "grid_row": null,
      "grid_template_areas": null,
      "grid_template_columns": null,
      "grid_template_rows": null,
      "height": null,
      "justify_content": null,
      "justify_items": null,
      "left": null,
      "margin": null,
      "max_height": null,
      "max_width": null,
      "min_height": null,
      "min_width": null,
      "object_fit": null,
      "object_position": null,
      "order": null,
      "overflow": null,
      "overflow_x": null,
      "overflow_y": null,
      "padding": null,
      "right": null,
      "top": null,
      "visibility": null,
      "width": null
     }
    },
    "a84163c2e2014ebd8cb49adf58ae0cc6": {
     "model_module": "@jupyter-widgets/controls",
     "model_module_version": "1.5.0",
     "model_name": "ProgressStyleModel",
     "state": {
      "_model_module": "@jupyter-widgets/controls",
      "_model_module_version": "1.5.0",
      "_model_name": "ProgressStyleModel",
      "_view_count": null,
      "_view_module": "@jupyter-widgets/base",
      "_view_module_version": "1.2.0",
      "_view_name": "StyleView",
      "bar_color": null,
      "description_width": ""
     }
    },
    "acbac61c5f184939a4bdafaab8a2d91a": {
     "model_module": "@jupyter-widgets/controls",
     "model_module_version": "1.5.0",
     "model_name": "HTMLModel",
     "state": {
      "_dom_classes": [],
      "_model_module": "@jupyter-widgets/controls",
      "_model_module_version": "1.5.0",
      "_model_name": "HTMLModel",
      "_view_count": null,
      "_view_module": "@jupyter-widgets/controls",
      "_view_module_version": "1.5.0",
      "_view_name": "HTMLView",
      "description": "",
      "description_tooltip": null,
      "layout": "IPY_MODEL_58dfac02299d43c8b7b1bee11a3a3dfd",
      "placeholder": "​",
      "style": "IPY_MODEL_397c6f8b27fe4adc81b3790dd5024443",
      "value": "<center> <img\nsrc=https://huggingface.co/front/assets/huggingface_logo-noborder.svg\nalt='Hugging Face'> <br> Copy a token from <a\nhref=\"https://huggingface.co/settings/tokens\" target=\"_blank\">your Hugging Face\ntokens page</a> and paste it below. <br> Immediately click login after copying\nyour token or it might be stored in plain text in this notebook file. </center>"
     }
    },
    "acd80d178b6f4085bf7e03b364780203": {
     "model_module": "@jupyter-widgets/controls",
     "model_module_version": "1.5.0",
     "model_name": "HBoxModel",
     "state": {
      "_dom_classes": [],
      "_model_module": "@jupyter-widgets/controls",
      "_model_module_version": "1.5.0",
      "_model_name": "HBoxModel",
      "_view_count": null,
      "_view_module": "@jupyter-widgets/controls",
      "_view_module_version": "1.5.0",
      "_view_name": "HBoxView",
      "box_style": "",
      "children": [
       "IPY_MODEL_30a0f95cb0de4e3799a48dd868f1939e",
       "IPY_MODEL_a146bd8536e0482aa5cf268ef33c3070",
       "IPY_MODEL_a1eba17f59d54229b7c4b845de7568b7"
      ],
      "layout": "IPY_MODEL_0c714ef99b304231ae281c455124d823"
     }
    },
    "b80d556460f44d5e9faec61b24eb3303": {
     "model_module": "@jupyter-widgets/base",
     "model_module_version": "1.2.0",
     "model_name": "LayoutModel",
     "state": {
      "_model_module": "@jupyter-widgets/base",
      "_model_module_version": "1.2.0",
      "_model_name": "LayoutModel",
      "_view_count": null,
      "_view_module": "@jupyter-widgets/base",
      "_view_module_version": "1.2.0",
      "_view_name": "LayoutView",
      "align_content": null,
      "align_items": null,
      "align_self": null,
      "border": null,
      "bottom": null,
      "display": null,
      "flex": null,
      "flex_flow": null,
      "grid_area": null,
      "grid_auto_columns": null,
      "grid_auto_flow": null,
      "grid_auto_rows": null,
      "grid_column": null,
      "grid_gap": null,
      "grid_row": null,
      "grid_template_areas": null,
      "grid_template_columns": null,
      "grid_template_rows": null,
      "height": null,
      "justify_content": null,
      "justify_items": null,
      "left": null,
      "margin": null,
      "max_height": null,
      "max_width": null,
      "min_height": null,
      "min_width": null,
      "object_fit": null,
      "object_position": null,
      "order": null,
      "overflow": null,
      "overflow_x": null,
      "overflow_y": null,
      "padding": null,
      "right": null,
      "top": null,
      "visibility": null,
      "width": null
     }
    },
    "b9eb070945994251a80b1f8c10c7c933": {
     "model_module": "@jupyter-widgets/controls",
     "model_module_version": "1.5.0",
     "model_name": "VBoxModel",
     "state": {
      "_dom_classes": [],
      "_model_module": "@jupyter-widgets/controls",
      "_model_module_version": "1.5.0",
      "_model_name": "VBoxModel",
      "_view_count": null,
      "_view_module": "@jupyter-widgets/controls",
      "_view_module_version": "1.5.0",
      "_view_name": "VBoxView",
      "box_style": "",
      "children": [
       "IPY_MODEL_acbac61c5f184939a4bdafaab8a2d91a",
       "IPY_MODEL_793e2bdc817d4c60ad5787bd016ed40d",
       "IPY_MODEL_c09c444aae37457faca93af8f112c584",
       "IPY_MODEL_02ac3eae9b4949ddbaa7ed57ce1ed588"
      ],
      "layout": "IPY_MODEL_588df2d7c5b34703aa0c6feb66a10925"
     }
    },
    "baa35a53903546879f581c1c3b1f60c1": {
     "model_module": "@jupyter-widgets/controls",
     "model_module_version": "1.5.0",
     "model_name": "HBoxModel",
     "state": {
      "_dom_classes": [],
      "_model_module": "@jupyter-widgets/controls",
      "_model_module_version": "1.5.0",
      "_model_name": "HBoxModel",
      "_view_count": null,
      "_view_module": "@jupyter-widgets/controls",
      "_view_module_version": "1.5.0",
      "_view_name": "HBoxView",
      "box_style": "",
      "children": [
       "IPY_MODEL_45585a0486b84007930b038e94720cc2",
       "IPY_MODEL_bb2980fbe42944028dbffd14a198aabe",
       "IPY_MODEL_f6ff4096b1bb4c3d9c61d8a97f7938f3"
      ],
      "layout": "IPY_MODEL_3706bb88f0644ff495316619dee55d3b"
     }
    },
    "bb2980fbe42944028dbffd14a198aabe": {
     "model_module": "@jupyter-widgets/controls",
     "model_module_version": "1.5.0",
     "model_name": "FloatProgressModel",
     "state": {
      "_dom_classes": [],
      "_model_module": "@jupyter-widgets/controls",
      "_model_module_version": "1.5.0",
      "_model_name": "FloatProgressModel",
      "_view_count": null,
      "_view_module": "@jupyter-widgets/controls",
      "_view_module_version": "1.5.0",
      "_view_name": "ProgressView",
      "bar_style": "success",
      "description": "",
      "description_tooltip": null,
      "layout": "IPY_MODEL_bedec41068ca4ebba6939f12ad507321",
      "max": 539674605,
      "min": 0,
      "orientation": "horizontal",
      "style": "IPY_MODEL_c5d52a4d38374798983aacfdf83c1c6c",
      "value": 539674605
     }
    },
    "bde7fda0f3c4474b909be5421dfadd9d": {
     "model_module": "@jupyter-widgets/controls",
     "model_module_version": "1.5.0",
     "model_name": "HBoxModel",
     "state": {
      "_dom_classes": [],
      "_model_module": "@jupyter-widgets/controls",
      "_model_module_version": "1.5.0",
      "_model_name": "HBoxModel",
      "_view_count": null,
      "_view_module": "@jupyter-widgets/controls",
      "_view_module_version": "1.5.0",
      "_view_name": "HBoxView",
      "box_style": "",
      "children": [
       "IPY_MODEL_ce34b7eeba27437b8e97366084e702ea",
       "IPY_MODEL_2ea295c4ae744288aee0f1d567dc8508",
       "IPY_MODEL_1a6deffdf0d147788d60bbcf64eda002"
      ],
      "layout": "IPY_MODEL_4197a762b5ad4f7d8e99eec20e9107a4"
     }
    },
    "bedec41068ca4ebba6939f12ad507321": {
     "model_module": "@jupyter-widgets/base",
     "model_module_version": "1.2.0",
     "model_name": "LayoutModel",
     "state": {
      "_model_module": "@jupyter-widgets/base",
      "_model_module_version": "1.2.0",
      "_model_name": "LayoutModel",
      "_view_count": null,
      "_view_module": "@jupyter-widgets/base",
      "_view_module_version": "1.2.0",
      "_view_name": "LayoutView",
      "align_content": null,
      "align_items": null,
      "align_self": null,
      "border": null,
      "bottom": null,
      "display": null,
      "flex": null,
      "flex_flow": null,
      "grid_area": null,
      "grid_auto_columns": null,
      "grid_auto_flow": null,
      "grid_auto_rows": null,
      "grid_column": null,
      "grid_gap": null,
      "grid_row": null,
      "grid_template_areas": null,
      "grid_template_columns": null,
      "grid_template_rows": null,
      "height": null,
      "justify_content": null,
      "justify_items": null,
      "left": null,
      "margin": null,
      "max_height": null,
      "max_width": null,
      "min_height": null,
      "min_width": null,
      "object_fit": null,
      "object_position": null,
      "order": null,
      "overflow": null,
      "overflow_x": null,
      "overflow_y": null,
      "padding": null,
      "right": null,
      "top": null,
      "visibility": null,
      "width": null
     }
    },
    "c08698cfd6574591aef8eb1cffb4bd61": {
     "model_module": "@jupyter-widgets/base",
     "model_module_version": "1.2.0",
     "model_name": "LayoutModel",
     "state": {
      "_model_module": "@jupyter-widgets/base",
      "_model_module_version": "1.2.0",
      "_model_name": "LayoutModel",
      "_view_count": null,
      "_view_module": "@jupyter-widgets/base",
      "_view_module_version": "1.2.0",
      "_view_name": "LayoutView",
      "align_content": null,
      "align_items": null,
      "align_self": null,
      "border": null,
      "bottom": null,
      "display": null,
      "flex": null,
      "flex_flow": null,
      "grid_area": null,
      "grid_auto_columns": null,
      "grid_auto_flow": null,
      "grid_auto_rows": null,
      "grid_column": null,
      "grid_gap": null,
      "grid_row": null,
      "grid_template_areas": null,
      "grid_template_columns": null,
      "grid_template_rows": null,
      "height": null,
      "justify_content": null,
      "justify_items": null,
      "left": null,
      "margin": null,
      "max_height": null,
      "max_width": null,
      "min_height": null,
      "min_width": null,
      "object_fit": null,
      "object_position": null,
      "order": null,
      "overflow": null,
      "overflow_x": null,
      "overflow_y": null,
      "padding": null,
      "right": null,
      "top": null,
      "visibility": null,
      "width": null
     }
    },
    "c09c444aae37457faca93af8f112c584": {
     "model_module": "@jupyter-widgets/controls",
     "model_module_version": "1.5.0",
     "model_name": "ButtonModel",
     "state": {
      "_dom_classes": [],
      "_model_module": "@jupyter-widgets/controls",
      "_model_module_version": "1.5.0",
      "_model_name": "ButtonModel",
      "_view_count": null,
      "_view_module": "@jupyter-widgets/controls",
      "_view_module_version": "1.5.0",
      "_view_name": "ButtonView",
      "button_style": "",
      "description": "Login",
      "disabled": false,
      "icon": "",
      "layout": "IPY_MODEL_a049283218724168843065ea2f61ef22",
      "style": "IPY_MODEL_a578933520374a6d8327bcd149ae9078",
      "tooltip": ""
     }
    },
    "c2a8f623c6584c56ac0e024f46f6b877": {
     "model_module": "@jupyter-widgets/controls",
     "model_module_version": "1.5.0",
     "model_name": "HTMLModel",
     "state": {
      "_dom_classes": [],
      "_model_module": "@jupyter-widgets/controls",
      "_model_module_version": "1.5.0",
      "_model_name": "HTMLModel",
      "_view_count": null,
      "_view_module": "@jupyter-widgets/controls",
      "_view_module_version": "1.5.0",
      "_view_name": "HTMLView",
      "description": "",
      "description_tooltip": null,
      "layout": "IPY_MODEL_e0c6d07a9400499199a4e08845f47765",
      "placeholder": "​",
      "style": "IPY_MODEL_f0a1da74c269420d8abd1aaac023ea6a",
      "value": " 3.23k/3.23k [11:50&lt;?, ?B/s]"
     }
    },
    "c3ff0f107d5243749fb7e6a1409cf5c1": {
     "model_module": "@jupyter-widgets/base",
     "model_module_version": "1.2.0",
     "model_name": "LayoutModel",
     "state": {
      "_model_module": "@jupyter-widgets/base",
      "_model_module_version": "1.2.0",
      "_model_name": "LayoutModel",
      "_view_count": null,
      "_view_module": "@jupyter-widgets/base",
      "_view_module_version": "1.2.0",
      "_view_name": "LayoutView",
      "align_content": null,
      "align_items": null,
      "align_self": null,
      "border": null,
      "bottom": null,
      "display": null,
      "flex": null,
      "flex_flow": null,
      "grid_area": null,
      "grid_auto_columns": null,
      "grid_auto_flow": null,
      "grid_auto_rows": null,
      "grid_column": null,
      "grid_gap": null,
      "grid_row": null,
      "grid_template_areas": null,
      "grid_template_columns": null,
      "grid_template_rows": null,
      "height": null,
      "justify_content": null,
      "justify_items": null,
      "left": null,
      "margin": null,
      "max_height": null,
      "max_width": null,
      "min_height": null,
      "min_width": null,
      "object_fit": null,
      "object_position": null,
      "order": null,
      "overflow": null,
      "overflow_x": null,
      "overflow_y": null,
      "padding": null,
      "right": null,
      "top": null,
      "visibility": null,
      "width": null
     }
    },
    "c5d52a4d38374798983aacfdf83c1c6c": {
     "model_module": "@jupyter-widgets/controls",
     "model_module_version": "1.5.0",
     "model_name": "ProgressStyleModel",
     "state": {
      "_model_module": "@jupyter-widgets/controls",
      "_model_module_version": "1.5.0",
      "_model_name": "ProgressStyleModel",
      "_view_count": null,
      "_view_module": "@jupyter-widgets/base",
      "_view_module_version": "1.2.0",
      "_view_name": "StyleView",
      "bar_color": null,
      "description_width": ""
     }
    },
    "c9ab4a7a78bb447b9d455f943fd52025": {
     "model_module": "@jupyter-widgets/controls",
     "model_module_version": "1.5.0",
     "model_name": "HBoxModel",
     "state": {
      "_dom_classes": [],
      "_model_module": "@jupyter-widgets/controls",
      "_model_module_version": "1.5.0",
      "_model_name": "HBoxModel",
      "_view_count": null,
      "_view_module": "@jupyter-widgets/controls",
      "_view_module_version": "1.5.0",
      "_view_name": "HBoxView",
      "box_style": "",
      "children": [
       "IPY_MODEL_78db911ed7f9457988dbb04e95c151b8",
       "IPY_MODEL_1ae6dc8b99414af9819fd0b52c5d36a7",
       "IPY_MODEL_d993c816b6e04571bf22655233b780d8"
      ],
      "layout": "IPY_MODEL_a0cea0d8d31e4db8b46f1a2e1ee8357f"
     }
    },
    "ce34b7eeba27437b8e97366084e702ea": {
     "model_module": "@jupyter-widgets/controls",
     "model_module_version": "1.5.0",
     "model_name": "HTMLModel",
     "state": {
      "_dom_classes": [],
      "_model_module": "@jupyter-widgets/controls",
      "_model_module_version": "1.5.0",
      "_model_name": "HTMLModel",
      "_view_count": null,
      "_view_module": "@jupyter-widgets/controls",
      "_view_module_version": "1.5.0",
      "_view_name": "HTMLView",
      "description": "",
      "description_tooltip": null,
      "layout": "IPY_MODEL_18391ba116e34f85bb8d4a9ea3160514",
      "placeholder": "​",
      "style": "IPY_MODEL_8ad625365e4e41029f1f2d60f2cbf1a9",
      "value": "Downloading: 100%"
     }
    },
    "d0e6b207cd2f4f8389583fd0a831e0b9": {
     "model_module": "@jupyter-widgets/controls",
     "model_module_version": "1.5.0",
     "model_name": "HBoxModel",
     "state": {
      "_dom_classes": [],
      "_model_module": "@jupyter-widgets/controls",
      "_model_module_version": "1.5.0",
      "_model_name": "HBoxModel",
      "_view_count": null,
      "_view_module": "@jupyter-widgets/controls",
      "_view_module_version": "1.5.0",
      "_view_name": "HBoxView",
      "box_style": "",
      "children": [
       "IPY_MODEL_0984c055f6e3412d978278b3af5e2ab0",
       "IPY_MODEL_532c8adbdca94b3b855c259d323173bc",
       "IPY_MODEL_590f099adabb41279081567e3ea112fd"
      ],
      "layout": "IPY_MODEL_7b1abc2df7534308b9c8b81c25423f7b"
     }
    },
    "d1e3e1fa762f4bfa9caaca4b4d354dec": {
     "model_module": "@jupyter-widgets/controls",
     "model_module_version": "1.5.0",
     "model_name": "DescriptionStyleModel",
     "state": {
      "_model_module": "@jupyter-widgets/controls",
      "_model_module_version": "1.5.0",
      "_model_name": "DescriptionStyleModel",
      "_view_count": null,
      "_view_module": "@jupyter-widgets/base",
      "_view_module_version": "1.2.0",
      "_view_name": "StyleView",
      "description_width": ""
     }
    },
    "d53a4c85f73f405db228f48b26ee897d": {
     "model_module": "@jupyter-widgets/base",
     "model_module_version": "1.2.0",
     "model_name": "LayoutModel",
     "state": {
      "_model_module": "@jupyter-widgets/base",
      "_model_module_version": "1.2.0",
      "_model_name": "LayoutModel",
      "_view_count": null,
      "_view_module": "@jupyter-widgets/base",
      "_view_module_version": "1.2.0",
      "_view_name": "LayoutView",
      "align_content": null,
      "align_items": null,
      "align_self": null,
      "border": null,
      "bottom": null,
      "display": null,
      "flex": null,
      "flex_flow": null,
      "grid_area": null,
      "grid_auto_columns": null,
      "grid_auto_flow": null,
      "grid_auto_rows": null,
      "grid_column": null,
      "grid_gap": null,
      "grid_row": null,
      "grid_template_areas": null,
      "grid_template_columns": null,
      "grid_template_rows": null,
      "height": null,
      "justify_content": null,
      "justify_items": null,
      "left": null,
      "margin": null,
      "max_height": null,
      "max_width": null,
      "min_height": null,
      "min_width": null,
      "object_fit": null,
      "object_position": null,
      "order": null,
      "overflow": null,
      "overflow_x": null,
      "overflow_y": null,
      "padding": null,
      "right": null,
      "top": null,
      "visibility": null,
      "width": null
     }
    },
    "d6275a38506e4579ae8feace5de37f06": {
     "model_module": "@jupyter-widgets/controls",
     "model_module_version": "1.5.0",
     "model_name": "DescriptionStyleModel",
     "state": {
      "_model_module": "@jupyter-widgets/controls",
      "_model_module_version": "1.5.0",
      "_model_name": "DescriptionStyleModel",
      "_view_count": null,
      "_view_module": "@jupyter-widgets/base",
      "_view_module_version": "1.2.0",
      "_view_name": "StyleView",
      "description_width": ""
     }
    },
    "d80667a55b6347249d88191fee27f1a3": {
     "model_module": "@jupyter-widgets/controls",
     "model_module_version": "1.5.0",
     "model_name": "DescriptionStyleModel",
     "state": {
      "_model_module": "@jupyter-widgets/controls",
      "_model_module_version": "1.5.0",
      "_model_name": "DescriptionStyleModel",
      "_view_count": null,
      "_view_module": "@jupyter-widgets/base",
      "_view_module_version": "1.2.0",
      "_view_name": "StyleView",
      "description_width": ""
     }
    },
    "d993c816b6e04571bf22655233b780d8": {
     "model_module": "@jupyter-widgets/controls",
     "model_module_version": "1.5.0",
     "model_name": "HTMLModel",
     "state": {
      "_dom_classes": [],
      "_model_module": "@jupyter-widgets/controls",
      "_model_module_version": "1.5.0",
      "_model_name": "HTMLModel",
      "_view_count": null,
      "_view_module": "@jupyter-widgets/controls",
      "_view_module_version": "1.5.0",
      "_view_name": "HTMLView",
      "description": "",
      "description_tooltip": null,
      "layout": "IPY_MODEL_f6d7319ade854b7585c9401730e2e55d",
      "placeholder": "​",
      "style": "IPY_MODEL_d6275a38506e4579ae8feace5de37f06",
      "value": " 1.03M/1.03M [00:00&lt;00:00, 2.82MB/s]"
     }
    },
    "da626472bd144748b7a7652a8829c6a7": {
     "model_module": "@jupyter-widgets/base",
     "model_module_version": "1.2.0",
     "model_name": "LayoutModel",
     "state": {
      "_model_module": "@jupyter-widgets/base",
      "_model_module_version": "1.2.0",
      "_model_name": "LayoutModel",
      "_view_count": null,
      "_view_module": "@jupyter-widgets/base",
      "_view_module_version": "1.2.0",
      "_view_name": "LayoutView",
      "align_content": null,
      "align_items": null,
      "align_self": null,
      "border": null,
      "bottom": null,
      "display": null,
      "flex": null,
      "flex_flow": null,
      "grid_area": null,
      "grid_auto_columns": null,
      "grid_auto_flow": null,
      "grid_auto_rows": null,
      "grid_column": null,
      "grid_gap": null,
      "grid_row": null,
      "grid_template_areas": null,
      "grid_template_columns": null,
      "grid_template_rows": null,
      "height": null,
      "justify_content": null,
      "justify_items": null,
      "left": null,
      "margin": null,
      "max_height": null,
      "max_width": null,
      "min_height": null,
      "min_width": null,
      "object_fit": null,
      "object_position": null,
      "order": null,
      "overflow": null,
      "overflow_x": null,
      "overflow_y": null,
      "padding": null,
      "right": null,
      "top": null,
      "visibility": null,
      "width": null
     }
    },
    "df2381f3ec4f49a68636c9f24b1f23cf": {
     "model_module": "@jupyter-widgets/controls",
     "model_module_version": "1.5.0",
     "model_name": "DescriptionStyleModel",
     "state": {
      "_model_module": "@jupyter-widgets/controls",
      "_model_module_version": "1.5.0",
      "_model_name": "DescriptionStyleModel",
      "_view_count": null,
      "_view_module": "@jupyter-widgets/base",
      "_view_module_version": "1.2.0",
      "_view_name": "StyleView",
      "description_width": ""
     }
    },
    "e0c6d07a9400499199a4e08845f47765": {
     "model_module": "@jupyter-widgets/base",
     "model_module_version": "1.2.0",
     "model_name": "LayoutModel",
     "state": {
      "_model_module": "@jupyter-widgets/base",
      "_model_module_version": "1.2.0",
      "_model_name": "LayoutModel",
      "_view_count": null,
      "_view_module": "@jupyter-widgets/base",
      "_view_module_version": "1.2.0",
      "_view_name": "LayoutView",
      "align_content": null,
      "align_items": null,
      "align_self": null,
      "border": null,
      "bottom": null,
      "display": null,
      "flex": null,
      "flex_flow": null,
      "grid_area": null,
      "grid_auto_columns": null,
      "grid_auto_flow": null,
      "grid_auto_rows": null,
      "grid_column": null,
      "grid_gap": null,
      "grid_row": null,
      "grid_template_areas": null,
      "grid_template_columns": null,
      "grid_template_rows": null,
      "height": null,
      "justify_content": null,
      "justify_items": null,
      "left": null,
      "margin": null,
      "max_height": null,
      "max_width": null,
      "min_height": null,
      "min_width": null,
      "object_fit": null,
      "object_position": null,
      "order": null,
      "overflow": null,
      "overflow_x": null,
      "overflow_y": null,
      "padding": null,
      "right": null,
      "top": null,
      "visibility": null,
      "width": null
     }
    },
    "e15a26d27cbe4ac6b8dd125a45479c23": {
     "model_module": "@jupyter-widgets/controls",
     "model_module_version": "1.5.0",
     "model_name": "HTMLModel",
     "state": {
      "_dom_classes": [],
      "_model_module": "@jupyter-widgets/controls",
      "_model_module_version": "1.5.0",
      "_model_name": "HTMLModel",
      "_view_count": null,
      "_view_module": "@jupyter-widgets/controls",
      "_view_module_version": "1.5.0",
      "_view_name": "HTMLView",
      "description": "",
      "description_tooltip": null,
      "layout": "IPY_MODEL_68598ac612534240bcfe7a692915c933",
      "placeholder": "​",
      "style": "IPY_MODEL_69ce441f95a540ef8c1b7d69bec3eb96",
      "value": "Downloading: 100%"
     }
    },
    "e2cab42e842d4d8f9b6f38e198504d3e": {
     "model_module": "@jupyter-widgets/controls",
     "model_module_version": "1.5.0",
     "model_name": "HBoxModel",
     "state": {
      "_dom_classes": [],
      "_model_module": "@jupyter-widgets/controls",
      "_model_module_version": "1.5.0",
      "_model_name": "HBoxModel",
      "_view_count": null,
      "_view_module": "@jupyter-widgets/controls",
      "_view_module_version": "1.5.0",
      "_view_name": "HBoxView",
      "box_style": "",
      "children": [
       "IPY_MODEL_17d61ec2b21c405788bbf93daefef530",
       "IPY_MODEL_6d9eca6631e14d958f559e204dbcd47b",
       "IPY_MODEL_340febe6165048bf9a8224aa6f593204"
      ],
      "layout": "IPY_MODEL_da626472bd144748b7a7652a8829c6a7"
     }
    },
    "e5431fa403954bfc9d59364889bb7661": {
     "model_module": "@jupyter-widgets/controls",
     "model_module_version": "1.5.0",
     "model_name": "DescriptionStyleModel",
     "state": {
      "_model_module": "@jupyter-widgets/controls",
      "_model_module_version": "1.5.0",
      "_model_name": "DescriptionStyleModel",
      "_view_count": null,
      "_view_module": "@jupyter-widgets/base",
      "_view_module_version": "1.2.0",
      "_view_name": "StyleView",
      "description_width": ""
     }
    },
    "e5795e40bd3a4ebb9342b680a26de119": {
     "model_module": "@jupyter-widgets/base",
     "model_module_version": "1.2.0",
     "model_name": "LayoutModel",
     "state": {
      "_model_module": "@jupyter-widgets/base",
      "_model_module_version": "1.2.0",
      "_model_name": "LayoutModel",
      "_view_count": null,
      "_view_module": "@jupyter-widgets/base",
      "_view_module_version": "1.2.0",
      "_view_name": "LayoutView",
      "align_content": null,
      "align_items": null,
      "align_self": null,
      "border": null,
      "bottom": null,
      "display": null,
      "flex": null,
      "flex_flow": null,
      "grid_area": null,
      "grid_auto_columns": null,
      "grid_auto_flow": null,
      "grid_auto_rows": null,
      "grid_column": null,
      "grid_gap": null,
      "grid_row": null,
      "grid_template_areas": null,
      "grid_template_columns": null,
      "grid_template_rows": null,
      "height": null,
      "justify_content": null,
      "justify_items": null,
      "left": null,
      "margin": null,
      "max_height": null,
      "max_width": null,
      "min_height": null,
      "min_width": null,
      "object_fit": null,
      "object_position": null,
      "order": null,
      "overflow": null,
      "overflow_x": null,
      "overflow_y": null,
      "padding": null,
      "right": null,
      "top": null,
      "visibility": null,
      "width": null
     }
    },
    "e74bd4d0467e460f9a156f32f8eca4ee": {
     "model_module": "@jupyter-widgets/controls",
     "model_module_version": "1.5.0",
     "model_name": "HBoxModel",
     "state": {
      "_dom_classes": [],
      "_model_module": "@jupyter-widgets/controls",
      "_model_module_version": "1.5.0",
      "_model_name": "HBoxModel",
      "_view_count": null,
      "_view_module": "@jupyter-widgets/controls",
      "_view_module_version": "1.5.0",
      "_view_name": "HBoxView",
      "box_style": "",
      "children": [
       "IPY_MODEL_132fd547d1d34eb1be152bf1d8d175fc",
       "IPY_MODEL_82c9415b73724dac95859f8008d8f60f",
       "IPY_MODEL_75cf96f1d617405b8176f1ec668e8a0e"
      ],
      "layout": "IPY_MODEL_a5d012eb4e7a40909a1cd2856d863676"
     }
    },
    "ee4bb4514add4825bc6710c7a540bddd": {
     "model_module": "@jupyter-widgets/base",
     "model_module_version": "1.2.0",
     "model_name": "LayoutModel",
     "state": {
      "_model_module": "@jupyter-widgets/base",
      "_model_module_version": "1.2.0",
      "_model_name": "LayoutModel",
      "_view_count": null,
      "_view_module": "@jupyter-widgets/base",
      "_view_module_version": "1.2.0",
      "_view_name": "LayoutView",
      "align_content": null,
      "align_items": null,
      "align_self": null,
      "border": null,
      "bottom": null,
      "display": null,
      "flex": null,
      "flex_flow": null,
      "grid_area": null,
      "grid_auto_columns": null,
      "grid_auto_flow": null,
      "grid_auto_rows": null,
      "grid_column": null,
      "grid_gap": null,
      "grid_row": null,
      "grid_template_areas": null,
      "grid_template_columns": null,
      "grid_template_rows": null,
      "height": null,
      "justify_content": null,
      "justify_items": null,
      "left": null,
      "margin": null,
      "max_height": null,
      "max_width": null,
      "min_height": null,
      "min_width": null,
      "object_fit": null,
      "object_position": null,
      "order": null,
      "overflow": null,
      "overflow_x": null,
      "overflow_y": null,
      "padding": null,
      "right": null,
      "top": null,
      "visibility": null,
      "width": null
     }
    },
    "f0a1da74c269420d8abd1aaac023ea6a": {
     "model_module": "@jupyter-widgets/controls",
     "model_module_version": "1.5.0",
     "model_name": "DescriptionStyleModel",
     "state": {
      "_model_module": "@jupyter-widgets/controls",
      "_model_module_version": "1.5.0",
      "_model_name": "DescriptionStyleModel",
      "_view_count": null,
      "_view_module": "@jupyter-widgets/base",
      "_view_module_version": "1.2.0",
      "_view_name": "StyleView",
      "description_width": ""
     }
    },
    "f6d7319ade854b7585c9401730e2e55d": {
     "model_module": "@jupyter-widgets/base",
     "model_module_version": "1.2.0",
     "model_name": "LayoutModel",
     "state": {
      "_model_module": "@jupyter-widgets/base",
      "_model_module_version": "1.2.0",
      "_model_name": "LayoutModel",
      "_view_count": null,
      "_view_module": "@jupyter-widgets/base",
      "_view_module_version": "1.2.0",
      "_view_name": "LayoutView",
      "align_content": null,
      "align_items": null,
      "align_self": null,
      "border": null,
      "bottom": null,
      "display": null,
      "flex": null,
      "flex_flow": null,
      "grid_area": null,
      "grid_auto_columns": null,
      "grid_auto_flow": null,
      "grid_auto_rows": null,
      "grid_column": null,
      "grid_gap": null,
      "grid_row": null,
      "grid_template_areas": null,
      "grid_template_columns": null,
      "grid_template_rows": null,
      "height": null,
      "justify_content": null,
      "justify_items": null,
      "left": null,
      "margin": null,
      "max_height": null,
      "max_width": null,
      "min_height": null,
      "min_width": null,
      "object_fit": null,
      "object_position": null,
      "order": null,
      "overflow": null,
      "overflow_x": null,
      "overflow_y": null,
      "padding": null,
      "right": null,
      "top": null,
      "visibility": null,
      "width": null
     }
    },
    "f6ff4096b1bb4c3d9c61d8a97f7938f3": {
     "model_module": "@jupyter-widgets/controls",
     "model_module_version": "1.5.0",
     "model_name": "HTMLModel",
     "state": {
      "_dom_classes": [],
      "_model_module": "@jupyter-widgets/controls",
      "_model_module_version": "1.5.0",
      "_model_name": "HTMLModel",
      "_view_count": null,
      "_view_module": "@jupyter-widgets/controls",
      "_view_module_version": "1.5.0",
      "_view_name": "HTMLView",
      "description": "",
      "description_tooltip": null,
      "layout": "IPY_MODEL_e5795e40bd3a4ebb9342b680a26de119",
      "placeholder": "​",
      "style": "IPY_MODEL_3c1d0ec80c2645a5911706218f82bbe6",
      "value": " 515M/515M [11:50&lt;00:00, 497kB/s]"
     }
    },
    "f79315f799a04b67b1b5f902d13de1ad": {
     "model_module": "@jupyter-widgets/base",
     "model_module_version": "1.2.0",
     "model_name": "LayoutModel",
     "state": {
      "_model_module": "@jupyter-widgets/base",
      "_model_module_version": "1.2.0",
      "_model_name": "LayoutModel",
      "_view_count": null,
      "_view_module": "@jupyter-widgets/base",
      "_view_module_version": "1.2.0",
      "_view_name": "LayoutView",
      "align_content": null,
      "align_items": null,
      "align_self": null,
      "border": null,
      "bottom": null,
      "display": null,
      "flex": null,
      "flex_flow": null,
      "grid_area": null,
      "grid_auto_columns": null,
      "grid_auto_flow": null,
      "grid_auto_rows": null,
      "grid_column": null,
      "grid_gap": null,
      "grid_row": null,
      "grid_template_areas": null,
      "grid_template_columns": null,
      "grid_template_rows": null,
      "height": null,
      "justify_content": null,
      "justify_items": null,
      "left": null,
      "margin": null,
      "max_height": null,
      "max_width": null,
      "min_height": null,
      "min_width": null,
      "object_fit": null,
      "object_position": null,
      "order": null,
      "overflow": null,
      "overflow_x": null,
      "overflow_y": null,
      "padding": null,
      "right": null,
      "top": null,
      "visibility": null,
      "width": null
     }
    }
   }
  }
 },
 "nbformat": 4,
 "nbformat_minor": 1
}
