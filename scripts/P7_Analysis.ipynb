{
 "cells": [
  {
   "cell_type": "markdown",
   "id": "e838ae5f",
   "metadata": {},
   "source": [
    "# <div style=\"color:green\">[Scripts] Détecter les bad buzz - analyse</div>"
   ]
  },
  {
   "cell_type": "markdown",
   "id": "5bf1853e",
   "metadata": {},
   "source": [
    "<img src=\"img/flight_logo.png\" style=\"height=300px\">"
   ]
  },
  {
   "cell_type": "markdown",
   "id": "761b5334",
   "metadata": {},
   "source": [
    "# <div id=\"ch0\" style=\"color: blue\">0. Plan du notebook</div>"
   ]
  },
  {
   "cell_type": "markdown",
   "id": "443a8ea1",
   "metadata": {},
   "source": [
    "1. [Imports](#ch1)<br><br>\n",
    "2. [Analyse et nettoyage](#ch2)<br><br>\n",
    "3. [Baseline](#ch3)<br>\n",
    ">3.1 [API sur étagère : MicroSoft Language Services](#ch3_1)<br>\n",
    ">3.2 [Bag of Words : TF-IDF & LinearRegression](#ch3_2)<br>"
   ]
  },
  {
   "cell_type": "markdown",
   "id": "4d0ed2a3",
   "metadata": {},
   "source": [
    "# <div id=\"ch1\" style=\"color: blue\">1. Imports</div>"
   ]
  },
  {
   "cell_type": "markdown",
   "id": "61524a49",
   "metadata": {},
   "source": [
    "### Imports bilbiothèques"
   ]
  },
  {
   "cell_type": "code",
   "execution_count": 1,
   "id": "d95ed1bc-5f86-4f17-a5da-b8ccb35fdcca",
   "metadata": {},
   "outputs": [],
   "source": [
    "import gc\n",
    "import os\n",
    "import re\n",
    "import sys\n",
    "import nltk\n",
    "import time\n",
    "import gensim\n",
    "import langid\n",
    "import string\n",
    "import chardet\n",
    "import requests\n",
    "import contractions\n",
    "import pandas as pd\n",
    "import numpy as np\n",
    "import matplotlib.pyplot as plt\n",
    "import seaborn as sns\n",
    "import tensorflow as tf\n",
    "import urllib\n",
    "import joblib\n",
    "from urllib.error import HTTPError\n",
    "from urllib.parse import quote\n",
    "from urllib.parse import urlencode\n",
    "from nltk.stem import WordNetLemmatizer\n",
    "from nltk.stem import PorterStemmer\n",
    "from gensim import corpora\n",
    "from gensim.models import Word2Vec\n",
    "from gensim.models import CoherenceModel\n",
    "from gensim.models.phrases import Phrases\n",
    "from gensim.models.phrases import ENGLISH_CONNECTOR_WORDS\n",
    "from gensim.models.phrases import Phraser\n",
    "from sklearn.preprocessing import StandardScaler\n",
    "from sklearn.model_selection import GridSearchCV\n",
    "from sklearn.model_selection import StratifiedKFold\n",
    "from sklearn.model_selection import train_test_split\n",
    "from sklearn.linear_model import LogisticRegression\n",
    "from sklearn.feature_extraction.text import CountVectorizer\n",
    "from sklearn.feature_extraction.text import TfidfVectorizer\n",
    "from sklearn.metrics import confusion_matrix\n",
    "from sklearn.metrics import classification_report\n",
    "from keras.utils import pad_sequences\n",
    "from keras.utils import to_categorical\n",
    "from keras.preprocessing import sequence\n",
    "from keras.preprocessing.text import Tokenizer\n",
    "from keras.models import Sequential\n",
    "from keras.models import save_model\n",
    "from keras.models import load_model\n",
    "from keras.layers import Dense\n",
    "from keras.layers import Embedding\n",
    "from keras.layers import Bidirectional\n",
    "from keras.layers import Flatten\n",
    "from keras.layers import Dropout\n",
    "from keras.layers import Conv1D\n",
    "from keras.layers import MaxPooling1D\n",
    "from keras.layers import LSTM\n",
    "from keras.layers import GRU"
   ]
  },
  {
   "cell_type": "code",
   "execution_count": 2,
   "id": "65ad6f13-8dc4-4684-80ff-f9db7675b7b1",
   "metadata": {},
   "outputs": [
    {
     "name": "stderr",
     "output_type": "stream",
     "text": [
      "[nltk_data] Downloading package stopwords to\n",
      "[nltk_data]     C:\\Users\\aledo\\AppData\\Roaming\\nltk_data...\n",
      "[nltk_data]   Unzipping corpora\\stopwords.zip.\n",
      "[nltk_data] Downloading package wordnet to\n",
      "[nltk_data]     C:\\Users\\aledo\\AppData\\Roaming\\nltk_data...\n",
      "[nltk_data]   Package wordnet is already up-to-date!\n",
      "[nltk_data] Downloading package omw-1.4 to\n",
      "[nltk_data]     C:\\Users\\aledo\\AppData\\Roaming\\nltk_data...\n",
      "[nltk_data]   Package omw-1.4 is already up-to-date!\n"
     ]
    },
    {
     "data": {
      "text/plain": [
       "True"
      ]
     },
     "execution_count": 2,
     "metadata": {},
     "output_type": "execute_result"
    }
   ],
   "source": [
    "nltk.download('stopwords')\n",
    "nltk.download('wordnet')\n",
    "nltk.download('omw-1.4')"
   ]
  },
  {
   "cell_type": "markdown",
   "id": "bc50281a",
   "metadata": {},
   "source": [
    "### Fonctions"
   ]
  },
  {
   "cell_type": "code",
   "execution_count": 361,
   "id": "7e34a628",
   "metadata": {},
   "outputs": [],
   "source": [
    "def plot_acc_loss(hist):\n",
    "    acc = hist.history['accuracy']\n",
    "    val_acc = hist.history['val_accuracy']\n",
    "    los = hist.history['loss']\n",
    "    val_los = hist.history['val_loss']\n",
    "    epochs = range(1, len(acc) + 1)\n",
    "    plt.figure(figsize=(15, 5))\n",
    "    #Accuracy\n",
    "    plt.subplot(1, 2, 1)\n",
    "    plt.plot(epochs, acc, '-', label='Training Accuracy')\n",
    "    plt.plot(epochs, val_acc, ':', label='Validation Accuracy')\n",
    "    plt.title('Training and Validation Accuracy')\n",
    "    plt.xlabel('Epoch')\n",
    "    plt.ylabel('Accuracy')\n",
    "    plt.legend(loc='upper left')\n",
    "    #Loss\n",
    "    plt.subplot(1, 2, 2)\n",
    "    plt.plot(epochs, los, '-', label='Training Loss')\n",
    "    plt.plot(epochs, val_los, ':', label='Validation Loss')\n",
    "    plt.title('Training and Validation Loss')\n",
    "    plt.xlabel('Epoch')\n",
    "    plt.ylabel('Loss')\n",
    "    plt.legend(loc='upper left')\n",
    "    plt.show()"
   ]
  },
  {
   "cell_type": "markdown",
   "id": "6292ff00-92fb-490a-965d-f9fd0e804a83",
   "metadata": {},
   "source": [
    "### Import du fichier csv brut"
   ]
  },
  {
   "cell_type": "code",
   "execution_count": 7,
   "id": "892511c6-bad8-4700-9794-7d5afc462213",
   "metadata": {},
   "outputs": [],
   "source": [
    "with open('data/training.1600000.processed.noemoticon.csv', 'rb') as f:\n",
    "    enc = chardet.detect(f.read())  # or readline if the file is large\n",
    "tw = pd.read_csv('data/training.1600000.processed.noemoticon.csv', encoding=enc['encoding'])"
   ]
  },
  {
   "cell_type": "code",
   "execution_count": 10,
   "id": "b85f8f9b-151a-4b35-bd33-ce0a0beb1b36",
   "metadata": {},
   "outputs": [
    {
     "data": {
      "text/plain": [
       "(1599999, 6)"
      ]
     },
     "execution_count": 10,
     "metadata": {},
     "output_type": "execute_result"
    }
   ],
   "source": [
    "tw.shape"
   ]
  },
  {
   "cell_type": "code",
   "execution_count": 8,
   "id": "f0d5aee7-0cd9-4a40-baf2-09d264ea4a72",
   "metadata": {},
   "outputs": [
    {
     "data": {
      "text/html": [
       "<div>\n",
       "<style scoped>\n",
       "    .dataframe tbody tr th:only-of-type {\n",
       "        vertical-align: middle;\n",
       "    }\n",
       "\n",
       "    .dataframe tbody tr th {\n",
       "        vertical-align: top;\n",
       "    }\n",
       "\n",
       "    .dataframe thead th {\n",
       "        text-align: right;\n",
       "    }\n",
       "</style>\n",
       "<table border=\"1\" class=\"dataframe\">\n",
       "  <thead>\n",
       "    <tr style=\"text-align: right;\">\n",
       "      <th></th>\n",
       "      <th>0</th>\n",
       "      <th>1467810369</th>\n",
       "      <th>Mon Apr 06 22:19:45 PDT 2009</th>\n",
       "      <th>NO_QUERY</th>\n",
       "      <th>_TheSpecialOne_</th>\n",
       "      <th>@switchfoot http://twitpic.com/2y1zl - Awww, that's a bummer.  You shoulda got David Carr of Third Day to do it. ;D</th>\n",
       "    </tr>\n",
       "  </thead>\n",
       "  <tbody>\n",
       "    <tr>\n",
       "      <th>0</th>\n",
       "      <td>0</td>\n",
       "      <td>1467810672</td>\n",
       "      <td>Mon Apr 06 22:19:49 PDT 2009</td>\n",
       "      <td>NO_QUERY</td>\n",
       "      <td>scotthamilton</td>\n",
       "      <td>is upset that he can't update his Facebook by ...</td>\n",
       "    </tr>\n",
       "    <tr>\n",
       "      <th>1</th>\n",
       "      <td>0</td>\n",
       "      <td>1467810917</td>\n",
       "      <td>Mon Apr 06 22:19:53 PDT 2009</td>\n",
       "      <td>NO_QUERY</td>\n",
       "      <td>mattycus</td>\n",
       "      <td>@Kenichan I dived many times for the ball. Man...</td>\n",
       "    </tr>\n",
       "    <tr>\n",
       "      <th>2</th>\n",
       "      <td>0</td>\n",
       "      <td>1467811184</td>\n",
       "      <td>Mon Apr 06 22:19:57 PDT 2009</td>\n",
       "      <td>NO_QUERY</td>\n",
       "      <td>ElleCTF</td>\n",
       "      <td>my whole body feels itchy and like its on fire</td>\n",
       "    </tr>\n",
       "    <tr>\n",
       "      <th>3</th>\n",
       "      <td>0</td>\n",
       "      <td>1467811193</td>\n",
       "      <td>Mon Apr 06 22:19:57 PDT 2009</td>\n",
       "      <td>NO_QUERY</td>\n",
       "      <td>Karoli</td>\n",
       "      <td>@nationwideclass no, it's not behaving at all....</td>\n",
       "    </tr>\n",
       "    <tr>\n",
       "      <th>4</th>\n",
       "      <td>0</td>\n",
       "      <td>1467811372</td>\n",
       "      <td>Mon Apr 06 22:20:00 PDT 2009</td>\n",
       "      <td>NO_QUERY</td>\n",
       "      <td>joy_wolf</td>\n",
       "      <td>@Kwesidei not the whole crew</td>\n",
       "    </tr>\n",
       "  </tbody>\n",
       "</table>\n",
       "</div>"
      ],
      "text/plain": [
       "   0  1467810369  Mon Apr 06 22:19:45 PDT 2009  NO_QUERY _TheSpecialOne_  \\\n",
       "0  0  1467810672  Mon Apr 06 22:19:49 PDT 2009  NO_QUERY   scotthamilton   \n",
       "1  0  1467810917  Mon Apr 06 22:19:53 PDT 2009  NO_QUERY        mattycus   \n",
       "2  0  1467811184  Mon Apr 06 22:19:57 PDT 2009  NO_QUERY         ElleCTF   \n",
       "3  0  1467811193  Mon Apr 06 22:19:57 PDT 2009  NO_QUERY          Karoli   \n",
       "4  0  1467811372  Mon Apr 06 22:20:00 PDT 2009  NO_QUERY        joy_wolf   \n",
       "\n",
       "  @switchfoot http://twitpic.com/2y1zl - Awww, that's a bummer.  You shoulda got David Carr of Third Day to do it. ;D  \n",
       "0  is upset that he can't update his Facebook by ...                                                                   \n",
       "1  @Kenichan I dived many times for the ball. Man...                                                                   \n",
       "2    my whole body feels itchy and like its on fire                                                                    \n",
       "3  @nationwideclass no, it's not behaving at all....                                                                   \n",
       "4                      @Kwesidei not the whole crew                                                                    "
      ]
     },
     "execution_count": 8,
     "metadata": {},
     "output_type": "execute_result"
    }
   ],
   "source": [
    "tw.head()"
   ]
  },
  {
   "cell_type": "markdown",
   "id": "ee64a645-b5f3-49f0-88bf-045746c6fca9",
   "metadata": {},
   "source": [
    "<div class='alert alert-block alert-info'>\n",
    "    \n",
    "On s'aperçoit qu'il n'y a pas d'en-têtes et que la première ligne de données a été prise à tort pour remplir ce rôle.\n",
    "    \n",
    "</div>"
   ]
  },
  {
   "cell_type": "markdown",
   "id": "db4da46f",
   "metadata": {},
   "source": [
    "[*(Retour Sommaire)*](#ch0)"
   ]
  },
  {
   "cell_type": "markdown",
   "id": "7976d6a5",
   "metadata": {},
   "source": [
    "# <div id=\"ch2\" style=\"color: blue\">2. Analyse et nettoyage</div>"
   ]
  },
  {
   "cell_type": "markdown",
   "id": "4b25dcf9-d2c4-4bcf-9a6c-0a009253059b",
   "metadata": {},
   "source": [
    "### Ajout de titre de colonnes et récupération de la première ligne de données"
   ]
  },
  {
   "cell_type": "code",
   "execution_count": 14,
   "id": "b30c60db-a145-408f-8243-2eea601098ba",
   "metadata": {},
   "outputs": [],
   "source": [
    "first_line = tw.columns.to_list()"
   ]
  },
  {
   "cell_type": "code",
   "execution_count": 26,
   "id": "4780e84c-1605-4bce-9ff3-df9a54897dfe",
   "metadata": {},
   "outputs": [],
   "source": [
    "tw.columns = ['tw_y', 'tw_id', 'tw_date', 'tw_query', 'tw_author', 'tw_text']"
   ]
  },
  {
   "cell_type": "code",
   "execution_count": 28,
   "id": "7fd4f812-fbb0-4ce5-8b3f-162f05d451b7",
   "metadata": {},
   "outputs": [],
   "source": [
    "tweets = pd.concat([pd.DataFrame([first_line], columns=['tw_y', 'tw_id', 'tw_date', 'tw_query', 'tw_author', 'tw_text']), tw], ignore_index=True)"
   ]
  },
  {
   "cell_type": "code",
   "execution_count": 45,
   "id": "f1bde93f-4f57-4850-8b03-57f7367f66d8",
   "metadata": {},
   "outputs": [
    {
     "data": {
      "text/plain": [
       "(1600000, 6)"
      ]
     },
     "execution_count": 45,
     "metadata": {},
     "output_type": "execute_result"
    }
   ],
   "source": [
    "tweets.shape"
   ]
  },
  {
   "cell_type": "code",
   "execution_count": 29,
   "id": "5401913e-220a-4a1e-9ef5-54862f6a4ade",
   "metadata": {},
   "outputs": [
    {
     "data": {
      "text/html": [
       "<div>\n",
       "<style scoped>\n",
       "    .dataframe tbody tr th:only-of-type {\n",
       "        vertical-align: middle;\n",
       "    }\n",
       "\n",
       "    .dataframe tbody tr th {\n",
       "        vertical-align: top;\n",
       "    }\n",
       "\n",
       "    .dataframe thead th {\n",
       "        text-align: right;\n",
       "    }\n",
       "</style>\n",
       "<table border=\"1\" class=\"dataframe\">\n",
       "  <thead>\n",
       "    <tr style=\"text-align: right;\">\n",
       "      <th></th>\n",
       "      <th>tw_y</th>\n",
       "      <th>tw_id</th>\n",
       "      <th>tw_date</th>\n",
       "      <th>tw_query</th>\n",
       "      <th>tw_author</th>\n",
       "      <th>tw_text</th>\n",
       "    </tr>\n",
       "  </thead>\n",
       "  <tbody>\n",
       "    <tr>\n",
       "      <th>0</th>\n",
       "      <td>0</td>\n",
       "      <td>1467810369</td>\n",
       "      <td>Mon Apr 06 22:19:45 PDT 2009</td>\n",
       "      <td>NO_QUERY</td>\n",
       "      <td>_TheSpecialOne_</td>\n",
       "      <td>@switchfoot http://twitpic.com/2y1zl - Awww, t...</td>\n",
       "    </tr>\n",
       "    <tr>\n",
       "      <th>1</th>\n",
       "      <td>0</td>\n",
       "      <td>1467810672</td>\n",
       "      <td>Mon Apr 06 22:19:49 PDT 2009</td>\n",
       "      <td>NO_QUERY</td>\n",
       "      <td>scotthamilton</td>\n",
       "      <td>is upset that he can't update his Facebook by ...</td>\n",
       "    </tr>\n",
       "    <tr>\n",
       "      <th>2</th>\n",
       "      <td>0</td>\n",
       "      <td>1467810917</td>\n",
       "      <td>Mon Apr 06 22:19:53 PDT 2009</td>\n",
       "      <td>NO_QUERY</td>\n",
       "      <td>mattycus</td>\n",
       "      <td>@Kenichan I dived many times for the ball. Man...</td>\n",
       "    </tr>\n",
       "    <tr>\n",
       "      <th>3</th>\n",
       "      <td>0</td>\n",
       "      <td>1467811184</td>\n",
       "      <td>Mon Apr 06 22:19:57 PDT 2009</td>\n",
       "      <td>NO_QUERY</td>\n",
       "      <td>ElleCTF</td>\n",
       "      <td>my whole body feels itchy and like its on fire</td>\n",
       "    </tr>\n",
       "    <tr>\n",
       "      <th>4</th>\n",
       "      <td>0</td>\n",
       "      <td>1467811193</td>\n",
       "      <td>Mon Apr 06 22:19:57 PDT 2009</td>\n",
       "      <td>NO_QUERY</td>\n",
       "      <td>Karoli</td>\n",
       "      <td>@nationwideclass no, it's not behaving at all....</td>\n",
       "    </tr>\n",
       "  </tbody>\n",
       "</table>\n",
       "</div>"
      ],
      "text/plain": [
       "  tw_y       tw_id                       tw_date  tw_query        tw_author  \\\n",
       "0    0  1467810369  Mon Apr 06 22:19:45 PDT 2009  NO_QUERY  _TheSpecialOne_   \n",
       "1    0  1467810672  Mon Apr 06 22:19:49 PDT 2009  NO_QUERY    scotthamilton   \n",
       "2    0  1467810917  Mon Apr 06 22:19:53 PDT 2009  NO_QUERY         mattycus   \n",
       "3    0  1467811184  Mon Apr 06 22:19:57 PDT 2009  NO_QUERY          ElleCTF   \n",
       "4    0  1467811193  Mon Apr 06 22:19:57 PDT 2009  NO_QUERY           Karoli   \n",
       "\n",
       "                                             tw_text  \n",
       "0  @switchfoot http://twitpic.com/2y1zl - Awww, t...  \n",
       "1  is upset that he can't update his Facebook by ...  \n",
       "2  @Kenichan I dived many times for the ball. Man...  \n",
       "3    my whole body feels itchy and like its on fire   \n",
       "4  @nationwideclass no, it's not behaving at all....  "
      ]
     },
     "execution_count": 29,
     "metadata": {},
     "output_type": "execute_result"
    }
   ],
   "source": [
    "tweets.head()"
   ]
  },
  {
   "cell_type": "code",
   "execution_count": 30,
   "id": "997758b2-7e37-405c-b868-e6373b770e85",
   "metadata": {},
   "outputs": [
    {
     "data": {
      "text/html": [
       "<div>\n",
       "<style scoped>\n",
       "    .dataframe tbody tr th:only-of-type {\n",
       "        vertical-align: middle;\n",
       "    }\n",
       "\n",
       "    .dataframe tbody tr th {\n",
       "        vertical-align: top;\n",
       "    }\n",
       "\n",
       "    .dataframe thead th {\n",
       "        text-align: right;\n",
       "    }\n",
       "</style>\n",
       "<table border=\"1\" class=\"dataframe\">\n",
       "  <thead>\n",
       "    <tr style=\"text-align: right;\">\n",
       "      <th></th>\n",
       "      <th>tw_y</th>\n",
       "      <th>tw_id</th>\n",
       "      <th>tw_date</th>\n",
       "      <th>tw_query</th>\n",
       "      <th>tw_author</th>\n",
       "      <th>tw_text</th>\n",
       "    </tr>\n",
       "  </thead>\n",
       "  <tbody>\n",
       "    <tr>\n",
       "      <th>count</th>\n",
       "      <td>1600000</td>\n",
       "      <td>1600000</td>\n",
       "      <td>1600000</td>\n",
       "      <td>1600000</td>\n",
       "      <td>1600000</td>\n",
       "      <td>1600000</td>\n",
       "    </tr>\n",
       "    <tr>\n",
       "      <th>unique</th>\n",
       "      <td>3</td>\n",
       "      <td>1598315</td>\n",
       "      <td>774363</td>\n",
       "      <td>1</td>\n",
       "      <td>659775</td>\n",
       "      <td>1581466</td>\n",
       "    </tr>\n",
       "    <tr>\n",
       "      <th>top</th>\n",
       "      <td>4</td>\n",
       "      <td>2190457769</td>\n",
       "      <td>Mon Jun 15 12:53:14 PDT 2009</td>\n",
       "      <td>NO_QUERY</td>\n",
       "      <td>lost_dog</td>\n",
       "      <td>isPlayer Has Died! Sorry</td>\n",
       "    </tr>\n",
       "    <tr>\n",
       "      <th>freq</th>\n",
       "      <td>800000</td>\n",
       "      <td>2</td>\n",
       "      <td>20</td>\n",
       "      <td>1600000</td>\n",
       "      <td>549</td>\n",
       "      <td>210</td>\n",
       "    </tr>\n",
       "  </tbody>\n",
       "</table>\n",
       "</div>"
      ],
      "text/plain": [
       "           tw_y       tw_id                       tw_date  tw_query tw_author  \\\n",
       "count   1600000     1600000                       1600000   1600000   1600000   \n",
       "unique        3     1598315                        774363         1    659775   \n",
       "top           4  2190457769  Mon Jun 15 12:53:14 PDT 2009  NO_QUERY  lost_dog   \n",
       "freq     800000           2                            20   1600000       549   \n",
       "\n",
       "                          tw_text  \n",
       "count                     1600000  \n",
       "unique                    1581466  \n",
       "top     isPlayer Has Died! Sorry   \n",
       "freq                          210  "
      ]
     },
     "execution_count": 30,
     "metadata": {},
     "output_type": "execute_result"
    }
   ],
   "source": [
    "tweets.describe(include='all')"
   ]
  },
  {
   "cell_type": "markdown",
   "id": "562bf51a-8f57-412c-a110-e5fc575e8189",
   "metadata": {},
   "source": [
    "<div class='alert alert-block alert-info'>\n",
    "    \n",
    "3 catégories sont manifestement présentes, regardons les valeurs uniques.\n",
    "    \n",
    "</div>"
   ]
  },
  {
   "cell_type": "markdown",
   "id": "3286743d-829d-4d04-9f7e-7afbcb13c166",
   "metadata": {},
   "source": [
    "### Aperçu des catégories"
   ]
  },
  {
   "cell_type": "code",
   "execution_count": 42,
   "id": "e8678e54-ff8e-4fc5-a164-3ddf3980caa3",
   "metadata": {},
   "outputs": [
    {
     "data": {
      "text/plain": [
       "array(['0', 0, 4], dtype=object)"
      ]
     },
     "execution_count": 42,
     "metadata": {},
     "output_type": "execute_result"
    }
   ],
   "source": [
    "tweets['tw_y'].unique()"
   ]
  },
  {
   "cell_type": "markdown",
   "id": "102dfee9-1738-4c11-8bf1-4924d2a03d3a",
   "metadata": {},
   "source": [
    "<div class='alert alert-block alert-info'>\n",
    "    \n",
    "Il n'y a en réalité que 2 catégories : les 0 ont été écrits tantôt en nombre tantôt sous forme de texte.\n",
    "    \n",
    "</div>"
   ]
  },
  {
   "cell_type": "code",
   "execution_count": 43,
   "id": "fdbd0a4e-e5a3-48bb-b386-c429240ca6f6",
   "metadata": {},
   "outputs": [
    {
     "data": {
      "text/plain": [
       "array([0, 4], dtype=int64)"
      ]
     },
     "execution_count": 43,
     "metadata": {},
     "output_type": "execute_result"
    }
   ],
   "source": [
    "tweets['tw_y'].replace(to_replace='0', value=0, inplace=True)\n",
    "tweets['tw_y'].unique()"
   ]
  },
  {
   "cell_type": "code",
   "execution_count": 44,
   "id": "8076356d-88d5-431e-adba-743c190b8f4d",
   "metadata": {},
   "outputs": [
    {
     "name": "stdout",
     "output_type": "stream",
     "text": [
      "Nombre de tweets par catégorie :\n",
      "------------------------------\n"
     ]
    },
    {
     "data": {
      "text/html": [
       "<div>\n",
       "<style scoped>\n",
       "    .dataframe tbody tr th:only-of-type {\n",
       "        vertical-align: middle;\n",
       "    }\n",
       "\n",
       "    .dataframe tbody tr th {\n",
       "        vertical-align: top;\n",
       "    }\n",
       "\n",
       "    .dataframe thead th {\n",
       "        text-align: right;\n",
       "    }\n",
       "</style>\n",
       "<table border=\"1\" class=\"dataframe\">\n",
       "  <thead>\n",
       "    <tr style=\"text-align: right;\">\n",
       "      <th></th>\n",
       "      <th>tw_y</th>\n",
       "      <th>tw_id</th>\n",
       "    </tr>\n",
       "  </thead>\n",
       "  <tbody>\n",
       "    <tr>\n",
       "      <th>0</th>\n",
       "      <td>0</td>\n",
       "      <td>800000</td>\n",
       "    </tr>\n",
       "    <tr>\n",
       "      <th>1</th>\n",
       "      <td>4</td>\n",
       "      <td>800000</td>\n",
       "    </tr>\n",
       "  </tbody>\n",
       "</table>\n",
       "</div>"
      ],
      "text/plain": [
       "   tw_y   tw_id\n",
       "0     0  800000\n",
       "1     4  800000"
      ]
     },
     "execution_count": 44,
     "metadata": {},
     "output_type": "execute_result"
    }
   ],
   "source": [
    "print('Nombre de tweets par catégorie :')\n",
    "print('------------------------------')\n",
    "tweets[['tw_y', 'tw_id']].groupby('tw_y').count().reset_index()"
   ]
  },
  {
   "cell_type": "markdown",
   "id": "5bf77655-c639-41cf-8bf0-f6411f01e824",
   "metadata": {},
   "source": [
    "<div class='alert alert-block alert-info'>\n",
    "    \n",
    "Les classes sont équilibrées, pour l'instant...\n",
    "    \n",
    "</div>"
   ]
  },
  {
   "cell_type": "markdown",
   "id": "2a2e0e6c-18da-4c1d-81d0-04d43c94d13b",
   "metadata": {
    "tags": []
   },
   "source": [
    "### Sentiment associé à chaque catégorie"
   ]
  },
  {
   "cell_type": "code",
   "execution_count": 46,
   "id": "e96f447e-c3e6-4968-936d-f066c5699e25",
   "metadata": {},
   "outputs": [
    {
     "name": "stdout",
     "output_type": "stream",
     "text": [
      "Catégorie 0 :\n",
      "-----------\n"
     ]
    },
    {
     "data": {
      "text/html": [
       "<div>\n",
       "<style scoped>\n",
       "    .dataframe tbody tr th:only-of-type {\n",
       "        vertical-align: middle;\n",
       "    }\n",
       "\n",
       "    .dataframe tbody tr th {\n",
       "        vertical-align: top;\n",
       "    }\n",
       "\n",
       "    .dataframe thead th {\n",
       "        text-align: right;\n",
       "    }\n",
       "</style>\n",
       "<table border=\"1\" class=\"dataframe\">\n",
       "  <thead>\n",
       "    <tr style=\"text-align: right;\">\n",
       "      <th></th>\n",
       "      <th>tw_y</th>\n",
       "      <th>tw_id</th>\n",
       "      <th>tw_date</th>\n",
       "      <th>tw_query</th>\n",
       "      <th>tw_author</th>\n",
       "      <th>tw_text</th>\n",
       "    </tr>\n",
       "  </thead>\n",
       "  <tbody>\n",
       "    <tr>\n",
       "      <th>0</th>\n",
       "      <td>0</td>\n",
       "      <td>1467810369</td>\n",
       "      <td>Mon Apr 06 22:19:45 PDT 2009</td>\n",
       "      <td>NO_QUERY</td>\n",
       "      <td>_TheSpecialOne_</td>\n",
       "      <td>@switchfoot http://twitpic.com/2y1zl - Awww, t...</td>\n",
       "    </tr>\n",
       "    <tr>\n",
       "      <th>1</th>\n",
       "      <td>0</td>\n",
       "      <td>1467810672</td>\n",
       "      <td>Mon Apr 06 22:19:49 PDT 2009</td>\n",
       "      <td>NO_QUERY</td>\n",
       "      <td>scotthamilton</td>\n",
       "      <td>is upset that he can't update his Facebook by ...</td>\n",
       "    </tr>\n",
       "    <tr>\n",
       "      <th>2</th>\n",
       "      <td>0</td>\n",
       "      <td>1467810917</td>\n",
       "      <td>Mon Apr 06 22:19:53 PDT 2009</td>\n",
       "      <td>NO_QUERY</td>\n",
       "      <td>mattycus</td>\n",
       "      <td>@Kenichan I dived many times for the ball. Man...</td>\n",
       "    </tr>\n",
       "    <tr>\n",
       "      <th>3</th>\n",
       "      <td>0</td>\n",
       "      <td>1467811184</td>\n",
       "      <td>Mon Apr 06 22:19:57 PDT 2009</td>\n",
       "      <td>NO_QUERY</td>\n",
       "      <td>ElleCTF</td>\n",
       "      <td>my whole body feels itchy and like its on fire</td>\n",
       "    </tr>\n",
       "    <tr>\n",
       "      <th>4</th>\n",
       "      <td>0</td>\n",
       "      <td>1467811193</td>\n",
       "      <td>Mon Apr 06 22:19:57 PDT 2009</td>\n",
       "      <td>NO_QUERY</td>\n",
       "      <td>Karoli</td>\n",
       "      <td>@nationwideclass no, it's not behaving at all....</td>\n",
       "    </tr>\n",
       "  </tbody>\n",
       "</table>\n",
       "</div>"
      ],
      "text/plain": [
       "   tw_y       tw_id                       tw_date  tw_query        tw_author  \\\n",
       "0     0  1467810369  Mon Apr 06 22:19:45 PDT 2009  NO_QUERY  _TheSpecialOne_   \n",
       "1     0  1467810672  Mon Apr 06 22:19:49 PDT 2009  NO_QUERY    scotthamilton   \n",
       "2     0  1467810917  Mon Apr 06 22:19:53 PDT 2009  NO_QUERY         mattycus   \n",
       "3     0  1467811184  Mon Apr 06 22:19:57 PDT 2009  NO_QUERY          ElleCTF   \n",
       "4     0  1467811193  Mon Apr 06 22:19:57 PDT 2009  NO_QUERY           Karoli   \n",
       "\n",
       "                                             tw_text  \n",
       "0  @switchfoot http://twitpic.com/2y1zl - Awww, t...  \n",
       "1  is upset that he can't update his Facebook by ...  \n",
       "2  @Kenichan I dived many times for the ball. Man...  \n",
       "3    my whole body feels itchy and like its on fire   \n",
       "4  @nationwideclass no, it's not behaving at all....  "
      ]
     },
     "execution_count": 46,
     "metadata": {},
     "output_type": "execute_result"
    }
   ],
   "source": [
    "print('Catégorie 0 :')\n",
    "print('-----------')\n",
    "tweets[tweets['tw_y'] == 0].head()"
   ]
  },
  {
   "cell_type": "code",
   "execution_count": 47,
   "id": "5f6b88d8-f14a-4bb2-9c23-4472ec429f62",
   "metadata": {},
   "outputs": [
    {
     "name": "stdout",
     "output_type": "stream",
     "text": [
      "Catégorie 4 :\n",
      "-----------\n"
     ]
    },
    {
     "data": {
      "text/html": [
       "<div>\n",
       "<style scoped>\n",
       "    .dataframe tbody tr th:only-of-type {\n",
       "        vertical-align: middle;\n",
       "    }\n",
       "\n",
       "    .dataframe tbody tr th {\n",
       "        vertical-align: top;\n",
       "    }\n",
       "\n",
       "    .dataframe thead th {\n",
       "        text-align: right;\n",
       "    }\n",
       "</style>\n",
       "<table border=\"1\" class=\"dataframe\">\n",
       "  <thead>\n",
       "    <tr style=\"text-align: right;\">\n",
       "      <th></th>\n",
       "      <th>tw_y</th>\n",
       "      <th>tw_id</th>\n",
       "      <th>tw_date</th>\n",
       "      <th>tw_query</th>\n",
       "      <th>tw_author</th>\n",
       "      <th>tw_text</th>\n",
       "    </tr>\n",
       "  </thead>\n",
       "  <tbody>\n",
       "    <tr>\n",
       "      <th>800000</th>\n",
       "      <td>4</td>\n",
       "      <td>1467822272</td>\n",
       "      <td>Mon Apr 06 22:22:45 PDT 2009</td>\n",
       "      <td>NO_QUERY</td>\n",
       "      <td>ersle</td>\n",
       "      <td>I LOVE @Health4UandPets u guys r the best!!</td>\n",
       "    </tr>\n",
       "    <tr>\n",
       "      <th>800001</th>\n",
       "      <td>4</td>\n",
       "      <td>1467822273</td>\n",
       "      <td>Mon Apr 06 22:22:45 PDT 2009</td>\n",
       "      <td>NO_QUERY</td>\n",
       "      <td>becca210</td>\n",
       "      <td>im meeting up with one of my besties tonight! ...</td>\n",
       "    </tr>\n",
       "    <tr>\n",
       "      <th>800002</th>\n",
       "      <td>4</td>\n",
       "      <td>1467822283</td>\n",
       "      <td>Mon Apr 06 22:22:46 PDT 2009</td>\n",
       "      <td>NO_QUERY</td>\n",
       "      <td>Wingman29</td>\n",
       "      <td>@DaRealSunisaKim Thanks for the Twitter add, S...</td>\n",
       "    </tr>\n",
       "    <tr>\n",
       "      <th>800003</th>\n",
       "      <td>4</td>\n",
       "      <td>1467822287</td>\n",
       "      <td>Mon Apr 06 22:22:46 PDT 2009</td>\n",
       "      <td>NO_QUERY</td>\n",
       "      <td>katarinka</td>\n",
       "      <td>Being sick can be really cheap when it hurts t...</td>\n",
       "    </tr>\n",
       "    <tr>\n",
       "      <th>800004</th>\n",
       "      <td>4</td>\n",
       "      <td>1467822293</td>\n",
       "      <td>Mon Apr 06 22:22:46 PDT 2009</td>\n",
       "      <td>NO_QUERY</td>\n",
       "      <td>_EmilyYoung</td>\n",
       "      <td>@LovesBrooklyn2 he has that effect on everyone</td>\n",
       "    </tr>\n",
       "  </tbody>\n",
       "</table>\n",
       "</div>"
      ],
      "text/plain": [
       "        tw_y       tw_id                       tw_date  tw_query    tw_author  \\\n",
       "800000     4  1467822272  Mon Apr 06 22:22:45 PDT 2009  NO_QUERY        ersle   \n",
       "800001     4  1467822273  Mon Apr 06 22:22:45 PDT 2009  NO_QUERY     becca210   \n",
       "800002     4  1467822283  Mon Apr 06 22:22:46 PDT 2009  NO_QUERY    Wingman29   \n",
       "800003     4  1467822287  Mon Apr 06 22:22:46 PDT 2009  NO_QUERY    katarinka   \n",
       "800004     4  1467822293  Mon Apr 06 22:22:46 PDT 2009  NO_QUERY  _EmilyYoung   \n",
       "\n",
       "                                                  tw_text  \n",
       "800000       I LOVE @Health4UandPets u guys r the best!!   \n",
       "800001  im meeting up with one of my besties tonight! ...  \n",
       "800002  @DaRealSunisaKim Thanks for the Twitter add, S...  \n",
       "800003  Being sick can be really cheap when it hurts t...  \n",
       "800004    @LovesBrooklyn2 he has that effect on everyone   "
      ]
     },
     "execution_count": 47,
     "metadata": {},
     "output_type": "execute_result"
    }
   ],
   "source": [
    "print('Catégorie 4 :')\n",
    "print('-----------')\n",
    "tweets[tweets['tw_y'] == 4].head()"
   ]
  },
  {
   "cell_type": "markdown",
   "id": "1c02e073-6707-440a-bbf4-f31275482166",
   "metadata": {},
   "source": [
    "<div class='alert alert-block alert-info'>\n",
    "    \n",
    "Nous parvenons ainsi à déterminer que parmis nos 2 classes :\n",
    "- **La classe 0** est attribuée a des tweets exprimant des sentiments **négatifs**\n",
    "- **La classe 4** est attribuée a des tweets exprimant des sentiments **positifs**\n",
    "    \n",
    "</div>"
   ]
  },
  {
   "cell_type": "markdown",
   "id": "58cf814b-8155-4d98-a09a-d726e14b4227",
   "metadata": {},
   "source": [
    "### Rationalisation du dataset"
   ]
  },
  {
   "cell_type": "markdown",
   "id": "714bff7f",
   "metadata": {},
   "source": [
    "Nous n'allons conserver que les seules colonnes nécessaire à notre analyse : le texte et la classe"
   ]
  },
  {
   "cell_type": "code",
   "execution_count": 52,
   "id": "2d791409-fbaf-45f4-a4f7-992275776fb0",
   "metadata": {},
   "outputs": [],
   "source": [
    "tweets.to_csv(path_or_buf='data/tw_brut.csv', index=False)"
   ]
  },
  {
   "cell_type": "code",
   "execution_count": 53,
   "id": "5ff8ac76-baba-4047-acc7-8b00ae479152",
   "metadata": {},
   "outputs": [],
   "source": [
    "#tweets = pd.read_csv('data/tw_brut.csv')"
   ]
  },
  {
   "cell_type": "code",
   "execution_count": 54,
   "id": "13e9c50f-8b1e-4155-a0d0-784f5e5945ea",
   "metadata": {},
   "outputs": [],
   "source": [
    "tw = tweets[['tw_y', 'tw_text']]"
   ]
  },
  {
   "cell_type": "code",
   "execution_count": 55,
   "id": "709d9e9b-59fd-4269-a233-20133db1fe23",
   "metadata": {},
   "outputs": [
    {
     "data": {
      "text/html": [
       "<div>\n",
       "<style scoped>\n",
       "    .dataframe tbody tr th:only-of-type {\n",
       "        vertical-align: middle;\n",
       "    }\n",
       "\n",
       "    .dataframe tbody tr th {\n",
       "        vertical-align: top;\n",
       "    }\n",
       "\n",
       "    .dataframe thead th {\n",
       "        text-align: right;\n",
       "    }\n",
       "</style>\n",
       "<table border=\"1\" class=\"dataframe\">\n",
       "  <thead>\n",
       "    <tr style=\"text-align: right;\">\n",
       "      <th></th>\n",
       "      <th>tw_y</th>\n",
       "      <th>tw_text</th>\n",
       "    </tr>\n",
       "  </thead>\n",
       "  <tbody>\n",
       "    <tr>\n",
       "      <th>0</th>\n",
       "      <td>0</td>\n",
       "      <td>@switchfoot http://twitpic.com/2y1zl - Awww, t...</td>\n",
       "    </tr>\n",
       "    <tr>\n",
       "      <th>1</th>\n",
       "      <td>0</td>\n",
       "      <td>is upset that he can't update his Facebook by ...</td>\n",
       "    </tr>\n",
       "    <tr>\n",
       "      <th>2</th>\n",
       "      <td>0</td>\n",
       "      <td>@Kenichan I dived many times for the ball. Man...</td>\n",
       "    </tr>\n",
       "    <tr>\n",
       "      <th>3</th>\n",
       "      <td>0</td>\n",
       "      <td>my whole body feels itchy and like its on fire</td>\n",
       "    </tr>\n",
       "    <tr>\n",
       "      <th>4</th>\n",
       "      <td>0</td>\n",
       "      <td>@nationwideclass no, it's not behaving at all....</td>\n",
       "    </tr>\n",
       "  </tbody>\n",
       "</table>\n",
       "</div>"
      ],
      "text/plain": [
       "   tw_y                                            tw_text\n",
       "0     0  @switchfoot http://twitpic.com/2y1zl - Awww, t...\n",
       "1     0  is upset that he can't update his Facebook by ...\n",
       "2     0  @Kenichan I dived many times for the ball. Man...\n",
       "3     0    my whole body feels itchy and like its on fire \n",
       "4     0  @nationwideclass no, it's not behaving at all...."
      ]
     },
     "execution_count": 55,
     "metadata": {},
     "output_type": "execute_result"
    }
   ],
   "source": [
    "tw.head()"
   ]
  },
  {
   "cell_type": "code",
   "execution_count": 56,
   "id": "630da6f5-2ce4-497d-82f0-bbc9a16942f9",
   "metadata": {},
   "outputs": [
    {
     "data": {
      "text/plain": [
       "52905"
      ]
     },
     "execution_count": 56,
     "metadata": {},
     "output_type": "execute_result"
    }
   ],
   "source": [
    "del tweets\n",
    "gc.collect()"
   ]
  },
  {
   "cell_type": "code",
   "execution_count": 57,
   "id": "a3deb8da-a5b7-425f-aa5d-e9d1b1cb0e7d",
   "metadata": {},
   "outputs": [],
   "source": [
    "tw.to_csv(path_or_buf='data/tw_light.csv', index=False)"
   ]
  },
  {
   "cell_type": "code",
   "execution_count": 3,
   "id": "53c0784c-68ef-49f6-a14e-75a7da08ddbe",
   "metadata": {},
   "outputs": [],
   "source": [
    "tw = pd.read_csv('data/tw_light.csv')"
   ]
  },
  {
   "cell_type": "markdown",
   "id": "16d1e12b-b44c-4bff-a937-415aaff66be6",
   "metadata": {},
   "source": [
    "### Détection de la langue"
   ]
  },
  {
   "cell_type": "code",
   "execution_count": 4,
   "id": "eb2e31c2-afc9-4e48-ae3e-6bf555e06108",
   "metadata": {},
   "outputs": [],
   "source": [
    "tw['language'] = tw['tw_text'].apply(lambda x: langid.classify(x)[0])"
   ]
  },
  {
   "cell_type": "code",
   "execution_count": 61,
   "id": "7457e1d6-cd6a-4c7b-a663-004f3a9b4bee",
   "metadata": {
    "scrolled": true,
    "tags": []
   },
   "outputs": [
    {
     "name": "stdout",
     "output_type": "stream",
     "text": [
      "Langues détectées :\n",
      "-----------------\n",
      "en\t :: 1520987 occurrences\n",
      "es\t :: 6805 occurrences\n",
      "eu\t :: 899 occurrences\n",
      "sv\t :: 2413 occurrences\n",
      "de\t :: 10118 occurrences\n",
      "fr\t :: 4896 occurrences\n",
      "fi\t :: 1808 occurrences\n",
      "da\t :: 3038 occurrences\n",
      "id\t :: 4057 occurrences\n",
      "it\t :: 6489 occurrences\n",
      "lv\t :: 237 occurrences\n",
      "nl\t :: 5448 occurrences\n",
      "xh\t :: 370 occurrences\n",
      "bs\t :: 183 occurrences\n",
      "et\t :: 1853 occurrences\n",
      "no\t :: 1847 occurrences\n",
      "mt\t :: 1909 occurrences\n",
      "cy\t :: 2298 occurrences\n",
      "cs\t :: 428 occurrences\n",
      "mg\t :: 635 occurrences\n",
      "el\t :: 99 occurrences\n",
      "ms\t :: 922 occurrences\n",
      "sl\t :: 820 occurrences\n",
      "pl\t :: 3483 occurrences\n",
      "sw\t :: 1408 occurrences\n",
      "la\t :: 1174 occurrences\n",
      "af\t :: 1150 occurrences\n",
      "zh\t :: 737 occurrences\n",
      "pt\t :: 2349 occurrences\n",
      "qu\t :: 257 occurrences\n",
      "tl\t :: 1567 occurrences\n",
      "br\t :: 1178 occurrences\n",
      "tr\t :: 336 occurrences\n",
      "oc\t :: 107 occurrences\n",
      "hy\t :: 88 occurrences\n",
      "vi\t :: 585 occurrences\n",
      "ky\t :: 114 occurrences\n",
      "az\t :: 352 occurrences\n",
      "an\t :: 88 occurrences\n",
      "ga\t :: 306 occurrences\n",
      "hu\t :: 482 occurrences\n",
      "nn\t :: 298 occurrences\n",
      "sk\t :: 180 occurrences\n",
      "ro\t :: 990 occurrences\n",
      "ca\t :: 672 occurrences\n",
      "rw\t :: 276 occurrences\n",
      "wa\t :: 114 occurrences\n",
      "hr\t :: 698 occurrences\n",
      "nb\t :: 277 occurrences\n",
      "jv\t :: 233 occurrences\n",
      "lt\t :: 624 occurrences\n",
      "ku\t :: 82 occurrences\n",
      "lb\t :: 224 occurrences\n",
      "sq\t :: 246 occurrences\n",
      "is\t :: 44 occurrences\n",
      "eo\t :: 207 occurrences\n",
      "vo\t :: 54 occurrences\n",
      "zu\t :: 106 occurrences\n",
      "gl\t :: 127 occurrences\n",
      "ht\t :: 71 occurrences\n",
      "fo\t :: 26 occurrences\n",
      "se\t :: 48 occurrences\n",
      "ko\t :: 15 occurrences\n",
      "lo\t :: 7 occurrences\n",
      "he\t :: 18 occurrences\n",
      "ka\t :: 14 occurrences\n",
      "am\t :: 10 occurrences\n",
      "km\t :: 2 occurrences\n",
      "si\t :: 6 occurrences\n",
      "ar\t :: 3 occurrences\n",
      "ps\t :: 4 occurrences\n",
      "ur\t :: 3 occurrences\n",
      "fa\t :: 1 occurrences\n"
     ]
    }
   ],
   "source": [
    "print('Langues détectées :')\n",
    "print('-----------------')\n",
    "for l in tw['language'].unique():\n",
    "    print(f\"{l}\\t :: {tw[tw['language'] == l].shape[0]} occurrences\")"
   ]
  },
  {
   "cell_type": "markdown",
   "id": "03a5761b-0f83-4f3f-b883-ae44d3efee5f",
   "metadata": {},
   "source": [
    "Nombre de langues différentes détectées :"
   ]
  },
  {
   "cell_type": "code",
   "execution_count": 62,
   "id": "5e8ff578-bb1c-408d-8bde-29839503ace4",
   "metadata": {},
   "outputs": [
    {
     "data": {
      "text/plain": [
       "73"
      ]
     },
     "execution_count": 62,
     "metadata": {},
     "output_type": "execute_result"
    }
   ],
   "source": [
    "len(tw['language'].unique())"
   ]
  },
  {
   "cell_type": "code",
   "execution_count": 5,
   "id": "c9d4cf16-abfc-4d73-a973-f1eadc6849d1",
   "metadata": {},
   "outputs": [],
   "source": [
    "tw_en = tw[tw['language'] =='en']"
   ]
  },
  {
   "cell_type": "code",
   "execution_count": 64,
   "id": "24ee760a-097b-4645-b6cc-efe11c2484f5",
   "metadata": {},
   "outputs": [
    {
     "name": "stdout",
     "output_type": "stream",
     "text": [
      "Les tweets en langue anglaise représentent 95.06% des lignes du dataset\n"
     ]
    }
   ],
   "source": [
    "print(f\"Les tweets en langue anglaise représentent {np.round(tw_en.shape[0] * 100 / 1600000, 2)}% des lignes du dataset\")"
   ]
  },
  {
   "cell_type": "markdown",
   "id": "0ad7191f-0c9c-40d4-860b-b32277d744cf",
   "metadata": {},
   "source": [
    "<div class='alert alert-block alert-info'>\n",
    "    \n",
    "Les tweets de notre dataset ont été écrits dans **73 langues différentes**.<br>\n",
    "Nous nous concentrerons dans cette étude sur les commentaires en **langue anglaise**, largement majoritaires avec plus de **95%** du total des tweets à notre disposition.\n",
    "    \n",
    "</div>"
   ]
  },
  {
   "cell_type": "code",
   "execution_count": 6,
   "id": "7db7a070",
   "metadata": {},
   "outputs": [],
   "source": [
    "tw_en.to_csv(path_or_buf='data/tw_english.csv', index=False)"
   ]
  },
  {
   "cell_type": "code",
   "execution_count": 7,
   "id": "7da1a5b8",
   "metadata": {},
   "outputs": [],
   "source": [
    "#tw_en = pd.read_csv('data/tw_english.csv')"
   ]
  },
  {
   "cell_type": "code",
   "execution_count": 9,
   "id": "6c6a031d",
   "metadata": {},
   "outputs": [
    {
     "data": {
      "text/plain": [
       "(1520987, 3)"
      ]
     },
     "execution_count": 9,
     "metadata": {},
     "output_type": "execute_result"
    }
   ],
   "source": [
    "tw_en.shape"
   ]
  },
  {
   "cell_type": "code",
   "execution_count": 10,
   "id": "1bfac550",
   "metadata": {},
   "outputs": [
    {
     "data": {
      "text/html": [
       "<div>\n",
       "<style scoped>\n",
       "    .dataframe tbody tr th:only-of-type {\n",
       "        vertical-align: middle;\n",
       "    }\n",
       "\n",
       "    .dataframe tbody tr th {\n",
       "        vertical-align: top;\n",
       "    }\n",
       "\n",
       "    .dataframe thead th {\n",
       "        text-align: right;\n",
       "    }\n",
       "</style>\n",
       "<table border=\"1\" class=\"dataframe\">\n",
       "  <thead>\n",
       "    <tr style=\"text-align: right;\">\n",
       "      <th></th>\n",
       "      <th>tw_y</th>\n",
       "      <th>tw_text</th>\n",
       "      <th>language</th>\n",
       "    </tr>\n",
       "  </thead>\n",
       "  <tbody>\n",
       "    <tr>\n",
       "      <th>0</th>\n",
       "      <td>0</td>\n",
       "      <td>@switchfoot http://twitpic.com/2y1zl - Awww, t...</td>\n",
       "      <td>en</td>\n",
       "    </tr>\n",
       "    <tr>\n",
       "      <th>1</th>\n",
       "      <td>0</td>\n",
       "      <td>is upset that he can't update his Facebook by ...</td>\n",
       "      <td>en</td>\n",
       "    </tr>\n",
       "    <tr>\n",
       "      <th>2</th>\n",
       "      <td>0</td>\n",
       "      <td>@Kenichan I dived many times for the ball. Man...</td>\n",
       "      <td>en</td>\n",
       "    </tr>\n",
       "    <tr>\n",
       "      <th>3</th>\n",
       "      <td>0</td>\n",
       "      <td>my whole body feels itchy and like its on fire</td>\n",
       "      <td>en</td>\n",
       "    </tr>\n",
       "    <tr>\n",
       "      <th>4</th>\n",
       "      <td>0</td>\n",
       "      <td>@nationwideclass no, it's not behaving at all....</td>\n",
       "      <td>en</td>\n",
       "    </tr>\n",
       "  </tbody>\n",
       "</table>\n",
       "</div>"
      ],
      "text/plain": [
       "   tw_y                                            tw_text language\n",
       "0     0  @switchfoot http://twitpic.com/2y1zl - Awww, t...       en\n",
       "1     0  is upset that he can't update his Facebook by ...       en\n",
       "2     0  @Kenichan I dived many times for the ball. Man...       en\n",
       "3     0    my whole body feels itchy and like its on fire        en\n",
       "4     0  @nationwideclass no, it's not behaving at all....       en"
      ]
     },
     "execution_count": 10,
     "metadata": {},
     "output_type": "execute_result"
    }
   ],
   "source": [
    "tw_en.head()"
   ]
  },
  {
   "cell_type": "code",
   "execution_count": 70,
   "id": "a50a9e1a-5b26-43c0-aeba-73924ca624d9",
   "metadata": {},
   "outputs": [
    {
     "name": "stdout",
     "output_type": "stream",
     "text": [
      "Nombre de commentaires en langue anglaise par classe :\n",
      "----------------------------------------------------\n",
      "Commentaires négatifs (classe 0) : 763863 lignes\n",
      "Commentaires positifs (classe 4): 757124 lignes\n",
      "Différence : 6739 lignes en plus pour la catégorie '0'\n"
     ]
    }
   ],
   "source": [
    "print('Nombre de commentaires en langue anglaise par classe :')\n",
    "print('----------------------------------------------------')\n",
    "nb_0 = tw_en[tw_en['tw_y'] == 0].shape[0]\n",
    "nb_4 = tw_en[tw_en['tw_y'] == 4].shape[0]\n",
    "print(f\"Commentaires négatifs (classe 0) : {nb_0} lignes\")\n",
    "print(f\"Commentaires positifs (classe 4): {nb_4} lignes\")\n",
    "print(f\"Différence : {np.abs(nb_0 - nb_4)} lignes en plus pour la catégorie '{0 if nb_0 > nb_4 else 4}'\")"
   ]
  },
  {
   "cell_type": "markdown",
   "id": "4f23e51f-d47d-420a-8159-47347cd0a331",
   "metadata": {},
   "source": [
    "<div class='alert alert-block alert-info'>\n",
    "    \n",
    "Nous voyons que les classes ne sont à présent plus équilibrées : la **classe 0** comporte à présent **6739 enregistrements en plus**.<br>\n",
    "Pour remédier à cela, nous échantillonnerons plus de commentaires négatifs dans le jeu de test et équlibrerons les jeux d'entraînement uniquement.\n",
    "    \n",
    "</div>"
   ]
  },
  {
   "cell_type": "markdown",
   "id": "240e2a80-c646-424c-9e5a-3118c00c90a1",
   "metadata": {},
   "source": [
    "### Fréquence des termes"
   ]
  },
  {
   "cell_type": "code",
   "execution_count": 9,
   "id": "a3098b60-99a2-4af2-aed6-aa3fb3b09f38",
   "metadata": {},
   "outputs": [],
   "source": [
    "stopwords = nltk.corpus.stopwords.words('english')\n",
    "lemmatizer = WordNetLemmatizer()"
   ]
  },
  {
   "cell_type": "code",
   "execution_count": 10,
   "id": "335bef65-dd6a-49d3-8042-a87d1e1933fd",
   "metadata": {},
   "outputs": [],
   "source": [
    "def normalize_text(s):\n",
    "    s = re.sub('\\@\\w+', '', s) # Enlèvement des références à d'autres utilisateurs\n",
    "    s = re.sub('http(s)?[:\\/\\.\\w-]+', '', s) # Enlèvement des URL\n",
    "    s = re.sub('[^a-zA-Z]', ' ', s) # Enlèvement des caractères hors lettres\n",
    "    s = s.lower() # Ajustement de la casse\n",
    "    s = ' '.join([contractions.fix(word) for word in s.split()]) # Expension des contractions\n",
    "    s = ' '.join([lemmatizer.lemmatize(word) for word in s.split() if not word in set(stopwords)]) # Enlèvement des stop words et lemmatisation\n",
    "    return s"
   ]
  },
  {
   "cell_type": "code",
   "execution_count": 11,
   "id": "fe0d9e37",
   "metadata": {},
   "outputs": [],
   "source": [
    "tw_en['normalized'] = tw_en['tw_text'].apply(normalize_text)"
   ]
  },
  {
   "cell_type": "code",
   "execution_count": 490,
   "id": "f3decb71-064a-414a-886e-4bee5e70122c",
   "metadata": {},
   "outputs": [],
   "source": [
    "tw_en_sup = tw_en.dropna(subset='normalized', axis=0)"
   ]
  },
  {
   "cell_type": "code",
   "execution_count": 39,
   "id": "d02ab643-08d1-4de3-b6cb-1483baa1ad0e",
   "metadata": {},
   "outputs": [],
   "source": [
    "def get_most_frequent_words(ser, min_ngram, max_ngram):\n",
    "    vectorizer = CountVectorizer(ngram_range=(min_ngram, max_ngram))\n",
    "    X = vectorizer.fit_transform(ser)\n",
    "    wd_matrix = pd.DataFrame(\n",
    "        X.toarray(), columns=vectorizer.get_feature_names_out()).transpose().sum(axis=1).sort_values(ascending=False)\n",
    "    res = pd.DataFrame(columns=['ngram', 'occurrences'])\n",
    "    res['ngram'] = wd_matrix.index\n",
    "    res['occurrences'] = wd_matrix.values\n",
    "    return res"
   ]
  },
  {
   "cell_type": "code",
   "execution_count": 40,
   "id": "8be4c9be-5b73-45af-9e25-6ac4c6994fa4",
   "metadata": {},
   "outputs": [],
   "source": [
    "def ngrams_by_chunks(ser, min_ngram, max_ngram):\n",
    "    len_ser = len(ser)\n",
    "    left_value = -2000\n",
    "    right_value = 0\n",
    "    chunks = pd.DataFrame(columns=['ngram', 'occurrences'])\n",
    "    while right_value < len_ser:\n",
    "        left_value += 2000\n",
    "        right_value = min(right_value + 2000, len_ser)\n",
    "        chunks = pd.concat([chunks, get_most_frequent_words(ser.iloc[left_value:right_value], min_ngram, max_ngram)], ignore_index=True)\n",
    "    res = chunks.groupby('ngram').sum().sort_values(by='occurrences', ascending=False).reset_index()\n",
    "    return res"
   ]
  },
  {
   "cell_type": "code",
   "execution_count": 41,
   "id": "f6be1b7d-d17d-47bd-9d59-c32a154d1c6d",
   "metadata": {
    "scrolled": true
   },
   "outputs": [
    {
     "name": "stdout",
     "output_type": "stream",
     "text": [
      "Mots les plus fréquents dans les tweets positifs :\n",
      "------------------------------------------------\n"
     ]
    },
    {
     "data": {
      "text/html": [
       "<div>\n",
       "<style scoped>\n",
       "    .dataframe tbody tr th:only-of-type {\n",
       "        vertical-align: middle;\n",
       "    }\n",
       "\n",
       "    .dataframe tbody tr th {\n",
       "        vertical-align: top;\n",
       "    }\n",
       "\n",
       "    .dataframe thead th {\n",
       "        text-align: right;\n",
       "    }\n",
       "</style>\n",
       "<table border=\"1\" class=\"dataframe\">\n",
       "  <thead>\n",
       "    <tr style=\"text-align: right;\">\n",
       "      <th></th>\n",
       "      <th>ngram</th>\n",
       "      <th>occurrences</th>\n",
       "    </tr>\n",
       "  </thead>\n",
       "  <tbody>\n",
       "    <tr>\n",
       "      <th>0</th>\n",
       "      <td>good</td>\n",
       "      <td>59261</td>\n",
       "    </tr>\n",
       "    <tr>\n",
       "      <th>1</th>\n",
       "      <td>day</td>\n",
       "      <td>55094</td>\n",
       "    </tr>\n",
       "    <tr>\n",
       "      <th>2</th>\n",
       "      <td>love</td>\n",
       "      <td>48916</td>\n",
       "    </tr>\n",
       "    <tr>\n",
       "      <th>3</th>\n",
       "      <td>quot</td>\n",
       "      <td>44566</td>\n",
       "    </tr>\n",
       "    <tr>\n",
       "      <th>4</th>\n",
       "      <td>going</td>\n",
       "      <td>41725</td>\n",
       "    </tr>\n",
       "    <tr>\n",
       "      <th>5</th>\n",
       "      <td>get</td>\n",
       "      <td>37761</td>\n",
       "    </tr>\n",
       "    <tr>\n",
       "      <th>6</th>\n",
       "      <td>like</td>\n",
       "      <td>37308</td>\n",
       "    </tr>\n",
       "    <tr>\n",
       "      <th>7</th>\n",
       "      <td>thanks</td>\n",
       "      <td>35468</td>\n",
       "    </tr>\n",
       "    <tr>\n",
       "      <th>8</th>\n",
       "      <td>lol</td>\n",
       "      <td>34799</td>\n",
       "    </tr>\n",
       "    <tr>\n",
       "      <th>9</th>\n",
       "      <td>time</td>\n",
       "      <td>33730</td>\n",
       "    </tr>\n",
       "    <tr>\n",
       "      <th>10</th>\n",
       "      <td>got</td>\n",
       "      <td>31101</td>\n",
       "    </tr>\n",
       "    <tr>\n",
       "      <th>11</th>\n",
       "      <td>today</td>\n",
       "      <td>29801</td>\n",
       "    </tr>\n",
       "    <tr>\n",
       "      <th>12</th>\n",
       "      <td>one</td>\n",
       "      <td>28087</td>\n",
       "    </tr>\n",
       "    <tr>\n",
       "      <th>13</th>\n",
       "      <td>know</td>\n",
       "      <td>27830</td>\n",
       "    </tr>\n",
       "    <tr>\n",
       "      <th>14</th>\n",
       "      <td>new</td>\n",
       "      <td>26031</td>\n",
       "    </tr>\n",
       "    <tr>\n",
       "      <th>15</th>\n",
       "      <td>see</td>\n",
       "      <td>25634</td>\n",
       "    </tr>\n",
       "    <tr>\n",
       "      <th>16</th>\n",
       "      <td>amp</td>\n",
       "      <td>25568</td>\n",
       "    </tr>\n",
       "    <tr>\n",
       "      <th>17</th>\n",
       "      <td>great</td>\n",
       "      <td>24668</td>\n",
       "    </tr>\n",
       "    <tr>\n",
       "      <th>18</th>\n",
       "      <td>night</td>\n",
       "      <td>23581</td>\n",
       "    </tr>\n",
       "    <tr>\n",
       "      <th>19</th>\n",
       "      <td>back</td>\n",
       "      <td>23252</td>\n",
       "    </tr>\n",
       "  </tbody>\n",
       "</table>\n",
       "</div>"
      ],
      "text/plain": [
       "     ngram  occurrences\n",
       "0     good        59261\n",
       "1      day        55094\n",
       "2     love        48916\n",
       "3     quot        44566\n",
       "4    going        41725\n",
       "5      get        37761\n",
       "6     like        37308\n",
       "7   thanks        35468\n",
       "8      lol        34799\n",
       "9     time        33730\n",
       "10     got        31101\n",
       "11   today        29801\n",
       "12     one        28087\n",
       "13    know        27830\n",
       "14     new        26031\n",
       "15     see        25634\n",
       "16     amp        25568\n",
       "17   great        24668\n",
       "18   night        23581\n",
       "19    back        23252"
      ]
     },
     "execution_count": 41,
     "metadata": {},
     "output_type": "execute_result"
    }
   ],
   "source": [
    "print('Mots les plus fréquents dans les tweets positifs :')\n",
    "print('------------------------------------------------')\n",
    "ngrams_by_chunks(tw_en_sup.loc[tw_en_sup['tw_y'] == 4, 'normalized'], 1, 1).head(20)"
   ]
  },
  {
   "cell_type": "code",
   "execution_count": 42,
   "id": "9f417f5b-0828-46bc-9ed4-71b220ad052e",
   "metadata": {
    "scrolled": true
   },
   "outputs": [
    {
     "name": "stdout",
     "output_type": "stream",
     "text": [
      "Mots les plus fréquents dans les tweets négatifs :\n",
      "------------------------------------------------\n"
     ]
    },
    {
     "data": {
      "text/html": [
       "<div>\n",
       "<style scoped>\n",
       "    .dataframe tbody tr th:only-of-type {\n",
       "        vertical-align: middle;\n",
       "    }\n",
       "\n",
       "    .dataframe tbody tr th {\n",
       "        vertical-align: top;\n",
       "    }\n",
       "\n",
       "    .dataframe thead th {\n",
       "        text-align: right;\n",
       "    }\n",
       "</style>\n",
       "<table border=\"1\" class=\"dataframe\">\n",
       "  <thead>\n",
       "    <tr style=\"text-align: right;\">\n",
       "      <th></th>\n",
       "      <th>ngram</th>\n",
       "      <th>occurrences</th>\n",
       "    </tr>\n",
       "  </thead>\n",
       "  <tbody>\n",
       "    <tr>\n",
       "      <th>0</th>\n",
       "      <td>day</td>\n",
       "      <td>50986</td>\n",
       "    </tr>\n",
       "    <tr>\n",
       "      <th>1</th>\n",
       "      <td>get</td>\n",
       "      <td>47159</td>\n",
       "    </tr>\n",
       "    <tr>\n",
       "      <th>2</th>\n",
       "      <td>going</td>\n",
       "      <td>46994</td>\n",
       "    </tr>\n",
       "    <tr>\n",
       "      <th>3</th>\n",
       "      <td>work</td>\n",
       "      <td>45772</td>\n",
       "    </tr>\n",
       "    <tr>\n",
       "      <th>4</th>\n",
       "      <td>want</td>\n",
       "      <td>44769</td>\n",
       "    </tr>\n",
       "    <tr>\n",
       "      <th>5</th>\n",
       "      <td>like</td>\n",
       "      <td>40549</td>\n",
       "    </tr>\n",
       "    <tr>\n",
       "      <th>6</th>\n",
       "      <td>got</td>\n",
       "      <td>37906</td>\n",
       "    </tr>\n",
       "    <tr>\n",
       "      <th>7</th>\n",
       "      <td>today</td>\n",
       "      <td>37647</td>\n",
       "    </tr>\n",
       "    <tr>\n",
       "      <th>8</th>\n",
       "      <td>back</td>\n",
       "      <td>32562</td>\n",
       "    </tr>\n",
       "    <tr>\n",
       "      <th>9</th>\n",
       "      <td>really</td>\n",
       "      <td>31740</td>\n",
       "    </tr>\n",
       "    <tr>\n",
       "      <th>10</th>\n",
       "      <td>time</td>\n",
       "      <td>31063</td>\n",
       "    </tr>\n",
       "    <tr>\n",
       "      <th>11</th>\n",
       "      <td>know</td>\n",
       "      <td>29675</td>\n",
       "    </tr>\n",
       "    <tr>\n",
       "      <th>12</th>\n",
       "      <td>one</td>\n",
       "      <td>28844</td>\n",
       "    </tr>\n",
       "    <tr>\n",
       "      <th>13</th>\n",
       "      <td>still</td>\n",
       "      <td>28748</td>\n",
       "    </tr>\n",
       "    <tr>\n",
       "      <th>14</th>\n",
       "      <td>miss</td>\n",
       "      <td>28743</td>\n",
       "    </tr>\n",
       "    <tr>\n",
       "      <th>15</th>\n",
       "      <td>good</td>\n",
       "      <td>28511</td>\n",
       "    </tr>\n",
       "    <tr>\n",
       "      <th>16</th>\n",
       "      <td>sad</td>\n",
       "      <td>27242</td>\n",
       "    </tr>\n",
       "    <tr>\n",
       "      <th>17</th>\n",
       "      <td>quot</td>\n",
       "      <td>25602</td>\n",
       "    </tr>\n",
       "    <tr>\n",
       "      <th>18</th>\n",
       "      <td>need</td>\n",
       "      <td>25000</td>\n",
       "    </tr>\n",
       "    <tr>\n",
       "      <th>19</th>\n",
       "      <td>feel</td>\n",
       "      <td>24247</td>\n",
       "    </tr>\n",
       "  </tbody>\n",
       "</table>\n",
       "</div>"
      ],
      "text/plain": [
       "     ngram  occurrences\n",
       "0      day        50986\n",
       "1      get        47159\n",
       "2    going        46994\n",
       "3     work        45772\n",
       "4     want        44769\n",
       "5     like        40549\n",
       "6      got        37906\n",
       "7    today        37647\n",
       "8     back        32562\n",
       "9   really        31740\n",
       "10    time        31063\n",
       "11    know        29675\n",
       "12     one        28844\n",
       "13   still        28748\n",
       "14    miss        28743\n",
       "15    good        28511\n",
       "16     sad        27242\n",
       "17    quot        25602\n",
       "18    need        25000\n",
       "19    feel        24247"
      ]
     },
     "execution_count": 42,
     "metadata": {},
     "output_type": "execute_result"
    }
   ],
   "source": [
    "print('Mots les plus fréquents dans les tweets négatifs :')\n",
    "print('------------------------------------------------')\n",
    "ngrams_by_chunks(tw_en_sup.loc[tw_en_sup['tw_y'] == 0, 'normalized'], 1, 1).head(20)"
   ]
  },
  {
   "cell_type": "code",
   "execution_count": 43,
   "id": "448ae910-e3ab-4c80-aadc-f189360d1100",
   "metadata": {
    "scrolled": true
   },
   "outputs": [
    {
     "name": "stdout",
     "output_type": "stream",
     "text": [
      "Bigrammes les plus fréquents dans les tweets positifs :\n",
      "-----------------------------------------------------\n"
     ]
    },
    {
     "data": {
      "text/html": [
       "<div>\n",
       "<style scoped>\n",
       "    .dataframe tbody tr th:only-of-type {\n",
       "        vertical-align: middle;\n",
       "    }\n",
       "\n",
       "    .dataframe tbody tr th {\n",
       "        vertical-align: top;\n",
       "    }\n",
       "\n",
       "    .dataframe thead th {\n",
       "        text-align: right;\n",
       "    }\n",
       "</style>\n",
       "<table border=\"1\" class=\"dataframe\">\n",
       "  <thead>\n",
       "    <tr style=\"text-align: right;\">\n",
       "      <th></th>\n",
       "      <th>ngram</th>\n",
       "      <th>occurrences</th>\n",
       "    </tr>\n",
       "  </thead>\n",
       "  <tbody>\n",
       "    <tr>\n",
       "      <th>0</th>\n",
       "      <td>good morning</td>\n",
       "      <td>7433</td>\n",
       "    </tr>\n",
       "    <tr>\n",
       "      <th>1</th>\n",
       "      <td>last night</td>\n",
       "      <td>4972</td>\n",
       "    </tr>\n",
       "    <tr>\n",
       "      <th>2</th>\n",
       "      <td>good luck</td>\n",
       "      <td>3547</td>\n",
       "    </tr>\n",
       "    <tr>\n",
       "      <th>3</th>\n",
       "      <td>cannot wait</td>\n",
       "      <td>3438</td>\n",
       "    </tr>\n",
       "    <tr>\n",
       "      <th>4</th>\n",
       "      <td>looking forward</td>\n",
       "      <td>3429</td>\n",
       "    </tr>\n",
       "    <tr>\n",
       "      <th>5</th>\n",
       "      <td>good night</td>\n",
       "      <td>3408</td>\n",
       "    </tr>\n",
       "    <tr>\n",
       "      <th>6</th>\n",
       "      <td>happy birthday</td>\n",
       "      <td>3177</td>\n",
       "    </tr>\n",
       "    <tr>\n",
       "      <th>7</th>\n",
       "      <td>good day</td>\n",
       "      <td>2901</td>\n",
       "    </tr>\n",
       "    <tr>\n",
       "      <th>8</th>\n",
       "      <td>let know</td>\n",
       "      <td>2886</td>\n",
       "    </tr>\n",
       "    <tr>\n",
       "      <th>9</th>\n",
       "      <td>great day</td>\n",
       "      <td>2794</td>\n",
       "    </tr>\n",
       "    <tr>\n",
       "      <th>10</th>\n",
       "      <td>getting ready</td>\n",
       "      <td>2774</td>\n",
       "    </tr>\n",
       "    <tr>\n",
       "      <th>11</th>\n",
       "      <td>mother day</td>\n",
       "      <td>2761</td>\n",
       "    </tr>\n",
       "    <tr>\n",
       "      <th>12</th>\n",
       "      <td>look like</td>\n",
       "      <td>2626</td>\n",
       "    </tr>\n",
       "    <tr>\n",
       "      <th>13</th>\n",
       "      <td>sound like</td>\n",
       "      <td>2451</td>\n",
       "    </tr>\n",
       "    <tr>\n",
       "      <th>14</th>\n",
       "      <td>quot quot</td>\n",
       "      <td>2209</td>\n",
       "    </tr>\n",
       "    <tr>\n",
       "      <th>15</th>\n",
       "      <td>wait see</td>\n",
       "      <td>2161</td>\n",
       "    </tr>\n",
       "    <tr>\n",
       "      <th>16</th>\n",
       "      <td>good time</td>\n",
       "      <td>2131</td>\n",
       "    </tr>\n",
       "    <tr>\n",
       "      <th>17</th>\n",
       "      <td>happy mother</td>\n",
       "      <td>2047</td>\n",
       "    </tr>\n",
       "    <tr>\n",
       "      <th>18</th>\n",
       "      <td>feel like</td>\n",
       "      <td>1848</td>\n",
       "    </tr>\n",
       "    <tr>\n",
       "      <th>19</th>\n",
       "      <td>going bed</td>\n",
       "      <td>1845</td>\n",
       "    </tr>\n",
       "  </tbody>\n",
       "</table>\n",
       "</div>"
      ],
      "text/plain": [
       "              ngram  occurrences\n",
       "0      good morning         7433\n",
       "1        last night         4972\n",
       "2         good luck         3547\n",
       "3       cannot wait         3438\n",
       "4   looking forward         3429\n",
       "5        good night         3408\n",
       "6    happy birthday         3177\n",
       "7          good day         2901\n",
       "8          let know         2886\n",
       "9         great day         2794\n",
       "10    getting ready         2774\n",
       "11       mother day         2761\n",
       "12        look like         2626\n",
       "13       sound like         2451\n",
       "14        quot quot         2209\n",
       "15         wait see         2161\n",
       "16        good time         2131\n",
       "17     happy mother         2047\n",
       "18        feel like         1848\n",
       "19        going bed         1845"
      ]
     },
     "execution_count": 43,
     "metadata": {},
     "output_type": "execute_result"
    }
   ],
   "source": [
    "print('Bigrammes les plus fréquents dans les tweets positifs :')\n",
    "print('-----------------------------------------------------')\n",
    "ngrams_by_chunks(tw_en_sup.loc[tw_en_sup['tw_y'] == 4, 'normalized'], 2, 2).head(20)"
   ]
  },
  {
   "cell_type": "code",
   "execution_count": 44,
   "id": "5a4b34f1-811e-4c86-9e59-81f86af57eb0",
   "metadata": {
    "scrolled": true
   },
   "outputs": [
    {
     "name": "stdout",
     "output_type": "stream",
     "text": [
      "Bigrammes les plus fréquents dans les tweets négatifs :\n",
      "-----------------------------------------------------\n"
     ]
    },
    {
     "data": {
      "text/html": [
       "<div>\n",
       "<style scoped>\n",
       "    .dataframe tbody tr th:only-of-type {\n",
       "        vertical-align: middle;\n",
       "    }\n",
       "\n",
       "    .dataframe tbody tr th {\n",
       "        vertical-align: top;\n",
       "    }\n",
       "\n",
       "    .dataframe thead th {\n",
       "        text-align: right;\n",
       "    }\n",
       "</style>\n",
       "<table border=\"1\" class=\"dataframe\">\n",
       "  <thead>\n",
       "    <tr style=\"text-align: right;\">\n",
       "      <th></th>\n",
       "      <th>ngram</th>\n",
       "      <th>occurrences</th>\n",
       "    </tr>\n",
       "  </thead>\n",
       "  <tbody>\n",
       "    <tr>\n",
       "      <th>0</th>\n",
       "      <td>last night</td>\n",
       "      <td>7541</td>\n",
       "    </tr>\n",
       "    <tr>\n",
       "      <th>1</th>\n",
       "      <td>feel like</td>\n",
       "      <td>6256</td>\n",
       "    </tr>\n",
       "    <tr>\n",
       "      <th>2</th>\n",
       "      <td>wish could</td>\n",
       "      <td>6120</td>\n",
       "    </tr>\n",
       "    <tr>\n",
       "      <th>3</th>\n",
       "      <td>look like</td>\n",
       "      <td>4354</td>\n",
       "    </tr>\n",
       "    <tr>\n",
       "      <th>4</th>\n",
       "      <td>going miss</td>\n",
       "      <td>3127</td>\n",
       "    </tr>\n",
       "    <tr>\n",
       "      <th>5</th>\n",
       "      <td>really want</td>\n",
       "      <td>3066</td>\n",
       "    </tr>\n",
       "    <tr>\n",
       "      <th>6</th>\n",
       "      <td>last day</td>\n",
       "      <td>2802</td>\n",
       "    </tr>\n",
       "    <tr>\n",
       "      <th>7</th>\n",
       "      <td>back work</td>\n",
       "      <td>2613</td>\n",
       "    </tr>\n",
       "    <tr>\n",
       "      <th>8</th>\n",
       "      <td>sorry hear</td>\n",
       "      <td>2463</td>\n",
       "    </tr>\n",
       "    <tr>\n",
       "      <th>9</th>\n",
       "      <td>looking forward</td>\n",
       "      <td>2198</td>\n",
       "    </tr>\n",
       "    <tr>\n",
       "      <th>10</th>\n",
       "      <td>getting ready</td>\n",
       "      <td>2172</td>\n",
       "    </tr>\n",
       "    <tr>\n",
       "      <th>11</th>\n",
       "      <td>feel better</td>\n",
       "      <td>2140</td>\n",
       "    </tr>\n",
       "    <tr>\n",
       "      <th>12</th>\n",
       "      <td>next week</td>\n",
       "      <td>2067</td>\n",
       "    </tr>\n",
       "    <tr>\n",
       "      <th>13</th>\n",
       "      <td>want see</td>\n",
       "      <td>2012</td>\n",
       "    </tr>\n",
       "    <tr>\n",
       "      <th>14</th>\n",
       "      <td>good morning</td>\n",
       "      <td>1891</td>\n",
       "    </tr>\n",
       "    <tr>\n",
       "      <th>15</th>\n",
       "      <td>come back</td>\n",
       "      <td>1876</td>\n",
       "    </tr>\n",
       "    <tr>\n",
       "      <th>16</th>\n",
       "      <td>going bed</td>\n",
       "      <td>1847</td>\n",
       "    </tr>\n",
       "    <tr>\n",
       "      <th>17</th>\n",
       "      <td>work tomorrow</td>\n",
       "      <td>1811</td>\n",
       "    </tr>\n",
       "    <tr>\n",
       "      <th>18</th>\n",
       "      <td>work today</td>\n",
       "      <td>1786</td>\n",
       "    </tr>\n",
       "    <tr>\n",
       "      <th>19</th>\n",
       "      <td>feel bad</td>\n",
       "      <td>1586</td>\n",
       "    </tr>\n",
       "  </tbody>\n",
       "</table>\n",
       "</div>"
      ],
      "text/plain": [
       "              ngram  occurrences\n",
       "0        last night         7541\n",
       "1         feel like         6256\n",
       "2        wish could         6120\n",
       "3         look like         4354\n",
       "4        going miss         3127\n",
       "5       really want         3066\n",
       "6          last day         2802\n",
       "7         back work         2613\n",
       "8        sorry hear         2463\n",
       "9   looking forward         2198\n",
       "10    getting ready         2172\n",
       "11      feel better         2140\n",
       "12        next week         2067\n",
       "13         want see         2012\n",
       "14     good morning         1891\n",
       "15        come back         1876\n",
       "16        going bed         1847\n",
       "17    work tomorrow         1811\n",
       "18       work today         1786\n",
       "19         feel bad         1586"
      ]
     },
     "execution_count": 44,
     "metadata": {},
     "output_type": "execute_result"
    }
   ],
   "source": [
    "print('Bigrammes les plus fréquents dans les tweets négatifs :')\n",
    "print('-----------------------------------------------------')\n",
    "ngrams_by_chunks(tw_en_sup.loc[tw_en_sup['tw_y'] == 0, 'normalized'], 2, 2).head(20)"
   ]
  },
  {
   "cell_type": "markdown",
   "id": "79dd710f",
   "metadata": {},
   "source": [
    "### Taille du vocabulaire"
   ]
  },
  {
   "cell_type": "code",
   "execution_count": 177,
   "id": "2c0bab8e",
   "metadata": {},
   "outputs": [],
   "source": [
    "uni = ngrams_by_chunks(tw_en['normalized'], 1, 1)"
   ]
  },
  {
   "cell_type": "code",
   "execution_count": 178,
   "id": "effc78fe",
   "metadata": {},
   "outputs": [
    {
     "data": {
      "text/html": [
       "<div>\n",
       "<style scoped>\n",
       "    .dataframe tbody tr th:only-of-type {\n",
       "        vertical-align: middle;\n",
       "    }\n",
       "\n",
       "    .dataframe tbody tr th {\n",
       "        vertical-align: top;\n",
       "    }\n",
       "\n",
       "    .dataframe thead th {\n",
       "        text-align: right;\n",
       "    }\n",
       "</style>\n",
       "<table border=\"1\" class=\"dataframe\">\n",
       "  <thead>\n",
       "    <tr style=\"text-align: right;\">\n",
       "      <th></th>\n",
       "      <th>ngram</th>\n",
       "      <th>occurrences</th>\n",
       "    </tr>\n",
       "  </thead>\n",
       "  <tbody>\n",
       "    <tr>\n",
       "      <th>count</th>\n",
       "      <td>239271</td>\n",
       "      <td>239271.000000</td>\n",
       "    </tr>\n",
       "    <tr>\n",
       "      <th>unique</th>\n",
       "      <td>239271</td>\n",
       "      <td>NaN</td>\n",
       "    </tr>\n",
       "    <tr>\n",
       "      <th>top</th>\n",
       "      <td>day</td>\n",
       "      <td>NaN</td>\n",
       "    </tr>\n",
       "    <tr>\n",
       "      <th>freq</th>\n",
       "      <td>1</td>\n",
       "      <td>NaN</td>\n",
       "    </tr>\n",
       "    <tr>\n",
       "      <th>mean</th>\n",
       "      <td>NaN</td>\n",
       "      <td>42.555161</td>\n",
       "    </tr>\n",
       "    <tr>\n",
       "      <th>std</th>\n",
       "      <td>NaN</td>\n",
       "      <td>847.805751</td>\n",
       "    </tr>\n",
       "    <tr>\n",
       "      <th>min</th>\n",
       "      <td>NaN</td>\n",
       "      <td>1.000000</td>\n",
       "    </tr>\n",
       "    <tr>\n",
       "      <th>25%</th>\n",
       "      <td>NaN</td>\n",
       "      <td>1.000000</td>\n",
       "    </tr>\n",
       "    <tr>\n",
       "      <th>50%</th>\n",
       "      <td>NaN</td>\n",
       "      <td>1.000000</td>\n",
       "    </tr>\n",
       "    <tr>\n",
       "      <th>75%</th>\n",
       "      <td>NaN</td>\n",
       "      <td>3.000000</td>\n",
       "    </tr>\n",
       "    <tr>\n",
       "      <th>max</th>\n",
       "      <td>NaN</td>\n",
       "      <td>106080.000000</td>\n",
       "    </tr>\n",
       "  </tbody>\n",
       "</table>\n",
       "</div>"
      ],
      "text/plain": [
       "         ngram    occurrences\n",
       "count   239271  239271.000000\n",
       "unique  239271            NaN\n",
       "top        day            NaN\n",
       "freq         1            NaN\n",
       "mean       NaN      42.555161\n",
       "std        NaN     847.805751\n",
       "min        NaN       1.000000\n",
       "25%        NaN       1.000000\n",
       "50%        NaN       1.000000\n",
       "75%        NaN       3.000000\n",
       "max        NaN  106080.000000"
      ]
     },
     "execution_count": 178,
     "metadata": {},
     "output_type": "execute_result"
    }
   ],
   "source": [
    "uni.describe(include='all')"
   ]
  },
  {
   "cell_type": "code",
   "execution_count": 200,
   "id": "dba5608b",
   "metadata": {},
   "outputs": [
    {
     "data": {
      "image/png": "[encoded data removed]",
      "text/plain": [
       "<Figure size 1080x576 with 1 Axes>"
      ]
     },
     "metadata": {},
     "output_type": "display_data"
    }
   ],
   "source": [
    "plt.figure(figsize=(15, 8))\n",
    "plt.hist(uni.loc[uni['occurrences'] > 4, 'occurrences'], bins=100)\n",
    "plt.xlabel(\"Nombre d'occurrences\")\n",
    "plt.ylabel(\"Nombre de termes\")\n",
    "plt.title(\"Nombre de termes selon la fréquence d'occurrence pour un nombre d'occurrences >= 5\")\n",
    "plt.show()"
   ]
  },
  {
   "cell_type": "code",
   "execution_count": 201,
   "id": "83ea75ef",
   "metadata": {},
   "outputs": [
    {
     "data": {
      "image/png": "[encoded data removed]",
      "text/plain": [
       "<Figure size 1080x576 with 1 Axes>"
      ]
     },
     "metadata": {},
     "output_type": "display_data"
    }
   ],
   "source": [
    "plt.figure(figsize=(15, 8))\n",
    "plt.hist(uni.loc[(uni['occurrences'] > 4) & (uni['occurrences'] < 200), 'occurrences'], bins=100)\n",
    "plt.xlabel(\"Nombre d'occurrences\")\n",
    "plt.ylabel(\"Nombre de termes\")\n",
    "plt.title(\"Nombre de termes selon la fréquence d'occurrence pour un nombre d'occurrences >= 5 & < 200\")\n",
    "plt.show()"
   ]
  },
  {
   "cell_type": "code",
   "execution_count": 199,
   "id": "652d9d18",
   "metadata": {},
   "outputs": [
    {
     "name": "stdout",
     "output_type": "stream",
     "text": [
      "Nombre de termes apparaissant au moins 5 fois : 44157\n"
     ]
    }
   ],
   "source": [
    "print(f\"Nombre de termes apparaissant au moins 5 fois : {len(uni.loc[uni['occurrences'] > 4, 'occurrences'])}\")"
   ]
  },
  {
   "cell_type": "code",
   "execution_count": 202,
   "id": "5ca27b54",
   "metadata": {},
   "outputs": [
    {
     "name": "stdout",
     "output_type": "stream",
     "text": [
      "Nombre de termes apparaissant entre 5 et 200 fois : 39777\n"
     ]
    }
   ],
   "source": [
    "print(f\"Nombre de termes apparaissant entre 5 et 200 fois : {len(uni.loc[(uni['occurrences'] > 4) & (uni['occurrences'] < 201), 'occurrences'])}\")"
   ]
  },
  {
   "cell_type": "markdown",
   "id": "790efbb4",
   "metadata": {},
   "source": [
    "<div class='alert alert-block alert-info'>\n",
    "    \n",
    "Nous constatons qu'une bonne taille de vocabulaire à considérer serait de <b>40,000</b> mots.\n",
    "    \n",
    "</div>"
   ]
  },
  {
   "cell_type": "markdown",
   "id": "abacc027",
   "metadata": {},
   "source": [
    "### Longueur des tweets en nombre de caractères"
   ]
  },
  {
   "cell_type": "code",
   "execution_count": 491,
   "id": "c8feafb8",
   "metadata": {},
   "outputs": [],
   "source": [
    "tw_en['lng'] = tw_en['normalized'].apply(lambda x: len(x))"
   ]
  },
  {
   "cell_type": "code",
   "execution_count": 170,
   "id": "86ad9757",
   "metadata": {},
   "outputs": [
    {
     "data": {
      "image/png": "[encoded data removed]",
      "text/plain": [
       "<Figure size 432x288 with 1 Axes>"
      ]
     },
     "metadata": {},
     "output_type": "display_data"
    }
   ],
   "source": [
    "plt.figure()\n",
    "plt.hist(tw_en['lng'])\n",
    "plt.xlabel('Nombre de caractères')\n",
    "plt.ylabel('Nombre de tweets')\n",
    "plt.title('Nombre de caractères par tweets')\n",
    "plt.show()"
   ]
  },
  {
   "cell_type": "markdown",
   "id": "d22f5c0b",
   "metadata": {},
   "source": [
    "### Longueur des tweets en nombre de mots"
   ]
  },
  {
   "cell_type": "code",
   "execution_count": 492,
   "id": "a8d3632f",
   "metadata": {},
   "outputs": [],
   "source": [
    "tw_en['lng'] = tw_en['normalized'].apply(lambda x: len(x.split(' ')))"
   ]
  },
  {
   "cell_type": "code",
   "execution_count": 172,
   "id": "942f2887",
   "metadata": {},
   "outputs": [
    {
     "data": {
      "image/png": "[encoded data removed]",
      "text/plain": [
       "<Figure size 432x288 with 1 Axes>"
      ]
     },
     "metadata": {},
     "output_type": "display_data"
    }
   ],
   "source": [
    "plt.figure()\n",
    "plt.hist(tw_en['lng'])\n",
    "plt.xlabel('Nombre de caractères')\n",
    "plt.ylabel('Nombre de tweets')\n",
    "plt.title('Nombre de caractères par tweets')\n",
    "plt.show()"
   ]
  },
  {
   "cell_type": "code",
   "execution_count": 166,
   "id": "debb4a34",
   "metadata": {
    "scrolled": false
   },
   "outputs": [
    {
     "data": {
      "image/png": "[encoded data removed]",
      "text/plain": [
       "<Figure size 1080x432 with 1 Axes>"
      ]
     },
     "metadata": {},
     "output_type": "display_data"
    }
   ],
   "source": [
    "plt.figure(figsize=(15, 6))\n",
    "plt.hist(tw_en.loc[tw_en['tw_y'] == 0, 'lng'], alpha=0.5, label='Négatif')\n",
    "plt.hist(tw_en.loc[tw_en['tw_y'] == 4, 'lng'], alpha=0.5, label='Positif')\n",
    "plt.legend()\n",
    "plt.xlabel('Nombre de mots')\n",
    "plt.ylabel('Nombre de tweets')\n",
    "plt.title('Nombre de mots par classe')\n",
    "plt.show()"
   ]
  },
  {
   "cell_type": "code",
   "execution_count": 173,
   "id": "d6405f1c",
   "metadata": {},
   "outputs": [
    {
     "data": {
      "text/html": [
       "<div>\n",
       "<style scoped>\n",
       "    .dataframe tbody tr th:only-of-type {\n",
       "        vertical-align: middle;\n",
       "    }\n",
       "\n",
       "    .dataframe tbody tr th {\n",
       "        vertical-align: top;\n",
       "    }\n",
       "\n",
       "    .dataframe thead th {\n",
       "        text-align: right;\n",
       "    }\n",
       "</style>\n",
       "<table border=\"1\" class=\"dataframe\">\n",
       "  <thead>\n",
       "    <tr style=\"text-align: right;\">\n",
       "      <th></th>\n",
       "      <th>tw_y</th>\n",
       "      <th>tw_text</th>\n",
       "      <th>language</th>\n",
       "      <th>normalized</th>\n",
       "      <th>lng</th>\n",
       "    </tr>\n",
       "  </thead>\n",
       "  <tbody>\n",
       "    <tr>\n",
       "      <th>0</th>\n",
       "      <td>0</td>\n",
       "      <td>@switchfoot http://twitpic.com/2y1zl - Awww, t...</td>\n",
       "      <td>en</td>\n",
       "      <td>awww bummer shoulda got david carr third day</td>\n",
       "      <td>8</td>\n",
       "    </tr>\n",
       "    <tr>\n",
       "      <th>1</th>\n",
       "      <td>0</td>\n",
       "      <td>is upset that he can't update his Facebook by ...</td>\n",
       "      <td>en</td>\n",
       "      <td>upset update facebook texting might cry result...</td>\n",
       "      <td>11</td>\n",
       "    </tr>\n",
       "    <tr>\n",
       "      <th>2</th>\n",
       "      <td>0</td>\n",
       "      <td>@Kenichan I dived many times for the ball. Man...</td>\n",
       "      <td>en</td>\n",
       "      <td>dived many time ball managed save rest bound</td>\n",
       "      <td>8</td>\n",
       "    </tr>\n",
       "    <tr>\n",
       "      <th>3</th>\n",
       "      <td>0</td>\n",
       "      <td>my whole body feels itchy and like its on fire</td>\n",
       "      <td>en</td>\n",
       "      <td>whole body feel itchy like fire</td>\n",
       "      <td>6</td>\n",
       "    </tr>\n",
       "    <tr>\n",
       "      <th>4</th>\n",
       "      <td>0</td>\n",
       "      <td>@nationwideclass no, it's not behaving at all....</td>\n",
       "      <td>en</td>\n",
       "      <td>behaving mad see</td>\n",
       "      <td>3</td>\n",
       "    </tr>\n",
       "  </tbody>\n",
       "</table>\n",
       "</div>"
      ],
      "text/plain": [
       "   tw_y                                            tw_text language  \\\n",
       "0     0  @switchfoot http://twitpic.com/2y1zl - Awww, t...       en   \n",
       "1     0  is upset that he can't update his Facebook by ...       en   \n",
       "2     0  @Kenichan I dived many times for the ball. Man...       en   \n",
       "3     0    my whole body feels itchy and like its on fire        en   \n",
       "4     0  @nationwideclass no, it's not behaving at all....       en   \n",
       "\n",
       "                                          normalized  lng  \n",
       "0       awww bummer shoulda got david carr third day    8  \n",
       "1  upset update facebook texting might cry result...   11  \n",
       "2       dived many time ball managed save rest bound    8  \n",
       "3                    whole body feel itchy like fire    6  \n",
       "4                                   behaving mad see    3  "
      ]
     },
     "execution_count": 173,
     "metadata": {},
     "output_type": "execute_result"
    }
   ],
   "source": [
    "tw_en.head()"
   ]
  },
  {
   "cell_type": "markdown",
   "id": "ece329e8",
   "metadata": {},
   "source": [
    "### Sauvegarde des données normalisées"
   ]
  },
  {
   "cell_type": "code",
   "execution_count": 493,
   "id": "7cc2429c",
   "metadata": {},
   "outputs": [],
   "source": [
    "tw_en.to_csv('data/tw_normalized.csv', index=False)"
   ]
  },
  {
   "cell_type": "code",
   "execution_count": 3,
   "id": "6a19ccd7",
   "metadata": {},
   "outputs": [],
   "source": [
    "#tw_en = pd.read_csv('data/tw_normalized.csv')"
   ]
  },
  {
   "cell_type": "markdown",
   "id": "2c1625f4",
   "metadata": {},
   "source": [
    "[*(Retour Sommaire)*](#ch0)"
   ]
  },
  {
   "cell_type": "markdown",
   "id": "71a754af",
   "metadata": {},
   "source": [
    "# <div id=\"ch3\" style=\"color: blue\">3. Baseline</div>"
   ]
  },
  {
   "cell_type": "markdown",
   "id": "8f9f67b5",
   "metadata": {},
   "source": [
    "Afin de conclure notre analyse et d'introduire la phase de recherche de modèle, nosu allons ici effectuer des essais avec deux baselines:\n",
    "<ul>\n",
    "    <li>l'API sur étagère Microsoft Language Services</li>\n",
    "    <li>Une méthode bag-of-words : classification par regression logistique en sortie d'un TF-IDF</li>\n",
    "</ul>"
   ]
  },
  {
   "cell_type": "markdown",
   "id": "2982d8a4",
   "metadata": {},
   "source": [
    "### Split train / test"
   ]
  },
  {
   "cell_type": "markdown",
   "id": "d2898595",
   "metadata": {},
   "source": [
    "Séparation jeux d'entraînement (90%) et test (10%) en données `X` et labels `y`"
   ]
  },
  {
   "cell_type": "code",
   "execution_count": 5,
   "id": "0b257e54",
   "metadata": {},
   "outputs": [],
   "source": [
    "#Nous remplaçons la valeur de classe positive 4 par 1 afin de faciliter la transformation en catégorielle binaire\n",
    "tw_en['tw_y'].replace(to_replace=4, value=1, inplace=True)"
   ]
  },
  {
   "cell_type": "code",
   "execution_count": 6,
   "id": "02ac718e",
   "metadata": {},
   "outputs": [],
   "source": [
    "tw_pos = tw_en.loc[tw_en['tw_y'] == 1, ['normalized', 'tw_y']]\n",
    "tw_neg = tw_en.loc[tw_en['tw_y'] == 0, ['normalized', 'tw_y']]\n",
    "tw_pos_train = tw_pos.head(680000)\n",
    "tw_pos_test = tw_pos.tail(tw_pos.shape[0] - 680000)\n",
    "tw_neg_train = tw_neg.head(680000)\n",
    "tw_neg_test = tw_neg.tail(tw_neg.shape[0] - (680000))\n",
    "X_train = np.concatenate((tw_pos_train['normalized'], tw_neg_train['normalized']))\n",
    "X_test = np.concatenate((tw_pos_test['normalized'], tw_neg_test['normalized']))\n",
    "y_train = np.concatenate((tw_pos_train['tw_y'], tw_neg_train['tw_y']))\n",
    "y_test = np.concatenate((tw_pos_test['tw_y'], tw_neg_test['tw_y']))"
   ]
  },
  {
   "cell_type": "code",
   "execution_count": 240,
   "id": "8ab476c9",
   "metadata": {},
   "outputs": [
    {
     "name": "stdout",
     "output_type": "stream",
     "text": [
      "Taille du jeu d'entraînement : X=(1360000,) y=(1360000,)\n",
      "Taille du jeu de test : X=(160987,) y=(160987,)\n"
     ]
    }
   ],
   "source": [
    "print(f\"Taille du jeu d'entraînement : X={np.shape(X_train)} y={np.shape(y_train)}\")\n",
    "print(f\"Taille du jeu de test : X={np.shape(X_test)} y={np.shape(y_test)}\")"
   ]
  },
  {
   "cell_type": "markdown",
   "id": "bd8547c1",
   "metadata": {},
   "source": [
    "### Tokenisation"
   ]
  },
  {
   "cell_type": "code",
   "execution_count": 7,
   "id": "5abd7344",
   "metadata": {},
   "outputs": [],
   "source": [
    "MAX_LEN = tw_en['lng'].max()  #Taille maximale des tweets du dataset\n",
    "TOP_WORDS = 40000  #Taille du vocabulaire trouvée au chapitre précédent"
   ]
  },
  {
   "cell_type": "code",
   "execution_count": null,
   "id": "1c4d31c3",
   "metadata": {},
   "outputs": [],
   "source": [
    "tokenizer = Tokenizer(num_words=TOP_WORDS)\n",
    "tokenizer.fit_on_texts(X_train)"
   ]
  },
  {
   "cell_type": "markdown",
   "id": "5fa6339f",
   "metadata": {},
   "source": [
    "Post-Padding des sequences tokenisées"
   ]
  },
  {
   "cell_type": "code",
   "execution_count": 77,
   "id": "4101954f",
   "metadata": {},
   "outputs": [],
   "source": [
    "def get_sequences(tokenizer, tweets):\n",
    "    sequences = tokenizer.texts_to_sequences(tweets)\n",
    "    padded = pad_sequences(sequences, truncating='post', padding='post', maxlen=MAX_LEN)\n",
    "    return padded"
   ]
  },
  {
   "cell_type": "code",
   "execution_count": 243,
   "id": "d97129e6",
   "metadata": {},
   "outputs": [],
   "source": [
    "X_train_padded = get_sequences(tokenizer, X_train)\n",
    "X_test_padded = get_sequences(tokenizer, X_test)"
   ]
  },
  {
   "cell_type": "code",
   "execution_count": 244,
   "id": "dc882e33",
   "metadata": {},
   "outputs": [],
   "source": [
    "y_train_cat = to_categorical(y_train)\n",
    "y_test_cat = to_categorical(y_test)"
   ]
  },
  {
   "cell_type": "markdown",
   "id": "ab612ef0",
   "metadata": {},
   "source": [
    "## <div id=\"ch3_1\" style=\"color: orange\">3.1 API sur étagère : MicroSoft Language Services</div>"
   ]
  },
  {
   "cell_type": "markdown",
   "id": "3a3cf3bc",
   "metadata": {},
   "source": [
    "### Code d'appel à l'API"
   ]
  },
  {
   "cell_type": "code",
   "execution_count": 417,
   "id": "39bf7d59",
   "metadata": {},
   "outputs": [],
   "source": [
    "# Source https://docs.microsoft.com/en-us/azure/cognitive-services/language-service/sentiment-opinion-mining/quickstart?pivots=programming-language-python"
   ]
  },
  {
   "cell_type": "code",
   "execution_count": 433,
   "id": "5b6ffa19",
   "metadata": {},
   "outputs": [],
   "source": [
    "api_key = '17607ed7f7b045c9a939fea5c88c85b0'\n",
    "endpoint = 'https://p7-sentiments.cognitiveservices.azure.com/'"
   ]
  },
  {
   "cell_type": "code",
   "execution_count": 419,
   "id": "044992c4",
   "metadata": {},
   "outputs": [],
   "source": [
    "from azure.ai.textanalytics import TextAnalyticsClient\n",
    "from azure.core.credentials import AzureKeyCredential"
   ]
  },
  {
   "cell_type": "code",
   "execution_count": 423,
   "id": "34b413b0",
   "metadata": {},
   "outputs": [],
   "source": [
    "# Authenticate the client using your key and endpoint \n",
    "def authenticate_client():\n",
    "    ta_credential = AzureKeyCredential(api_key)\n",
    "    text_analytics_client = TextAnalyticsClient(endpoint=endpoint, credential=ta_credential)\n",
    "    return text_analytics_client"
   ]
  },
  {
   "cell_type": "code",
   "execution_count": 434,
   "id": "6a6411e4",
   "metadata": {},
   "outputs": [],
   "source": [
    "client = authenticate_client()"
   ]
  },
  {
   "cell_type": "markdown",
   "id": "0e433e0d",
   "metadata": {},
   "source": [
    "### Récupération de la base de test"
   ]
  },
  {
   "cell_type": "code",
   "execution_count": 427,
   "id": "ffcf18ac",
   "metadata": {},
   "outputs": [],
   "source": [
    "ms_examples = pd.read_csv('data/tw_ms.csv')"
   ]
  },
  {
   "cell_type": "code",
   "execution_count": 428,
   "id": "d5163f86",
   "metadata": {},
   "outputs": [
    {
     "data": {
      "text/html": [
       "<div>\n",
       "<style scoped>\n",
       "    .dataframe tbody tr th:only-of-type {\n",
       "        vertical-align: middle;\n",
       "    }\n",
       "\n",
       "    .dataframe tbody tr th {\n",
       "        vertical-align: top;\n",
       "    }\n",
       "\n",
       "    .dataframe thead th {\n",
       "        text-align: right;\n",
       "    }\n",
       "</style>\n",
       "<table border=\"1\" class=\"dataframe\">\n",
       "  <thead>\n",
       "    <tr style=\"text-align: right;\">\n",
       "      <th></th>\n",
       "      <th>tw_y</th>\n",
       "      <th>normalized</th>\n",
       "    </tr>\n",
       "  </thead>\n",
       "  <tbody>\n",
       "    <tr>\n",
       "      <th>0</th>\n",
       "      <td>0</td>\n",
       "      <td>awww bummer shoulda got david carr third day</td>\n",
       "    </tr>\n",
       "    <tr>\n",
       "      <th>1</th>\n",
       "      <td>0</td>\n",
       "      <td>upset update facebook texting might cry result...</td>\n",
       "    </tr>\n",
       "    <tr>\n",
       "      <th>2</th>\n",
       "      <td>0</td>\n",
       "      <td>dived many time ball managed save rest bound</td>\n",
       "    </tr>\n",
       "    <tr>\n",
       "      <th>3</th>\n",
       "      <td>0</td>\n",
       "      <td>whole body feel itchy like fire</td>\n",
       "    </tr>\n",
       "    <tr>\n",
       "      <th>4</th>\n",
       "      <td>0</td>\n",
       "      <td>behaving mad see</td>\n",
       "    </tr>\n",
       "  </tbody>\n",
       "</table>\n",
       "</div>"
      ],
      "text/plain": [
       "   tw_y                                         normalized\n",
       "0     0       awww bummer shoulda got david carr third day\n",
       "1     0  upset update facebook texting might cry result...\n",
       "2     0       dived many time ball managed save rest bound\n",
       "3     0                    whole body feel itchy like fire\n",
       "4     0                                   behaving mad see"
      ]
     },
     "execution_count": 428,
     "metadata": {},
     "output_type": "execute_result"
    }
   ],
   "source": [
    "ms_examples.head()"
   ]
  },
  {
   "cell_type": "code",
   "execution_count": 440,
   "id": "9b9c581f",
   "metadata": {},
   "outputs": [
    {
     "name": "stdout",
     "output_type": "stream",
     "text": [
      "Nombre d'exemples à notre disposition : 400\n"
     ]
    }
   ],
   "source": [
    "print(f\"Nombre d'exemples à notre disposition : {ms_examples.shape[0]}\")"
   ]
  },
  {
   "cell_type": "markdown",
   "id": "4433821e",
   "metadata": {},
   "source": [
    "<div class='alert alert-block alert-info'>\n",
    "    \n",
    "Nous ne testons l'API que sur un nombre restreint d'exemples afin de ne pas déclencher des coûts supérieurs à ceux du crédit offert dans le cadre de l'essai gratuit Azure.\n",
    "    \n",
    "</div>"
   ]
  },
  {
   "cell_type": "markdown",
   "id": "480d5705",
   "metadata": {},
   "source": [
    "### Test de l'API sur un exemple"
   ]
  },
  {
   "cell_type": "code",
   "execution_count": 436,
   "id": "b48ce4ba",
   "metadata": {},
   "outputs": [],
   "source": [
    "def sentiment_analysis_example(client, document, y_label):\n",
    "    response = client.analyze_sentiment(documents=[document])[0]\n",
    "    print(f\"Predicted Sentiment: {response.sentiment} (POS={response.confidence_scores.positive} \"\\\n",
    "          f\"NEU={response.confidence_scores.neutral} NEG={response.confidence_scores.negative}) :: \"\\\n",
    "          f\"True Label: {'Positive' if y_label == 1 else 'Negative'}\")"
   ]
  },
  {
   "cell_type": "code",
   "execution_count": 437,
   "id": "78e1d2fe",
   "metadata": {},
   "outputs": [
    {
     "name": "stdout",
     "output_type": "stream",
     "text": [
      "Predicted Sentiment: negative (POS=0.02 NEU=0.01 NEG=0.97) :: True Label: Negative\n"
     ]
    }
   ],
   "source": [
    "sentiment_analysis_example(client, ms_examples.loc[0, 'normalized'], ms_examples.loc[0, 'tw_y'])"
   ]
  },
  {
   "cell_type": "markdown",
   "id": "15309fed",
   "metadata": {},
   "source": [
    "<div class='alert alert-block alert-info'>\n",
    "    \n",
    "Nous constatons que l'API Azure ne correspond pas exactement à nos souhaits, car elle prédit 3 sentiments au lieu de seulement 2 (présence du neutre).<br>\n",
    "Ainsi nous devons faire un choix de répartition du neutre : nous choisissons ici de considérer que neutre = négatif afind e ne pas rater de bad buzz.\n",
    "    \n",
    "</div>"
   ]
  },
  {
   "cell_type": "markdown",
   "id": "96743ead",
   "metadata": {},
   "source": [
    "### Test de l'API sur toute la base d'exemple"
   ]
  },
  {
   "cell_type": "code",
   "execution_count": 450,
   "id": "9bcda9e9",
   "metadata": {},
   "outputs": [],
   "source": [
    "def sentiment_analysis_test(client, df):\n",
    "    res = []\n",
    "    for idx, row in df.iterrows():\n",
    "        response = client.analyze_sentiment(documents=[df.loc[idx, 'normalized']])[0]\n",
    "        if response.sentiment == 'positive':\n",
    "            res.append(1)\n",
    "        else:\n",
    "            res.append(0)\n",
    "    return res"
   ]
  },
  {
   "cell_type": "code",
   "execution_count": 456,
   "id": "012d1a79",
   "metadata": {},
   "outputs": [],
   "source": [
    "tps1 = time.time()\n",
    "ms_anwsers = sentiment_analysis_test(client, ms_examples)\n",
    "tps2 = time.time()"
   ]
  },
  {
   "cell_type": "markdown",
   "id": "bb667e88",
   "metadata": {},
   "source": [
    "### Scores"
   ]
  },
  {
   "cell_type": "code",
   "execution_count": 471,
   "id": "992c41e7",
   "metadata": {},
   "outputs": [],
   "source": [
    "from sklearn.metrics import accuracy_score\n",
    "from sklearn.metrics import recall_score\n",
    "from sklearn.metrics import roc_auc_score"
   ]
  },
  {
   "cell_type": "code",
   "execution_count": 457,
   "id": "872b20de",
   "metadata": {},
   "outputs": [
    {
     "name": "stdout",
     "output_type": "stream",
     "text": [
      "Matrice de confusion\n",
      "--------------------\n"
     ]
    },
    {
     "data": {
      "text/plain": [
       "array([[155,  45],\n",
       "       [ 89, 111]], dtype=int64)"
      ]
     },
     "execution_count": 457,
     "metadata": {},
     "output_type": "execute_result"
    }
   ],
   "source": [
    "print(\"Matrice de confusion\")\n",
    "print(\"--------------------\")\n",
    "confusion_matrix(ms_examples['tw_y'], ms_anwsers)"
   ]
  },
  {
   "cell_type": "code",
   "execution_count": 484,
   "id": "561fde64",
   "metadata": {},
   "outputs": [
    {
     "name": "stdout",
     "output_type": "stream",
     "text": [
      "Accuracy : 0.665\n",
      "Rappel : 0.555\n",
      "AUC : 0.6650000000000001\n"
     ]
    }
   ],
   "source": [
    "print(f\"Accuracy : {accuracy_score(ms_examples['tw_y'], ms_anwsers)}\")\n",
    "print(f\"Rappel : {recall_score(ms_examples['tw_y'], ms_anwsers)}\")\n",
    "print(f\"AUC : {roc_auc_score(ms_examples['tw_y'], ms_anwsers)}\")"
   ]
  },
  {
   "cell_type": "code",
   "execution_count": 460,
   "id": "083dabf7",
   "metadata": {},
   "outputs": [
    {
     "name": "stdout",
     "output_type": "stream",
     "text": [
      "Temps total d'exécution : 43.41 secondes\n",
      "-----------------------\n"
     ]
    }
   ],
   "source": [
    "print(f\"Temps total d'exécution : {np.round(tps2 - tps1, 2)} secondes\")\n",
    "print('-----------------------')"
   ]
  },
  {
   "cell_type": "markdown",
   "id": "b826d4fd",
   "metadata": {},
   "source": [
    "<div class='alert alert-block alert-info'>\n",
    "    \n",
    "Les scores sont très mauvais, à peine meilleur qu'une classification aléatoire.\n",
    "    \n",
    "</div>"
   ]
  },
  {
   "cell_type": "markdown",
   "id": "784d7915",
   "metadata": {},
   "source": [
    "[*(Retour Sommaire)*](#ch0)"
   ]
  },
  {
   "cell_type": "markdown",
   "id": "c43d5897",
   "metadata": {},
   "source": [
    "## <div id=\"ch3_2\" style=\"color: orange\">3.2 Bag of Words : TF-IDF & LogisticRegression</div>"
   ]
  },
  {
   "cell_type": "code",
   "execution_count": 320,
   "id": "abad5b76",
   "metadata": {},
   "outputs": [],
   "source": [
    "tfidf = TfidfVectorizer(ngram_range=(1, 2), max_features=TOP_WORDS)\n",
    "X_train_tfidf = tfidf.fit_transform(X_train)\n",
    "X_test_tfidf = tfidf.transform(X_test)"
   ]
  },
  {
   "cell_type": "code",
   "execution_count": 328,
   "id": "a129ae09",
   "metadata": {},
   "outputs": [],
   "source": [
    "log = LogisticRegression(random_state=11, max_iter=300)\n",
    "cv = StratifiedKFold()\n",
    "params = {'C': [0.001, 0.01, 0.1, 1, 10, 100, 1000]}\n",
    "grid = GridSearchCV(log, param_grid=params, cv=cv, scoring='accuracy')"
   ]
  },
  {
   "cell_type": "code",
   "execution_count": 329,
   "id": "43199e61",
   "metadata": {
    "scrolled": true
   },
   "outputs": [
    {
     "name": "stderr",
     "output_type": "stream",
     "text": [
      "C:\\Users\\aledo\\anaconda3\\envs\\p7\\lib\\site-packages\\sklearn\\linear_model\\_logistic.py:444: ConvergenceWarning: lbfgs failed to converge (status=1):\n",
      "STOP: TOTAL NO. of ITERATIONS REACHED LIMIT.\n",
      "\n",
      "Increase the number of iterations (max_iter) or scale the data as shown in:\n",
      "    https://scikit-learn.org/stable/modules/preprocessing.html\n",
      "Please also refer to the documentation for alternative solver options:\n",
      "    https://scikit-learn.org/stable/modules/linear_model.html#logistic-regression\n",
      "  n_iter_i = _check_optimize_result(\n",
      "C:\\Users\\aledo\\anaconda3\\envs\\p7\\lib\\site-packages\\sklearn\\linear_model\\_logistic.py:444: ConvergenceWarning: lbfgs failed to converge (status=1):\n",
      "STOP: TOTAL NO. of ITERATIONS REACHED LIMIT.\n",
      "\n",
      "Increase the number of iterations (max_iter) or scale the data as shown in:\n",
      "    https://scikit-learn.org/stable/modules/preprocessing.html\n",
      "Please also refer to the documentation for alternative solver options:\n",
      "    https://scikit-learn.org/stable/modules/linear_model.html#logistic-regression\n",
      "  n_iter_i = _check_optimize_result(\n",
      "C:\\Users\\aledo\\anaconda3\\envs\\p7\\lib\\site-packages\\sklearn\\linear_model\\_logistic.py:444: ConvergenceWarning: lbfgs failed to converge (status=1):\n",
      "STOP: TOTAL NO. of ITERATIONS REACHED LIMIT.\n",
      "\n",
      "Increase the number of iterations (max_iter) or scale the data as shown in:\n",
      "    https://scikit-learn.org/stable/modules/preprocessing.html\n",
      "Please also refer to the documentation for alternative solver options:\n",
      "    https://scikit-learn.org/stable/modules/linear_model.html#logistic-regression\n",
      "  n_iter_i = _check_optimize_result(\n",
      "C:\\Users\\aledo\\anaconda3\\envs\\p7\\lib\\site-packages\\sklearn\\linear_model\\_logistic.py:444: ConvergenceWarning: lbfgs failed to converge (status=1):\n",
      "STOP: TOTAL NO. of ITERATIONS REACHED LIMIT.\n",
      "\n",
      "Increase the number of iterations (max_iter) or scale the data as shown in:\n",
      "    https://scikit-learn.org/stable/modules/preprocessing.html\n",
      "Please also refer to the documentation for alternative solver options:\n",
      "    https://scikit-learn.org/stable/modules/linear_model.html#logistic-regression\n",
      "  n_iter_i = _check_optimize_result(\n",
      "C:\\Users\\aledo\\anaconda3\\envs\\p7\\lib\\site-packages\\sklearn\\linear_model\\_logistic.py:444: ConvergenceWarning: lbfgs failed to converge (status=1):\n",
      "STOP: TOTAL NO. of ITERATIONS REACHED LIMIT.\n",
      "\n",
      "Increase the number of iterations (max_iter) or scale the data as shown in:\n",
      "    https://scikit-learn.org/stable/modules/preprocessing.html\n",
      "Please also refer to the documentation for alternative solver options:\n",
      "    https://scikit-learn.org/stable/modules/linear_model.html#logistic-regression\n",
      "  n_iter_i = _check_optimize_result(\n",
      "C:\\Users\\aledo\\anaconda3\\envs\\p7\\lib\\site-packages\\sklearn\\linear_model\\_logistic.py:444: ConvergenceWarning: lbfgs failed to converge (status=1):\n",
      "STOP: TOTAL NO. of ITERATIONS REACHED LIMIT.\n",
      "\n",
      "Increase the number of iterations (max_iter) or scale the data as shown in:\n",
      "    https://scikit-learn.org/stable/modules/preprocessing.html\n",
      "Please also refer to the documentation for alternative solver options:\n",
      "    https://scikit-learn.org/stable/modules/linear_model.html#logistic-regression\n",
      "  n_iter_i = _check_optimize_result(\n",
      "C:\\Users\\aledo\\anaconda3\\envs\\p7\\lib\\site-packages\\sklearn\\linear_model\\_logistic.py:444: ConvergenceWarning: lbfgs failed to converge (status=1):\n",
      "STOP: TOTAL NO. of ITERATIONS REACHED LIMIT.\n",
      "\n",
      "Increase the number of iterations (max_iter) or scale the data as shown in:\n",
      "    https://scikit-learn.org/stable/modules/preprocessing.html\n",
      "Please also refer to the documentation for alternative solver options:\n",
      "    https://scikit-learn.org/stable/modules/linear_model.html#logistic-regression\n",
      "  n_iter_i = _check_optimize_result(\n",
      "C:\\Users\\aledo\\anaconda3\\envs\\p7\\lib\\site-packages\\sklearn\\linear_model\\_logistic.py:444: ConvergenceWarning: lbfgs failed to converge (status=1):\n",
      "STOP: TOTAL NO. of ITERATIONS REACHED LIMIT.\n",
      "\n",
      "Increase the number of iterations (max_iter) or scale the data as shown in:\n",
      "    https://scikit-learn.org/stable/modules/preprocessing.html\n",
      "Please also refer to the documentation for alternative solver options:\n",
      "    https://scikit-learn.org/stable/modules/linear_model.html#logistic-regression\n",
      "  n_iter_i = _check_optimize_result(\n",
      "C:\\Users\\aledo\\anaconda3\\envs\\p7\\lib\\site-packages\\sklearn\\linear_model\\_logistic.py:444: ConvergenceWarning: lbfgs failed to converge (status=1):\n",
      "STOP: TOTAL NO. of ITERATIONS REACHED LIMIT.\n",
      "\n",
      "Increase the number of iterations (max_iter) or scale the data as shown in:\n",
      "    https://scikit-learn.org/stable/modules/preprocessing.html\n",
      "Please also refer to the documentation for alternative solver options:\n",
      "    https://scikit-learn.org/stable/modules/linear_model.html#logistic-regression\n",
      "  n_iter_i = _check_optimize_result(\n",
      "C:\\Users\\aledo\\anaconda3\\envs\\p7\\lib\\site-packages\\sklearn\\linear_model\\_logistic.py:444: ConvergenceWarning: lbfgs failed to converge (status=1):\n",
      "STOP: TOTAL NO. of ITERATIONS REACHED LIMIT.\n",
      "\n",
      "Increase the number of iterations (max_iter) or scale the data as shown in:\n",
      "    https://scikit-learn.org/stable/modules/preprocessing.html\n",
      "Please also refer to the documentation for alternative solver options:\n",
      "    https://scikit-learn.org/stable/modules/linear_model.html#logistic-regression\n",
      "  n_iter_i = _check_optimize_result(\n",
      "C:\\Users\\aledo\\anaconda3\\envs\\p7\\lib\\site-packages\\sklearn\\linear_model\\_logistic.py:444: ConvergenceWarning: lbfgs failed to converge (status=1):\n",
      "STOP: TOTAL NO. of ITERATIONS REACHED LIMIT.\n",
      "\n",
      "Increase the number of iterations (max_iter) or scale the data as shown in:\n",
      "    https://scikit-learn.org/stable/modules/preprocessing.html\n",
      "Please also refer to the documentation for alternative solver options:\n",
      "    https://scikit-learn.org/stable/modules/linear_model.html#logistic-regression\n",
      "  n_iter_i = _check_optimize_result(\n",
      "C:\\Users\\aledo\\anaconda3\\envs\\p7\\lib\\site-packages\\sklearn\\linear_model\\_logistic.py:444: ConvergenceWarning: lbfgs failed to converge (status=1):\n",
      "STOP: TOTAL NO. of ITERATIONS REACHED LIMIT.\n",
      "\n",
      "Increase the number of iterations (max_iter) or scale the data as shown in:\n",
      "    https://scikit-learn.org/stable/modules/preprocessing.html\n",
      "Please also refer to the documentation for alternative solver options:\n",
      "    https://scikit-learn.org/stable/modules/linear_model.html#logistic-regression\n",
      "  n_iter_i = _check_optimize_result(\n",
      "C:\\Users\\aledo\\anaconda3\\envs\\p7\\lib\\site-packages\\sklearn\\linear_model\\_logistic.py:444: ConvergenceWarning: lbfgs failed to converge (status=1):\n",
      "STOP: TOTAL NO. of ITERATIONS REACHED LIMIT.\n",
      "\n",
      "Increase the number of iterations (max_iter) or scale the data as shown in:\n",
      "    https://scikit-learn.org/stable/modules/preprocessing.html\n",
      "Please also refer to the documentation for alternative solver options:\n",
      "    https://scikit-learn.org/stable/modules/linear_model.html#logistic-regression\n",
      "  n_iter_i = _check_optimize_result(\n",
      "C:\\Users\\aledo\\anaconda3\\envs\\p7\\lib\\site-packages\\sklearn\\linear_model\\_logistic.py:444: ConvergenceWarning: lbfgs failed to converge (status=1):\n",
      "STOP: TOTAL NO. of ITERATIONS REACHED LIMIT.\n",
      "\n",
      "Increase the number of iterations (max_iter) or scale the data as shown in:\n",
      "    https://scikit-learn.org/stable/modules/preprocessing.html\n",
      "Please also refer to the documentation for alternative solver options:\n",
      "    https://scikit-learn.org/stable/modules/linear_model.html#logistic-regression\n",
      "  n_iter_i = _check_optimize_result(\n",
      "C:\\Users\\aledo\\anaconda3\\envs\\p7\\lib\\site-packages\\sklearn\\linear_model\\_logistic.py:444: ConvergenceWarning: lbfgs failed to converge (status=1):\n",
      "STOP: TOTAL NO. of ITERATIONS REACHED LIMIT.\n",
      "\n",
      "Increase the number of iterations (max_iter) or scale the data as shown in:\n",
      "    https://scikit-learn.org/stable/modules/preprocessing.html\n",
      "Please also refer to the documentation for alternative solver options:\n",
      "    https://scikit-learn.org/stable/modules/linear_model.html#logistic-regression\n",
      "  n_iter_i = _check_optimize_result(\n",
      "C:\\Users\\aledo\\anaconda3\\envs\\p7\\lib\\site-packages\\sklearn\\linear_model\\_logistic.py:444: ConvergenceWarning: lbfgs failed to converge (status=1):\n",
      "STOP: TOTAL NO. of ITERATIONS REACHED LIMIT.\n",
      "\n",
      "Increase the number of iterations (max_iter) or scale the data as shown in:\n",
      "    https://scikit-learn.org/stable/modules/preprocessing.html\n",
      "Please also refer to the documentation for alternative solver options:\n",
      "    https://scikit-learn.org/stable/modules/linear_model.html#logistic-regression\n",
      "  n_iter_i = _check_optimize_result(\n"
     ]
    },
    {
     "name": "stderr",
     "output_type": "stream",
     "text": [
      "C:\\Users\\aledo\\anaconda3\\envs\\p7\\lib\\site-packages\\sklearn\\linear_model\\_logistic.py:444: ConvergenceWarning: lbfgs failed to converge (status=1):\n",
      "STOP: TOTAL NO. of ITERATIONS REACHED LIMIT.\n",
      "\n",
      "Increase the number of iterations (max_iter) or scale the data as shown in:\n",
      "    https://scikit-learn.org/stable/modules/preprocessing.html\n",
      "Please also refer to the documentation for alternative solver options:\n",
      "    https://scikit-learn.org/stable/modules/linear_model.html#logistic-regression\n",
      "  n_iter_i = _check_optimize_result(\n"
     ]
    }
   ],
   "source": [
    "tps1 = time.time()\n",
    "grid.fit(X_train_tfidf, y_train)\n",
    "tps2 = time.time()"
   ]
  },
  {
   "cell_type": "code",
   "execution_count": 330,
   "id": "0782ac5c",
   "metadata": {},
   "outputs": [
    {
     "name": "stdout",
     "output_type": "stream",
     "text": [
      "Temps total d'exécution : 1988.88 secondes\n"
     ]
    }
   ],
   "source": [
    "print(f\"Temps total d'exécution : {np.round(tps2 - tps1, 2)} secondes\")"
   ]
  },
  {
   "cell_type": "code",
   "execution_count": 331,
   "id": "77ab26dc",
   "metadata": {},
   "outputs": [],
   "source": [
    "log_fit = grid.best_estimator_\n",
    "y_pred_tfidf = log_fit.predict(X_test_tfidf)"
   ]
  },
  {
   "cell_type": "code",
   "execution_count": 332,
   "id": "457ca303",
   "metadata": {},
   "outputs": [
    {
     "name": "stdout",
     "output_type": "stream",
     "text": [
      "[[64484 19379]\n",
      " [17069 60055]]\n"
     ]
    }
   ],
   "source": [
    "print(confusion_matrix(y_test, y_pred_tfidf))"
   ]
  },
  {
   "cell_type": "code",
   "execution_count": 334,
   "id": "72fe6e84",
   "metadata": {},
   "outputs": [
    {
     "name": "stdout",
     "output_type": "stream",
     "text": [
      "              precision    recall  f1-score   support\n",
      "\n",
      "           0       0.79      0.77      0.78     83863\n",
      "           1       0.76      0.78      0.77     77124\n",
      "\n",
      "    accuracy                           0.77    160987\n",
      "   macro avg       0.77      0.77      0.77    160987\n",
      "weighted avg       0.77      0.77      0.77    160987\n",
      "\n"
     ]
    }
   ],
   "source": [
    "print(classification_report(y_test, y_pred_tfidf))"
   ]
  },
  {
   "cell_type": "code",
   "execution_count": 472,
   "id": "182ca836",
   "metadata": {},
   "outputs": [
    {
     "name": "stdout",
     "output_type": "stream",
     "text": [
      "Accuracy : 0.7735966258145067\n",
      "Recall : 0.7786810850059644\n",
      "AUC : 0.7738009123919678\n"
     ]
    }
   ],
   "source": [
    "print(f\"Accuracy : {accuracy_score(y_test, y_pred_tfidf)}\")\n",
    "print(f\"Recall : {recall_score(y_test, y_pred_tfidf)}\")\n",
    "print(f\"AUC : {roc_auc_score(y_test, y_pred_tfidf)}\")"
   ]
  },
  {
   "cell_type": "markdown",
   "id": "8d8fab63",
   "metadata": {},
   "source": [
    "<div class='alert alert-block alert-info'>\n",
    "    \n",
    "Cette fois nous avons une bonne baseline : la prédiction tombe juste 3 fois sur 4.<br>\n",
    "Ces résultats préliminaires serviront de base de comparaison pour les modèles développés dans le second notebook.\n",
    "    \n",
    "</div>"
   ]
  },
  {
   "cell_type": "markdown",
   "id": "226ced9f",
   "metadata": {},
   "source": [
    "[*(Retour Sommaire)*](#ch0)"
   ]
  }
 ],
 "metadata": {
  "kernelspec": {
   "display_name": "Python 3 (ipykernel)",
   "language": "python",
   "name": "python3"
  },
  "language_info": {
   "codemirror_mode": {
    "name": "ipython",
    "version": 3
   },
   "file_extension": ".py",
   "mimetype": "text/x-python",
   "name": "python",
   "nbconvert_exporter": "python",
   "pygments_lexer": "ipython3",
   "version": "3.10.5"
  }
 },
 "nbformat": 4,
 "nbformat_minor": 5
}
